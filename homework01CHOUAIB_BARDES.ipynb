{
 "cells": [
  {
   "cell_type": "code",
   "execution_count": 41,
   "metadata": {
    "ExecuteTime": {
     "end_time": "2022-01-30T23:09:44.676309Z",
     "start_time": "2022-01-30T23:09:44.669705Z"
    }
   },
   "outputs": [],
   "source": [
    "%matplotlib notebook"
   ]
  },
  {
   "cell_type": "markdown",
   "metadata": {
    "nteract": {
     "transient": {
      "deleting": false
     }
    }
   },
   "source": [
    "# Homework 1 (2022) : Data Wrangling and Visualization\n",
    "\n",
    "Due date : **2022-01-30 @23h55** (this is a **hard deadline**)"
   ]
  },
  {
   "cell_type": "markdown",
   "metadata": {
    "nteract": {
     "transient": {
      "deleting": false
     }
    }
   },
   "source": [
    "## Fill this cell with your names\n",
    "\n",
    "- CHOUAIB, Illies, Mathématique-Informatique\n",
    "- BARDES, Wanis, Mathématique-Informatique"
   ]
  },
  {
   "cell_type": "markdown",
   "metadata": {
    "nteract": {
     "transient": {
      "deleting": false
     }
    }
   },
   "source": [
    "## Carefully follow instructions given on the [course homepage](https://stephanegaiffas.github.io/big_data_course/homeworks/)\n",
    "\n",
    "Write in English or French\n",
    "\n",
    "- The deliverable is a `xxx.ipynb` file (jupyter notebook) or a `xxx.py` file (if you are using `jupytext`) built by completing the template. **We won't execute the code in your notebook:** all your results, displays and plots must be visible without having to rerun everything.\n",
    "\n",
    "Once again, follow the steps described here : [course homepage](https://stephanegaiffas.github.io/big_data_course/homeworks/). **If you don't: no evaluation!**"
   ]
  },
  {
   "cell_type": "markdown",
   "metadata": {
    "nteract": {
     "transient": {
      "deleting": false
     }
    }
   },
   "source": [
    "## Grading <i class=\"fa graduation-cap\"></i>\n",
    "\n",
    "Here is the way we'll assess your work\n",
    "\n",
    "| Criterion | Points | Details |\n",
    "|:----------|:-------:|:----|\n",
    "|Spelling and syntax | 3 | English/French  |\n",
    "|Plots correction | 3 |  Clarity / answers the question  |\n",
    "|Plot style and cleanliness | 3 | Titles, legends, labels, breaks ... |\n",
    "|Table wrangling | 4 | ETL, SQL like manipulations |\n",
    "|Computing Statistics | 5 | SQL `goup by`  and aggregation  |\n",
    "|DRY compliance | 2 | DRY principle at [Wikipedia](https://en.wikipedia.org/wiki/Don%27t_repeat_yourself)|\n",
    "\n",
    "If we see a single (or more) `for` loop in your code: **-5 points**.  Everything can be done using high-level `pandas` methods"
   ]
  },
  {
   "cell_type": "markdown",
   "metadata": {
    "nteract": {
     "transient": {
      "deleting": false
     }
    }
   },
   "source": [
    "# Preliminaries\n",
    "\n",
    "## Notebook: Modus operandi\n",
    "\n",
    "- This is a [Jupyter Notebook]().\n",
    "- When you execute code within the notebook, the results appear beneath the code.\n",
    "- [Jupytext]()\n",
    "\n",
    "## Packages\n",
    "\n",
    "- Base `Python` can do a lot. But the full power of `Python` comes from a fast growing collection of `packages`/`modules`.\n",
    "\n",
    "- Packages are first installed (that is using `pip install` or `conda install`), and if\n",
    "needed, imported during a session.\n",
    "\n",
    "- The `docker` image you are supposed to use already offers a lot of packages. You should not need to install new packages.\n",
    "\n",
    "- Once a package has been installed on your drive, if you want all objects exported by the package to be available in your session, you should import the package, using `from pkg import *`.\n",
    "\n",
    "- If you just want to pick some sobjects from the package,\n",
    "you can use qualified names like `pkg.object_name` to access the object (function, dataset, class...)\n"
   ]
  },
  {
   "cell_type": "code",
   "execution_count": 42,
   "metadata": {
    "ExecuteTime": {
     "end_time": "2022-01-30T23:09:44.738366Z",
     "start_time": "2022-01-30T23:09:44.680304Z"
    },
    "jupyter": {
     "outputs_hidden": false,
     "source_hidden": false
    },
    "nteract": {
     "transient": {
      "deleting": false
     }
    }
   },
   "outputs": [],
   "source": [
    "# importing basic tools\n",
    "import numpy as np\n",
    "import pandas as pd\n",
    "\n",
    "from pandas.api.types import CategoricalDtype\n",
    "\n",
    "import os            # file operations\n",
    "import requests      # networking\n",
    "\n",
    "from datetime import date  # if needed"
   ]
  },
  {
   "cell_type": "code",
   "execution_count": 43,
   "metadata": {
    "ExecuteTime": {
     "end_time": "2022-01-30T23:09:44.805222Z",
     "start_time": "2022-01-30T23:09:44.743527Z"
    },
    "jupyter": {
     "outputs_hidden": false,
     "source_hidden": false
    },
    "nteract": {
     "transient": {
      "deleting": false
     }
    }
   },
   "outputs": [],
   "source": [
    "# importing plotting packages\n",
    "import plotly.graph_objects as go\n",
    "import plotly.express as px\n",
    "import plotly.io as pio"
   ]
  },
  {
   "cell_type": "code",
   "execution_count": 44,
   "metadata": {
    "ExecuteTime": {
     "end_time": "2022-01-30T23:09:44.859766Z",
     "start_time": "2022-01-30T23:09:44.810343Z"
    },
    "jupyter": {
     "outputs_hidden": false,
     "source_hidden": false
    },
    "nteract": {
     "transient": {
      "deleting": false
     }
    }
   },
   "outputs": [],
   "source": [
    "# make pandas plotly-friendly\n",
    "np.set_printoptions(precision=2, suppress=True)\n",
    "%matplotlib inline\n",
    "pd.options.plotting.backend = \"plotly\""
   ]
  },
  {
   "cell_type": "markdown",
   "metadata": {
    "nteract": {
     "transient": {
      "deleting": false
     }
    }
   },
   "source": [
    "# Getting the data\n",
    "\n",
    "The data are built and made available by [INSEE](https://www.insee.fr/fr/accueil)  (French Governement Statistics Institute)\n",
    "\n",
    "Prénoms:\n",
    "- [https://www.insee.fr/fr/statistiques/fichier/2540004/nat2020_csv.zip](https://www.insee.fr/fr/statistiques/fichier/2540004/nat2020_csv.zip)\n",
    "\n",
    "This dataset has been growing for a while. It has been considered by\n",
    "social scientists for decades.  Given names are meant to give insights into a variety\n",
    "of phenomena, including religious observance.\n",
    "\n",
    "- A glimpse at the body of work can be found in [_L'archipel français_ by Jérome Fourquet, Le Seuil, 2019 ](https://www.seuil.com/ouvrage/l-archipel-francais-jerome-fourquet/9782021406023)\n",
    "\n",
    "- Read the [File documentation](https://www.insee.fr/fr/statistiques/2540004?sommaire=4767262#documentation)\n",
    "\n",
    "## Download the data\n",
    "\n",
    "**QUESTION:** Download the data into a file which relative path is `'./nat2020_csv.zip'`\n",
    "\n",
    "__Hints:__\n",
    "\n",
    "- Have a look at [`requests`](https://requests.readthedocs.io/en/master/).\n",
    "- Use magic commands to navigate across the file hierarchy and create subdirectories\n",
    "when needed"
   ]
  },
  {
   "cell_type": "code",
   "execution_count": 45,
   "metadata": {
    "ExecuteTime": {
     "end_time": "2022-01-30T23:09:44.951024Z",
     "start_time": "2022-01-30T23:09:44.863316Z"
    },
    "jupyter": {
     "outputs_hidden": false,
     "source_hidden": false
    },
    "nteract": {
     "transient": {
      "deleting": false
     }
    }
   },
   "outputs": [],
   "source": [
    "params = dict(\n",
    "    url = 'https://www.insee.fr/fr/statistiques/fichier/2540004/nat2020_csv.zip',\n",
    "    dirpath = './',\n",
    "    timecourse = '',\n",
    "    datafile = 'nat2020.hdf',\n",
    "    filename = 'nat2020_csv.zip')"
   ]
  },
  {
   "cell_type": "code",
   "execution_count": 46,
   "metadata": {
    "ExecuteTime": {
     "end_time": "2022-01-30T23:09:45.013657Z",
     "start_time": "2022-01-30T23:09:44.954730Z"
    },
    "jupyter": {
     "outputs_hidden": false,
     "source_hidden": false
    },
    "nteract": {
     "transient": {
      "deleting": false
     }
    }
   },
   "outputs": [],
   "source": [
    "# modify location  make sure you are in the right directory\n",
    "# %cd\n",
    "# %pwd  #\n",
    "# %ls\n",
    "# %mkdir # if needed"
   ]
  },
  {
   "cell_type": "code",
   "execution_count": 47,
   "metadata": {
    "ExecuteTime": {
     "end_time": "2022-01-30T23:09:45.063702Z",
     "start_time": "2022-01-30T23:09:45.019450Z"
    },
    "jupyter": {
     "outputs_hidden": false,
     "source_hidden": false
    },
    "nteract": {
     "transient": {
      "deleting": false
     }
    }
   },
   "outputs": [],
   "source": [
    "url = params['url']      # 'https://www.insee.fr/fr/statistiques/fichier/2540004/nat2020_csv.zip'\n",
    "filename = params['filename']  # 'nat2020_csv.zip'"
   ]
  },
  {
   "cell_type": "code",
   "execution_count": 48,
   "metadata": {
    "ExecuteTime": {
     "end_time": "2022-01-30T23:09:45.145157Z",
     "start_time": "2022-01-30T23:09:45.071922Z"
    },
    "jupyter": {
     "outputs_hidden": false,
     "source_hidden": false
    },
    "nteract": {
     "transient": {
      "deleting": false
     }
    }
   },
   "outputs": [
    {
     "name": "stdout",
     "output_type": "stream",
     "text": [
      "The file ./nat2020_csv.zip already exists.\n"
     ]
    }
   ],
   "source": [
    "# your code here\n",
    "\n",
    "if os.path.exists(os.path.join(params['dirpath'], filename)):\n",
    "    print(f\"The file {os.path.join(params['dirpath'], filename)} already exists.\")\n",
    "    \n",
    "else:\n",
    "    r = requests.get(url)\n",
    "    with open(os.path.join(params['dirpath'], filename), 'wb') as f:\n",
    "            f.write(r.content)\n",
    "\n",
    "    print(f\"Downloaded file {os.path.join(params['dirpath'], filename)}\")\n",
    "\n",
    "### On a utilisé le même code que dans le notebook01_python, Partie I/O"
   ]
  },
  {
   "cell_type": "markdown",
   "metadata": {
    "nteract": {
     "transient": {
      "deleting": false
     }
    }
   },
   "source": [
    "## Load the data in memory\n",
    "\n",
    "**QUESTION:** Load the data in a `pandas` `DataFrame` called `data`\n",
    "\n",
    "__Hints:__\n",
    "\n",
    "- You should obtain a `Pandas dataframe` with 4 columns.\n",
    "- Mind the conventions used to build theis `csv` file.\n",
    "- Package `pandas` provides the convenient tools.\n",
    "- The dataset, though not too large, is already demanding.\n",
    "- Don't hesitate to test your methods on a sample of rows method `sample()` from class `DataFrame` can be helpful."
   ]
  },
  {
   "cell_type": "code",
   "execution_count": 49,
   "metadata": {
    "ExecuteTime": {
     "end_time": "2022-01-30T23:09:45.878943Z",
     "start_time": "2022-01-30T23:09:45.149506Z"
    },
    "jupyter": {
     "outputs_hidden": false,
     "source_hidden": false
    },
    "nteract": {
     "transient": {
      "deleting": false
     }
    }
   },
   "outputs": [
    {
     "data": {
      "text/plain": [
       "(667364, 4)"
      ]
     },
     "execution_count": 49,
     "metadata": {},
     "output_type": "execute_result"
    }
   ],
   "source": [
    "# your code here\n",
    "\n",
    "df = pd.read_csv(filename, sep = \";\", compression='zip')\n",
    "df.shape"
   ]
  },
  {
   "cell_type": "code",
   "execution_count": 50,
   "metadata": {
    "ExecuteTime": {
     "end_time": "2022-01-30T23:09:45.903600Z",
     "start_time": "2022-01-30T23:09:45.883116Z"
    }
   },
   "outputs": [
    {
     "name": "stdout",
     "output_type": "stream",
     "text": [
      "   sexe        preusuel annais  nombre\n",
      "0     1  _PRENOMS_RARES   1900    1250\n",
      "1     1  _PRENOMS_RARES   1901    1342\n",
      "2     1  _PRENOMS_RARES   1902    1330 \n",
      "\n",
      "         sexe preusuel annais  nombre\n",
      "667361     2    ZYNEB   2019       7\n",
      "667362     2    ZYNEB   2020       8\n",
      "667363     2    ZYNEB   XXXX      19\n"
     ]
    }
   ],
   "source": [
    "print(df.head(n=3),'\\n\\n',df.tail(n=3))"
   ]
  },
  {
   "cell_type": "markdown",
   "metadata": {
    "nteract": {
     "transient": {
      "deleting": false
     }
    }
   },
   "source": [
    "## Explore the data"
   ]
  },
  {
   "cell_type": "markdown",
   "metadata": {
    "nteract": {
     "transient": {
      "deleting": false
     }
    }
   },
   "source": [
    "**QUESTION:** Look at the data, Use the attributes `columns`, `dtypes` and the methods `head`, `describe`, to get a feeling of the data.\n",
    "\n",
    "- This dataset is supposed to report all given names used\n",
    "for either sex during a year in France since 1900\n",
    "\n",
    "- The file is made of `652 056` lines and  4 columns.\n",
    "\n",
    "```\n",
    "|-- preusuel : object\n",
    "|-- nombre: int64\n",
    "|-- sexe: int64\n",
    "|-- annais: object\n",
    "```\n",
    "\n",
    "Each row indicates for a given `preusuel` (prénom usuel, given name), `sexe` (sex), and `annais` (année naissance, birthyear) the `nombre` (number) of babies of the given sex who were given that name during the given year.\n",
    "\n",
    "|sexe    |preusuel     | annais|   nombre|\n",
    "|:------|:--------|----:|---:|\n",
    "|2     |SYLVETTE | 1953| 577|\n",
    "|1   |BOUBOU   | 1979|   4|\n",
    "|1   |NILS     | 1959|   3|\n",
    "|2   |NICOLE   | 2003|  36|\n",
    "|1   |JOSÉLITO | 2013|   4|\n",
    "\n",
    "\n",
    "**QUESTION:** Compare memory usage and disk space used by data\n",
    "\n",
    "**Hints:**\n",
    "\n",
    "- The method `info`  prints a concise summary of a `DataFrame`.\n",
    "- With optional parameter `memory_usage`, you can get an estimate\n",
    "of the amount of memory used by the `DataFrame`.\n",
    "- Beware that the resulting estimate depends on the argument fed."
   ]
  },
  {
   "cell_type": "code",
   "execution_count": 51,
   "metadata": {
    "ExecuteTime": {
     "end_time": "2022-01-30T23:09:45.969604Z",
     "start_time": "2022-01-30T23:09:45.917275Z"
    }
   },
   "outputs": [
    {
     "name": "stdout",
     "output_type": "stream",
     "text": [
      "Disk space used : 2.3307418823242188 MB\n"
     ]
    }
   ],
   "source": [
    "disk = os.path.getsize(os.path.join(params['dirpath'], filename))/1024/1024\n",
    "print(\"Disk space used : {} MB\".format(disk))\n",
    "\n",
    "### for disk space"
   ]
  },
  {
   "cell_type": "code",
   "execution_count": 52,
   "metadata": {
    "ExecuteTime": {
     "end_time": "2022-01-30T23:09:47.317393Z",
     "start_time": "2022-01-30T23:09:45.976050Z"
    }
   },
   "outputs": [
    {
     "name": "stdout",
     "output_type": "stream",
     "text": [
      "Méthode 1 - memory_usage : 90.65318870544434 MB\n",
      "\n",
      "Méthode 2 - info : \n",
      "<class 'pandas.core.frame.DataFrame'>\n",
      "RangeIndex: 667364 entries, 0 to 667363\n",
      "Data columns (total 4 columns):\n",
      " #   Column    Non-Null Count   Dtype \n",
      "---  ------    --------------   ----- \n",
      " 0   sexe      667364 non-null  int64 \n",
      " 1   preusuel  667362 non-null  object\n",
      " 2   annais    667364 non-null  object\n",
      " 3   nombre    667364 non-null  int64 \n",
      "dtypes: int64(2), object(2)\n",
      "memory usage: 90.7 MB\n"
     ]
    }
   ],
   "source": [
    "# Méthode 1: memory_usage - renvoie en Bytes (B) - /1024/1024 -> MegaBytes (MB)\n",
    "mem = df.memory_usage(deep=True).sum()/1024/1024\n",
    "print(\"Méthode 1 - memory_usage : {} MB\\n\".format(mem))\n",
    "\n",
    "# Méthode 2: info - renvoie en MB\n",
    "print(\"Méthode 2 - info : \"); df.info(memory_usage='deep')\n",
    "\n",
    "### for memory usage"
   ]
  },
  {
   "cell_type": "code",
   "execution_count": 53,
   "metadata": {
    "ExecuteTime": {
     "end_time": "2022-01-30T23:09:47.328040Z",
     "start_time": "2022-01-30T23:09:47.321652Z"
    },
    "jupyter": {
     "outputs_hidden": false,
     "source_hidden": false
    },
    "nteract": {
     "transient": {
      "deleting": false
     }
    }
   },
   "outputs": [
    {
     "name": "stdout",
     "output_type": "stream",
     "text": [
      "Memory usage (90.653 MB) >>> Disk Space (2.331 MB) by 88.322 MB (x39 greater)\n"
     ]
    }
   ],
   "source": [
    "# your code here\n",
    "\n",
    "print(\"Memory usage ({} MB) >>> Disk Space ({} MB) by {} MB (x{} greater)\"\\\n",
    "     .format(round(mem,3),\n",
    "             round(disk,3),\n",
    "             round(mem-disk,3),\n",
    "             round(mem/disk)))"
   ]
  },
  {
   "cell_type": "markdown",
   "metadata": {
    "nteract": {
     "transient": {
      "deleting": false
     }
    }
   },
   "source": [
    "**QUESTION:** Display the output of `.describe()` with style."
   ]
  },
  {
   "cell_type": "code",
   "execution_count": 54,
   "metadata": {
    "ExecuteTime": {
     "end_time": "2022-01-30T23:09:47.583156Z",
     "start_time": "2022-01-30T23:09:47.337445Z"
    },
    "jupyter": {
     "outputs_hidden": false,
     "source_hidden": false
    },
    "nteract": {
     "transient": {
      "deleting": false
     }
    }
   },
   "outputs": [
    {
     "data": {
      "text/html": [
       "<style type=\"text/css\">\n",
       "#T_be4da_row0_col0, #T_be4da_row0_col3, #T_be4da_row0_col4, #T_be4da_row0_col5, #T_be4da_row0_col6, #T_be4da_row1_col1, #T_be4da_row1_col2, #T_be4da_row1_col3, #T_be4da_row1_col4, #T_be4da_row1_col5, #T_be4da_row1_col6, #T_be4da_row1_col7 {\n",
       "  background-color: #f7fbff;\n",
       "  color: #000000;\n",
       "}\n",
       "#T_be4da_row0_col1, #T_be4da_row0_col2, #T_be4da_row0_col7, #T_be4da_row1_col0 {\n",
       "  background-color: #08306b;\n",
       "  color: #f1f1f1;\n",
       "}\n",
       "</style>\n",
       "<table id=\"T_be4da\">\n",
       "  <thead>\n",
       "    <tr>\n",
       "      <th class=\"blank level0\" >&nbsp;</th>\n",
       "      <th id=\"T_be4da_level0_col0\" class=\"col_heading level0 col0\" colspan=\"8\">nombre</th>\n",
       "    </tr>\n",
       "    <tr>\n",
       "      <th class=\"blank level1\" >&nbsp;</th>\n",
       "      <th id=\"T_be4da_level1_col0\" class=\"col_heading level1 col0\" >count</th>\n",
       "      <th id=\"T_be4da_level1_col1\" class=\"col_heading level1 col1\" >mean</th>\n",
       "      <th id=\"T_be4da_level1_col2\" class=\"col_heading level1 col2\" >std</th>\n",
       "      <th id=\"T_be4da_level1_col3\" class=\"col_heading level1 col3\" >min</th>\n",
       "      <th id=\"T_be4da_level1_col4\" class=\"col_heading level1 col4\" >25%</th>\n",
       "      <th id=\"T_be4da_level1_col5\" class=\"col_heading level1 col5\" >50%</th>\n",
       "      <th id=\"T_be4da_level1_col6\" class=\"col_heading level1 col6\" >75%</th>\n",
       "      <th id=\"T_be4da_level1_col7\" class=\"col_heading level1 col7\" >max</th>\n",
       "    </tr>\n",
       "    <tr>\n",
       "      <th class=\"index_name level0\" >sexe</th>\n",
       "      <th class=\"blank col0\" >&nbsp;</th>\n",
       "      <th class=\"blank col1\" >&nbsp;</th>\n",
       "      <th class=\"blank col2\" >&nbsp;</th>\n",
       "      <th class=\"blank col3\" >&nbsp;</th>\n",
       "      <th class=\"blank col4\" >&nbsp;</th>\n",
       "      <th class=\"blank col5\" >&nbsp;</th>\n",
       "      <th class=\"blank col6\" >&nbsp;</th>\n",
       "      <th class=\"blank col7\" >&nbsp;</th>\n",
       "    </tr>\n",
       "  </thead>\n",
       "  <tbody>\n",
       "    <tr>\n",
       "      <th id=\"T_be4da_level0_row0\" class=\"row_heading level0 row0\" >1</th>\n",
       "      <td id=\"T_be4da_row0_col0\" class=\"data row0 col0\" >3.04e+05</td>\n",
       "      <td id=\"T_be4da_row0_col1\" class=\"data row0 col1\" >1.43e+02</td>\n",
       "      <td id=\"T_be4da_row0_col2\" class=\"data row0 col2\" >9.72e+02</td>\n",
       "      <td id=\"T_be4da_row0_col3\" class=\"data row0 col3\" >1.0</td>\n",
       "      <td id=\"T_be4da_row0_col4\" class=\"data row0 col4\" >4.0</td>\n",
       "      <td id=\"T_be4da_row0_col5\" class=\"data row0 col5\" >8.0</td>\n",
       "      <td id=\"T_be4da_row0_col6\" class=\"data row0 col6\" >25.0</td>\n",
       "      <td id=\"T_be4da_row0_col7\" class=\"data row0 col7\" >5.36e+04</td>\n",
       "    </tr>\n",
       "    <tr>\n",
       "      <th id=\"T_be4da_level0_row1\" class=\"row_heading level0 row1\" >2</th>\n",
       "      <td id=\"T_be4da_row1_col0\" class=\"data row1 col0\" >3.63e+05</td>\n",
       "      <td id=\"T_be4da_row1_col1\" class=\"data row1 col1\" >1.18e+02</td>\n",
       "      <td id=\"T_be4da_row1_col2\" class=\"data row1 col2\" >8.05e+02</td>\n",
       "      <td id=\"T_be4da_row1_col3\" class=\"data row1 col3\" >1.0</td>\n",
       "      <td id=\"T_be4da_row1_col4\" class=\"data row1 col4\" >4.0</td>\n",
       "      <td id=\"T_be4da_row1_col5\" class=\"data row1 col5\" >8.0</td>\n",
       "      <td id=\"T_be4da_row1_col6\" class=\"data row1 col6\" >25.0</td>\n",
       "      <td id=\"T_be4da_row1_col7\" class=\"data row1 col7\" >5.22e+04</td>\n",
       "    </tr>\n",
       "  </tbody>\n",
       "</table>\n"
      ],
      "text/plain": [
       "<pandas.io.formats.style.Styler at 0x7f340c79e9d0>"
      ]
     },
     "execution_count": 54,
     "metadata": {},
     "output_type": "execute_result"
    }
   ],
   "source": [
    "# your code here\n",
    "\n",
    "(\n",
    "    df.groupby('sexe')\n",
    "    .describe()\n",
    "    .style\n",
    "    .format(\"{:.3}\")\n",
    "    .background_gradient(cmap='Blues')\n",
    ")\n",
    "\n",
    "### sexe est un input catégorique (bien que de dtype int). On peut groupby avec"
   ]
  },
  {
   "cell_type": "markdown",
   "metadata": {
    "nteract": {
     "transient": {
      "deleting": false
     }
    }
   },
   "source": [
    "**QUESTION:** For each column compute the number of distinct values"
   ]
  },
  {
   "cell_type": "code",
   "execution_count": 55,
   "metadata": {
    "ExecuteTime": {
     "end_time": "2022-01-30T23:09:47.776965Z",
     "start_time": "2022-01-30T23:09:47.587664Z"
    },
    "jupyter": {
     "outputs_hidden": false,
     "source_hidden": false
    },
    "nteract": {
     "transient": {
      "deleting": false
     }
    }
   },
   "outputs": [
    {
     "data": {
      "text/plain": [
       "sexe            2\n",
       "preusuel    35010\n",
       "annais        122\n",
       "nombre       7304\n",
       "dtype: int64"
      ]
     },
     "execution_count": 55,
     "metadata": {},
     "output_type": "execute_result"
    }
   ],
   "source": [
    "# your code here\n",
    "\n",
    "df.nunique(axis=0)"
   ]
  },
  {
   "cell_type": "markdown",
   "metadata": {
    "nteract": {
     "transient": {
      "deleting": false
     }
    }
   },
   "source": [
    "# Transformations\n",
    "\n",
    "## Improving the data types\n",
    "\n",
    "**QUESTION:** Make `sexe` a category with two levels `Female` and `Male`. Call the new column `genre`. Do you see any reason why this factor should be ordered?\n",
    "\n",
    "__Hint:__ Read [Pandas and categorical variables](https://pandas.pydata.org/pandas-docs/stable/user_guide/categorical.html?highlight=category)"
   ]
  },
  {
   "cell_type": "code",
   "execution_count": 56,
   "metadata": {
    "ExecuteTime": {
     "end_time": "2022-01-30T23:09:48.229812Z",
     "start_time": "2022-01-30T23:09:47.780792Z"
    },
    "jupyter": {
     "outputs_hidden": false,
     "source_hidden": false
    },
    "nteract": {
     "transient": {
      "deleting": false
     }
    }
   },
   "outputs": [
    {
     "name": "stdout",
     "output_type": "stream",
     "text": [
      "   sexe        preusuel annais  nombre genre\n",
      "0     1  _PRENOMS_RARES   1900    1250  Male\n",
      "1     1  _PRENOMS_RARES   1901    1342  Male\n",
      "2     1  _PRENOMS_RARES   1902    1330  Male \n",
      "\n",
      "         sexe preusuel annais  nombre   genre\n",
      "667361     2    ZYNEB   2019       7  Female\n",
      "667362     2    ZYNEB   2020       8  Female\n",
      "667363     2    ZYNEB   XXXX      19  Female\n"
     ]
    }
   ],
   "source": [
    "# your code here\n",
    "\n",
    "def genre(n):\n",
    "    return 'Male' if n==1 else 'Female'\n",
    "\n",
    "df['genre'] = df['sexe'].apply(lambda x: genre(x))\n",
    "df['genre'] = df['genre'].astype('category')\n",
    "print(df.head(n=3),'\\n\\n',df.tail(n=3))\n",
    "\n",
    "### il n'y a pas de raison à donner un ordre entre Male et Female"
   ]
  },
  {
   "cell_type": "markdown",
   "metadata": {
    "nteract": {
     "transient": {
      "deleting": false
     }
    }
   },
   "source": [
    "**QUESTION:** Compare memory usage of columns `sexe` and `genre`"
   ]
  },
  {
   "cell_type": "code",
   "execution_count": 57,
   "metadata": {
    "ExecuteTime": {
     "end_time": "2022-01-30T23:09:48.257644Z",
     "start_time": "2022-01-30T23:09:48.235729Z"
    },
    "jupyter": {
     "outputs_hidden": false,
     "source_hidden": false
    },
    "nteract": {
     "transient": {
      "deleting": false
     }
    }
   },
   "outputs": [
    {
     "name": "stdout",
     "output_type": "stream",
     "text": [
      "Memory usage of sexe (5.092 MB) > Memory usage of genre (0.637 MB) by 4.455 MB (x8 greater)\n"
     ]
    }
   ],
   "source": [
    "# your code here\n",
    "\n",
    "mem_sexe, mem_genre = df[['sexe','genre']].memory_usage(deep=True,index=False)/1024/1024\n",
    "\n",
    "print(\"Memory usage of sexe ({} MB) > Memory usage of genre ({} MB) by {} MB (x{} greater)\"\\\n",
    "     .format(round(mem_sexe,3),\n",
    "             round(mem_genre,3),\n",
    "             round(mem_sexe-mem_genre,3),\n",
    "             round(mem_sexe/mem_genre)))"
   ]
  },
  {
   "cell_type": "markdown",
   "metadata": {
    "nteract": {
     "transient": {
      "deleting": false
     }
    }
   },
   "source": [
    "**QUESTION:** Would it be more memory-efficient to recode `sexe` using modalities `F` and `M` instead of `Male` and `Female` ?"
   ]
  },
  {
   "cell_type": "markdown",
   "metadata": {
    "nteract": {
     "transient": {
      "deleting": false
     }
    }
   },
   "source": [
    "_Insert your answer here_\n",
    "\n",
    "> Oui, cela nous ferait gagner un peu de mémoire en plus car moins de lettres à encoder donc moins de bytes utilisés"
   ]
  },
  {
   "cell_type": "markdown",
   "metadata": {
    "nteract": {
     "transient": {
      "deleting": false
     }
    }
   },
   "source": [
    "## Dealing with missing values\n",
    "\n",
    "**QUESTION:** Variable `annais` class is `object`. Make `annais` of type `float`. Note that missing years are encoded as \"XXXX\", find a way to deal with that.\n",
    "\n",
    "__Hint:__  As of releasing this Homework (2021-01-22), `Pandas` is not very good at managing missing values,\n",
    "see [roadmap](https://pandas.pydata.org/docs/development/roadmap.html). Don't try to convert `annais` into an integer column."
   ]
  },
  {
   "cell_type": "code",
   "execution_count": 58,
   "metadata": {
    "ExecuteTime": {
     "end_time": "2022-01-30T23:09:48.778098Z",
     "start_time": "2022-01-30T23:09:48.267572Z"
    },
    "jupyter": {
     "outputs_hidden": false,
     "source_hidden": false
    },
    "nteract": {
     "transient": {
      "deleting": false
     }
    }
   },
   "outputs": [
    {
     "data": {
      "text/plain": [
       "0         1900.0\n",
       "1         1901.0\n",
       "2         1902.0\n",
       "3         1903.0\n",
       "4         1904.0\n",
       "           ...  \n",
       "667359    2017.0\n",
       "667360    2018.0\n",
       "667361    2019.0\n",
       "667362    2020.0\n",
       "667363       NaN\n",
       "Name: annais, Length: 667364, dtype: float64"
      ]
     },
     "execution_count": 58,
     "metadata": {},
     "output_type": "execute_result"
    }
   ],
   "source": [
    "# your code here\n",
    "\n",
    "def annais(n):\n",
    "    return np.nan if n==\"XXXX\" else n\n",
    "\n",
    "df['annais'] = df['annais'].apply(lambda x: annais(x))\n",
    "df['annais'] = df['annais'].astype('float')\n",
    "df['annais']"
   ]
  },
  {
   "cell_type": "markdown",
   "metadata": {
    "nteract": {
     "transient": {
      "deleting": false
     }
    }
   },
   "source": [
    "## Rename and remove columns"
   ]
  },
  {
   "cell_type": "markdown",
   "metadata": {
    "nteract": {
     "transient": {
      "deleting": false
     }
    }
   },
   "source": [
    "**QUESTION:** Remove useless columns (now that you've created new ones, and rename them). You should end up with a dataframe with columns called `\"gender\"`, `\"year\"`, `\"count\"`, `\"firstname`\" with the following dtypes:\n",
    "\n",
    "```python\n",
    "gender        category\n",
    "firstname     object\n",
    "count         int64\n",
    "year          float64\n",
    "```"
   ]
  },
  {
   "cell_type": "code",
   "execution_count": 59,
   "metadata": {
    "ExecuteTime": {
     "end_time": "2022-01-30T23:09:49.111600Z",
     "start_time": "2022-01-30T23:09:48.784137Z"
    },
    "jupyter": {
     "outputs_hidden": false,
     "source_hidden": false
    },
    "nteract": {
     "transient": {
      "deleting": false
     }
    }
   },
   "outputs": [
    {
     "name": "stdout",
     "output_type": "stream",
     "text": [
      "<class 'pandas.core.frame.DataFrame'>\n",
      "RangeIndex: 667364 entries, 0 to 667363\n",
      "Data columns (total 4 columns):\n",
      " #   Column     Non-Null Count   Dtype   \n",
      "---  ------     --------------   -----   \n",
      " 0   firstname  667362 non-null  object  \n",
      " 1   year       630689 non-null  float64 \n",
      " 2   count      667364 non-null  int64   \n",
      " 3   gender     667364 non-null  category\n",
      "dtypes: category(1), float64(1), int64(1), object(1)\n",
      "memory usage: 15.9+ MB\n"
     ]
    }
   ],
   "source": [
    "# your code here\n",
    "\n",
    "df = df[df.columns[1:]] # cols = ['preusuel', 'annais', 'nombre', 'genre']\n",
    "\n",
    "cols = df.columns; df.rename(columns={cols[0]:\"firstname\",\n",
    "                                      cols[1]:\"year\",\n",
    "                                      cols[2]:\"count\",\n",
    "                                      cols[3]:\"gender\"},inplace=True)\n",
    "df.info()"
   ]
  },
  {
   "cell_type": "markdown",
   "metadata": {
    "nteract": {
     "transient": {
      "deleting": false
     }
    }
   },
   "source": [
    "**QUESTION:** How many missing values (NA) have been introduced? How many births are concerned?"
   ]
  },
  {
   "cell_type": "code",
   "execution_count": 60,
   "metadata": {
    "ExecuteTime": {
     "end_time": "2022-01-30T23:09:49.363458Z",
     "start_time": "2022-01-30T23:09:49.116072Z"
    },
    "jupyter": {
     "outputs_hidden": false,
     "source_hidden": false
    },
    "nteract": {
     "transient": {
      "deleting": false
     }
    }
   },
   "outputs": [
    {
     "name": "stdout",
     "output_type": "stream",
     "text": [
      "Il y a 36675 années avec des missing values. Il y en a 36677 au total\n"
     ]
    },
    {
     "data": {
      "text/plain": [
       "firstname        2\n",
       "year         36675\n",
       "count            0\n",
       "gender           0\n",
       "dtype: int64"
      ]
     },
     "execution_count": 60,
     "metadata": {},
     "output_type": "execute_result"
    }
   ],
   "source": [
    "# your code here\n",
    "\n",
    "nan_per_column = np.sum(df.isnull())\n",
    "nan_total = np.sum(nan_per_column)\n",
    "\n",
    "print(\"Il y a {} années avec des missing values. Il y en a {} au total\"\\\n",
    "     .format(nan_per_column['year'],nan_total))\n",
    "\n",
    "nan_per_column"
   ]
  },
  {
   "cell_type": "markdown",
   "metadata": {
    "nteract": {
     "transient": {
      "deleting": false
     }
    }
   },
   "source": [
    "**QUESTION:** Read the documentation and describe the origin of rows containing the missing values."
   ]
  },
  {
   "cell_type": "markdown",
   "metadata": {
    "ExecuteTime": {
     "end_time": "2022-01-25T17:43:56.807855Z",
     "start_time": "2022-01-25T17:43:56.783029Z"
    },
    "jupyter": {
     "outputs_hidden": false,
     "source_hidden": false
    },
    "nteract": {
     "transient": {
      "deleting": false
     }
    }
   },
   "source": [
    "_Insert your answer here_\n",
    "\n",
    "> Le dataset est issu de bulletins de naissance qui sont établis à la base à partir de la déclaration des parents. C'est pourquoi on peut lire dans la documentation \"L'Insee ne peut garantir que le fichier des prénoms soit exempt d'omissions ou d'erreurs\". C'est très probablement un problème de déclarations incomplètes"
   ]
  },
  {
   "cell_type": "markdown",
   "metadata": {
    "nteract": {
     "transient": {
      "deleting": false
     }
    }
   },
   "source": [
    "## Checkpointing: save your transformed dataframe"
   ]
  },
  {
   "cell_type": "markdown",
   "metadata": {
    "nteract": {
     "transient": {
      "deleting": false
     }
    }
   },
   "source": [
    "**QUESTION:** Save the transformed dataframe (retyped and renamed) to `./nat2020_csv.zip`. Try several compression methods."
   ]
  },
  {
   "cell_type": "code",
   "execution_count": 61,
   "metadata": {
    "ExecuteTime": {
     "end_time": "2022-01-30T23:09:53.997551Z",
     "start_time": "2022-01-30T23:09:49.375326Z"
    }
   },
   "outputs": [],
   "source": [
    "# your code here\n",
    "\n",
    "compression_opts = dict(method='zip',archive_name='nat2020-modif.csv')\n",
    "df.to_csv('nat2020.zip', index=False, compression=compression_opts)\n",
    "\n",
    "### il faut sauver dans un nouveau zip non ?\n",
    "### (assez confus d'après le markdown en dessous de la cellule [22]\n",
    "###  -> pas de nat2020_csv.zip mais nat2020.zip.\n",
    "###  -> faut-il delete le 1er ? nat2020.zip est-il en réalité nat2020_csv.zip ?\n",
    "###  -> je crée un nouveau zip au cas où, je ne prends pas de risque)"
   ]
  },
  {
   "cell_type": "markdown",
   "metadata": {
    "nteract": {
     "transient": {
      "deleting": false
     }
    }
   },
   "source": [
    "**QUESTION:** Save the transformed dataframe (retyped and renamed) to `./nat2020.hdf` using `.hdf` format"
   ]
  },
  {
   "cell_type": "code",
   "execution_count": 62,
   "metadata": {
    "ExecuteTime": {
     "end_time": "2022-01-30T23:09:57.494482Z",
     "start_time": "2022-01-30T23:09:54.004690Z"
    },
    "jupyter": {
     "outputs_hidden": false,
     "source_hidden": false
    },
    "nteract": {
     "transient": {
      "deleting": false
     }
    }
   },
   "outputs": [],
   "source": [
    "# your code here\n",
    "\n",
    "df.to_hdf(\"nat2020.hdf\", key='df', format='table') # c'est assez lourd quand même !"
   ]
  },
  {
   "cell_type": "markdown",
   "metadata": {
    "nteract": {
     "transient": {
      "deleting": false
     }
    }
   },
   "source": [
    "At that point your working directory should look like:\n",
    "\n",
    "```\n",
    "├── homework01.py      # if you use `jupytext`\n",
    "├── homework01.ipynb\n",
    "├── nat2020.hdf\n",
    "├── nat2020.zip\n",
    "```\n",
    "\n",
    "**QUESTION:** Reload the data using `read_hdf(...)` so that the resulting dataframe  is properly typed with meaningful column names.\n",
    "\n",
    "__Hint:__ use `try: ... except` to handle exceptions such as `FileNotFoundError`"
   ]
  },
  {
   "cell_type": "code",
   "execution_count": 63,
   "metadata": {
    "ExecuteTime": {
     "end_time": "2022-01-30T23:09:59.006518Z",
     "start_time": "2022-01-30T23:09:57.498053Z"
    },
    "jupyter": {
     "outputs_hidden": false,
     "source_hidden": false
    },
    "nteract": {
     "transient": {
      "deleting": false
     }
    }
   },
   "outputs": [
    {
     "data": {
      "text/html": [
       "<div>\n",
       "<style scoped>\n",
       "    .dataframe tbody tr th:only-of-type {\n",
       "        vertical-align: middle;\n",
       "    }\n",
       "\n",
       "    .dataframe tbody tr th {\n",
       "        vertical-align: top;\n",
       "    }\n",
       "\n",
       "    .dataframe thead th {\n",
       "        text-align: right;\n",
       "    }\n",
       "</style>\n",
       "<table border=\"1\" class=\"dataframe\">\n",
       "  <thead>\n",
       "    <tr style=\"text-align: right;\">\n",
       "      <th></th>\n",
       "      <th>firstname</th>\n",
       "      <th>year</th>\n",
       "      <th>count</th>\n",
       "      <th>gender</th>\n",
       "    </tr>\n",
       "  </thead>\n",
       "  <tbody>\n",
       "    <tr>\n",
       "      <th>0</th>\n",
       "      <td>_PRENOMS_RARES</td>\n",
       "      <td>1900.0</td>\n",
       "      <td>1250</td>\n",
       "      <td>Male</td>\n",
       "    </tr>\n",
       "    <tr>\n",
       "      <th>1</th>\n",
       "      <td>_PRENOMS_RARES</td>\n",
       "      <td>1901.0</td>\n",
       "      <td>1342</td>\n",
       "      <td>Male</td>\n",
       "    </tr>\n",
       "    <tr>\n",
       "      <th>2</th>\n",
       "      <td>_PRENOMS_RARES</td>\n",
       "      <td>1902.0</td>\n",
       "      <td>1330</td>\n",
       "      <td>Male</td>\n",
       "    </tr>\n",
       "    <tr>\n",
       "      <th>3</th>\n",
       "      <td>_PRENOMS_RARES</td>\n",
       "      <td>1903.0</td>\n",
       "      <td>1286</td>\n",
       "      <td>Male</td>\n",
       "    </tr>\n",
       "    <tr>\n",
       "      <th>4</th>\n",
       "      <td>_PRENOMS_RARES</td>\n",
       "      <td>1904.0</td>\n",
       "      <td>1430</td>\n",
       "      <td>Male</td>\n",
       "    </tr>\n",
       "    <tr>\n",
       "      <th>...</th>\n",
       "      <td>...</td>\n",
       "      <td>...</td>\n",
       "      <td>...</td>\n",
       "      <td>...</td>\n",
       "    </tr>\n",
       "    <tr>\n",
       "      <th>667359</th>\n",
       "      <td>ZYNEB</td>\n",
       "      <td>2017.0</td>\n",
       "      <td>6</td>\n",
       "      <td>Female</td>\n",
       "    </tr>\n",
       "    <tr>\n",
       "      <th>667360</th>\n",
       "      <td>ZYNEB</td>\n",
       "      <td>2018.0</td>\n",
       "      <td>5</td>\n",
       "      <td>Female</td>\n",
       "    </tr>\n",
       "    <tr>\n",
       "      <th>667361</th>\n",
       "      <td>ZYNEB</td>\n",
       "      <td>2019.0</td>\n",
       "      <td>7</td>\n",
       "      <td>Female</td>\n",
       "    </tr>\n",
       "    <tr>\n",
       "      <th>667362</th>\n",
       "      <td>ZYNEB</td>\n",
       "      <td>2020.0</td>\n",
       "      <td>8</td>\n",
       "      <td>Female</td>\n",
       "    </tr>\n",
       "    <tr>\n",
       "      <th>667363</th>\n",
       "      <td>ZYNEB</td>\n",
       "      <td>NaN</td>\n",
       "      <td>19</td>\n",
       "      <td>Female</td>\n",
       "    </tr>\n",
       "  </tbody>\n",
       "</table>\n",
       "<p>667364 rows × 4 columns</p>\n",
       "</div>"
      ],
      "text/plain": [
       "             firstname    year  count  gender\n",
       "0       _PRENOMS_RARES  1900.0   1250    Male\n",
       "1       _PRENOMS_RARES  1901.0   1342    Male\n",
       "2       _PRENOMS_RARES  1902.0   1330    Male\n",
       "3       _PRENOMS_RARES  1903.0   1286    Male\n",
       "4       _PRENOMS_RARES  1904.0   1430    Male\n",
       "...                ...     ...    ...     ...\n",
       "667359           ZYNEB  2017.0      6  Female\n",
       "667360           ZYNEB  2018.0      5  Female\n",
       "667361           ZYNEB  2019.0      7  Female\n",
       "667362           ZYNEB  2020.0      8  Female\n",
       "667363           ZYNEB     NaN     19  Female\n",
       "\n",
       "[667364 rows x 4 columns]"
      ]
     },
     "execution_count": 63,
     "metadata": {},
     "output_type": "execute_result"
    }
   ],
   "source": [
    "# your code here\n",
    "\n",
    "pd.read_hdf(\"nat2020.hdf\")"
   ]
  },
  {
   "cell_type": "markdown",
   "metadata": {
    "nteract": {
     "transient": {
      "deleting": false
     }
    }
   },
   "source": [
    "## Some data \"analytics\" and visualization\n",
    "\n",
    "**QUESTION**: For each year, compute the total number of Female and Male births and the proportion of Female  births among total births\n",
    "\n",
    "__Hints:__\n",
    "\n",
    "- Groupby operations using several columns for the groups return a dataframe with a `MultiIndex` index see [Pandas advanced](https://pandas.pydata.org/pandas-docs/stable/user_guide/advanced.html)\n",
    "\n",
    "- Have a look at `MultiIndex`, `reset_index`, `pivot`, `columns.droplevel`"
   ]
  },
  {
   "cell_type": "code",
   "execution_count": 64,
   "metadata": {
    "ExecuteTime": {
     "end_time": "2022-01-30T23:09:59.192887Z",
     "start_time": "2022-01-30T23:09:59.010290Z"
    }
   },
   "outputs": [
    {
     "data": {
      "text/html": [
       "<div>\n",
       "<style scoped>\n",
       "    .dataframe tbody tr th:only-of-type {\n",
       "        vertical-align: middle;\n",
       "    }\n",
       "\n",
       "    .dataframe tbody tr th {\n",
       "        vertical-align: top;\n",
       "    }\n",
       "\n",
       "    .dataframe thead th {\n",
       "        text-align: right;\n",
       "    }\n",
       "</style>\n",
       "<table border=\"1\" class=\"dataframe\">\n",
       "  <thead>\n",
       "    <tr style=\"text-align: right;\">\n",
       "      <th></th>\n",
       "      <th></th>\n",
       "      <th>count</th>\n",
       "      <th>%</th>\n",
       "    </tr>\n",
       "    <tr>\n",
       "      <th>year</th>\n",
       "      <th>gender</th>\n",
       "      <th></th>\n",
       "      <th></th>\n",
       "    </tr>\n",
       "  </thead>\n",
       "  <tbody>\n",
       "    <tr>\n",
       "      <th rowspan=\"2\" valign=\"top\">1900.0</th>\n",
       "      <th>Female</th>\n",
       "      <td>237653</td>\n",
       "      <td>57.260126</td>\n",
       "    </tr>\n",
       "    <tr>\n",
       "      <th>Male</th>\n",
       "      <td>177388</td>\n",
       "      <td>42.739874</td>\n",
       "    </tr>\n",
       "    <tr>\n",
       "      <th rowspan=\"2\" valign=\"top\">1901.0</th>\n",
       "      <th>Female</th>\n",
       "      <td>257492</td>\n",
       "      <td>56.784341</td>\n",
       "    </tr>\n",
       "    <tr>\n",
       "      <th>Male</th>\n",
       "      <td>195964</td>\n",
       "      <td>43.215659</td>\n",
       "    </tr>\n",
       "    <tr>\n",
       "      <th>1902.0</th>\n",
       "      <th>Female</th>\n",
       "      <td>261437</td>\n",
       "      <td>56.127654</td>\n",
       "    </tr>\n",
       "    <tr>\n",
       "      <th>...</th>\n",
       "      <th>...</th>\n",
       "      <td>...</td>\n",
       "      <td>...</td>\n",
       "    </tr>\n",
       "    <tr>\n",
       "      <th>2018.0</th>\n",
       "      <th>Male</th>\n",
       "      <td>377802</td>\n",
       "      <td>51.313527</td>\n",
       "    </tr>\n",
       "    <tr>\n",
       "      <th rowspan=\"2\" valign=\"top\">2019.0</th>\n",
       "      <th>Female</th>\n",
       "      <td>356915</td>\n",
       "      <td>48.817768</td>\n",
       "    </tr>\n",
       "    <tr>\n",
       "      <th>Male</th>\n",
       "      <td>374202</td>\n",
       "      <td>51.182232</td>\n",
       "    </tr>\n",
       "    <tr>\n",
       "      <th rowspan=\"2\" valign=\"top\">2020.0</th>\n",
       "      <th>Female</th>\n",
       "      <td>348024</td>\n",
       "      <td>48.792538</td>\n",
       "    </tr>\n",
       "    <tr>\n",
       "      <th>Male</th>\n",
       "      <td>365249</td>\n",
       "      <td>51.207462</td>\n",
       "    </tr>\n",
       "  </tbody>\n",
       "</table>\n",
       "<p>242 rows × 2 columns</p>\n",
       "</div>"
      ],
      "text/plain": [
       "                count          %\n",
       "year   gender                   \n",
       "1900.0 Female  237653  57.260126\n",
       "       Male    177388  42.739874\n",
       "1901.0 Female  257492  56.784341\n",
       "       Male    195964  43.215659\n",
       "1902.0 Female  261437  56.127654\n",
       "...               ...        ...\n",
       "2018.0 Male    377802  51.313527\n",
       "2019.0 Female  356915  48.817768\n",
       "       Male    374202  51.182232\n",
       "2020.0 Female  348024  48.792538\n",
       "       Male    365249  51.207462\n",
       "\n",
       "[242 rows x 2 columns]"
      ]
     },
     "execution_count": 64,
     "metadata": {},
     "output_type": "execute_result"
    }
   ],
   "source": [
    "# your code here\n",
    "\n",
    "gb1 = df.groupby([\"year\", \"gender\"]).agg({'count':'sum'})\n",
    "gb1['%'] = 100*gb1['count']/gb1.groupby(level=0)['count'].sum()\n",
    "gb1"
   ]
  },
  {
   "cell_type": "markdown",
   "metadata": {
    "nteract": {
     "transient": {
      "deleting": false
     }
    }
   },
   "source": [
    "**QUESTION:** Plot the proportion of female births as a function of year. Don't forget: title, axes labels, ticks, scales, etc.\n",
    "\n",
    "Because of what we did before, the `plot` method of a `DataFrame` with be rendered using `plotly`, so you can use this. But you can use also `seaborn` or any other available plotting library that you want.\n",
    "\n",
    "__Hint:__ Mind the missing values in the `year` column"
   ]
  },
  {
   "cell_type": "code",
   "execution_count": 65,
   "metadata": {
    "ExecuteTime": {
     "end_time": "2022-01-30T23:09:59.441616Z",
     "start_time": "2022-01-30T23:09:59.207351Z"
    },
    "jupyter": {
     "outputs_hidden": false,
     "source_hidden": false
    },
    "nteract": {
     "transient": {
      "deleting": false
     }
    }
   },
   "outputs": [
    {
     "data": {
      "application/vnd.plotly.v1+json": {
       "config": {
        "plotlyServerURL": "https://plot.ly"
       },
       "data": [
        {
         "hovertemplate": "year=%{x}<br>Female=%{y}<extra></extra>",
         "legendgroup": "",
         "line": {
          "color": "#636efa",
          "dash": "solid"
         },
         "mode": "lines",
         "name": "",
         "orientation": "v",
         "showlegend": false,
         "type": "scatter",
         "x": [
          1900,
          1901,
          1902,
          1903,
          1904,
          1905,
          1906,
          1907,
          1908,
          1909,
          1910,
          1911,
          1912,
          1913,
          1914,
          1915,
          1916,
          1917,
          1918,
          1919,
          1920,
          1921,
          1922,
          1923,
          1924,
          1925,
          1926,
          1927,
          1928,
          1929,
          1930,
          1931,
          1932,
          1933,
          1934,
          1935,
          1936,
          1937,
          1938,
          1939,
          1940,
          1941,
          1942,
          1943,
          1944,
          1945,
          1946,
          1947,
          1948,
          1949,
          1950,
          1951,
          1952,
          1953,
          1954,
          1955,
          1956,
          1957,
          1958,
          1959,
          1960,
          1961,
          1962,
          1963,
          1964,
          1965,
          1966,
          1967,
          1968,
          1969,
          1970,
          1971,
          1972,
          1973,
          1974,
          1975,
          1976,
          1977,
          1978,
          1979,
          1980,
          1981,
          1982,
          1983,
          1984,
          1985,
          1986,
          1987,
          1988,
          1989,
          1990,
          1991,
          1992,
          1993,
          1994,
          1995,
          1996,
          1997,
          1998,
          1999,
          2000,
          2001,
          2002,
          2003,
          2004,
          2005,
          2006,
          2007,
          2008,
          2009,
          2010,
          2011,
          2012,
          2013,
          2014,
          2015,
          2016,
          2017,
          2018,
          2019,
          2020
         ],
         "xaxis": "x",
         "y": [
          57.260126108023066,
          56.784340707808475,
          56.127654093046225,
          55.769099503421444,
          55.290816390444334,
          54.65392673792205,
          54.41828020209469,
          53.98883087436929,
          53.62624146271378,
          53.25426807947825,
          52.91934537929077,
          52.772849606016145,
          52.382444049980855,
          52.29531480480787,
          52.39278397957366,
          51.884199023324115,
          51.729044910211435,
          51.58523170528694,
          51.22948467806726,
          51.08128649358128,
          50.94544214979925,
          51.223696572267066,
          51.14073083472227,
          50.98740412744823,
          51.011728336299434,
          50.819160726686725,
          50.75539467144318,
          50.4890309559043,
          50.29412547996109,
          50.19419574040702,
          50.26281108950186,
          50.22615523787839,
          50.20721326164875,
          50.18227756722613,
          50.16255507542132,
          50.22904185724968,
          50.17106895634113,
          50.03470201832547,
          49.976040047601614,
          50.08907557387093,
          49.916775558459335,
          49.73579472412197,
          49.45237410394433,
          49.41969688837022,
          49.59717672683188,
          49.55987596427636,
          48.677800251209874,
          48.66327828899621,
          48.64412915489375,
          48.77984994976346,
          48.82461233849085,
          48.809313645875264,
          48.819286095335215,
          48.834249453639096,
          48.76942099887103,
          48.97419094666801,
          48.830638155096075,
          48.88598479418118,
          48.93358470265342,
          48.84766237749743,
          48.83177652626163,
          48.90891933526981,
          48.897888918880405,
          48.94717419865418,
          48.85229919774828,
          48.85631734184073,
          48.85762790287015,
          48.83560872592569,
          48.87500072200498,
          48.81359985467489,
          48.6872707602486,
          48.74323617647868,
          48.666003146370436,
          48.70364654025811,
          48.674844988048,
          48.777339370390145,
          48.75913337674663,
          48.671781599379905,
          48.704631504447384,
          48.72395493131177,
          48.73910044437474,
          48.70479894531888,
          48.71100919688418,
          48.766551834097434,
          48.82706985590763,
          48.77382254904455,
          48.770155075335786,
          48.80552421172749,
          48.75734566197675,
          48.84934481972835,
          48.676749185942384,
          48.73132844618039,
          48.65334616921092,
          48.7394716259549,
          48.72298759465827,
          48.785575241854076,
          48.58494393650971,
          48.590932325843795,
          48.73122542703274,
          48.624273042968916,
          48.65548394197924,
          48.80789271160567,
          48.708859660767715,
          48.80246611713288,
          48.68630780544122,
          48.758045856187366,
          48.78234305564402,
          48.754274366214666,
          48.725664977212006,
          48.78154659720989,
          48.787528868360276,
          48.84324770565103,
          48.72474087002224,
          48.74409974487077,
          48.8336803029923,
          48.758204970272686,
          48.73004936213186,
          48.74691551525966,
          48.6864730218319,
          48.81776788120096,
          48.79253806046212
         ],
         "yaxis": "y"
        }
       ],
       "layout": {
        "legend": {
         "tracegroupgap": 0
        },
        "margin": {
         "t": 60
        },
        "template": {
         "data": {
          "bar": [
           {
            "error_x": {
             "color": "#2a3f5f"
            },
            "error_y": {
             "color": "#2a3f5f"
            },
            "marker": {
             "line": {
              "color": "#E5ECF6",
              "width": 0.5
             }
            },
            "type": "bar"
           }
          ],
          "barpolar": [
           {
            "marker": {
             "line": {
              "color": "#E5ECF6",
              "width": 0.5
             }
            },
            "type": "barpolar"
           }
          ],
          "carpet": [
           {
            "aaxis": {
             "endlinecolor": "#2a3f5f",
             "gridcolor": "white",
             "linecolor": "white",
             "minorgridcolor": "white",
             "startlinecolor": "#2a3f5f"
            },
            "baxis": {
             "endlinecolor": "#2a3f5f",
             "gridcolor": "white",
             "linecolor": "white",
             "minorgridcolor": "white",
             "startlinecolor": "#2a3f5f"
            },
            "type": "carpet"
           }
          ],
          "choropleth": [
           {
            "colorbar": {
             "outlinewidth": 0,
             "ticks": ""
            },
            "type": "choropleth"
           }
          ],
          "contour": [
           {
            "colorbar": {
             "outlinewidth": 0,
             "ticks": ""
            },
            "colorscale": [
             [
              0,
              "#0d0887"
             ],
             [
              0.1111111111111111,
              "#46039f"
             ],
             [
              0.2222222222222222,
              "#7201a8"
             ],
             [
              0.3333333333333333,
              "#9c179e"
             ],
             [
              0.4444444444444444,
              "#bd3786"
             ],
             [
              0.5555555555555556,
              "#d8576b"
             ],
             [
              0.6666666666666666,
              "#ed7953"
             ],
             [
              0.7777777777777778,
              "#fb9f3a"
             ],
             [
              0.8888888888888888,
              "#fdca26"
             ],
             [
              1,
              "#f0f921"
             ]
            ],
            "type": "contour"
           }
          ],
          "contourcarpet": [
           {
            "colorbar": {
             "outlinewidth": 0,
             "ticks": ""
            },
            "type": "contourcarpet"
           }
          ],
          "heatmap": [
           {
            "colorbar": {
             "outlinewidth": 0,
             "ticks": ""
            },
            "colorscale": [
             [
              0,
              "#0d0887"
             ],
             [
              0.1111111111111111,
              "#46039f"
             ],
             [
              0.2222222222222222,
              "#7201a8"
             ],
             [
              0.3333333333333333,
              "#9c179e"
             ],
             [
              0.4444444444444444,
              "#bd3786"
             ],
             [
              0.5555555555555556,
              "#d8576b"
             ],
             [
              0.6666666666666666,
              "#ed7953"
             ],
             [
              0.7777777777777778,
              "#fb9f3a"
             ],
             [
              0.8888888888888888,
              "#fdca26"
             ],
             [
              1,
              "#f0f921"
             ]
            ],
            "type": "heatmap"
           }
          ],
          "heatmapgl": [
           {
            "colorbar": {
             "outlinewidth": 0,
             "ticks": ""
            },
            "colorscale": [
             [
              0,
              "#0d0887"
             ],
             [
              0.1111111111111111,
              "#46039f"
             ],
             [
              0.2222222222222222,
              "#7201a8"
             ],
             [
              0.3333333333333333,
              "#9c179e"
             ],
             [
              0.4444444444444444,
              "#bd3786"
             ],
             [
              0.5555555555555556,
              "#d8576b"
             ],
             [
              0.6666666666666666,
              "#ed7953"
             ],
             [
              0.7777777777777778,
              "#fb9f3a"
             ],
             [
              0.8888888888888888,
              "#fdca26"
             ],
             [
              1,
              "#f0f921"
             ]
            ],
            "type": "heatmapgl"
           }
          ],
          "histogram": [
           {
            "marker": {
             "colorbar": {
              "outlinewidth": 0,
              "ticks": ""
             }
            },
            "type": "histogram"
           }
          ],
          "histogram2d": [
           {
            "colorbar": {
             "outlinewidth": 0,
             "ticks": ""
            },
            "colorscale": [
             [
              0,
              "#0d0887"
             ],
             [
              0.1111111111111111,
              "#46039f"
             ],
             [
              0.2222222222222222,
              "#7201a8"
             ],
             [
              0.3333333333333333,
              "#9c179e"
             ],
             [
              0.4444444444444444,
              "#bd3786"
             ],
             [
              0.5555555555555556,
              "#d8576b"
             ],
             [
              0.6666666666666666,
              "#ed7953"
             ],
             [
              0.7777777777777778,
              "#fb9f3a"
             ],
             [
              0.8888888888888888,
              "#fdca26"
             ],
             [
              1,
              "#f0f921"
             ]
            ],
            "type": "histogram2d"
           }
          ],
          "histogram2dcontour": [
           {
            "colorbar": {
             "outlinewidth": 0,
             "ticks": ""
            },
            "colorscale": [
             [
              0,
              "#0d0887"
             ],
             [
              0.1111111111111111,
              "#46039f"
             ],
             [
              0.2222222222222222,
              "#7201a8"
             ],
             [
              0.3333333333333333,
              "#9c179e"
             ],
             [
              0.4444444444444444,
              "#bd3786"
             ],
             [
              0.5555555555555556,
              "#d8576b"
             ],
             [
              0.6666666666666666,
              "#ed7953"
             ],
             [
              0.7777777777777778,
              "#fb9f3a"
             ],
             [
              0.8888888888888888,
              "#fdca26"
             ],
             [
              1,
              "#f0f921"
             ]
            ],
            "type": "histogram2dcontour"
           }
          ],
          "mesh3d": [
           {
            "colorbar": {
             "outlinewidth": 0,
             "ticks": ""
            },
            "type": "mesh3d"
           }
          ],
          "parcoords": [
           {
            "line": {
             "colorbar": {
              "outlinewidth": 0,
              "ticks": ""
             }
            },
            "type": "parcoords"
           }
          ],
          "pie": [
           {
            "automargin": true,
            "type": "pie"
           }
          ],
          "scatter": [
           {
            "marker": {
             "colorbar": {
              "outlinewidth": 0,
              "ticks": ""
             }
            },
            "type": "scatter"
           }
          ],
          "scatter3d": [
           {
            "line": {
             "colorbar": {
              "outlinewidth": 0,
              "ticks": ""
             }
            },
            "marker": {
             "colorbar": {
              "outlinewidth": 0,
              "ticks": ""
             }
            },
            "type": "scatter3d"
           }
          ],
          "scattercarpet": [
           {
            "marker": {
             "colorbar": {
              "outlinewidth": 0,
              "ticks": ""
             }
            },
            "type": "scattercarpet"
           }
          ],
          "scattergeo": [
           {
            "marker": {
             "colorbar": {
              "outlinewidth": 0,
              "ticks": ""
             }
            },
            "type": "scattergeo"
           }
          ],
          "scattergl": [
           {
            "marker": {
             "colorbar": {
              "outlinewidth": 0,
              "ticks": ""
             }
            },
            "type": "scattergl"
           }
          ],
          "scattermapbox": [
           {
            "marker": {
             "colorbar": {
              "outlinewidth": 0,
              "ticks": ""
             }
            },
            "type": "scattermapbox"
           }
          ],
          "scatterpolar": [
           {
            "marker": {
             "colorbar": {
              "outlinewidth": 0,
              "ticks": ""
             }
            },
            "type": "scatterpolar"
           }
          ],
          "scatterpolargl": [
           {
            "marker": {
             "colorbar": {
              "outlinewidth": 0,
              "ticks": ""
             }
            },
            "type": "scatterpolargl"
           }
          ],
          "scatterternary": [
           {
            "marker": {
             "colorbar": {
              "outlinewidth": 0,
              "ticks": ""
             }
            },
            "type": "scatterternary"
           }
          ],
          "surface": [
           {
            "colorbar": {
             "outlinewidth": 0,
             "ticks": ""
            },
            "colorscale": [
             [
              0,
              "#0d0887"
             ],
             [
              0.1111111111111111,
              "#46039f"
             ],
             [
              0.2222222222222222,
              "#7201a8"
             ],
             [
              0.3333333333333333,
              "#9c179e"
             ],
             [
              0.4444444444444444,
              "#bd3786"
             ],
             [
              0.5555555555555556,
              "#d8576b"
             ],
             [
              0.6666666666666666,
              "#ed7953"
             ],
             [
              0.7777777777777778,
              "#fb9f3a"
             ],
             [
              0.8888888888888888,
              "#fdca26"
             ],
             [
              1,
              "#f0f921"
             ]
            ],
            "type": "surface"
           }
          ],
          "table": [
           {
            "cells": {
             "fill": {
              "color": "#EBF0F8"
             },
             "line": {
              "color": "white"
             }
            },
            "header": {
             "fill": {
              "color": "#C8D4E3"
             },
             "line": {
              "color": "white"
             }
            },
            "type": "table"
           }
          ]
         },
         "layout": {
          "annotationdefaults": {
           "arrowcolor": "#2a3f5f",
           "arrowhead": 0,
           "arrowwidth": 1
          },
          "autotypenumbers": "strict",
          "coloraxis": {
           "colorbar": {
            "outlinewidth": 0,
            "ticks": ""
           }
          },
          "colorscale": {
           "diverging": [
            [
             0,
             "#8e0152"
            ],
            [
             0.1,
             "#c51b7d"
            ],
            [
             0.2,
             "#de77ae"
            ],
            [
             0.3,
             "#f1b6da"
            ],
            [
             0.4,
             "#fde0ef"
            ],
            [
             0.5,
             "#f7f7f7"
            ],
            [
             0.6,
             "#e6f5d0"
            ],
            [
             0.7,
             "#b8e186"
            ],
            [
             0.8,
             "#7fbc41"
            ],
            [
             0.9,
             "#4d9221"
            ],
            [
             1,
             "#276419"
            ]
           ],
           "sequential": [
            [
             0,
             "#0d0887"
            ],
            [
             0.1111111111111111,
             "#46039f"
            ],
            [
             0.2222222222222222,
             "#7201a8"
            ],
            [
             0.3333333333333333,
             "#9c179e"
            ],
            [
             0.4444444444444444,
             "#bd3786"
            ],
            [
             0.5555555555555556,
             "#d8576b"
            ],
            [
             0.6666666666666666,
             "#ed7953"
            ],
            [
             0.7777777777777778,
             "#fb9f3a"
            ],
            [
             0.8888888888888888,
             "#fdca26"
            ],
            [
             1,
             "#f0f921"
            ]
           ],
           "sequentialminus": [
            [
             0,
             "#0d0887"
            ],
            [
             0.1111111111111111,
             "#46039f"
            ],
            [
             0.2222222222222222,
             "#7201a8"
            ],
            [
             0.3333333333333333,
             "#9c179e"
            ],
            [
             0.4444444444444444,
             "#bd3786"
            ],
            [
             0.5555555555555556,
             "#d8576b"
            ],
            [
             0.6666666666666666,
             "#ed7953"
            ],
            [
             0.7777777777777778,
             "#fb9f3a"
            ],
            [
             0.8888888888888888,
             "#fdca26"
            ],
            [
             1,
             "#f0f921"
            ]
           ]
          },
          "colorway": [
           "#636efa",
           "#EF553B",
           "#00cc96",
           "#ab63fa",
           "#FFA15A",
           "#19d3f3",
           "#FF6692",
           "#B6E880",
           "#FF97FF",
           "#FECB52"
          ],
          "font": {
           "color": "#2a3f5f"
          },
          "geo": {
           "bgcolor": "white",
           "lakecolor": "white",
           "landcolor": "#E5ECF6",
           "showlakes": true,
           "showland": true,
           "subunitcolor": "white"
          },
          "hoverlabel": {
           "align": "left"
          },
          "hovermode": "closest",
          "mapbox": {
           "style": "light"
          },
          "paper_bgcolor": "white",
          "plot_bgcolor": "#E5ECF6",
          "polar": {
           "angularaxis": {
            "gridcolor": "white",
            "linecolor": "white",
            "ticks": ""
           },
           "bgcolor": "#E5ECF6",
           "radialaxis": {
            "gridcolor": "white",
            "linecolor": "white",
            "ticks": ""
           }
          },
          "scene": {
           "xaxis": {
            "backgroundcolor": "#E5ECF6",
            "gridcolor": "white",
            "gridwidth": 2,
            "linecolor": "white",
            "showbackground": true,
            "ticks": "",
            "zerolinecolor": "white"
           },
           "yaxis": {
            "backgroundcolor": "#E5ECF6",
            "gridcolor": "white",
            "gridwidth": 2,
            "linecolor": "white",
            "showbackground": true,
            "ticks": "",
            "zerolinecolor": "white"
           },
           "zaxis": {
            "backgroundcolor": "#E5ECF6",
            "gridcolor": "white",
            "gridwidth": 2,
            "linecolor": "white",
            "showbackground": true,
            "ticks": "",
            "zerolinecolor": "white"
           }
          },
          "shapedefaults": {
           "line": {
            "color": "#2a3f5f"
           }
          },
          "ternary": {
           "aaxis": {
            "gridcolor": "white",
            "linecolor": "white",
            "ticks": ""
           },
           "baxis": {
            "gridcolor": "white",
            "linecolor": "white",
            "ticks": ""
           },
           "bgcolor": "#E5ECF6",
           "caxis": {
            "gridcolor": "white",
            "linecolor": "white",
            "ticks": ""
           }
          },
          "title": {
           "x": 0.05
          },
          "xaxis": {
           "automargin": true,
           "gridcolor": "white",
           "linecolor": "white",
           "ticks": "",
           "title": {
            "standoff": 15
           },
           "zerolinecolor": "white",
           "zerolinewidth": 2
          },
          "yaxis": {
           "automargin": true,
           "gridcolor": "white",
           "linecolor": "white",
           "ticks": "",
           "title": {
            "standoff": 15
           },
           "zerolinecolor": "white",
           "zerolinewidth": 2
          }
         }
        },
        "xaxis": {
         "anchor": "y",
         "domain": [
          0,
          1
         ],
         "title": {
          "text": "year"
         }
        },
        "yaxis": {
         "anchor": "x",
         "domain": [
          0,
          1
         ],
         "title": {
          "text": "Female"
         }
        }
       }
      },
      "text/html": [
       "<div>                            <div id=\"9a08a16b-1c57-4174-a8cd-ec84bd3b6852\" class=\"plotly-graph-div\" style=\"height:525px; width:100%;\"></div>            <script type=\"text/javascript\">                require([\"plotly\"], function(Plotly) {                    window.PLOTLYENV=window.PLOTLYENV || {};                                    if (document.getElementById(\"9a08a16b-1c57-4174-a8cd-ec84bd3b6852\")) {                    Plotly.newPlot(                        \"9a08a16b-1c57-4174-a8cd-ec84bd3b6852\",                        [{\"hovertemplate\": \"year=%{x}<br>Female=%{y}<extra></extra>\", \"legendgroup\": \"\", \"line\": {\"color\": \"#636efa\", \"dash\": \"solid\"}, \"mode\": \"lines\", \"name\": \"\", \"orientation\": \"v\", \"showlegend\": false, \"type\": \"scatter\", \"x\": [1900.0, 1901.0, 1902.0, 1903.0, 1904.0, 1905.0, 1906.0, 1907.0, 1908.0, 1909.0, 1910.0, 1911.0, 1912.0, 1913.0, 1914.0, 1915.0, 1916.0, 1917.0, 1918.0, 1919.0, 1920.0, 1921.0, 1922.0, 1923.0, 1924.0, 1925.0, 1926.0, 1927.0, 1928.0, 1929.0, 1930.0, 1931.0, 1932.0, 1933.0, 1934.0, 1935.0, 1936.0, 1937.0, 1938.0, 1939.0, 1940.0, 1941.0, 1942.0, 1943.0, 1944.0, 1945.0, 1946.0, 1947.0, 1948.0, 1949.0, 1950.0, 1951.0, 1952.0, 1953.0, 1954.0, 1955.0, 1956.0, 1957.0, 1958.0, 1959.0, 1960.0, 1961.0, 1962.0, 1963.0, 1964.0, 1965.0, 1966.0, 1967.0, 1968.0, 1969.0, 1970.0, 1971.0, 1972.0, 1973.0, 1974.0, 1975.0, 1976.0, 1977.0, 1978.0, 1979.0, 1980.0, 1981.0, 1982.0, 1983.0, 1984.0, 1985.0, 1986.0, 1987.0, 1988.0, 1989.0, 1990.0, 1991.0, 1992.0, 1993.0, 1994.0, 1995.0, 1996.0, 1997.0, 1998.0, 1999.0, 2000.0, 2001.0, 2002.0, 2003.0, 2004.0, 2005.0, 2006.0, 2007.0, 2008.0, 2009.0, 2010.0, 2011.0, 2012.0, 2013.0, 2014.0, 2015.0, 2016.0, 2017.0, 2018.0, 2019.0, 2020.0], \"xaxis\": \"x\", \"y\": [57.260126108023066, 56.784340707808475, 56.127654093046225, 55.769099503421444, 55.290816390444334, 54.65392673792205, 54.41828020209469, 53.98883087436929, 53.62624146271378, 53.25426807947825, 52.91934537929077, 52.772849606016145, 52.382444049980855, 52.29531480480787, 52.39278397957366, 51.884199023324115, 51.729044910211435, 51.58523170528694, 51.22948467806726, 51.08128649358128, 50.94544214979925, 51.223696572267066, 51.14073083472227, 50.98740412744823, 51.011728336299434, 50.819160726686725, 50.75539467144318, 50.4890309559043, 50.29412547996109, 50.19419574040702, 50.26281108950186, 50.22615523787839, 50.20721326164875, 50.18227756722613, 50.16255507542132, 50.22904185724968, 50.17106895634113, 50.03470201832547, 49.976040047601614, 50.08907557387093, 49.916775558459335, 49.73579472412197, 49.45237410394433, 49.41969688837022, 49.59717672683188, 49.55987596427636, 48.677800251209874, 48.66327828899621, 48.64412915489375, 48.77984994976346, 48.82461233849085, 48.809313645875264, 48.819286095335215, 48.834249453639096, 48.76942099887103, 48.97419094666801, 48.830638155096075, 48.88598479418118, 48.93358470265342, 48.84766237749743, 48.83177652626163, 48.90891933526981, 48.897888918880405, 48.94717419865418, 48.85229919774828, 48.85631734184073, 48.85762790287015, 48.83560872592569, 48.87500072200498, 48.81359985467489, 48.6872707602486, 48.74323617647868, 48.666003146370436, 48.70364654025811, 48.674844988048, 48.777339370390145, 48.75913337674663, 48.671781599379905, 48.704631504447384, 48.72395493131177, 48.73910044437474, 48.70479894531888, 48.71100919688418, 48.766551834097434, 48.82706985590763, 48.77382254904455, 48.770155075335786, 48.80552421172749, 48.75734566197675, 48.84934481972835, 48.676749185942384, 48.73132844618039, 48.65334616921092, 48.7394716259549, 48.72298759465827, 48.785575241854076, 48.58494393650971, 48.590932325843795, 48.73122542703274, 48.624273042968916, 48.65548394197924, 48.80789271160567, 48.708859660767715, 48.80246611713288, 48.68630780544122, 48.758045856187366, 48.78234305564402, 48.754274366214666, 48.725664977212006, 48.78154659720989, 48.787528868360276, 48.84324770565103, 48.72474087002224, 48.74409974487077, 48.8336803029923, 48.758204970272686, 48.73004936213186, 48.74691551525966, 48.6864730218319, 48.81776788120096, 48.79253806046212], \"yaxis\": \"y\"}],                        {\"legend\": {\"tracegroupgap\": 0}, \"margin\": {\"t\": 60}, \"template\": {\"data\": {\"bar\": [{\"error_x\": {\"color\": \"#2a3f5f\"}, \"error_y\": {\"color\": \"#2a3f5f\"}, \"marker\": {\"line\": {\"color\": \"#E5ECF6\", \"width\": 0.5}}, \"type\": \"bar\"}], \"barpolar\": [{\"marker\": {\"line\": {\"color\": \"#E5ECF6\", \"width\": 0.5}}, \"type\": \"barpolar\"}], \"carpet\": [{\"aaxis\": {\"endlinecolor\": \"#2a3f5f\", \"gridcolor\": \"white\", \"linecolor\": \"white\", \"minorgridcolor\": \"white\", \"startlinecolor\": \"#2a3f5f\"}, \"baxis\": {\"endlinecolor\": \"#2a3f5f\", \"gridcolor\": \"white\", \"linecolor\": \"white\", \"minorgridcolor\": \"white\", \"startlinecolor\": \"#2a3f5f\"}, \"type\": \"carpet\"}], \"choropleth\": [{\"colorbar\": {\"outlinewidth\": 0, \"ticks\": \"\"}, \"type\": \"choropleth\"}], \"contour\": [{\"colorbar\": {\"outlinewidth\": 0, \"ticks\": \"\"}, \"colorscale\": [[0.0, \"#0d0887\"], [0.1111111111111111, \"#46039f\"], [0.2222222222222222, \"#7201a8\"], [0.3333333333333333, \"#9c179e\"], [0.4444444444444444, \"#bd3786\"], [0.5555555555555556, \"#d8576b\"], [0.6666666666666666, \"#ed7953\"], [0.7777777777777778, \"#fb9f3a\"], [0.8888888888888888, \"#fdca26\"], [1.0, \"#f0f921\"]], \"type\": \"contour\"}], \"contourcarpet\": [{\"colorbar\": {\"outlinewidth\": 0, \"ticks\": \"\"}, \"type\": \"contourcarpet\"}], \"heatmap\": [{\"colorbar\": {\"outlinewidth\": 0, \"ticks\": \"\"}, \"colorscale\": [[0.0, \"#0d0887\"], [0.1111111111111111, \"#46039f\"], [0.2222222222222222, \"#7201a8\"], [0.3333333333333333, \"#9c179e\"], [0.4444444444444444, \"#bd3786\"], [0.5555555555555556, \"#d8576b\"], [0.6666666666666666, \"#ed7953\"], [0.7777777777777778, \"#fb9f3a\"], [0.8888888888888888, \"#fdca26\"], [1.0, \"#f0f921\"]], \"type\": \"heatmap\"}], \"heatmapgl\": [{\"colorbar\": {\"outlinewidth\": 0, \"ticks\": \"\"}, \"colorscale\": [[0.0, \"#0d0887\"], [0.1111111111111111, \"#46039f\"], [0.2222222222222222, \"#7201a8\"], [0.3333333333333333, \"#9c179e\"], [0.4444444444444444, \"#bd3786\"], [0.5555555555555556, \"#d8576b\"], [0.6666666666666666, \"#ed7953\"], [0.7777777777777778, \"#fb9f3a\"], [0.8888888888888888, \"#fdca26\"], [1.0, \"#f0f921\"]], \"type\": \"heatmapgl\"}], \"histogram\": [{\"marker\": {\"colorbar\": {\"outlinewidth\": 0, \"ticks\": \"\"}}, \"type\": \"histogram\"}], \"histogram2d\": [{\"colorbar\": {\"outlinewidth\": 0, \"ticks\": \"\"}, \"colorscale\": [[0.0, \"#0d0887\"], [0.1111111111111111, \"#46039f\"], [0.2222222222222222, \"#7201a8\"], [0.3333333333333333, \"#9c179e\"], [0.4444444444444444, \"#bd3786\"], [0.5555555555555556, \"#d8576b\"], [0.6666666666666666, \"#ed7953\"], [0.7777777777777778, \"#fb9f3a\"], [0.8888888888888888, \"#fdca26\"], [1.0, \"#f0f921\"]], \"type\": \"histogram2d\"}], \"histogram2dcontour\": [{\"colorbar\": {\"outlinewidth\": 0, \"ticks\": \"\"}, \"colorscale\": [[0.0, \"#0d0887\"], [0.1111111111111111, \"#46039f\"], [0.2222222222222222, \"#7201a8\"], [0.3333333333333333, \"#9c179e\"], [0.4444444444444444, \"#bd3786\"], [0.5555555555555556, \"#d8576b\"], [0.6666666666666666, \"#ed7953\"], [0.7777777777777778, \"#fb9f3a\"], [0.8888888888888888, \"#fdca26\"], [1.0, \"#f0f921\"]], \"type\": \"histogram2dcontour\"}], \"mesh3d\": [{\"colorbar\": {\"outlinewidth\": 0, \"ticks\": \"\"}, \"type\": \"mesh3d\"}], \"parcoords\": [{\"line\": {\"colorbar\": {\"outlinewidth\": 0, \"ticks\": \"\"}}, \"type\": \"parcoords\"}], \"pie\": [{\"automargin\": true, \"type\": \"pie\"}], \"scatter\": [{\"marker\": {\"colorbar\": {\"outlinewidth\": 0, \"ticks\": \"\"}}, \"type\": \"scatter\"}], \"scatter3d\": [{\"line\": {\"colorbar\": {\"outlinewidth\": 0, \"ticks\": \"\"}}, \"marker\": {\"colorbar\": {\"outlinewidth\": 0, \"ticks\": \"\"}}, \"type\": \"scatter3d\"}], \"scattercarpet\": [{\"marker\": {\"colorbar\": {\"outlinewidth\": 0, \"ticks\": \"\"}}, \"type\": \"scattercarpet\"}], \"scattergeo\": [{\"marker\": {\"colorbar\": {\"outlinewidth\": 0, \"ticks\": \"\"}}, \"type\": \"scattergeo\"}], \"scattergl\": [{\"marker\": {\"colorbar\": {\"outlinewidth\": 0, \"ticks\": \"\"}}, \"type\": \"scattergl\"}], \"scattermapbox\": [{\"marker\": {\"colorbar\": {\"outlinewidth\": 0, \"ticks\": \"\"}}, \"type\": \"scattermapbox\"}], \"scatterpolar\": [{\"marker\": {\"colorbar\": {\"outlinewidth\": 0, \"ticks\": \"\"}}, \"type\": \"scatterpolar\"}], \"scatterpolargl\": [{\"marker\": {\"colorbar\": {\"outlinewidth\": 0, \"ticks\": \"\"}}, \"type\": \"scatterpolargl\"}], \"scatterternary\": [{\"marker\": {\"colorbar\": {\"outlinewidth\": 0, \"ticks\": \"\"}}, \"type\": \"scatterternary\"}], \"surface\": [{\"colorbar\": {\"outlinewidth\": 0, \"ticks\": \"\"}, \"colorscale\": [[0.0, \"#0d0887\"], [0.1111111111111111, \"#46039f\"], [0.2222222222222222, \"#7201a8\"], [0.3333333333333333, \"#9c179e\"], [0.4444444444444444, \"#bd3786\"], [0.5555555555555556, \"#d8576b\"], [0.6666666666666666, \"#ed7953\"], [0.7777777777777778, \"#fb9f3a\"], [0.8888888888888888, \"#fdca26\"], [1.0, \"#f0f921\"]], \"type\": \"surface\"}], \"table\": [{\"cells\": {\"fill\": {\"color\": \"#EBF0F8\"}, \"line\": {\"color\": \"white\"}}, \"header\": {\"fill\": {\"color\": \"#C8D4E3\"}, \"line\": {\"color\": \"white\"}}, \"type\": \"table\"}]}, \"layout\": {\"annotationdefaults\": {\"arrowcolor\": \"#2a3f5f\", \"arrowhead\": 0, \"arrowwidth\": 1}, \"autotypenumbers\": \"strict\", \"coloraxis\": {\"colorbar\": {\"outlinewidth\": 0, \"ticks\": \"\"}}, \"colorscale\": {\"diverging\": [[0, \"#8e0152\"], [0.1, \"#c51b7d\"], [0.2, \"#de77ae\"], [0.3, \"#f1b6da\"], [0.4, \"#fde0ef\"], [0.5, \"#f7f7f7\"], [0.6, \"#e6f5d0\"], [0.7, \"#b8e186\"], [0.8, \"#7fbc41\"], [0.9, \"#4d9221\"], [1, \"#276419\"]], \"sequential\": [[0.0, \"#0d0887\"], [0.1111111111111111, \"#46039f\"], [0.2222222222222222, \"#7201a8\"], [0.3333333333333333, \"#9c179e\"], [0.4444444444444444, \"#bd3786\"], [0.5555555555555556, \"#d8576b\"], [0.6666666666666666, \"#ed7953\"], [0.7777777777777778, \"#fb9f3a\"], [0.8888888888888888, \"#fdca26\"], [1.0, \"#f0f921\"]], \"sequentialminus\": [[0.0, \"#0d0887\"], [0.1111111111111111, \"#46039f\"], [0.2222222222222222, \"#7201a8\"], [0.3333333333333333, \"#9c179e\"], [0.4444444444444444, \"#bd3786\"], [0.5555555555555556, \"#d8576b\"], [0.6666666666666666, \"#ed7953\"], [0.7777777777777778, \"#fb9f3a\"], [0.8888888888888888, \"#fdca26\"], [1.0, \"#f0f921\"]]}, \"colorway\": [\"#636efa\", \"#EF553B\", \"#00cc96\", \"#ab63fa\", \"#FFA15A\", \"#19d3f3\", \"#FF6692\", \"#B6E880\", \"#FF97FF\", \"#FECB52\"], \"font\": {\"color\": \"#2a3f5f\"}, \"geo\": {\"bgcolor\": \"white\", \"lakecolor\": \"white\", \"landcolor\": \"#E5ECF6\", \"showlakes\": true, \"showland\": true, \"subunitcolor\": \"white\"}, \"hoverlabel\": {\"align\": \"left\"}, \"hovermode\": \"closest\", \"mapbox\": {\"style\": \"light\"}, \"paper_bgcolor\": \"white\", \"plot_bgcolor\": \"#E5ECF6\", \"polar\": {\"angularaxis\": {\"gridcolor\": \"white\", \"linecolor\": \"white\", \"ticks\": \"\"}, \"bgcolor\": \"#E5ECF6\", \"radialaxis\": {\"gridcolor\": \"white\", \"linecolor\": \"white\", \"ticks\": \"\"}}, \"scene\": {\"xaxis\": {\"backgroundcolor\": \"#E5ECF6\", \"gridcolor\": \"white\", \"gridwidth\": 2, \"linecolor\": \"white\", \"showbackground\": true, \"ticks\": \"\", \"zerolinecolor\": \"white\"}, \"yaxis\": {\"backgroundcolor\": \"#E5ECF6\", \"gridcolor\": \"white\", \"gridwidth\": 2, \"linecolor\": \"white\", \"showbackground\": true, \"ticks\": \"\", \"zerolinecolor\": \"white\"}, \"zaxis\": {\"backgroundcolor\": \"#E5ECF6\", \"gridcolor\": \"white\", \"gridwidth\": 2, \"linecolor\": \"white\", \"showbackground\": true, \"ticks\": \"\", \"zerolinecolor\": \"white\"}}, \"shapedefaults\": {\"line\": {\"color\": \"#2a3f5f\"}}, \"ternary\": {\"aaxis\": {\"gridcolor\": \"white\", \"linecolor\": \"white\", \"ticks\": \"\"}, \"baxis\": {\"gridcolor\": \"white\", \"linecolor\": \"white\", \"ticks\": \"\"}, \"bgcolor\": \"#E5ECF6\", \"caxis\": {\"gridcolor\": \"white\", \"linecolor\": \"white\", \"ticks\": \"\"}}, \"title\": {\"x\": 0.05}, \"xaxis\": {\"automargin\": true, \"gridcolor\": \"white\", \"linecolor\": \"white\", \"ticks\": \"\", \"title\": {\"standoff\": 15}, \"zerolinecolor\": \"white\", \"zerolinewidth\": 2}, \"yaxis\": {\"automargin\": true, \"gridcolor\": \"white\", \"linecolor\": \"white\", \"ticks\": \"\", \"title\": {\"standoff\": 15}, \"zerolinecolor\": \"white\", \"zerolinewidth\": 2}}}, \"xaxis\": {\"anchor\": \"y\", \"domain\": [0.0, 1.0], \"title\": {\"text\": \"year\"}}, \"yaxis\": {\"anchor\": \"x\", \"domain\": [0.0, 1.0], \"title\": {\"text\": \"Female\"}}},                        {\"responsive\": true}                    ).then(function(){\n",
       "                            \n",
       "var gd = document.getElementById('9a08a16b-1c57-4174-a8cd-ec84bd3b6852');\n",
       "var x = new MutationObserver(function (mutations, observer) {{\n",
       "        var display = window.getComputedStyle(gd).display;\n",
       "        if (!display || display === 'none') {{\n",
       "            console.log([gd, 'removed!']);\n",
       "            Plotly.purge(gd);\n",
       "            observer.disconnect();\n",
       "        }}\n",
       "}});\n",
       "\n",
       "// Listen for the removal of the full notebook cells\n",
       "var notebookContainer = gd.closest('#notebook-container');\n",
       "if (notebookContainer) {{\n",
       "    x.observe(notebookContainer, {childList: true});\n",
       "}}\n",
       "\n",
       "// Listen for the clearing of the current output cell\n",
       "var outputEl = gd.closest('.output');\n",
       "if (outputEl) {{\n",
       "    x.observe(outputEl, {childList: true});\n",
       "}}\n",
       "\n",
       "                        })                };                });            </script>        </div>"
      ]
     },
     "metadata": {},
     "output_type": "display_data"
    }
   ],
   "source": [
    "# your code here\n",
    "\n",
    "gb1.unstack(1)['%'].reset_index().plot('year','Female')"
   ]
  },
  {
   "cell_type": "markdown",
   "metadata": {
    "nteract": {
     "transient": {
      "deleting": false
     }
    }
   },
   "source": [
    "**QUESTION:** Make any sensible comment about this plot.\n",
    "\n",
    "_Insert your answer here_\n",
    "\n",
    "> Une décroissance presque exponentielle de la proportion de naissances de filles entre 1900 et 1940 environ, passant de 57 à 50%. Il se stabilise vers les années 50 autout des 49%, proportion qui est toujours la même aujourd'hui. Passage from \"plus de naissances de filles que de garçons\" to \"naissances équilibrées\""
   ]
  },
  {
   "cell_type": "markdown",
   "metadata": {
    "nteract": {
     "transient": {
      "deleting": false
     }
    }
   },
   "source": [
    "**QUESTION:** Explore the fluctuations of sex ratio around its mean value since 1945.\n",
    "Plot deviations of sex ratio around its mean since 1945 as a function of time."
   ]
  },
  {
   "cell_type": "code",
   "execution_count": 66,
   "metadata": {
    "ExecuteTime": {
     "end_time": "2022-01-30T23:09:59.693609Z",
     "start_time": "2022-01-30T23:09:59.448820Z"
    },
    "jupyter": {
     "outputs_hidden": false,
     "source_hidden": false
    },
    "nteract": {
     "transient": {
      "deleting": false
     }
    }
   },
   "outputs": [
    {
     "data": {
      "application/vnd.plotly.v1+json": {
       "config": {
        "plotlyServerURL": "https://plot.ly"
       },
       "data": [
        {
         "alignmentgroup": "True",
         "hovertemplate": "year=%{x}<br>Female=%{y}<extra></extra>",
         "legendgroup": "",
         "marker": {
          "color": "#636efa"
         },
         "name": "",
         "offsetgroup": "",
         "orientation": "v",
         "showlegend": false,
         "textposition": "auto",
         "type": "bar",
         "x": [
          1900,
          1901,
          1902,
          1903,
          1904,
          1905,
          1906,
          1907,
          1908,
          1909,
          1910,
          1911,
          1912,
          1913,
          1914,
          1915,
          1916,
          1917,
          1918,
          1919,
          1920,
          1921,
          1922,
          1923,
          1924,
          1925,
          1926,
          1927,
          1928,
          1929,
          1930,
          1931,
          1932,
          1933,
          1934,
          1935,
          1936,
          1937,
          1938,
          1939,
          1940,
          1941,
          1942,
          1943,
          1944,
          1945,
          1946,
          1947,
          1948,
          1949,
          1950,
          1951,
          1952,
          1953,
          1954,
          1955,
          1956,
          1957,
          1958,
          1959,
          1960,
          1961,
          1962,
          1963,
          1964,
          1965,
          1966,
          1967,
          1968,
          1969,
          1970,
          1971,
          1972,
          1973,
          1974,
          1975,
          1976,
          1977,
          1978,
          1979,
          1980,
          1981,
          1982,
          1983,
          1984,
          1985,
          1986,
          1987,
          1988,
          1989,
          1990,
          1991,
          1992,
          1993,
          1994,
          1995,
          1996,
          1997,
          1998,
          1999,
          2000,
          2001,
          2002,
          2003,
          2004,
          2005,
          2006,
          2007,
          2008,
          2009,
          2010,
          2011,
          2012,
          2013,
          2014,
          2015,
          2016,
          2017,
          2018,
          2019,
          2020
         ],
         "xaxis": "x",
         "y": [
          8.482289013045964,
          8.006503612831374,
          7.349816998069123,
          6.991262408444342,
          6.5129792954672325,
          5.876089642944947,
          5.640443107117591,
          5.21099377939219,
          4.848404367736677,
          4.47643098450115,
          4.141508284313666,
          3.995012511039043,
          3.604606955003753,
          3.5174777098307715,
          3.6149468845965558,
          3.106361928347013,
          2.9512078152343335,
          2.807394610309835,
          2.451647583090157,
          2.3034493986041795,
          2.167605054822147,
          2.4458594772899644,
          2.362893739745168,
          2.209567032471128,
          2.2338912413223326,
          2.0413236317096235,
          1.9775575764660758,
          1.711193860927196,
          1.5162883849839872,
          1.4163586454299164,
          1.4849739945247578,
          1.448318142901286,
          1.429376166671645,
          1.4044404722490285,
          1.384717980444215,
          1.4512047622725817,
          1.393231861364029,
          1.2568649233483669,
          1.1982029526245128,
          1.3112384788938272,
          1.1389384634822335,
          0.9579576291448717,
          0.6745370089672278,
          0.6418597933931167,
          0.8193396318547812,
          0.7820388692992566,
          -0.10003684376722788,
          -0.11455880598089152,
          -0.13370794008335452,
          0.0020128547863578206,
          0.04677524351374984,
          0.03147655089816226,
          0.04144900035811361,
          0.05641235866199423,
          -0.008416096106074633,
          0.19635385169090824,
          0.05280106011897345,
          0.10814769920407485,
          0.155747607676318,
          0.06982528252032694,
          0.05393943128452605,
          0.13108224029270588,
          0.12005182390330305,
          0.16933710367707988,
          0.0744621027711787,
          0.0784802468636272,
          0.0797908078930476,
          0.057771630948586505,
          0.09716362702787507,
          0.03576275969778919,
          -0.09056633472849995,
          -0.03460091849841973,
          -0.11183394860666596,
          -0.07419055471898872,
          -0.10299210692910066,
          -0.0004977245869568492,
          -0.018703718230469235,
          -0.10605549559719663,
          -0.07320559052971731,
          -0.053882163665328164,
          -0.038736650602359646,
          -0.07303814965822397,
          -0.06682789809292444,
          -0.011285260879667192,
          0.049232760930529196,
          -0.004014545932548685,
          -0.0076820196413152075,
          0.0276871167503856,
          -0.020491433000351833,
          0.07150772475124967,
          -0.10108790903471743,
          -0.046508648796709906,
          -0.1244909257661817,
          -0.03836546902220306,
          -0.054849500318830735,
          0.007738146876974383,
          -0.19289315846739186,
          -0.18690476913330656,
          -0.04661166794436156,
          -0.15356405200818557,
          -0.12235315299786009,
          0.03005561662856593,
          -0.06897743420938696,
          0.024629022155778557,
          -0.09152928953588457,
          -0.0197912387897361,
          0.0045059606669184404,
          -0.02356272876243537,
          -0.052172117765096004,
          0.0037095022327875427,
          0.009691773383174507,
          0.06541061067392917,
          -0.05309622495486366,
          -0.03373735010632828,
          0.055843208015197376,
          -0.019632124704415332,
          -0.047787732845243625,
          -0.030921579717443137,
          -0.09136407314520056,
          0.03993078622385582,
          0.014700965485019424
         ],
         "yaxis": "y"
        }
       ],
       "layout": {
        "annotations": [
         {
          "showarrow": false,
          "text": "mean_since_1945",
          "x": 1,
          "xanchor": "right",
          "xref": "x domain",
          "y": 0,
          "yanchor": "bottom",
          "yref": "y"
         }
        ],
        "barmode": "relative",
        "legend": {
         "tracegroupgap": 0
        },
        "margin": {
         "t": 60
        },
        "shapes": [
         {
          "line": {
           "color": "green",
           "dash": "dash",
           "width": 3
          },
          "type": "line",
          "x0": 0,
          "x1": 1,
          "xref": "x domain",
          "y0": 0,
          "y1": 0,
          "yref": "y"
         }
        ],
        "template": {
         "data": {
          "bar": [
           {
            "error_x": {
             "color": "#2a3f5f"
            },
            "error_y": {
             "color": "#2a3f5f"
            },
            "marker": {
             "line": {
              "color": "#E5ECF6",
              "width": 0.5
             }
            },
            "type": "bar"
           }
          ],
          "barpolar": [
           {
            "marker": {
             "line": {
              "color": "#E5ECF6",
              "width": 0.5
             }
            },
            "type": "barpolar"
           }
          ],
          "carpet": [
           {
            "aaxis": {
             "endlinecolor": "#2a3f5f",
             "gridcolor": "white",
             "linecolor": "white",
             "minorgridcolor": "white",
             "startlinecolor": "#2a3f5f"
            },
            "baxis": {
             "endlinecolor": "#2a3f5f",
             "gridcolor": "white",
             "linecolor": "white",
             "minorgridcolor": "white",
             "startlinecolor": "#2a3f5f"
            },
            "type": "carpet"
           }
          ],
          "choropleth": [
           {
            "colorbar": {
             "outlinewidth": 0,
             "ticks": ""
            },
            "type": "choropleth"
           }
          ],
          "contour": [
           {
            "colorbar": {
             "outlinewidth": 0,
             "ticks": ""
            },
            "colorscale": [
             [
              0,
              "#0d0887"
             ],
             [
              0.1111111111111111,
              "#46039f"
             ],
             [
              0.2222222222222222,
              "#7201a8"
             ],
             [
              0.3333333333333333,
              "#9c179e"
             ],
             [
              0.4444444444444444,
              "#bd3786"
             ],
             [
              0.5555555555555556,
              "#d8576b"
             ],
             [
              0.6666666666666666,
              "#ed7953"
             ],
             [
              0.7777777777777778,
              "#fb9f3a"
             ],
             [
              0.8888888888888888,
              "#fdca26"
             ],
             [
              1,
              "#f0f921"
             ]
            ],
            "type": "contour"
           }
          ],
          "contourcarpet": [
           {
            "colorbar": {
             "outlinewidth": 0,
             "ticks": ""
            },
            "type": "contourcarpet"
           }
          ],
          "heatmap": [
           {
            "colorbar": {
             "outlinewidth": 0,
             "ticks": ""
            },
            "colorscale": [
             [
              0,
              "#0d0887"
             ],
             [
              0.1111111111111111,
              "#46039f"
             ],
             [
              0.2222222222222222,
              "#7201a8"
             ],
             [
              0.3333333333333333,
              "#9c179e"
             ],
             [
              0.4444444444444444,
              "#bd3786"
             ],
             [
              0.5555555555555556,
              "#d8576b"
             ],
             [
              0.6666666666666666,
              "#ed7953"
             ],
             [
              0.7777777777777778,
              "#fb9f3a"
             ],
             [
              0.8888888888888888,
              "#fdca26"
             ],
             [
              1,
              "#f0f921"
             ]
            ],
            "type": "heatmap"
           }
          ],
          "heatmapgl": [
           {
            "colorbar": {
             "outlinewidth": 0,
             "ticks": ""
            },
            "colorscale": [
             [
              0,
              "#0d0887"
             ],
             [
              0.1111111111111111,
              "#46039f"
             ],
             [
              0.2222222222222222,
              "#7201a8"
             ],
             [
              0.3333333333333333,
              "#9c179e"
             ],
             [
              0.4444444444444444,
              "#bd3786"
             ],
             [
              0.5555555555555556,
              "#d8576b"
             ],
             [
              0.6666666666666666,
              "#ed7953"
             ],
             [
              0.7777777777777778,
              "#fb9f3a"
             ],
             [
              0.8888888888888888,
              "#fdca26"
             ],
             [
              1,
              "#f0f921"
             ]
            ],
            "type": "heatmapgl"
           }
          ],
          "histogram": [
           {
            "marker": {
             "colorbar": {
              "outlinewidth": 0,
              "ticks": ""
             }
            },
            "type": "histogram"
           }
          ],
          "histogram2d": [
           {
            "colorbar": {
             "outlinewidth": 0,
             "ticks": ""
            },
            "colorscale": [
             [
              0,
              "#0d0887"
             ],
             [
              0.1111111111111111,
              "#46039f"
             ],
             [
              0.2222222222222222,
              "#7201a8"
             ],
             [
              0.3333333333333333,
              "#9c179e"
             ],
             [
              0.4444444444444444,
              "#bd3786"
             ],
             [
              0.5555555555555556,
              "#d8576b"
             ],
             [
              0.6666666666666666,
              "#ed7953"
             ],
             [
              0.7777777777777778,
              "#fb9f3a"
             ],
             [
              0.8888888888888888,
              "#fdca26"
             ],
             [
              1,
              "#f0f921"
             ]
            ],
            "type": "histogram2d"
           }
          ],
          "histogram2dcontour": [
           {
            "colorbar": {
             "outlinewidth": 0,
             "ticks": ""
            },
            "colorscale": [
             [
              0,
              "#0d0887"
             ],
             [
              0.1111111111111111,
              "#46039f"
             ],
             [
              0.2222222222222222,
              "#7201a8"
             ],
             [
              0.3333333333333333,
              "#9c179e"
             ],
             [
              0.4444444444444444,
              "#bd3786"
             ],
             [
              0.5555555555555556,
              "#d8576b"
             ],
             [
              0.6666666666666666,
              "#ed7953"
             ],
             [
              0.7777777777777778,
              "#fb9f3a"
             ],
             [
              0.8888888888888888,
              "#fdca26"
             ],
             [
              1,
              "#f0f921"
             ]
            ],
            "type": "histogram2dcontour"
           }
          ],
          "mesh3d": [
           {
            "colorbar": {
             "outlinewidth": 0,
             "ticks": ""
            },
            "type": "mesh3d"
           }
          ],
          "parcoords": [
           {
            "line": {
             "colorbar": {
              "outlinewidth": 0,
              "ticks": ""
             }
            },
            "type": "parcoords"
           }
          ],
          "pie": [
           {
            "automargin": true,
            "type": "pie"
           }
          ],
          "scatter": [
           {
            "marker": {
             "colorbar": {
              "outlinewidth": 0,
              "ticks": ""
             }
            },
            "type": "scatter"
           }
          ],
          "scatter3d": [
           {
            "line": {
             "colorbar": {
              "outlinewidth": 0,
              "ticks": ""
             }
            },
            "marker": {
             "colorbar": {
              "outlinewidth": 0,
              "ticks": ""
             }
            },
            "type": "scatter3d"
           }
          ],
          "scattercarpet": [
           {
            "marker": {
             "colorbar": {
              "outlinewidth": 0,
              "ticks": ""
             }
            },
            "type": "scattercarpet"
           }
          ],
          "scattergeo": [
           {
            "marker": {
             "colorbar": {
              "outlinewidth": 0,
              "ticks": ""
             }
            },
            "type": "scattergeo"
           }
          ],
          "scattergl": [
           {
            "marker": {
             "colorbar": {
              "outlinewidth": 0,
              "ticks": ""
             }
            },
            "type": "scattergl"
           }
          ],
          "scattermapbox": [
           {
            "marker": {
             "colorbar": {
              "outlinewidth": 0,
              "ticks": ""
             }
            },
            "type": "scattermapbox"
           }
          ],
          "scatterpolar": [
           {
            "marker": {
             "colorbar": {
              "outlinewidth": 0,
              "ticks": ""
             }
            },
            "type": "scatterpolar"
           }
          ],
          "scatterpolargl": [
           {
            "marker": {
             "colorbar": {
              "outlinewidth": 0,
              "ticks": ""
             }
            },
            "type": "scatterpolargl"
           }
          ],
          "scatterternary": [
           {
            "marker": {
             "colorbar": {
              "outlinewidth": 0,
              "ticks": ""
             }
            },
            "type": "scatterternary"
           }
          ],
          "surface": [
           {
            "colorbar": {
             "outlinewidth": 0,
             "ticks": ""
            },
            "colorscale": [
             [
              0,
              "#0d0887"
             ],
             [
              0.1111111111111111,
              "#46039f"
             ],
             [
              0.2222222222222222,
              "#7201a8"
             ],
             [
              0.3333333333333333,
              "#9c179e"
             ],
             [
              0.4444444444444444,
              "#bd3786"
             ],
             [
              0.5555555555555556,
              "#d8576b"
             ],
             [
              0.6666666666666666,
              "#ed7953"
             ],
             [
              0.7777777777777778,
              "#fb9f3a"
             ],
             [
              0.8888888888888888,
              "#fdca26"
             ],
             [
              1,
              "#f0f921"
             ]
            ],
            "type": "surface"
           }
          ],
          "table": [
           {
            "cells": {
             "fill": {
              "color": "#EBF0F8"
             },
             "line": {
              "color": "white"
             }
            },
            "header": {
             "fill": {
              "color": "#C8D4E3"
             },
             "line": {
              "color": "white"
             }
            },
            "type": "table"
           }
          ]
         },
         "layout": {
          "annotationdefaults": {
           "arrowcolor": "#2a3f5f",
           "arrowhead": 0,
           "arrowwidth": 1
          },
          "autotypenumbers": "strict",
          "coloraxis": {
           "colorbar": {
            "outlinewidth": 0,
            "ticks": ""
           }
          },
          "colorscale": {
           "diverging": [
            [
             0,
             "#8e0152"
            ],
            [
             0.1,
             "#c51b7d"
            ],
            [
             0.2,
             "#de77ae"
            ],
            [
             0.3,
             "#f1b6da"
            ],
            [
             0.4,
             "#fde0ef"
            ],
            [
             0.5,
             "#f7f7f7"
            ],
            [
             0.6,
             "#e6f5d0"
            ],
            [
             0.7,
             "#b8e186"
            ],
            [
             0.8,
             "#7fbc41"
            ],
            [
             0.9,
             "#4d9221"
            ],
            [
             1,
             "#276419"
            ]
           ],
           "sequential": [
            [
             0,
             "#0d0887"
            ],
            [
             0.1111111111111111,
             "#46039f"
            ],
            [
             0.2222222222222222,
             "#7201a8"
            ],
            [
             0.3333333333333333,
             "#9c179e"
            ],
            [
             0.4444444444444444,
             "#bd3786"
            ],
            [
             0.5555555555555556,
             "#d8576b"
            ],
            [
             0.6666666666666666,
             "#ed7953"
            ],
            [
             0.7777777777777778,
             "#fb9f3a"
            ],
            [
             0.8888888888888888,
             "#fdca26"
            ],
            [
             1,
             "#f0f921"
            ]
           ],
           "sequentialminus": [
            [
             0,
             "#0d0887"
            ],
            [
             0.1111111111111111,
             "#46039f"
            ],
            [
             0.2222222222222222,
             "#7201a8"
            ],
            [
             0.3333333333333333,
             "#9c179e"
            ],
            [
             0.4444444444444444,
             "#bd3786"
            ],
            [
             0.5555555555555556,
             "#d8576b"
            ],
            [
             0.6666666666666666,
             "#ed7953"
            ],
            [
             0.7777777777777778,
             "#fb9f3a"
            ],
            [
             0.8888888888888888,
             "#fdca26"
            ],
            [
             1,
             "#f0f921"
            ]
           ]
          },
          "colorway": [
           "#636efa",
           "#EF553B",
           "#00cc96",
           "#ab63fa",
           "#FFA15A",
           "#19d3f3",
           "#FF6692",
           "#B6E880",
           "#FF97FF",
           "#FECB52"
          ],
          "font": {
           "color": "#2a3f5f"
          },
          "geo": {
           "bgcolor": "white",
           "lakecolor": "white",
           "landcolor": "#E5ECF6",
           "showlakes": true,
           "showland": true,
           "subunitcolor": "white"
          },
          "hoverlabel": {
           "align": "left"
          },
          "hovermode": "closest",
          "mapbox": {
           "style": "light"
          },
          "paper_bgcolor": "white",
          "plot_bgcolor": "#E5ECF6",
          "polar": {
           "angularaxis": {
            "gridcolor": "white",
            "linecolor": "white",
            "ticks": ""
           },
           "bgcolor": "#E5ECF6",
           "radialaxis": {
            "gridcolor": "white",
            "linecolor": "white",
            "ticks": ""
           }
          },
          "scene": {
           "xaxis": {
            "backgroundcolor": "#E5ECF6",
            "gridcolor": "white",
            "gridwidth": 2,
            "linecolor": "white",
            "showbackground": true,
            "ticks": "",
            "zerolinecolor": "white"
           },
           "yaxis": {
            "backgroundcolor": "#E5ECF6",
            "gridcolor": "white",
            "gridwidth": 2,
            "linecolor": "white",
            "showbackground": true,
            "ticks": "",
            "zerolinecolor": "white"
           },
           "zaxis": {
            "backgroundcolor": "#E5ECF6",
            "gridcolor": "white",
            "gridwidth": 2,
            "linecolor": "white",
            "showbackground": true,
            "ticks": "",
            "zerolinecolor": "white"
           }
          },
          "shapedefaults": {
           "line": {
            "color": "#2a3f5f"
           }
          },
          "ternary": {
           "aaxis": {
            "gridcolor": "white",
            "linecolor": "white",
            "ticks": ""
           },
           "baxis": {
            "gridcolor": "white",
            "linecolor": "white",
            "ticks": ""
           },
           "bgcolor": "#E5ECF6",
           "caxis": {
            "gridcolor": "white",
            "linecolor": "white",
            "ticks": ""
           }
          },
          "title": {
           "x": 0.05
          },
          "xaxis": {
           "automargin": true,
           "gridcolor": "white",
           "linecolor": "white",
           "ticks": "",
           "title": {
            "standoff": 15
           },
           "zerolinecolor": "white",
           "zerolinewidth": 2
          },
          "yaxis": {
           "automargin": true,
           "gridcolor": "white",
           "linecolor": "white",
           "ticks": "",
           "title": {
            "standoff": 15
           },
           "zerolinecolor": "white",
           "zerolinewidth": 2
          }
         }
        },
        "xaxis": {
         "anchor": "y",
         "domain": [
          0,
          1
         ],
         "title": {
          "text": "year"
         }
        },
        "yaxis": {
         "anchor": "x",
         "domain": [
          0,
          1
         ],
         "title": {
          "text": "Female"
         }
        }
       }
      },
      "text/html": [
       "<div>                            <div id=\"abdd7ac5-1bb5-4d7c-8778-fa3a901c83f1\" class=\"plotly-graph-div\" style=\"height:525px; width:100%;\"></div>            <script type=\"text/javascript\">                require([\"plotly\"], function(Plotly) {                    window.PLOTLYENV=window.PLOTLYENV || {};                                    if (document.getElementById(\"abdd7ac5-1bb5-4d7c-8778-fa3a901c83f1\")) {                    Plotly.newPlot(                        \"abdd7ac5-1bb5-4d7c-8778-fa3a901c83f1\",                        [{\"alignmentgroup\": \"True\", \"hovertemplate\": \"year=%{x}<br>Female=%{y}<extra></extra>\", \"legendgroup\": \"\", \"marker\": {\"color\": \"#636efa\"}, \"name\": \"\", \"offsetgroup\": \"\", \"orientation\": \"v\", \"showlegend\": false, \"textposition\": \"auto\", \"type\": \"bar\", \"x\": [1900.0, 1901.0, 1902.0, 1903.0, 1904.0, 1905.0, 1906.0, 1907.0, 1908.0, 1909.0, 1910.0, 1911.0, 1912.0, 1913.0, 1914.0, 1915.0, 1916.0, 1917.0, 1918.0, 1919.0, 1920.0, 1921.0, 1922.0, 1923.0, 1924.0, 1925.0, 1926.0, 1927.0, 1928.0, 1929.0, 1930.0, 1931.0, 1932.0, 1933.0, 1934.0, 1935.0, 1936.0, 1937.0, 1938.0, 1939.0, 1940.0, 1941.0, 1942.0, 1943.0, 1944.0, 1945.0, 1946.0, 1947.0, 1948.0, 1949.0, 1950.0, 1951.0, 1952.0, 1953.0, 1954.0, 1955.0, 1956.0, 1957.0, 1958.0, 1959.0, 1960.0, 1961.0, 1962.0, 1963.0, 1964.0, 1965.0, 1966.0, 1967.0, 1968.0, 1969.0, 1970.0, 1971.0, 1972.0, 1973.0, 1974.0, 1975.0, 1976.0, 1977.0, 1978.0, 1979.0, 1980.0, 1981.0, 1982.0, 1983.0, 1984.0, 1985.0, 1986.0, 1987.0, 1988.0, 1989.0, 1990.0, 1991.0, 1992.0, 1993.0, 1994.0, 1995.0, 1996.0, 1997.0, 1998.0, 1999.0, 2000.0, 2001.0, 2002.0, 2003.0, 2004.0, 2005.0, 2006.0, 2007.0, 2008.0, 2009.0, 2010.0, 2011.0, 2012.0, 2013.0, 2014.0, 2015.0, 2016.0, 2017.0, 2018.0, 2019.0, 2020.0], \"xaxis\": \"x\", \"y\": [8.482289013045964, 8.006503612831374, 7.349816998069123, 6.991262408444342, 6.5129792954672325, 5.876089642944947, 5.640443107117591, 5.21099377939219, 4.848404367736677, 4.47643098450115, 4.141508284313666, 3.995012511039043, 3.604606955003753, 3.5174777098307715, 3.6149468845965558, 3.106361928347013, 2.9512078152343335, 2.807394610309835, 2.451647583090157, 2.3034493986041795, 2.167605054822147, 2.4458594772899644, 2.362893739745168, 2.209567032471128, 2.2338912413223326, 2.0413236317096235, 1.9775575764660758, 1.711193860927196, 1.5162883849839872, 1.4163586454299164, 1.4849739945247578, 1.448318142901286, 1.429376166671645, 1.4044404722490285, 1.384717980444215, 1.4512047622725817, 1.393231861364029, 1.2568649233483669, 1.1982029526245128, 1.3112384788938272, 1.1389384634822335, 0.9579576291448717, 0.6745370089672278, 0.6418597933931167, 0.8193396318547812, 0.7820388692992566, -0.10003684376722788, -0.11455880598089152, -0.13370794008335452, 0.0020128547863578206, 0.04677524351374984, 0.03147655089816226, 0.04144900035811361, 0.05641235866199423, -0.008416096106074633, 0.19635385169090824, 0.05280106011897345, 0.10814769920407485, 0.155747607676318, 0.06982528252032694, 0.05393943128452605, 0.13108224029270588, 0.12005182390330305, 0.16933710367707988, 0.0744621027711787, 0.0784802468636272, 0.0797908078930476, 0.057771630948586505, 0.09716362702787507, 0.03576275969778919, -0.09056633472849995, -0.03460091849841973, -0.11183394860666596, -0.07419055471898872, -0.10299210692910066, -0.0004977245869568492, -0.018703718230469235, -0.10605549559719663, -0.07320559052971731, -0.053882163665328164, -0.038736650602359646, -0.07303814965822397, -0.06682789809292444, -0.011285260879667192, 0.049232760930529196, -0.004014545932548685, -0.0076820196413152075, 0.0276871167503856, -0.020491433000351833, 0.07150772475124967, -0.10108790903471743, -0.046508648796709906, -0.1244909257661817, -0.03836546902220306, -0.054849500318830735, 0.007738146876974383, -0.19289315846739186, -0.18690476913330656, -0.04661166794436156, -0.15356405200818557, -0.12235315299786009, 0.03005561662856593, -0.06897743420938696, 0.024629022155778557, -0.09152928953588457, -0.0197912387897361, 0.0045059606669184404, -0.02356272876243537, -0.052172117765096004, 0.0037095022327875427, 0.009691773383174507, 0.06541061067392917, -0.05309622495486366, -0.03373735010632828, 0.055843208015197376, -0.019632124704415332, -0.047787732845243625, -0.030921579717443137, -0.09136407314520056, 0.03993078622385582, 0.014700965485019424], \"yaxis\": \"y\"}],                        {\"annotations\": [{\"showarrow\": false, \"text\": \"mean_since_1945\", \"x\": 1, \"xanchor\": \"right\", \"xref\": \"x domain\", \"y\": 0, \"yanchor\": \"bottom\", \"yref\": \"y\"}], \"barmode\": \"relative\", \"legend\": {\"tracegroupgap\": 0}, \"margin\": {\"t\": 60}, \"shapes\": [{\"line\": {\"color\": \"green\", \"dash\": \"dash\", \"width\": 3}, \"type\": \"line\", \"x0\": 0, \"x1\": 1, \"xref\": \"x domain\", \"y0\": 0, \"y1\": 0, \"yref\": \"y\"}], \"template\": {\"data\": {\"bar\": [{\"error_x\": {\"color\": \"#2a3f5f\"}, \"error_y\": {\"color\": \"#2a3f5f\"}, \"marker\": {\"line\": {\"color\": \"#E5ECF6\", \"width\": 0.5}}, \"type\": \"bar\"}], \"barpolar\": [{\"marker\": {\"line\": {\"color\": \"#E5ECF6\", \"width\": 0.5}}, \"type\": \"barpolar\"}], \"carpet\": [{\"aaxis\": {\"endlinecolor\": \"#2a3f5f\", \"gridcolor\": \"white\", \"linecolor\": \"white\", \"minorgridcolor\": \"white\", \"startlinecolor\": \"#2a3f5f\"}, \"baxis\": {\"endlinecolor\": \"#2a3f5f\", \"gridcolor\": \"white\", \"linecolor\": \"white\", \"minorgridcolor\": \"white\", \"startlinecolor\": \"#2a3f5f\"}, \"type\": \"carpet\"}], \"choropleth\": [{\"colorbar\": {\"outlinewidth\": 0, \"ticks\": \"\"}, \"type\": \"choropleth\"}], \"contour\": [{\"colorbar\": {\"outlinewidth\": 0, \"ticks\": \"\"}, \"colorscale\": [[0.0, \"#0d0887\"], [0.1111111111111111, \"#46039f\"], [0.2222222222222222, \"#7201a8\"], [0.3333333333333333, \"#9c179e\"], [0.4444444444444444, \"#bd3786\"], [0.5555555555555556, \"#d8576b\"], [0.6666666666666666, \"#ed7953\"], [0.7777777777777778, \"#fb9f3a\"], [0.8888888888888888, \"#fdca26\"], [1.0, \"#f0f921\"]], \"type\": \"contour\"}], \"contourcarpet\": [{\"colorbar\": {\"outlinewidth\": 0, \"ticks\": \"\"}, \"type\": \"contourcarpet\"}], \"heatmap\": [{\"colorbar\": {\"outlinewidth\": 0, \"ticks\": \"\"}, \"colorscale\": [[0.0, \"#0d0887\"], [0.1111111111111111, \"#46039f\"], [0.2222222222222222, \"#7201a8\"], [0.3333333333333333, \"#9c179e\"], [0.4444444444444444, \"#bd3786\"], [0.5555555555555556, \"#d8576b\"], [0.6666666666666666, \"#ed7953\"], [0.7777777777777778, \"#fb9f3a\"], [0.8888888888888888, \"#fdca26\"], [1.0, \"#f0f921\"]], \"type\": \"heatmap\"}], \"heatmapgl\": [{\"colorbar\": {\"outlinewidth\": 0, \"ticks\": \"\"}, \"colorscale\": [[0.0, \"#0d0887\"], [0.1111111111111111, \"#46039f\"], [0.2222222222222222, \"#7201a8\"], [0.3333333333333333, \"#9c179e\"], [0.4444444444444444, \"#bd3786\"], [0.5555555555555556, \"#d8576b\"], [0.6666666666666666, \"#ed7953\"], [0.7777777777777778, \"#fb9f3a\"], [0.8888888888888888, \"#fdca26\"], [1.0, \"#f0f921\"]], \"type\": \"heatmapgl\"}], \"histogram\": [{\"marker\": {\"colorbar\": {\"outlinewidth\": 0, \"ticks\": \"\"}}, \"type\": \"histogram\"}], \"histogram2d\": [{\"colorbar\": {\"outlinewidth\": 0, \"ticks\": \"\"}, \"colorscale\": [[0.0, \"#0d0887\"], [0.1111111111111111, \"#46039f\"], [0.2222222222222222, \"#7201a8\"], [0.3333333333333333, \"#9c179e\"], [0.4444444444444444, \"#bd3786\"], [0.5555555555555556, \"#d8576b\"], [0.6666666666666666, \"#ed7953\"], [0.7777777777777778, \"#fb9f3a\"], [0.8888888888888888, \"#fdca26\"], [1.0, \"#f0f921\"]], \"type\": \"histogram2d\"}], \"histogram2dcontour\": [{\"colorbar\": {\"outlinewidth\": 0, \"ticks\": \"\"}, \"colorscale\": [[0.0, \"#0d0887\"], [0.1111111111111111, \"#46039f\"], [0.2222222222222222, \"#7201a8\"], [0.3333333333333333, \"#9c179e\"], [0.4444444444444444, \"#bd3786\"], [0.5555555555555556, \"#d8576b\"], [0.6666666666666666, \"#ed7953\"], [0.7777777777777778, \"#fb9f3a\"], [0.8888888888888888, \"#fdca26\"], [1.0, \"#f0f921\"]], \"type\": \"histogram2dcontour\"}], \"mesh3d\": [{\"colorbar\": {\"outlinewidth\": 0, \"ticks\": \"\"}, \"type\": \"mesh3d\"}], \"parcoords\": [{\"line\": {\"colorbar\": {\"outlinewidth\": 0, \"ticks\": \"\"}}, \"type\": \"parcoords\"}], \"pie\": [{\"automargin\": true, \"type\": \"pie\"}], \"scatter\": [{\"marker\": {\"colorbar\": {\"outlinewidth\": 0, \"ticks\": \"\"}}, \"type\": \"scatter\"}], \"scatter3d\": [{\"line\": {\"colorbar\": {\"outlinewidth\": 0, \"ticks\": \"\"}}, \"marker\": {\"colorbar\": {\"outlinewidth\": 0, \"ticks\": \"\"}}, \"type\": \"scatter3d\"}], \"scattercarpet\": [{\"marker\": {\"colorbar\": {\"outlinewidth\": 0, \"ticks\": \"\"}}, \"type\": \"scattercarpet\"}], \"scattergeo\": [{\"marker\": {\"colorbar\": {\"outlinewidth\": 0, \"ticks\": \"\"}}, \"type\": \"scattergeo\"}], \"scattergl\": [{\"marker\": {\"colorbar\": {\"outlinewidth\": 0, \"ticks\": \"\"}}, \"type\": \"scattergl\"}], \"scattermapbox\": [{\"marker\": {\"colorbar\": {\"outlinewidth\": 0, \"ticks\": \"\"}}, \"type\": \"scattermapbox\"}], \"scatterpolar\": [{\"marker\": {\"colorbar\": {\"outlinewidth\": 0, \"ticks\": \"\"}}, \"type\": \"scatterpolar\"}], \"scatterpolargl\": [{\"marker\": {\"colorbar\": {\"outlinewidth\": 0, \"ticks\": \"\"}}, \"type\": \"scatterpolargl\"}], \"scatterternary\": [{\"marker\": {\"colorbar\": {\"outlinewidth\": 0, \"ticks\": \"\"}}, \"type\": \"scatterternary\"}], \"surface\": [{\"colorbar\": {\"outlinewidth\": 0, \"ticks\": \"\"}, \"colorscale\": [[0.0, \"#0d0887\"], [0.1111111111111111, \"#46039f\"], [0.2222222222222222, \"#7201a8\"], [0.3333333333333333, \"#9c179e\"], [0.4444444444444444, \"#bd3786\"], [0.5555555555555556, \"#d8576b\"], [0.6666666666666666, \"#ed7953\"], [0.7777777777777778, \"#fb9f3a\"], [0.8888888888888888, \"#fdca26\"], [1.0, \"#f0f921\"]], \"type\": \"surface\"}], \"table\": [{\"cells\": {\"fill\": {\"color\": \"#EBF0F8\"}, \"line\": {\"color\": \"white\"}}, \"header\": {\"fill\": {\"color\": \"#C8D4E3\"}, \"line\": {\"color\": \"white\"}}, \"type\": \"table\"}]}, \"layout\": {\"annotationdefaults\": {\"arrowcolor\": \"#2a3f5f\", \"arrowhead\": 0, \"arrowwidth\": 1}, \"autotypenumbers\": \"strict\", \"coloraxis\": {\"colorbar\": {\"outlinewidth\": 0, \"ticks\": \"\"}}, \"colorscale\": {\"diverging\": [[0, \"#8e0152\"], [0.1, \"#c51b7d\"], [0.2, \"#de77ae\"], [0.3, \"#f1b6da\"], [0.4, \"#fde0ef\"], [0.5, \"#f7f7f7\"], [0.6, \"#e6f5d0\"], [0.7, \"#b8e186\"], [0.8, \"#7fbc41\"], [0.9, \"#4d9221\"], [1, \"#276419\"]], \"sequential\": [[0.0, \"#0d0887\"], [0.1111111111111111, \"#46039f\"], [0.2222222222222222, \"#7201a8\"], [0.3333333333333333, \"#9c179e\"], [0.4444444444444444, \"#bd3786\"], [0.5555555555555556, \"#d8576b\"], [0.6666666666666666, \"#ed7953\"], [0.7777777777777778, \"#fb9f3a\"], [0.8888888888888888, \"#fdca26\"], [1.0, \"#f0f921\"]], \"sequentialminus\": [[0.0, \"#0d0887\"], [0.1111111111111111, \"#46039f\"], [0.2222222222222222, \"#7201a8\"], [0.3333333333333333, \"#9c179e\"], [0.4444444444444444, \"#bd3786\"], [0.5555555555555556, \"#d8576b\"], [0.6666666666666666, \"#ed7953\"], [0.7777777777777778, \"#fb9f3a\"], [0.8888888888888888, \"#fdca26\"], [1.0, \"#f0f921\"]]}, \"colorway\": [\"#636efa\", \"#EF553B\", \"#00cc96\", \"#ab63fa\", \"#FFA15A\", \"#19d3f3\", \"#FF6692\", \"#B6E880\", \"#FF97FF\", \"#FECB52\"], \"font\": {\"color\": \"#2a3f5f\"}, \"geo\": {\"bgcolor\": \"white\", \"lakecolor\": \"white\", \"landcolor\": \"#E5ECF6\", \"showlakes\": true, \"showland\": true, \"subunitcolor\": \"white\"}, \"hoverlabel\": {\"align\": \"left\"}, \"hovermode\": \"closest\", \"mapbox\": {\"style\": \"light\"}, \"paper_bgcolor\": \"white\", \"plot_bgcolor\": \"#E5ECF6\", \"polar\": {\"angularaxis\": {\"gridcolor\": \"white\", \"linecolor\": \"white\", \"ticks\": \"\"}, \"bgcolor\": \"#E5ECF6\", \"radialaxis\": {\"gridcolor\": \"white\", \"linecolor\": \"white\", \"ticks\": \"\"}}, \"scene\": {\"xaxis\": {\"backgroundcolor\": \"#E5ECF6\", \"gridcolor\": \"white\", \"gridwidth\": 2, \"linecolor\": \"white\", \"showbackground\": true, \"ticks\": \"\", \"zerolinecolor\": \"white\"}, \"yaxis\": {\"backgroundcolor\": \"#E5ECF6\", \"gridcolor\": \"white\", \"gridwidth\": 2, \"linecolor\": \"white\", \"showbackground\": true, \"ticks\": \"\", \"zerolinecolor\": \"white\"}, \"zaxis\": {\"backgroundcolor\": \"#E5ECF6\", \"gridcolor\": \"white\", \"gridwidth\": 2, \"linecolor\": \"white\", \"showbackground\": true, \"ticks\": \"\", \"zerolinecolor\": \"white\"}}, \"shapedefaults\": {\"line\": {\"color\": \"#2a3f5f\"}}, \"ternary\": {\"aaxis\": {\"gridcolor\": \"white\", \"linecolor\": \"white\", \"ticks\": \"\"}, \"baxis\": {\"gridcolor\": \"white\", \"linecolor\": \"white\", \"ticks\": \"\"}, \"bgcolor\": \"#E5ECF6\", \"caxis\": {\"gridcolor\": \"white\", \"linecolor\": \"white\", \"ticks\": \"\"}}, \"title\": {\"x\": 0.05}, \"xaxis\": {\"automargin\": true, \"gridcolor\": \"white\", \"linecolor\": \"white\", \"ticks\": \"\", \"title\": {\"standoff\": 15}, \"zerolinecolor\": \"white\", \"zerolinewidth\": 2}, \"yaxis\": {\"automargin\": true, \"gridcolor\": \"white\", \"linecolor\": \"white\", \"ticks\": \"\", \"title\": {\"standoff\": 15}, \"zerolinecolor\": \"white\", \"zerolinewidth\": 2}}}, \"xaxis\": {\"anchor\": \"y\", \"domain\": [0.0, 1.0], \"title\": {\"text\": \"year\"}}, \"yaxis\": {\"anchor\": \"x\", \"domain\": [0.0, 1.0], \"title\": {\"text\": \"Female\"}}},                        {\"responsive\": true}                    ).then(function(){\n",
       "                            \n",
       "var gd = document.getElementById('abdd7ac5-1bb5-4d7c-8778-fa3a901c83f1');\n",
       "var x = new MutationObserver(function (mutations, observer) {{\n",
       "        var display = window.getComputedStyle(gd).display;\n",
       "        if (!display || display === 'none') {{\n",
       "            console.log([gd, 'removed!']);\n",
       "            Plotly.purge(gd);\n",
       "            observer.disconnect();\n",
       "        }}\n",
       "}});\n",
       "\n",
       "// Listen for the removal of the full notebook cells\n",
       "var notebookContainer = gd.closest('#notebook-container');\n",
       "if (notebookContainer) {{\n",
       "    x.observe(notebookContainer, {childList: true});\n",
       "}}\n",
       "\n",
       "// Listen for the clearing of the current output cell\n",
       "var outputEl = gd.closest('.output');\n",
       "if (outputEl) {{\n",
       "    x.observe(outputEl, {childList: true});\n",
       "}}\n",
       "\n",
       "                        })                };                });            </script>        </div>"
      ]
     },
     "metadata": {},
     "output_type": "display_data"
    }
   ],
   "source": [
    "# your code here\n",
    "\n",
    "mean_sex_f = gb1.unstack(1).loc[1945:,('%','Female')].mean()\n",
    "__ = (gb1.unstack(1)['%']-mean_sex_f).reset_index().plot.bar('year','Female')\n",
    "__.add_hline(y=0, line_width=3, line_dash=\"dash\", line_color=\"green\", annotation_text=\"mean_since_1945\", annotation_position = \"top right\")"
   ]
  },
  {
   "cell_type": "markdown",
   "metadata": {
    "nteract": {
     "transient": {
      "deleting": false
     }
    }
   },
   "source": [
    "# Popular firstnames\n",
    "\n",
    "## The top-20 most popular firstnames since 1900\n",
    "\n",
    "**QUESTION:** For each firstname and sex (some names may be given to girls and boys), compute the total number of times this firstname has been given during `1900-2019`. Print the top 20 firstnames given and style your result dataframe using `background_gradient` for instance."
   ]
  },
  {
   "cell_type": "code",
   "execution_count": 67,
   "metadata": {
    "ExecuteTime": {
     "end_time": "2022-01-30T23:10:00.406143Z",
     "start_time": "2022-01-30T23:09:59.697742Z"
    },
    "jupyter": {
     "outputs_hidden": false,
     "source_hidden": false
    },
    "nteract": {
     "transient": {
      "deleting": false
     }
    }
   },
   "outputs": [
    {
     "data": {
      "text/html": [
       "<style type=\"text/css\">\n",
       "#T_72a46_row0_col0 {\n",
       "  background-color: #08306b;\n",
       "  color: #f1f1f1;\n",
       "}\n",
       "#T_72a46_row1_col0 {\n",
       "  background-color: #125da6;\n",
       "  color: #f1f1f1;\n",
       "}\n",
       "#T_72a46_row2_col0 {\n",
       "  background-color: #c2d9ee;\n",
       "  color: #000000;\n",
       "}\n",
       "#T_72a46_row3_col0 {\n",
       "  background-color: #cadef0;\n",
       "  color: #000000;\n",
       "}\n",
       "#T_72a46_row4_col0 {\n",
       "  background-color: #cbdef1;\n",
       "  color: #000000;\n",
       "}\n",
       "#T_72a46_row5_col0 {\n",
       "  background-color: #d0e2f2;\n",
       "  color: #000000;\n",
       "}\n",
       "#T_72a46_row6_col0 {\n",
       "  background-color: #d6e6f4;\n",
       "  color: #000000;\n",
       "}\n",
       "#T_72a46_row7_col0 {\n",
       "  background-color: #e7f1fa;\n",
       "  color: #000000;\n",
       "}\n",
       "#T_72a46_row8_col0 {\n",
       "  background-color: #eaf2fb;\n",
       "  color: #000000;\n",
       "}\n",
       "#T_72a46_row9_col0 {\n",
       "  background-color: #ebf3fb;\n",
       "  color: #000000;\n",
       "}\n",
       "#T_72a46_row10_col0 {\n",
       "  background-color: #ecf4fb;\n",
       "  color: #000000;\n",
       "}\n",
       "#T_72a46_row11_col0 {\n",
       "  background-color: #edf4fc;\n",
       "  color: #000000;\n",
       "}\n",
       "#T_72a46_row12_col0 {\n",
       "  background-color: #f0f6fd;\n",
       "  color: #000000;\n",
       "}\n",
       "#T_72a46_row13_col0 {\n",
       "  background-color: #f1f7fd;\n",
       "  color: #000000;\n",
       "}\n",
       "#T_72a46_row14_col0 {\n",
       "  background-color: #f2f7fd;\n",
       "  color: #000000;\n",
       "}\n",
       "#T_72a46_row15_col0 {\n",
       "  background-color: #f5f9fe;\n",
       "  color: #000000;\n",
       "}\n",
       "#T_72a46_row16_col0, #T_72a46_row17_col0, #T_72a46_row18_col0 {\n",
       "  background-color: #f6faff;\n",
       "  color: #000000;\n",
       "}\n",
       "#T_72a46_row19_col0 {\n",
       "  background-color: #f7fbff;\n",
       "  color: #000000;\n",
       "}\n",
       "</style>\n",
       "<table id=\"T_72a46\">\n",
       "  <thead>\n",
       "    <tr>\n",
       "      <th class=\"blank\" >&nbsp;</th>\n",
       "      <th class=\"blank level0\" >&nbsp;</th>\n",
       "      <th id=\"T_72a46_level0_col0\" class=\"col_heading level0 col0\" >count</th>\n",
       "    </tr>\n",
       "    <tr>\n",
       "      <th class=\"index_name level0\" >firstname</th>\n",
       "      <th class=\"index_name level1\" >gender</th>\n",
       "      <th class=\"blank col0\" >&nbsp;</th>\n",
       "    </tr>\n",
       "  </thead>\n",
       "  <tbody>\n",
       "    <tr>\n",
       "      <th id=\"T_72a46_level0_row0\" class=\"row_heading level0 row0\" >MARIE</th>\n",
       "      <th id=\"T_72a46_level1_row0\" class=\"row_heading level1 row0\" >Female</th>\n",
       "      <td id=\"T_72a46_row0_col0\" class=\"data row0 col0\" >2231586</td>\n",
       "    </tr>\n",
       "    <tr>\n",
       "      <th id=\"T_72a46_level0_row1\" class=\"row_heading level0 row1\" >JEAN</th>\n",
       "      <th id=\"T_72a46_level1_row1\" class=\"row_heading level1 row1\" >Male</th>\n",
       "      <td id=\"T_72a46_row1_col0\" class=\"data row1 col0\" >1913439</td>\n",
       "    </tr>\n",
       "    <tr>\n",
       "      <th id=\"T_72a46_level0_row2\" class=\"row_heading level0 row2\" >PIERRE</th>\n",
       "      <th id=\"T_72a46_level1_row2\" class=\"row_heading level1 row2\" >Male</th>\n",
       "      <td id=\"T_72a46_row2_col0\" class=\"data row2 col0\" >891177</td>\n",
       "    </tr>\n",
       "    <tr>\n",
       "      <th id=\"T_72a46_level0_row3\" class=\"row_heading level0 row3\" >_PRENOMS_RARES</th>\n",
       "      <th id=\"T_72a46_level1_row3\" class=\"row_heading level1 row3\" >Female</th>\n",
       "      <td id=\"T_72a46_row3_col0\" class=\"data row3 col0\" >826278</td>\n",
       "    </tr>\n",
       "    <tr>\n",
       "      <th id=\"T_72a46_level0_row4\" class=\"row_heading level0 row4\" >MICHEL</th>\n",
       "      <th id=\"T_72a46_level1_row4\" class=\"row_heading level1 row4\" >Male</th>\n",
       "      <td id=\"T_72a46_row4_col0\" class=\"data row4 col0\" >820288</td>\n",
       "    </tr>\n",
       "    <tr>\n",
       "      <th id=\"T_72a46_level0_row5\" class=\"row_heading level0 row5\" >_PRENOMS_RARES</th>\n",
       "      <th id=\"T_72a46_level1_row5\" class=\"row_heading level1 row5\" >Male</th>\n",
       "      <td id=\"T_72a46_row5_col0\" class=\"data row5 col0\" >773079</td>\n",
       "    </tr>\n",
       "    <tr>\n",
       "      <th id=\"T_72a46_level0_row6\" class=\"row_heading level0 row6\" >ANDRÉ</th>\n",
       "      <th id=\"T_72a46_level1_row6\" class=\"row_heading level1 row6\" >Male</th>\n",
       "      <td id=\"T_72a46_row6_col0\" class=\"data row6 col0\" >711845</td>\n",
       "    </tr>\n",
       "    <tr>\n",
       "      <th id=\"T_72a46_level0_row7\" class=\"row_heading level0 row7\" >JEANNE</th>\n",
       "      <th id=\"T_72a46_level1_row7\" class=\"row_heading level1 row7\" >Female</th>\n",
       "      <td id=\"T_72a46_row7_col0\" class=\"data row7 col0\" >557620</td>\n",
       "    </tr>\n",
       "    <tr>\n",
       "      <th id=\"T_72a46_level0_row8\" class=\"row_heading level0 row8\" >PHILIPPE</th>\n",
       "      <th id=\"T_72a46_level1_row8\" class=\"row_heading level1 row8\" >Male</th>\n",
       "      <td id=\"T_72a46_row8_col0\" class=\"data row8 col0\" >538427</td>\n",
       "    </tr>\n",
       "    <tr>\n",
       "      <th id=\"T_72a46_level0_row9\" class=\"row_heading level0 row9\" >LOUIS</th>\n",
       "      <th id=\"T_72a46_level1_row9\" class=\"row_heading level1 row9\" >Male</th>\n",
       "      <td id=\"T_72a46_row9_col0\" class=\"data row9 col0\" >521436</td>\n",
       "    </tr>\n",
       "    <tr>\n",
       "      <th id=\"T_72a46_level0_row10\" class=\"row_heading level0 row10\" >RENÉ</th>\n",
       "      <th id=\"T_72a46_level1_row10\" class=\"row_heading level1 row10\" >Male</th>\n",
       "      <td id=\"T_72a46_row10_col0\" class=\"data row10 col0\" >516225</td>\n",
       "    </tr>\n",
       "    <tr>\n",
       "      <th id=\"T_72a46_level0_row11\" class=\"row_heading level0 row11\" >ALAIN</th>\n",
       "      <th id=\"T_72a46_level1_row11\" class=\"row_heading level1 row11\" >Male</th>\n",
       "      <td id=\"T_72a46_row11_col0\" class=\"data row11 col0\" >506888</td>\n",
       "    </tr>\n",
       "    <tr>\n",
       "      <th id=\"T_72a46_level0_row12\" class=\"row_heading level0 row12\" >JACQUES</th>\n",
       "      <th id=\"T_72a46_level1_row12\" class=\"row_heading level1 row12\" >Male</th>\n",
       "      <td id=\"T_72a46_row12_col0\" class=\"data row12 col0\" >482701</td>\n",
       "    </tr>\n",
       "    <tr>\n",
       "      <th id=\"T_72a46_level0_row13\" class=\"row_heading level0 row13\" >BERNARD</th>\n",
       "      <th id=\"T_72a46_level1_row13\" class=\"row_heading level1 row13\" >Male</th>\n",
       "      <td id=\"T_72a46_row13_col0\" class=\"data row13 col0\" >469254</td>\n",
       "    </tr>\n",
       "    <tr>\n",
       "      <th id=\"T_72a46_level0_row14\" class=\"row_heading level0 row14\" >MARCEL</th>\n",
       "      <th id=\"T_72a46_level1_row14\" class=\"row_heading level1 row14\" >Male</th>\n",
       "      <td id=\"T_72a46_row14_col0\" class=\"data row14 col0\" >468120</td>\n",
       "    </tr>\n",
       "    <tr>\n",
       "      <th id=\"T_72a46_level0_row15\" class=\"row_heading level0 row15\" >DANIEL</th>\n",
       "      <th id=\"T_72a46_level1_row15\" class=\"row_heading level1 row15\" >Male</th>\n",
       "      <td id=\"T_72a46_row15_col0\" class=\"data row15 col0\" >435278</td>\n",
       "    </tr>\n",
       "    <tr>\n",
       "      <th id=\"T_72a46_level0_row16\" class=\"row_heading level0 row16\" >ROGER</th>\n",
       "      <th id=\"T_72a46_level1_row16\" class=\"row_heading level1 row16\" >Male</th>\n",
       "      <td id=\"T_72a46_row16_col0\" class=\"data row16 col0\" >423583</td>\n",
       "    </tr>\n",
       "    <tr>\n",
       "      <th id=\"T_72a46_level0_row17\" class=\"row_heading level0 row17\" >ROBERT</th>\n",
       "      <th id=\"T_72a46_level1_row17\" class=\"row_heading level1 row17\" >Male</th>\n",
       "      <td id=\"T_72a46_row17_col0\" class=\"data row17 col0\" >419096</td>\n",
       "    </tr>\n",
       "    <tr>\n",
       "      <th id=\"T_72a46_level0_row18\" class=\"row_heading level0 row18\" >PAUL</th>\n",
       "      <th id=\"T_72a46_level1_row18\" class=\"row_heading level1 row18\" >Male</th>\n",
       "      <td id=\"T_72a46_row18_col0\" class=\"data row18 col0\" >419012</td>\n",
       "    </tr>\n",
       "    <tr>\n",
       "      <th id=\"T_72a46_level0_row19\" class=\"row_heading level0 row19\" >CLAUDE</th>\n",
       "      <th id=\"T_72a46_level1_row19\" class=\"row_heading level1 row19\" >Male</th>\n",
       "      <td id=\"T_72a46_row19_col0\" class=\"data row19 col0\" >411726</td>\n",
       "    </tr>\n",
       "  </tbody>\n",
       "</table>\n"
      ],
      "text/plain": [
       "<pandas.io.formats.style.Styler at 0x7f340c70f250>"
      ]
     },
     "execution_count": 67,
     "metadata": {},
     "output_type": "execute_result"
    }
   ],
   "source": [
    "# your code here\n",
    "\n",
    "(\n",
    "    df.loc[(df.year>1899) & (df.year<2020)].groupby(['firstname','gender'])\n",
    "    .agg({'count':'sum'})\n",
    "    .sort_values('count',ascending=False)\n",
    "    .head(20)\n",
    "    .style.background_gradient(cmap='Blues')\n",
    ")"
   ]
  },
  {
   "cell_type": "markdown",
   "metadata": {
    "nteract": {
     "transient": {
      "deleting": false
     }
    }
   },
   "source": [
    "## Rare firstnames\n",
    "\n",
    "**QUESTION:** For each sex, plot the proportion of births given `_PRENOMS_RARES` as a function of the year."
   ]
  },
  {
   "cell_type": "code",
   "execution_count": 68,
   "metadata": {
    "ExecuteTime": {
     "end_time": "2022-01-30T23:10:00.552700Z",
     "start_time": "2022-01-30T23:10:00.410607Z"
    }
   },
   "outputs": [],
   "source": [
    "gb2 = (\n",
    "    df.loc[df.firstname=='_PRENOMS_RARES']\n",
    "    .groupby(['gender','year'])\n",
    "    .agg({'count':'sum'})\n",
    ")\n",
    "\n",
    "gb2['%'] = 100*gb2['count']/gb2.groupby(level=1)['count'].sum()"
   ]
  },
  {
   "cell_type": "code",
   "execution_count": 69,
   "metadata": {
    "ExecuteTime": {
     "end_time": "2022-01-30T23:10:00.755448Z",
     "start_time": "2022-01-30T23:10:00.556393Z"
    }
   },
   "outputs": [
    {
     "data": {
      "application/vnd.plotly.v1+json": {
       "config": {
        "plotlyServerURL": "https://plot.ly"
       },
       "data": [
        {
         "hovertemplate": "variable=Female<br>year=%{x}<br>value=%{y}<extra></extra>",
         "legendgroup": "Female",
         "line": {
          "color": "#636efa",
          "dash": "solid"
         },
         "mode": "lines",
         "name": "Female",
         "orientation": "v",
         "showlegend": true,
         "type": "scatter",
         "x": [
          1900,
          1901,
          1902,
          1903,
          1904,
          1905,
          1906,
          1907,
          1908,
          1909,
          1910,
          1911,
          1912,
          1913,
          1914,
          1915,
          1916,
          1917,
          1918,
          1919,
          1920,
          1921,
          1922,
          1923,
          1924,
          1925,
          1926,
          1927,
          1928,
          1929,
          1930,
          1931,
          1932,
          1933,
          1934,
          1935,
          1936,
          1937,
          1938,
          1939,
          1940,
          1941,
          1942,
          1943,
          1944,
          1945,
          1946,
          1947,
          1948,
          1949,
          1950,
          1951,
          1952,
          1953,
          1954,
          1955,
          1956,
          1957,
          1958,
          1959,
          1960,
          1961,
          1962,
          1963,
          1964,
          1965,
          1966,
          1967,
          1968,
          1969,
          1970,
          1971,
          1972,
          1973,
          1974,
          1975,
          1976,
          1977,
          1978,
          1979,
          1980,
          1981,
          1982,
          1983,
          1984,
          1985,
          1986,
          1987,
          1988,
          1989,
          1990,
          1991,
          1992,
          1993,
          1994,
          1995,
          1996,
          1997,
          1998,
          1999,
          2000,
          2001,
          2002,
          2003,
          2004,
          2005,
          2006,
          2007,
          2008,
          2009,
          2010,
          2011,
          2012,
          2013,
          2014,
          2015,
          2016,
          2017,
          2018,
          2019,
          2020
         ],
         "xaxis": "x",
         "y": [
          58.01142089351696,
          56.93196405648267,
          56.79012345679013,
          57.82223679895048,
          55.891425046267734,
          55.35335153169548,
          55.257477644156644,
          54.07946618137701,
          56.53801843317972,
          55.380116959064324,
          53.786407766990294,
          55.14978601997147,
          55.4940492665375,
          55.921956581478426,
          54.7207258293167,
          54.432289701999245,
          55.04385964912281,
          55.15625,
          55.18977536793184,
          56.84960201089233,
          56.029790890862216,
          55.67434210526316,
          54.84796328169822,
          54.96735074626866,
          52.91095890410959,
          52.976190476190474,
          53.236142262095484,
          53.705601092896174,
          53.60118496574708,
          52.69878119558909,
          52.183366551911575,
          52.24403927068724,
          52.840690978886755,
          52.94117647058823,
          51.36169255007878,
          53.72437062029587,
          54.005524861878456,
          52.82037239868565,
          52.205683355886336,
          55.10044351682755,
          53.444737613603046,
          54.99836119305146,
          54.99098015634396,
          53.863013698630134,
          54.78155339805825,
          56.28815628815629,
          54.73902882368216,
          53.85424888187319,
          55.673027333677155,
          54.08774874130904,
          54.11165160991429,
          53.63481643569171,
          53.17877629063098,
          53.377757352941174,
          53.221099887766556,
          55.19281332164768,
          52.20970537261699,
          52.3847856711612,
          51.40410276837284,
          50.614754098360656,
          51.846714062770936,
          51.65989159891599,
          49.93457638207393,
          50.75151902782219,
          50.373549515180414,
          48.781945897474216,
          50.874547647768395,
          49.41431670281996,
          50.78706353749285,
          49.855670103092784,
          50.34534723094311,
          49.62321448655944,
          48.776840081187906,
          48.50761421319797,
          48.188760524769926,
          48.76706945672463,
          49.1887355464379,
          49.31566941568696,
          48.86474935446532,
          49.45082376435347,
          48.678431070355245,
          49.60940299577152,
          48.946373091989734,
          49.146643464292886,
          49.767258899888546,
          49.313662604233485,
          49.76744186046512,
          49.77183623626197,
          50.16656384947563,
          49.8675815577224,
          50.0788045064503,
          50.13504970978679,
          50.103643901374646,
          50.506835785205595,
          50.38284062674307,
          51.32555148877238,
          51.663460184881046,
          52.054982190154355,
          52.38909308487905,
          51.82829236262158,
          51.90952489202091,
          52.536732164984954,
          51.62482519810881,
          51.91096701789388,
          51.87358391913089,
          51.81011681728014,
          51.820296369861225,
          51.96926521473642,
          51.65149349183658,
          51.75229424091336,
          51.38763333935997,
          52.56036368314963,
          52.07407255669132,
          52.38715985008962,
          52.060890401304796,
          52.08383911952739,
          51.794296699775714,
          51.64767903330898,
          51.65910020848352,
          51.57674234275038,
          51.5683837578141
         ],
         "yaxis": "y"
        },
        {
         "hovertemplate": "variable=Male<br>year=%{x}<br>value=%{y}<extra></extra>",
         "legendgroup": "Male",
         "line": {
          "color": "#EF553B",
          "dash": "solid"
         },
         "mode": "lines",
         "name": "Male",
         "orientation": "v",
         "showlegend": true,
         "type": "scatter",
         "x": [
          1900,
          1901,
          1902,
          1903,
          1904,
          1905,
          1906,
          1907,
          1908,
          1909,
          1910,
          1911,
          1912,
          1913,
          1914,
          1915,
          1916,
          1917,
          1918,
          1919,
          1920,
          1921,
          1922,
          1923,
          1924,
          1925,
          1926,
          1927,
          1928,
          1929,
          1930,
          1931,
          1932,
          1933,
          1934,
          1935,
          1936,
          1937,
          1938,
          1939,
          1940,
          1941,
          1942,
          1943,
          1944,
          1945,
          1946,
          1947,
          1948,
          1949,
          1950,
          1951,
          1952,
          1953,
          1954,
          1955,
          1956,
          1957,
          1958,
          1959,
          1960,
          1961,
          1962,
          1963,
          1964,
          1965,
          1966,
          1967,
          1968,
          1969,
          1970,
          1971,
          1972,
          1973,
          1974,
          1975,
          1976,
          1977,
          1978,
          1979,
          1980,
          1981,
          1982,
          1983,
          1984,
          1985,
          1986,
          1987,
          1988,
          1989,
          1990,
          1991,
          1992,
          1993,
          1994,
          1995,
          1996,
          1997,
          1998,
          1999,
          2000,
          2001,
          2002,
          2003,
          2004,
          2005,
          2006,
          2007,
          2008,
          2009,
          2010,
          2011,
          2012,
          2013,
          2014,
          2015,
          2016,
          2017,
          2018,
          2019,
          2020
         ],
         "xaxis": "x",
         "y": [
          41.98857910648304,
          43.06803594351733,
          43.20987654320987,
          42.17776320104952,
          44.108574953732266,
          44.64664846830452,
          44.742522355843356,
          45.92053381862299,
          43.46198156682028,
          44.619883040935676,
          46.213592233009706,
          44.85021398002853,
          44.5059507334625,
          44.078043418521574,
          45.2792741706833,
          45.567710298000755,
          44.95614035087719,
          44.84375,
          44.81022463206816,
          43.15039798910767,
          43.970209109137784,
          44.32565789473684,
          45.15203671830178,
          45.03264925373134,
          47.08904109589041,
          47.023809523809526,
          46.763857737904516,
          46.294398907103826,
          46.39881503425292,
          47.30121880441091,
          47.816633448088425,
          47.75596072931276,
          47.159309021113245,
          47.05882352941177,
          48.63830744992122,
          46.27562937970413,
          45.994475138121544,
          47.17962760131435,
          47.794316644113664,
          44.89955648317245,
          46.555262386396954,
          45.00163880694854,
          45.00901984365604,
          46.136986301369866,
          45.21844660194175,
          43.71184371184371,
          45.26097117631784,
          46.14575111812681,
          44.326972666322845,
          45.91225125869096,
          45.88834839008571,
          46.36518356430829,
          46.82122370936902,
          46.622242647058826,
          46.778900112233444,
          44.80718667835232,
          47.79029462738301,
          47.6152143288388,
          48.59589723162716,
          49.385245901639344,
          48.153285937229064,
          48.34010840108401,
          50.06542361792607,
          49.24848097217781,
          49.626450484819586,
          51.218054102525784,
          49.125452352231605,
          50.58568329718004,
          49.21293646250715,
          50.144329896907216,
          49.65465276905689,
          50.37678551344056,
          51.223159918812094,
          51.49238578680203,
          51.811239475230074,
          51.23293054327537,
          50.8112644535621,
          50.68433058431304,
          51.13525064553468,
          50.54917623564653,
          51.321568929644755,
          50.39059700422848,
          51.053626908010266,
          50.853356535707114,
          50.232741100111454,
          50.686337395766515,
          50.23255813953488,
          50.22816376373803,
          49.83343615052437,
          50.1324184422776,
          49.9211954935497,
          49.86495029021321,
          49.896356098625354,
          49.493164214794405,
          49.61715937325693,
          48.67444851122762,
          48.336539815118954,
          47.945017809845645,
          47.61090691512095,
          48.17170763737842,
          48.09047510797909,
          47.463267835015046,
          48.37517480189119,
          48.08903298210612,
          48.12641608086911,
          48.18988318271986,
          48.179703630138775,
          48.03073478526358,
          48.34850650816342,
          48.24770575908664,
          48.61236666064003,
          47.43963631685037,
          47.92592744330868,
          47.61284014991038,
          47.939109598695204,
          47.91616088047261,
          48.205703300224286,
          48.35232096669102,
          48.34089979151648,
          48.42325765724962,
          48.4316162421859
         ],
         "yaxis": "y"
        }
       ],
       "layout": {
        "legend": {
         "title": {
          "text": "variable"
         },
         "tracegroupgap": 0
        },
        "margin": {
         "t": 60
        },
        "template": {
         "data": {
          "bar": [
           {
            "error_x": {
             "color": "#2a3f5f"
            },
            "error_y": {
             "color": "#2a3f5f"
            },
            "marker": {
             "line": {
              "color": "#E5ECF6",
              "width": 0.5
             }
            },
            "type": "bar"
           }
          ],
          "barpolar": [
           {
            "marker": {
             "line": {
              "color": "#E5ECF6",
              "width": 0.5
             }
            },
            "type": "barpolar"
           }
          ],
          "carpet": [
           {
            "aaxis": {
             "endlinecolor": "#2a3f5f",
             "gridcolor": "white",
             "linecolor": "white",
             "minorgridcolor": "white",
             "startlinecolor": "#2a3f5f"
            },
            "baxis": {
             "endlinecolor": "#2a3f5f",
             "gridcolor": "white",
             "linecolor": "white",
             "minorgridcolor": "white",
             "startlinecolor": "#2a3f5f"
            },
            "type": "carpet"
           }
          ],
          "choropleth": [
           {
            "colorbar": {
             "outlinewidth": 0,
             "ticks": ""
            },
            "type": "choropleth"
           }
          ],
          "contour": [
           {
            "colorbar": {
             "outlinewidth": 0,
             "ticks": ""
            },
            "colorscale": [
             [
              0,
              "#0d0887"
             ],
             [
              0.1111111111111111,
              "#46039f"
             ],
             [
              0.2222222222222222,
              "#7201a8"
             ],
             [
              0.3333333333333333,
              "#9c179e"
             ],
             [
              0.4444444444444444,
              "#bd3786"
             ],
             [
              0.5555555555555556,
              "#d8576b"
             ],
             [
              0.6666666666666666,
              "#ed7953"
             ],
             [
              0.7777777777777778,
              "#fb9f3a"
             ],
             [
              0.8888888888888888,
              "#fdca26"
             ],
             [
              1,
              "#f0f921"
             ]
            ],
            "type": "contour"
           }
          ],
          "contourcarpet": [
           {
            "colorbar": {
             "outlinewidth": 0,
             "ticks": ""
            },
            "type": "contourcarpet"
           }
          ],
          "heatmap": [
           {
            "colorbar": {
             "outlinewidth": 0,
             "ticks": ""
            },
            "colorscale": [
             [
              0,
              "#0d0887"
             ],
             [
              0.1111111111111111,
              "#46039f"
             ],
             [
              0.2222222222222222,
              "#7201a8"
             ],
             [
              0.3333333333333333,
              "#9c179e"
             ],
             [
              0.4444444444444444,
              "#bd3786"
             ],
             [
              0.5555555555555556,
              "#d8576b"
             ],
             [
              0.6666666666666666,
              "#ed7953"
             ],
             [
              0.7777777777777778,
              "#fb9f3a"
             ],
             [
              0.8888888888888888,
              "#fdca26"
             ],
             [
              1,
              "#f0f921"
             ]
            ],
            "type": "heatmap"
           }
          ],
          "heatmapgl": [
           {
            "colorbar": {
             "outlinewidth": 0,
             "ticks": ""
            },
            "colorscale": [
             [
              0,
              "#0d0887"
             ],
             [
              0.1111111111111111,
              "#46039f"
             ],
             [
              0.2222222222222222,
              "#7201a8"
             ],
             [
              0.3333333333333333,
              "#9c179e"
             ],
             [
              0.4444444444444444,
              "#bd3786"
             ],
             [
              0.5555555555555556,
              "#d8576b"
             ],
             [
              0.6666666666666666,
              "#ed7953"
             ],
             [
              0.7777777777777778,
              "#fb9f3a"
             ],
             [
              0.8888888888888888,
              "#fdca26"
             ],
             [
              1,
              "#f0f921"
             ]
            ],
            "type": "heatmapgl"
           }
          ],
          "histogram": [
           {
            "marker": {
             "colorbar": {
              "outlinewidth": 0,
              "ticks": ""
             }
            },
            "type": "histogram"
           }
          ],
          "histogram2d": [
           {
            "colorbar": {
             "outlinewidth": 0,
             "ticks": ""
            },
            "colorscale": [
             [
              0,
              "#0d0887"
             ],
             [
              0.1111111111111111,
              "#46039f"
             ],
             [
              0.2222222222222222,
              "#7201a8"
             ],
             [
              0.3333333333333333,
              "#9c179e"
             ],
             [
              0.4444444444444444,
              "#bd3786"
             ],
             [
              0.5555555555555556,
              "#d8576b"
             ],
             [
              0.6666666666666666,
              "#ed7953"
             ],
             [
              0.7777777777777778,
              "#fb9f3a"
             ],
             [
              0.8888888888888888,
              "#fdca26"
             ],
             [
              1,
              "#f0f921"
             ]
            ],
            "type": "histogram2d"
           }
          ],
          "histogram2dcontour": [
           {
            "colorbar": {
             "outlinewidth": 0,
             "ticks": ""
            },
            "colorscale": [
             [
              0,
              "#0d0887"
             ],
             [
              0.1111111111111111,
              "#46039f"
             ],
             [
              0.2222222222222222,
              "#7201a8"
             ],
             [
              0.3333333333333333,
              "#9c179e"
             ],
             [
              0.4444444444444444,
              "#bd3786"
             ],
             [
              0.5555555555555556,
              "#d8576b"
             ],
             [
              0.6666666666666666,
              "#ed7953"
             ],
             [
              0.7777777777777778,
              "#fb9f3a"
             ],
             [
              0.8888888888888888,
              "#fdca26"
             ],
             [
              1,
              "#f0f921"
             ]
            ],
            "type": "histogram2dcontour"
           }
          ],
          "mesh3d": [
           {
            "colorbar": {
             "outlinewidth": 0,
             "ticks": ""
            },
            "type": "mesh3d"
           }
          ],
          "parcoords": [
           {
            "line": {
             "colorbar": {
              "outlinewidth": 0,
              "ticks": ""
             }
            },
            "type": "parcoords"
           }
          ],
          "pie": [
           {
            "automargin": true,
            "type": "pie"
           }
          ],
          "scatter": [
           {
            "marker": {
             "colorbar": {
              "outlinewidth": 0,
              "ticks": ""
             }
            },
            "type": "scatter"
           }
          ],
          "scatter3d": [
           {
            "line": {
             "colorbar": {
              "outlinewidth": 0,
              "ticks": ""
             }
            },
            "marker": {
             "colorbar": {
              "outlinewidth": 0,
              "ticks": ""
             }
            },
            "type": "scatter3d"
           }
          ],
          "scattercarpet": [
           {
            "marker": {
             "colorbar": {
              "outlinewidth": 0,
              "ticks": ""
             }
            },
            "type": "scattercarpet"
           }
          ],
          "scattergeo": [
           {
            "marker": {
             "colorbar": {
              "outlinewidth": 0,
              "ticks": ""
             }
            },
            "type": "scattergeo"
           }
          ],
          "scattergl": [
           {
            "marker": {
             "colorbar": {
              "outlinewidth": 0,
              "ticks": ""
             }
            },
            "type": "scattergl"
           }
          ],
          "scattermapbox": [
           {
            "marker": {
             "colorbar": {
              "outlinewidth": 0,
              "ticks": ""
             }
            },
            "type": "scattermapbox"
           }
          ],
          "scatterpolar": [
           {
            "marker": {
             "colorbar": {
              "outlinewidth": 0,
              "ticks": ""
             }
            },
            "type": "scatterpolar"
           }
          ],
          "scatterpolargl": [
           {
            "marker": {
             "colorbar": {
              "outlinewidth": 0,
              "ticks": ""
             }
            },
            "type": "scatterpolargl"
           }
          ],
          "scatterternary": [
           {
            "marker": {
             "colorbar": {
              "outlinewidth": 0,
              "ticks": ""
             }
            },
            "type": "scatterternary"
           }
          ],
          "surface": [
           {
            "colorbar": {
             "outlinewidth": 0,
             "ticks": ""
            },
            "colorscale": [
             [
              0,
              "#0d0887"
             ],
             [
              0.1111111111111111,
              "#46039f"
             ],
             [
              0.2222222222222222,
              "#7201a8"
             ],
             [
              0.3333333333333333,
              "#9c179e"
             ],
             [
              0.4444444444444444,
              "#bd3786"
             ],
             [
              0.5555555555555556,
              "#d8576b"
             ],
             [
              0.6666666666666666,
              "#ed7953"
             ],
             [
              0.7777777777777778,
              "#fb9f3a"
             ],
             [
              0.8888888888888888,
              "#fdca26"
             ],
             [
              1,
              "#f0f921"
             ]
            ],
            "type": "surface"
           }
          ],
          "table": [
           {
            "cells": {
             "fill": {
              "color": "#EBF0F8"
             },
             "line": {
              "color": "white"
             }
            },
            "header": {
             "fill": {
              "color": "#C8D4E3"
             },
             "line": {
              "color": "white"
             }
            },
            "type": "table"
           }
          ]
         },
         "layout": {
          "annotationdefaults": {
           "arrowcolor": "#2a3f5f",
           "arrowhead": 0,
           "arrowwidth": 1
          },
          "autotypenumbers": "strict",
          "coloraxis": {
           "colorbar": {
            "outlinewidth": 0,
            "ticks": ""
           }
          },
          "colorscale": {
           "diverging": [
            [
             0,
             "#8e0152"
            ],
            [
             0.1,
             "#c51b7d"
            ],
            [
             0.2,
             "#de77ae"
            ],
            [
             0.3,
             "#f1b6da"
            ],
            [
             0.4,
             "#fde0ef"
            ],
            [
             0.5,
             "#f7f7f7"
            ],
            [
             0.6,
             "#e6f5d0"
            ],
            [
             0.7,
             "#b8e186"
            ],
            [
             0.8,
             "#7fbc41"
            ],
            [
             0.9,
             "#4d9221"
            ],
            [
             1,
             "#276419"
            ]
           ],
           "sequential": [
            [
             0,
             "#0d0887"
            ],
            [
             0.1111111111111111,
             "#46039f"
            ],
            [
             0.2222222222222222,
             "#7201a8"
            ],
            [
             0.3333333333333333,
             "#9c179e"
            ],
            [
             0.4444444444444444,
             "#bd3786"
            ],
            [
             0.5555555555555556,
             "#d8576b"
            ],
            [
             0.6666666666666666,
             "#ed7953"
            ],
            [
             0.7777777777777778,
             "#fb9f3a"
            ],
            [
             0.8888888888888888,
             "#fdca26"
            ],
            [
             1,
             "#f0f921"
            ]
           ],
           "sequentialminus": [
            [
             0,
             "#0d0887"
            ],
            [
             0.1111111111111111,
             "#46039f"
            ],
            [
             0.2222222222222222,
             "#7201a8"
            ],
            [
             0.3333333333333333,
             "#9c179e"
            ],
            [
             0.4444444444444444,
             "#bd3786"
            ],
            [
             0.5555555555555556,
             "#d8576b"
            ],
            [
             0.6666666666666666,
             "#ed7953"
            ],
            [
             0.7777777777777778,
             "#fb9f3a"
            ],
            [
             0.8888888888888888,
             "#fdca26"
            ],
            [
             1,
             "#f0f921"
            ]
           ]
          },
          "colorway": [
           "#636efa",
           "#EF553B",
           "#00cc96",
           "#ab63fa",
           "#FFA15A",
           "#19d3f3",
           "#FF6692",
           "#B6E880",
           "#FF97FF",
           "#FECB52"
          ],
          "font": {
           "color": "#2a3f5f"
          },
          "geo": {
           "bgcolor": "white",
           "lakecolor": "white",
           "landcolor": "#E5ECF6",
           "showlakes": true,
           "showland": true,
           "subunitcolor": "white"
          },
          "hoverlabel": {
           "align": "left"
          },
          "hovermode": "closest",
          "mapbox": {
           "style": "light"
          },
          "paper_bgcolor": "white",
          "plot_bgcolor": "#E5ECF6",
          "polar": {
           "angularaxis": {
            "gridcolor": "white",
            "linecolor": "white",
            "ticks": ""
           },
           "bgcolor": "#E5ECF6",
           "radialaxis": {
            "gridcolor": "white",
            "linecolor": "white",
            "ticks": ""
           }
          },
          "scene": {
           "xaxis": {
            "backgroundcolor": "#E5ECF6",
            "gridcolor": "white",
            "gridwidth": 2,
            "linecolor": "white",
            "showbackground": true,
            "ticks": "",
            "zerolinecolor": "white"
           },
           "yaxis": {
            "backgroundcolor": "#E5ECF6",
            "gridcolor": "white",
            "gridwidth": 2,
            "linecolor": "white",
            "showbackground": true,
            "ticks": "",
            "zerolinecolor": "white"
           },
           "zaxis": {
            "backgroundcolor": "#E5ECF6",
            "gridcolor": "white",
            "gridwidth": 2,
            "linecolor": "white",
            "showbackground": true,
            "ticks": "",
            "zerolinecolor": "white"
           }
          },
          "shapedefaults": {
           "line": {
            "color": "#2a3f5f"
           }
          },
          "ternary": {
           "aaxis": {
            "gridcolor": "white",
            "linecolor": "white",
            "ticks": ""
           },
           "baxis": {
            "gridcolor": "white",
            "linecolor": "white",
            "ticks": ""
           },
           "bgcolor": "#E5ECF6",
           "caxis": {
            "gridcolor": "white",
            "linecolor": "white",
            "ticks": ""
           }
          },
          "title": {
           "x": 0.05
          },
          "xaxis": {
           "automargin": true,
           "gridcolor": "white",
           "linecolor": "white",
           "ticks": "",
           "title": {
            "standoff": 15
           },
           "zerolinecolor": "white",
           "zerolinewidth": 2
          },
          "yaxis": {
           "automargin": true,
           "gridcolor": "white",
           "linecolor": "white",
           "ticks": "",
           "title": {
            "standoff": 15
           },
           "zerolinecolor": "white",
           "zerolinewidth": 2
          }
         }
        },
        "xaxis": {
         "anchor": "y",
         "domain": [
          0,
          1
         ],
         "title": {
          "text": "year"
         }
        },
        "yaxis": {
         "anchor": "x",
         "domain": [
          0,
          1
         ],
         "title": {
          "text": "value"
         }
        }
       }
      },
      "text/html": [
       "<div>                            <div id=\"3334f4ae-6659-4316-bae2-899f248eebc3\" class=\"plotly-graph-div\" style=\"height:525px; width:100%;\"></div>            <script type=\"text/javascript\">                require([\"plotly\"], function(Plotly) {                    window.PLOTLYENV=window.PLOTLYENV || {};                                    if (document.getElementById(\"3334f4ae-6659-4316-bae2-899f248eebc3\")) {                    Plotly.newPlot(                        \"3334f4ae-6659-4316-bae2-899f248eebc3\",                        [{\"hovertemplate\": \"variable=Female<br>year=%{x}<br>value=%{y}<extra></extra>\", \"legendgroup\": \"Female\", \"line\": {\"color\": \"#636efa\", \"dash\": \"solid\"}, \"mode\": \"lines\", \"name\": \"Female\", \"orientation\": \"v\", \"showlegend\": true, \"type\": \"scatter\", \"x\": [1900.0, 1901.0, 1902.0, 1903.0, 1904.0, 1905.0, 1906.0, 1907.0, 1908.0, 1909.0, 1910.0, 1911.0, 1912.0, 1913.0, 1914.0, 1915.0, 1916.0, 1917.0, 1918.0, 1919.0, 1920.0, 1921.0, 1922.0, 1923.0, 1924.0, 1925.0, 1926.0, 1927.0, 1928.0, 1929.0, 1930.0, 1931.0, 1932.0, 1933.0, 1934.0, 1935.0, 1936.0, 1937.0, 1938.0, 1939.0, 1940.0, 1941.0, 1942.0, 1943.0, 1944.0, 1945.0, 1946.0, 1947.0, 1948.0, 1949.0, 1950.0, 1951.0, 1952.0, 1953.0, 1954.0, 1955.0, 1956.0, 1957.0, 1958.0, 1959.0, 1960.0, 1961.0, 1962.0, 1963.0, 1964.0, 1965.0, 1966.0, 1967.0, 1968.0, 1969.0, 1970.0, 1971.0, 1972.0, 1973.0, 1974.0, 1975.0, 1976.0, 1977.0, 1978.0, 1979.0, 1980.0, 1981.0, 1982.0, 1983.0, 1984.0, 1985.0, 1986.0, 1987.0, 1988.0, 1989.0, 1990.0, 1991.0, 1992.0, 1993.0, 1994.0, 1995.0, 1996.0, 1997.0, 1998.0, 1999.0, 2000.0, 2001.0, 2002.0, 2003.0, 2004.0, 2005.0, 2006.0, 2007.0, 2008.0, 2009.0, 2010.0, 2011.0, 2012.0, 2013.0, 2014.0, 2015.0, 2016.0, 2017.0, 2018.0, 2019.0, 2020.0], \"xaxis\": \"x\", \"y\": [58.01142089351696, 56.93196405648267, 56.79012345679013, 57.82223679895048, 55.891425046267734, 55.35335153169548, 55.257477644156644, 54.07946618137701, 56.53801843317972, 55.380116959064324, 53.786407766990294, 55.14978601997147, 55.4940492665375, 55.921956581478426, 54.7207258293167, 54.432289701999245, 55.04385964912281, 55.15625, 55.18977536793184, 56.84960201089233, 56.029790890862216, 55.67434210526316, 54.84796328169822, 54.96735074626866, 52.91095890410959, 52.976190476190474, 53.236142262095484, 53.705601092896174, 53.60118496574708, 52.69878119558909, 52.183366551911575, 52.24403927068724, 52.840690978886755, 52.94117647058823, 51.36169255007878, 53.72437062029587, 54.005524861878456, 52.82037239868565, 52.205683355886336, 55.10044351682755, 53.444737613603046, 54.99836119305146, 54.99098015634396, 53.863013698630134, 54.78155339805825, 56.28815628815629, 54.73902882368216, 53.85424888187319, 55.673027333677155, 54.08774874130904, 54.11165160991429, 53.63481643569171, 53.17877629063098, 53.377757352941174, 53.221099887766556, 55.19281332164768, 52.20970537261699, 52.3847856711612, 51.40410276837284, 50.614754098360656, 51.846714062770936, 51.65989159891599, 49.93457638207393, 50.75151902782219, 50.373549515180414, 48.781945897474216, 50.874547647768395, 49.41431670281996, 50.78706353749285, 49.855670103092784, 50.34534723094311, 49.62321448655944, 48.776840081187906, 48.50761421319797, 48.188760524769926, 48.76706945672463, 49.1887355464379, 49.31566941568696, 48.86474935446532, 49.45082376435347, 48.678431070355245, 49.60940299577152, 48.946373091989734, 49.146643464292886, 49.767258899888546, 49.313662604233485, 49.76744186046512, 49.77183623626197, 50.16656384947563, 49.8675815577224, 50.0788045064503, 50.13504970978679, 50.103643901374646, 50.506835785205595, 50.38284062674307, 51.32555148877238, 51.663460184881046, 52.054982190154355, 52.38909308487905, 51.82829236262158, 51.90952489202091, 52.536732164984954, 51.62482519810881, 51.91096701789388, 51.87358391913089, 51.81011681728014, 51.820296369861225, 51.96926521473642, 51.65149349183658, 51.75229424091336, 51.38763333935997, 52.56036368314963, 52.07407255669132, 52.38715985008962, 52.060890401304796, 52.08383911952739, 51.794296699775714, 51.64767903330898, 51.65910020848352, 51.57674234275038, 51.5683837578141], \"yaxis\": \"y\"}, {\"hovertemplate\": \"variable=Male<br>year=%{x}<br>value=%{y}<extra></extra>\", \"legendgroup\": \"Male\", \"line\": {\"color\": \"#EF553B\", \"dash\": \"solid\"}, \"mode\": \"lines\", \"name\": \"Male\", \"orientation\": \"v\", \"showlegend\": true, \"type\": \"scatter\", \"x\": [1900.0, 1901.0, 1902.0, 1903.0, 1904.0, 1905.0, 1906.0, 1907.0, 1908.0, 1909.0, 1910.0, 1911.0, 1912.0, 1913.0, 1914.0, 1915.0, 1916.0, 1917.0, 1918.0, 1919.0, 1920.0, 1921.0, 1922.0, 1923.0, 1924.0, 1925.0, 1926.0, 1927.0, 1928.0, 1929.0, 1930.0, 1931.0, 1932.0, 1933.0, 1934.0, 1935.0, 1936.0, 1937.0, 1938.0, 1939.0, 1940.0, 1941.0, 1942.0, 1943.0, 1944.0, 1945.0, 1946.0, 1947.0, 1948.0, 1949.0, 1950.0, 1951.0, 1952.0, 1953.0, 1954.0, 1955.0, 1956.0, 1957.0, 1958.0, 1959.0, 1960.0, 1961.0, 1962.0, 1963.0, 1964.0, 1965.0, 1966.0, 1967.0, 1968.0, 1969.0, 1970.0, 1971.0, 1972.0, 1973.0, 1974.0, 1975.0, 1976.0, 1977.0, 1978.0, 1979.0, 1980.0, 1981.0, 1982.0, 1983.0, 1984.0, 1985.0, 1986.0, 1987.0, 1988.0, 1989.0, 1990.0, 1991.0, 1992.0, 1993.0, 1994.0, 1995.0, 1996.0, 1997.0, 1998.0, 1999.0, 2000.0, 2001.0, 2002.0, 2003.0, 2004.0, 2005.0, 2006.0, 2007.0, 2008.0, 2009.0, 2010.0, 2011.0, 2012.0, 2013.0, 2014.0, 2015.0, 2016.0, 2017.0, 2018.0, 2019.0, 2020.0], \"xaxis\": \"x\", \"y\": [41.98857910648304, 43.06803594351733, 43.20987654320987, 42.17776320104952, 44.108574953732266, 44.64664846830452, 44.742522355843356, 45.92053381862299, 43.46198156682028, 44.619883040935676, 46.213592233009706, 44.85021398002853, 44.5059507334625, 44.078043418521574, 45.2792741706833, 45.567710298000755, 44.95614035087719, 44.84375, 44.81022463206816, 43.15039798910767, 43.970209109137784, 44.32565789473684, 45.15203671830178, 45.03264925373134, 47.08904109589041, 47.023809523809526, 46.763857737904516, 46.294398907103826, 46.39881503425292, 47.30121880441091, 47.816633448088425, 47.75596072931276, 47.159309021113245, 47.05882352941177, 48.63830744992122, 46.27562937970413, 45.994475138121544, 47.17962760131435, 47.794316644113664, 44.89955648317245, 46.555262386396954, 45.00163880694854, 45.00901984365604, 46.136986301369866, 45.21844660194175, 43.71184371184371, 45.26097117631784, 46.14575111812681, 44.326972666322845, 45.91225125869096, 45.88834839008571, 46.36518356430829, 46.82122370936902, 46.622242647058826, 46.778900112233444, 44.80718667835232, 47.79029462738301, 47.6152143288388, 48.59589723162716, 49.385245901639344, 48.153285937229064, 48.34010840108401, 50.06542361792607, 49.24848097217781, 49.626450484819586, 51.218054102525784, 49.125452352231605, 50.58568329718004, 49.21293646250715, 50.144329896907216, 49.65465276905689, 50.37678551344056, 51.223159918812094, 51.49238578680203, 51.811239475230074, 51.23293054327537, 50.8112644535621, 50.68433058431304, 51.13525064553468, 50.54917623564653, 51.321568929644755, 50.39059700422848, 51.053626908010266, 50.853356535707114, 50.232741100111454, 50.686337395766515, 50.23255813953488, 50.22816376373803, 49.83343615052437, 50.1324184422776, 49.9211954935497, 49.86495029021321, 49.896356098625354, 49.493164214794405, 49.61715937325693, 48.67444851122762, 48.336539815118954, 47.945017809845645, 47.61090691512095, 48.17170763737842, 48.09047510797909, 47.463267835015046, 48.37517480189119, 48.08903298210612, 48.12641608086911, 48.18988318271986, 48.179703630138775, 48.03073478526358, 48.34850650816342, 48.24770575908664, 48.61236666064003, 47.43963631685037, 47.92592744330868, 47.61284014991038, 47.939109598695204, 47.91616088047261, 48.205703300224286, 48.35232096669102, 48.34089979151648, 48.42325765724962, 48.4316162421859], \"yaxis\": \"y\"}],                        {\"legend\": {\"title\": {\"text\": \"variable\"}, \"tracegroupgap\": 0}, \"margin\": {\"t\": 60}, \"template\": {\"data\": {\"bar\": [{\"error_x\": {\"color\": \"#2a3f5f\"}, \"error_y\": {\"color\": \"#2a3f5f\"}, \"marker\": {\"line\": {\"color\": \"#E5ECF6\", \"width\": 0.5}}, \"type\": \"bar\"}], \"barpolar\": [{\"marker\": {\"line\": {\"color\": \"#E5ECF6\", \"width\": 0.5}}, \"type\": \"barpolar\"}], \"carpet\": [{\"aaxis\": {\"endlinecolor\": \"#2a3f5f\", \"gridcolor\": \"white\", \"linecolor\": \"white\", \"minorgridcolor\": \"white\", \"startlinecolor\": \"#2a3f5f\"}, \"baxis\": {\"endlinecolor\": \"#2a3f5f\", \"gridcolor\": \"white\", \"linecolor\": \"white\", \"minorgridcolor\": \"white\", \"startlinecolor\": \"#2a3f5f\"}, \"type\": \"carpet\"}], \"choropleth\": [{\"colorbar\": {\"outlinewidth\": 0, \"ticks\": \"\"}, \"type\": \"choropleth\"}], \"contour\": [{\"colorbar\": {\"outlinewidth\": 0, \"ticks\": \"\"}, \"colorscale\": [[0.0, \"#0d0887\"], [0.1111111111111111, \"#46039f\"], [0.2222222222222222, \"#7201a8\"], [0.3333333333333333, \"#9c179e\"], [0.4444444444444444, \"#bd3786\"], [0.5555555555555556, \"#d8576b\"], [0.6666666666666666, \"#ed7953\"], [0.7777777777777778, \"#fb9f3a\"], [0.8888888888888888, \"#fdca26\"], [1.0, \"#f0f921\"]], \"type\": \"contour\"}], \"contourcarpet\": [{\"colorbar\": {\"outlinewidth\": 0, \"ticks\": \"\"}, \"type\": \"contourcarpet\"}], \"heatmap\": [{\"colorbar\": {\"outlinewidth\": 0, \"ticks\": \"\"}, \"colorscale\": [[0.0, \"#0d0887\"], [0.1111111111111111, \"#46039f\"], [0.2222222222222222, \"#7201a8\"], [0.3333333333333333, \"#9c179e\"], [0.4444444444444444, \"#bd3786\"], [0.5555555555555556, \"#d8576b\"], [0.6666666666666666, \"#ed7953\"], [0.7777777777777778, \"#fb9f3a\"], [0.8888888888888888, \"#fdca26\"], [1.0, \"#f0f921\"]], \"type\": \"heatmap\"}], \"heatmapgl\": [{\"colorbar\": {\"outlinewidth\": 0, \"ticks\": \"\"}, \"colorscale\": [[0.0, \"#0d0887\"], [0.1111111111111111, \"#46039f\"], [0.2222222222222222, \"#7201a8\"], [0.3333333333333333, \"#9c179e\"], [0.4444444444444444, \"#bd3786\"], [0.5555555555555556, \"#d8576b\"], [0.6666666666666666, \"#ed7953\"], [0.7777777777777778, \"#fb9f3a\"], [0.8888888888888888, \"#fdca26\"], [1.0, \"#f0f921\"]], \"type\": \"heatmapgl\"}], \"histogram\": [{\"marker\": {\"colorbar\": {\"outlinewidth\": 0, \"ticks\": \"\"}}, \"type\": \"histogram\"}], \"histogram2d\": [{\"colorbar\": {\"outlinewidth\": 0, \"ticks\": \"\"}, \"colorscale\": [[0.0, \"#0d0887\"], [0.1111111111111111, \"#46039f\"], [0.2222222222222222, \"#7201a8\"], [0.3333333333333333, \"#9c179e\"], [0.4444444444444444, \"#bd3786\"], [0.5555555555555556, \"#d8576b\"], [0.6666666666666666, \"#ed7953\"], [0.7777777777777778, \"#fb9f3a\"], [0.8888888888888888, \"#fdca26\"], [1.0, \"#f0f921\"]], \"type\": \"histogram2d\"}], \"histogram2dcontour\": [{\"colorbar\": {\"outlinewidth\": 0, \"ticks\": \"\"}, \"colorscale\": [[0.0, \"#0d0887\"], [0.1111111111111111, \"#46039f\"], [0.2222222222222222, \"#7201a8\"], [0.3333333333333333, \"#9c179e\"], [0.4444444444444444, \"#bd3786\"], [0.5555555555555556, \"#d8576b\"], [0.6666666666666666, \"#ed7953\"], [0.7777777777777778, \"#fb9f3a\"], [0.8888888888888888, \"#fdca26\"], [1.0, \"#f0f921\"]], \"type\": \"histogram2dcontour\"}], \"mesh3d\": [{\"colorbar\": {\"outlinewidth\": 0, \"ticks\": \"\"}, \"type\": \"mesh3d\"}], \"parcoords\": [{\"line\": {\"colorbar\": {\"outlinewidth\": 0, \"ticks\": \"\"}}, \"type\": \"parcoords\"}], \"pie\": [{\"automargin\": true, \"type\": \"pie\"}], \"scatter\": [{\"marker\": {\"colorbar\": {\"outlinewidth\": 0, \"ticks\": \"\"}}, \"type\": \"scatter\"}], \"scatter3d\": [{\"line\": {\"colorbar\": {\"outlinewidth\": 0, \"ticks\": \"\"}}, \"marker\": {\"colorbar\": {\"outlinewidth\": 0, \"ticks\": \"\"}}, \"type\": \"scatter3d\"}], \"scattercarpet\": [{\"marker\": {\"colorbar\": {\"outlinewidth\": 0, \"ticks\": \"\"}}, \"type\": \"scattercarpet\"}], \"scattergeo\": [{\"marker\": {\"colorbar\": {\"outlinewidth\": 0, \"ticks\": \"\"}}, \"type\": \"scattergeo\"}], \"scattergl\": [{\"marker\": {\"colorbar\": {\"outlinewidth\": 0, \"ticks\": \"\"}}, \"type\": \"scattergl\"}], \"scattermapbox\": [{\"marker\": {\"colorbar\": {\"outlinewidth\": 0, \"ticks\": \"\"}}, \"type\": \"scattermapbox\"}], \"scatterpolar\": [{\"marker\": {\"colorbar\": {\"outlinewidth\": 0, \"ticks\": \"\"}}, \"type\": \"scatterpolar\"}], \"scatterpolargl\": [{\"marker\": {\"colorbar\": {\"outlinewidth\": 0, \"ticks\": \"\"}}, \"type\": \"scatterpolargl\"}], \"scatterternary\": [{\"marker\": {\"colorbar\": {\"outlinewidth\": 0, \"ticks\": \"\"}}, \"type\": \"scatterternary\"}], \"surface\": [{\"colorbar\": {\"outlinewidth\": 0, \"ticks\": \"\"}, \"colorscale\": [[0.0, \"#0d0887\"], [0.1111111111111111, \"#46039f\"], [0.2222222222222222, \"#7201a8\"], [0.3333333333333333, \"#9c179e\"], [0.4444444444444444, \"#bd3786\"], [0.5555555555555556, \"#d8576b\"], [0.6666666666666666, \"#ed7953\"], [0.7777777777777778, \"#fb9f3a\"], [0.8888888888888888, \"#fdca26\"], [1.0, \"#f0f921\"]], \"type\": \"surface\"}], \"table\": [{\"cells\": {\"fill\": {\"color\": \"#EBF0F8\"}, \"line\": {\"color\": \"white\"}}, \"header\": {\"fill\": {\"color\": \"#C8D4E3\"}, \"line\": {\"color\": \"white\"}}, \"type\": \"table\"}]}, \"layout\": {\"annotationdefaults\": {\"arrowcolor\": \"#2a3f5f\", \"arrowhead\": 0, \"arrowwidth\": 1}, \"autotypenumbers\": \"strict\", \"coloraxis\": {\"colorbar\": {\"outlinewidth\": 0, \"ticks\": \"\"}}, \"colorscale\": {\"diverging\": [[0, \"#8e0152\"], [0.1, \"#c51b7d\"], [0.2, \"#de77ae\"], [0.3, \"#f1b6da\"], [0.4, \"#fde0ef\"], [0.5, \"#f7f7f7\"], [0.6, \"#e6f5d0\"], [0.7, \"#b8e186\"], [0.8, \"#7fbc41\"], [0.9, \"#4d9221\"], [1, \"#276419\"]], \"sequential\": [[0.0, \"#0d0887\"], [0.1111111111111111, \"#46039f\"], [0.2222222222222222, \"#7201a8\"], [0.3333333333333333, \"#9c179e\"], [0.4444444444444444, \"#bd3786\"], [0.5555555555555556, \"#d8576b\"], [0.6666666666666666, \"#ed7953\"], [0.7777777777777778, \"#fb9f3a\"], [0.8888888888888888, \"#fdca26\"], [1.0, \"#f0f921\"]], \"sequentialminus\": [[0.0, \"#0d0887\"], [0.1111111111111111, \"#46039f\"], [0.2222222222222222, \"#7201a8\"], [0.3333333333333333, \"#9c179e\"], [0.4444444444444444, \"#bd3786\"], [0.5555555555555556, \"#d8576b\"], [0.6666666666666666, \"#ed7953\"], [0.7777777777777778, \"#fb9f3a\"], [0.8888888888888888, \"#fdca26\"], [1.0, \"#f0f921\"]]}, \"colorway\": [\"#636efa\", \"#EF553B\", \"#00cc96\", \"#ab63fa\", \"#FFA15A\", \"#19d3f3\", \"#FF6692\", \"#B6E880\", \"#FF97FF\", \"#FECB52\"], \"font\": {\"color\": \"#2a3f5f\"}, \"geo\": {\"bgcolor\": \"white\", \"lakecolor\": \"white\", \"landcolor\": \"#E5ECF6\", \"showlakes\": true, \"showland\": true, \"subunitcolor\": \"white\"}, \"hoverlabel\": {\"align\": \"left\"}, \"hovermode\": \"closest\", \"mapbox\": {\"style\": \"light\"}, \"paper_bgcolor\": \"white\", \"plot_bgcolor\": \"#E5ECF6\", \"polar\": {\"angularaxis\": {\"gridcolor\": \"white\", \"linecolor\": \"white\", \"ticks\": \"\"}, \"bgcolor\": \"#E5ECF6\", \"radialaxis\": {\"gridcolor\": \"white\", \"linecolor\": \"white\", \"ticks\": \"\"}}, \"scene\": {\"xaxis\": {\"backgroundcolor\": \"#E5ECF6\", \"gridcolor\": \"white\", \"gridwidth\": 2, \"linecolor\": \"white\", \"showbackground\": true, \"ticks\": \"\", \"zerolinecolor\": \"white\"}, \"yaxis\": {\"backgroundcolor\": \"#E5ECF6\", \"gridcolor\": \"white\", \"gridwidth\": 2, \"linecolor\": \"white\", \"showbackground\": true, \"ticks\": \"\", \"zerolinecolor\": \"white\"}, \"zaxis\": {\"backgroundcolor\": \"#E5ECF6\", \"gridcolor\": \"white\", \"gridwidth\": 2, \"linecolor\": \"white\", \"showbackground\": true, \"ticks\": \"\", \"zerolinecolor\": \"white\"}}, \"shapedefaults\": {\"line\": {\"color\": \"#2a3f5f\"}}, \"ternary\": {\"aaxis\": {\"gridcolor\": \"white\", \"linecolor\": \"white\", \"ticks\": \"\"}, \"baxis\": {\"gridcolor\": \"white\", \"linecolor\": \"white\", \"ticks\": \"\"}, \"bgcolor\": \"#E5ECF6\", \"caxis\": {\"gridcolor\": \"white\", \"linecolor\": \"white\", \"ticks\": \"\"}}, \"title\": {\"x\": 0.05}, \"xaxis\": {\"automargin\": true, \"gridcolor\": \"white\", \"linecolor\": \"white\", \"ticks\": \"\", \"title\": {\"standoff\": 15}, \"zerolinecolor\": \"white\", \"zerolinewidth\": 2}, \"yaxis\": {\"automargin\": true, \"gridcolor\": \"white\", \"linecolor\": \"white\", \"ticks\": \"\", \"title\": {\"standoff\": 15}, \"zerolinecolor\": \"white\", \"zerolinewidth\": 2}}}, \"xaxis\": {\"anchor\": \"y\", \"domain\": [0.0, 1.0], \"title\": {\"text\": \"year\"}}, \"yaxis\": {\"anchor\": \"x\", \"domain\": [0.0, 1.0], \"title\": {\"text\": \"value\"}}},                        {\"responsive\": true}                    ).then(function(){\n",
       "                            \n",
       "var gd = document.getElementById('3334f4ae-6659-4316-bae2-899f248eebc3');\n",
       "var x = new MutationObserver(function (mutations, observer) {{\n",
       "        var display = window.getComputedStyle(gd).display;\n",
       "        if (!display || display === 'none') {{\n",
       "            console.log([gd, 'removed!']);\n",
       "            Plotly.purge(gd);\n",
       "            observer.disconnect();\n",
       "        }}\n",
       "}});\n",
       "\n",
       "// Listen for the removal of the full notebook cells\n",
       "var notebookContainer = gd.closest('#notebook-container');\n",
       "if (notebookContainer) {{\n",
       "    x.observe(notebookContainer, {childList: true});\n",
       "}}\n",
       "\n",
       "// Listen for the clearing of the current output cell\n",
       "var outputEl = gd.closest('.output');\n",
       "if (outputEl) {{\n",
       "    x.observe(outputEl, {childList: true});\n",
       "}}\n",
       "\n",
       "                        })                };                });            </script>        </div>"
      ]
     },
     "metadata": {},
     "output_type": "display_data"
    }
   ],
   "source": [
    "# your code here\n",
    "\n",
    "gb2.unstack(0)['%'].reset_index().plot(\"year\",['Female','Male'])"
   ]
  },
  {
   "cell_type": "markdown",
   "metadata": {
    "nteract": {
     "transient": {
      "deleting": false
     }
    }
   },
   "source": [
    "# A study of the \"Marie\" firstname\n",
    "\n",
    "**QUESTION:** Plot the proportion of female births given name `'MARIE'` or `'MARIE-...'` (compounded names) as a function of the year.\n",
    "Proceed in such a way that the reader can see the share of compounded names. We are expecting an _area plot_.\n",
    "\n",
    "__Hints:__\n",
    "\n",
    "- Have a look at the `.str` accessor (to apply a string method over a whole column containing string)\n",
    "- Have a look at [r-graph-gallery: stacked area](https://www.r-graph-gallery.com/stacked-area-graph.html)  and\n",
    "at [ggplot documentation](https://ggplot2.tidyverse.org/reference/geom_ribbon.html). Pay attention on the way you stack the area corresponding to names matching pattern 'MARIE-.*' over or under the are corresponding to babies named 'MARIE'\n",
    "- See Graphique 3, page 48, de _L'archipel français_  de J. Fourquet. Le Seuil. Essais. Vol. 898.\n",
    "\n",
    "- Add annotation, 1st World War, Front Populaire, 2nd World War, 1968"
   ]
  },
  {
   "cell_type": "code",
   "execution_count": 70,
   "metadata": {
    "ExecuteTime": {
     "end_time": "2022-01-30T23:10:02.198948Z",
     "start_time": "2022-01-30T23:10:00.759420Z"
    }
   },
   "outputs": [
    {
     "data": {
      "text/html": [
       "<div>\n",
       "<style scoped>\n",
       "    .dataframe tbody tr th:only-of-type {\n",
       "        vertical-align: middle;\n",
       "    }\n",
       "\n",
       "    .dataframe tbody tr th {\n",
       "        vertical-align: top;\n",
       "    }\n",
       "\n",
       "    .dataframe thead th {\n",
       "        text-align: right;\n",
       "    }\n",
       "</style>\n",
       "<table border=\"1\" class=\"dataframe\">\n",
       "  <thead>\n",
       "    <tr style=\"text-align: right;\">\n",
       "      <th></th>\n",
       "      <th>firstname</th>\n",
       "      <th>year</th>\n",
       "      <th>count</th>\n",
       "      <th>gender</th>\n",
       "    </tr>\n",
       "  </thead>\n",
       "  <tbody>\n",
       "    <tr>\n",
       "      <th>189730</th>\n",
       "      <td>MARIE</td>\n",
       "      <td>1900.0</td>\n",
       "      <td>1065</td>\n",
       "      <td>Male</td>\n",
       "    </tr>\n",
       "    <tr>\n",
       "      <th>189731</th>\n",
       "      <td>MARIE</td>\n",
       "      <td>1901.0</td>\n",
       "      <td>1048</td>\n",
       "      <td>Male</td>\n",
       "    </tr>\n",
       "    <tr>\n",
       "      <th>189732</th>\n",
       "      <td>MARIE</td>\n",
       "      <td>1902.0</td>\n",
       "      <td>1066</td>\n",
       "      <td>Male</td>\n",
       "    </tr>\n",
       "    <tr>\n",
       "      <th>189733</th>\n",
       "      <td>MARIE</td>\n",
       "      <td>1903.0</td>\n",
       "      <td>1054</td>\n",
       "      <td>Male</td>\n",
       "    </tr>\n",
       "    <tr>\n",
       "      <th>189734</th>\n",
       "      <td>MARIE</td>\n",
       "      <td>1904.0</td>\n",
       "      <td>974</td>\n",
       "      <td>Male</td>\n",
       "    </tr>\n",
       "    <tr>\n",
       "      <th>...</th>\n",
       "      <td>...</td>\n",
       "      <td>...</td>\n",
       "      <td>...</td>\n",
       "      <td>...</td>\n",
       "    </tr>\n",
       "    <tr>\n",
       "      <th>538944</th>\n",
       "      <td>MARIE-ZOÉ</td>\n",
       "      <td>1993.0</td>\n",
       "      <td>3</td>\n",
       "      <td>Female</td>\n",
       "    </tr>\n",
       "    <tr>\n",
       "      <th>538945</th>\n",
       "      <td>MARIE-ZOÉ</td>\n",
       "      <td>1998.0</td>\n",
       "      <td>3</td>\n",
       "      <td>Female</td>\n",
       "    </tr>\n",
       "    <tr>\n",
       "      <th>538946</th>\n",
       "      <td>MARIE-ZOÉ</td>\n",
       "      <td>2003.0</td>\n",
       "      <td>3</td>\n",
       "      <td>Female</td>\n",
       "    </tr>\n",
       "    <tr>\n",
       "      <th>538947</th>\n",
       "      <td>MARIE-ZOÉ</td>\n",
       "      <td>2004.0</td>\n",
       "      <td>3</td>\n",
       "      <td>Female</td>\n",
       "    </tr>\n",
       "    <tr>\n",
       "      <th>538948</th>\n",
       "      <td>MARIE-ZOÉ</td>\n",
       "      <td>NaN</td>\n",
       "      <td>34</td>\n",
       "      <td>Female</td>\n",
       "    </tr>\n",
       "  </tbody>\n",
       "</table>\n",
       "<p>12327 rows × 4 columns</p>\n",
       "</div>"
      ],
      "text/plain": [
       "        firstname    year  count  gender\n",
       "189730      MARIE  1900.0   1065    Male\n",
       "189731      MARIE  1901.0   1048    Male\n",
       "189732      MARIE  1902.0   1066    Male\n",
       "189733      MARIE  1903.0   1054    Male\n",
       "189734      MARIE  1904.0    974    Male\n",
       "...           ...     ...    ...     ...\n",
       "538944  MARIE-ZOÉ  1993.0      3  Female\n",
       "538945  MARIE-ZOÉ  1998.0      3  Female\n",
       "538946  MARIE-ZOÉ  2003.0      3  Female\n",
       "538947  MARIE-ZOÉ  2004.0      3  Female\n",
       "538948  MARIE-ZOÉ     NaN     34  Female\n",
       "\n",
       "[12327 rows x 4 columns]"
      ]
     },
     "execution_count": 70,
     "metadata": {},
     "output_type": "execute_result"
    }
   ],
   "source": [
    "import regex as re\n",
    "\n",
    "pattern=\"(^MARIE)(-|$)([\\w]*)\"\n",
    "marie = df.iloc[df[\"firstname\"].str.extract(pattern).dropna().index,:].copy()\n",
    "marie"
   ]
  },
  {
   "cell_type": "code",
   "execution_count": 71,
   "metadata": {
    "ExecuteTime": {
     "end_time": "2022-01-30T23:10:02.278796Z",
     "start_time": "2022-01-30T23:10:02.204724Z"
    }
   },
   "outputs": [
    {
     "data": {
      "text/html": [
       "<div>\n",
       "<style scoped>\n",
       "    .dataframe tbody tr th:only-of-type {\n",
       "        vertical-align: middle;\n",
       "    }\n",
       "\n",
       "    .dataframe tbody tr th {\n",
       "        vertical-align: top;\n",
       "    }\n",
       "\n",
       "    .dataframe thead th {\n",
       "        text-align: right;\n",
       "    }\n",
       "</style>\n",
       "<table border=\"1\" class=\"dataframe\">\n",
       "  <thead>\n",
       "    <tr style=\"text-align: right;\">\n",
       "      <th></th>\n",
       "      <th>firstname</th>\n",
       "      <th>year</th>\n",
       "      <th>count</th>\n",
       "      <th>gender</th>\n",
       "      <th>marie_comp</th>\n",
       "    </tr>\n",
       "  </thead>\n",
       "  <tbody>\n",
       "    <tr>\n",
       "      <th>526858</th>\n",
       "      <td>MARIE</td>\n",
       "      <td>1900.0</td>\n",
       "      <td>48713</td>\n",
       "      <td>Female</td>\n",
       "      <td>0</td>\n",
       "    </tr>\n",
       "    <tr>\n",
       "      <th>526859</th>\n",
       "      <td>MARIE</td>\n",
       "      <td>1901.0</td>\n",
       "      <td>52150</td>\n",
       "      <td>Female</td>\n",
       "      <td>0</td>\n",
       "    </tr>\n",
       "    <tr>\n",
       "      <th>526860</th>\n",
       "      <td>MARIE</td>\n",
       "      <td>1902.0</td>\n",
       "      <td>51857</td>\n",
       "      <td>Female</td>\n",
       "      <td>0</td>\n",
       "    </tr>\n",
       "    <tr>\n",
       "      <th>526861</th>\n",
       "      <td>MARIE</td>\n",
       "      <td>1903.0</td>\n",
       "      <td>50424</td>\n",
       "      <td>Female</td>\n",
       "      <td>0</td>\n",
       "    </tr>\n",
       "    <tr>\n",
       "      <th>526862</th>\n",
       "      <td>MARIE</td>\n",
       "      <td>1904.0</td>\n",
       "      <td>50131</td>\n",
       "      <td>Female</td>\n",
       "      <td>0</td>\n",
       "    </tr>\n",
       "    <tr>\n",
       "      <th>...</th>\n",
       "      <td>...</td>\n",
       "      <td>...</td>\n",
       "      <td>...</td>\n",
       "      <td>...</td>\n",
       "      <td>...</td>\n",
       "    </tr>\n",
       "    <tr>\n",
       "      <th>538944</th>\n",
       "      <td>MARIE-ZOÉ</td>\n",
       "      <td>1993.0</td>\n",
       "      <td>3</td>\n",
       "      <td>Female</td>\n",
       "      <td>1</td>\n",
       "    </tr>\n",
       "    <tr>\n",
       "      <th>538945</th>\n",
       "      <td>MARIE-ZOÉ</td>\n",
       "      <td>1998.0</td>\n",
       "      <td>3</td>\n",
       "      <td>Female</td>\n",
       "      <td>1</td>\n",
       "    </tr>\n",
       "    <tr>\n",
       "      <th>538946</th>\n",
       "      <td>MARIE-ZOÉ</td>\n",
       "      <td>2003.0</td>\n",
       "      <td>3</td>\n",
       "      <td>Female</td>\n",
       "      <td>1</td>\n",
       "    </tr>\n",
       "    <tr>\n",
       "      <th>538947</th>\n",
       "      <td>MARIE-ZOÉ</td>\n",
       "      <td>2004.0</td>\n",
       "      <td>3</td>\n",
       "      <td>Female</td>\n",
       "      <td>1</td>\n",
       "    </tr>\n",
       "    <tr>\n",
       "      <th>538948</th>\n",
       "      <td>MARIE-ZOÉ</td>\n",
       "      <td>NaN</td>\n",
       "      <td>34</td>\n",
       "      <td>Female</td>\n",
       "      <td>1</td>\n",
       "    </tr>\n",
       "  </tbody>\n",
       "</table>\n",
       "<p>12091 rows × 5 columns</p>\n",
       "</div>"
      ],
      "text/plain": [
       "        firstname    year  count  gender  marie_comp\n",
       "526858      MARIE  1900.0  48713  Female           0\n",
       "526859      MARIE  1901.0  52150  Female           0\n",
       "526860      MARIE  1902.0  51857  Female           0\n",
       "526861      MARIE  1903.0  50424  Female           0\n",
       "526862      MARIE  1904.0  50131  Female           0\n",
       "...           ...     ...    ...     ...         ...\n",
       "538944  MARIE-ZOÉ  1993.0      3  Female           1\n",
       "538945  MARIE-ZOÉ  1998.0      3  Female           1\n",
       "538946  MARIE-ZOÉ  2003.0      3  Female           1\n",
       "538947  MARIE-ZOÉ  2004.0      3  Female           1\n",
       "538948  MARIE-ZOÉ     NaN     34  Female           1\n",
       "\n",
       "[12091 rows x 5 columns]"
      ]
     },
     "execution_count": 71,
     "metadata": {},
     "output_type": "execute_result"
    }
   ],
   "source": [
    "def marie_comp(x):\n",
    "    if x=='MARIE' : return 0\n",
    "    elif x.startswith('MARIE-') : return 1\n",
    "\n",
    "marie['marie_comp'] = marie.firstname.apply(lambda x: marie_comp(x))\n",
    "marie = marie.loc[marie.gender=='Female']\n",
    "marie"
   ]
  },
  {
   "cell_type": "code",
   "execution_count": 72,
   "metadata": {
    "ExecuteTime": {
     "end_time": "2022-01-30T23:10:02.415022Z",
     "start_time": "2022-01-30T23:10:02.283367Z"
    }
   },
   "outputs": [
    {
     "name": "stderr",
     "output_type": "stream",
     "text": [
      "<ipython-input-72-7737463d3938>:1: FutureWarning:\n",
      "\n",
      "['gender'] did not aggregate successfully. If any error is raised this will raise in a future version of pandas. Drop these columns/ops to avoid this warning.\n",
      "\n"
     ]
    },
    {
     "data": {
      "text/html": [
       "<div>\n",
       "<style scoped>\n",
       "    .dataframe tbody tr th:only-of-type {\n",
       "        vertical-align: middle;\n",
       "    }\n",
       "\n",
       "    .dataframe tbody tr th {\n",
       "        vertical-align: top;\n",
       "    }\n",
       "\n",
       "    .dataframe thead th {\n",
       "        text-align: right;\n",
       "    }\n",
       "</style>\n",
       "<table border=\"1\" class=\"dataframe\">\n",
       "  <thead>\n",
       "    <tr style=\"text-align: right;\">\n",
       "      <th></th>\n",
       "      <th></th>\n",
       "      <th>count</th>\n",
       "      <th>% of f_births</th>\n",
       "    </tr>\n",
       "    <tr>\n",
       "      <th>year</th>\n",
       "      <th>marie_comp</th>\n",
       "      <th></th>\n",
       "      <th></th>\n",
       "    </tr>\n",
       "  </thead>\n",
       "  <tbody>\n",
       "    <tr>\n",
       "      <th rowspan=\"2\" valign=\"top\">1900.0</th>\n",
       "      <th>0</th>\n",
       "      <td>48713</td>\n",
       "      <td>20.497532</td>\n",
       "    </tr>\n",
       "    <tr>\n",
       "      <th>1</th>\n",
       "      <td>2194</td>\n",
       "      <td>0.923195</td>\n",
       "    </tr>\n",
       "    <tr>\n",
       "      <th rowspan=\"2\" valign=\"top\">1901.0</th>\n",
       "      <th>0</th>\n",
       "      <td>52150</td>\n",
       "      <td>20.253056</td>\n",
       "    </tr>\n",
       "    <tr>\n",
       "      <th>1</th>\n",
       "      <td>2255</td>\n",
       "      <td>0.875755</td>\n",
       "    </tr>\n",
       "    <tr>\n",
       "      <th>1902.0</th>\n",
       "      <th>0</th>\n",
       "      <td>51857</td>\n",
       "      <td>19.835371</td>\n",
       "    </tr>\n",
       "    <tr>\n",
       "      <th>...</th>\n",
       "      <th>...</th>\n",
       "      <td>...</td>\n",
       "      <td>...</td>\n",
       "    </tr>\n",
       "    <tr>\n",
       "      <th>2018.0</th>\n",
       "      <th>1</th>\n",
       "      <td>173</td>\n",
       "      <td>0.048262</td>\n",
       "    </tr>\n",
       "    <tr>\n",
       "      <th rowspan=\"2\" valign=\"top\">2019.0</th>\n",
       "      <th>0</th>\n",
       "      <td>747</td>\n",
       "      <td>0.209294</td>\n",
       "    </tr>\n",
       "    <tr>\n",
       "      <th>1</th>\n",
       "      <td>155</td>\n",
       "      <td>0.043428</td>\n",
       "    </tr>\n",
       "    <tr>\n",
       "      <th rowspan=\"2\" valign=\"top\">2020.0</th>\n",
       "      <th>0</th>\n",
       "      <td>652</td>\n",
       "      <td>0.187343</td>\n",
       "    </tr>\n",
       "    <tr>\n",
       "      <th>1</th>\n",
       "      <td>139</td>\n",
       "      <td>0.039940</td>\n",
       "    </tr>\n",
       "  </tbody>\n",
       "</table>\n",
       "<p>242 rows × 2 columns</p>\n",
       "</div>"
      ],
      "text/plain": [
       "                   count  % of f_births\n",
       "year   marie_comp                      \n",
       "1900.0 0           48713      20.497532\n",
       "       1            2194       0.923195\n",
       "1901.0 0           52150      20.253056\n",
       "       1            2255       0.875755\n",
       "1902.0 0           51857      19.835371\n",
       "...                  ...            ...\n",
       "2018.0 1             173       0.048262\n",
       "2019.0 0             747       0.209294\n",
       "       1             155       0.043428\n",
       "2020.0 0             652       0.187343\n",
       "       1             139       0.039940\n",
       "\n",
       "[242 rows x 2 columns]"
      ]
     },
     "execution_count": 72,
     "metadata": {},
     "output_type": "execute_result"
    }
   ],
   "source": [
    "mg = marie.groupby(['year','marie_comp']).agg({('count','sum')}).loc[:,'count'] #242 rows\n",
    "mg['% of f_births'] = 100*mg['count']/gb1['count'].unstack(1).loc[:,'Female']\n",
    "mg"
   ]
  },
  {
   "cell_type": "code",
   "execution_count": 73,
   "metadata": {
    "ExecuteTime": {
     "end_time": "2022-01-30T23:10:02.705454Z",
     "start_time": "2022-01-30T23:10:02.419812Z"
    }
   },
   "outputs": [
    {
     "data": {
      "application/vnd.plotly.v1+json": {
       "config": {
        "plotlyServerURL": "https://plot.ly"
       },
       "data": [
        {
         "hovertemplate": "marie_comp=0<br>year=%{x}<br>value=%{y}<extra></extra>",
         "legendgroup": "0",
         "line": {
          "color": "#636efa"
         },
         "mode": "lines",
         "name": "0",
         "orientation": "v",
         "showlegend": true,
         "stackgroup": "1",
         "type": "scatter",
         "x": [
          1900,
          1901,
          1902,
          1903,
          1904,
          1905,
          1906,
          1907,
          1908,
          1909,
          1910,
          1911,
          1912,
          1913,
          1914,
          1915,
          1916,
          1917,
          1918,
          1919,
          1920,
          1921,
          1922,
          1923,
          1924,
          1925,
          1926,
          1927,
          1928,
          1929,
          1930,
          1931,
          1932,
          1933,
          1934,
          1935,
          1936,
          1937,
          1938,
          1939,
          1940,
          1941,
          1942,
          1943,
          1944,
          1945,
          1946,
          1947,
          1948,
          1949,
          1950,
          1951,
          1952,
          1953,
          1954,
          1955,
          1956,
          1957,
          1958,
          1959,
          1960,
          1961,
          1962,
          1963,
          1964,
          1965,
          1966,
          1967,
          1968,
          1969,
          1970,
          1971,
          1972,
          1973,
          1974,
          1975,
          1976,
          1977,
          1978,
          1979,
          1980,
          1981,
          1982,
          1983,
          1984,
          1985,
          1986,
          1987,
          1988,
          1989,
          1990,
          1991,
          1992,
          1993,
          1994,
          1995,
          1996,
          1997,
          1998,
          1999,
          2000,
          2001,
          2002,
          2003,
          2004,
          2005,
          2006,
          2007,
          2008,
          2009,
          2010,
          2011,
          2012,
          2013,
          2014,
          2015,
          2016,
          2017,
          2018,
          2019,
          2020
         ],
         "xaxis": "x",
         "y": [
          20.49753211615254,
          20.253056405635903,
          19.83537142791571,
          19.286288009179575,
          18.930073785410578,
          18.301281212986247,
          17.74348907306961,
          17.023479003463994,
          16.841731724627394,
          16.55646390071403,
          15.987180889925774,
          15.573115543657968,
          15.280643469137962,
          14.904854829869754,
          14.984186349614488,
          14.669343293896961,
          13.521244345904075,
          12.844541749981017,
          12.51897280797558,
          12.08734289704202,
          11.58890671833843,
          11.283377192175337,
          10.939272552475565,
          10.657391437172626,
          10.234342629230044,
          9.770806342155593,
          9.56419447421258,
          9.155687349073483,
          8.893173521386476,
          8.515670264331826,
          8.410487753186594,
          8.38030067265398,
          8.26144884427093,
          8.168936723924856,
          8.065156028461049,
          8.023261359842472,
          7.969774097889767,
          7.960165893710331,
          8.204424190101475,
          8.332657715613115,
          8.711454259314085,
          8.486660628693606,
          8.516480403672636,
          8.53093686497092,
          8.726078805726932,
          8.625945348781702,
          7.410156741001444,
          7.57963879740295,
          7.152468330806556,
          6.957701172599927,
          6.502587795235494,
          6.056105053505722,
          6.207118301510016,
          5.569253832914988,
          5.739279117734958,
          4.885173667017113,
          4.804919766674274,
          4.409038140409639,
          4.397296291521846,
          3.962897083577065,
          3.613289962601183,
          3.351622334097404,
          3.0427160084342204,
          2.716610084816005,
          2.5638657771331013,
          2.227287350185151,
          2.19874233402492,
          1.907869815941971,
          1.8953682956576,
          1.6967835541067626,
          1.3149567540960552,
          1.2289185471612456,
          1.15905564832045,
          1.1303502897527489,
          1.2930518716470893,
          1.3408757034178818,
          1.3422073396584229,
          1.4173695930899521,
          1.6525449191755304,
          1.7512609503583754,
          1.859933133908147,
          1.8549974858092066,
          1.8218827974260285,
          1.9362290565673674,
          1.9861842122602598,
          2.0523147230366328,
          2.0530787151101744,
          1.9659725484056156,
          1.9083721715198172,
          1.8266113479761072,
          1.7769554776994843,
          1.7622733984896304,
          1.9622517572504248,
          1.9183695264218446,
          2.0329928593342323,
          2.094413251444849,
          2.0340551596113143,
          1.8728618643576413,
          1.8606757661965032,
          1.6980645022506413,
          1.6459984987300902,
          1.456318208371891,
          1.2371820237792621,
          1.2638404696513028,
          1.0865113464132081,
          0.9372313205666764,
          0.8577289767263176,
          0.702391287191224,
          0.5823314930213455,
          0.5159877841598576,
          0.47636881132499437,
          0.4134395692536581,
          0.36404710479519486,
          0.3323045267489712,
          0.3169059297876165,
          0.27405586828404555,
          0.25904428847819577,
          0.23936133668604093,
          0.2217820677341963,
          0.20929352927167533,
          0.18734340160448704
         ],
         "yaxis": "y"
        },
        {
         "hovertemplate": "marie_comp=1<br>year=%{x}<br>value=%{y}<extra></extra>",
         "legendgroup": "1",
         "line": {
          "color": "#EF553B"
         },
         "mode": "lines",
         "name": "1",
         "orientation": "v",
         "showlegend": true,
         "stackgroup": "1",
         "type": "scatter",
         "x": [
          1900,
          1901,
          1902,
          1903,
          1904,
          1905,
          1906,
          1907,
          1908,
          1909,
          1910,
          1911,
          1912,
          1913,
          1914,
          1915,
          1916,
          1917,
          1918,
          1919,
          1920,
          1921,
          1922,
          1923,
          1924,
          1925,
          1926,
          1927,
          1928,
          1929,
          1930,
          1931,
          1932,
          1933,
          1934,
          1935,
          1936,
          1937,
          1938,
          1939,
          1940,
          1941,
          1942,
          1943,
          1944,
          1945,
          1946,
          1947,
          1948,
          1949,
          1950,
          1951,
          1952,
          1953,
          1954,
          1955,
          1956,
          1957,
          1958,
          1959,
          1960,
          1961,
          1962,
          1963,
          1964,
          1965,
          1966,
          1967,
          1968,
          1969,
          1970,
          1971,
          1972,
          1973,
          1974,
          1975,
          1976,
          1977,
          1978,
          1979,
          1980,
          1981,
          1982,
          1983,
          1984,
          1985,
          1986,
          1987,
          1988,
          1989,
          1990,
          1991,
          1992,
          1993,
          1994,
          1995,
          1996,
          1997,
          1998,
          1999,
          2000,
          2001,
          2002,
          2003,
          2004,
          2005,
          2006,
          2007,
          2008,
          2009,
          2010,
          2011,
          2012,
          2013,
          2014,
          2015,
          2016,
          2017,
          2018,
          2019,
          2020
         ],
         "xaxis": "x",
         "y": [
          0.9231947419136304,
          0.8757553632734221,
          0.8958181129679426,
          0.8793268311340601,
          0.8073347380504641,
          0.8788022582826739,
          0.8738614347295828,
          0.8602683209055924,
          0.8534421575585521,
          0.7836112488893489,
          0.8248419670557342,
          0.8255485552900282,
          0.9001573701696101,
          0.8936768869324192,
          0.8893186140654717,
          0.8622250012341006,
          0.8711242498272121,
          0.8067782024348883,
          0.8266823489876501,
          0.7957344166560874,
          0.8583366132792395,
          0.8541739509149016,
          0.8588367248838327,
          0.8722576867509754,
          0.8979602164719874,
          0.8492195693750385,
          0.8471601197295,
          0.8861654342304468,
          0.9437958659872167,
          0.9235308830373623,
          0.966423446062551,
          0.9777374811620129,
          1.0246638160748591,
          1.0357476803567576,
          1.083223851086801,
          1.1569358234480502,
          1.1958105301587412,
          1.2634683554945285,
          1.3445235433148874,
          1.56332065521994,
          1.6828458793648815,
          2.0016294256067955,
          2.265748633714672,
          2.7047859295073926,
          3.0195167254159343,
          3.1441158218482124,
          4.750136961610432,
          4.89513064652365,
          5.400467261726472,
          5.8756008486342575,
          5.951466108678141,
          6.077082961598372,
          5.847866975471306,
          6.41843744298092,
          7.217396416655643,
          7.230223673021264,
          6.959035482295662,
          6.989944426536631,
          6.6683043934046635,
          6.618596822137596,
          6.319218555214495,
          5.967287110612725,
          5.805870785851359,
          5.306052933362097,
          4.816905342156593,
          4.488114061205911,
          4.1339649875674525,
          3.789388488785471,
          3.283272352535194,
          2.994337773925496,
          2.8807163115580243,
          2.5456976557718063,
          2.1199685155443126,
          1.8459358885634463,
          1.755977903196857,
          1.578224885004723,
          1.4860351017484237,
          1.3806599635602943,
          1.1901054897269068,
          1.1935226971064508,
          1.1548226540308186,
          1.10624394905574,
          0.9788768675940237,
          0.9398415642050876,
          0.8697462712923112,
          0.805223125319533,
          0.7891892170799225,
          0.7489170711340745,
          0.7168728660634307,
          0.6340626921994391,
          0.5917936201760947,
          0.5482920820095445,
          0.5001870990494292,
          0.48001393951487115,
          0.44836738542426025,
          0.4025817924357433,
          0.38797363860132356,
          0.3669517054004578,
          0.35824991796320954,
          0.3694601149789994,
          0.3205622564292398,
          0.2768400428055192,
          0.2410945693448255,
          0.25838166513211563,
          0.21495446565293724,
          0.18279883607746747,
          0.18229251671642466,
          0.14969411992331996,
          0.1242273587449257,
          0.10390542836340103,
          0.08289017052405563,
          0.09817292097332884,
          0.07581134677076735,
          0.06790123456790123,
          0.062405300598371814,
          0.058141071381379,
          0.05180885769563915,
          0.05743572832076068,
          0.04826200970819617,
          0.04342770687698752,
          0.03993977426844126
         ],
         "yaxis": "y"
        }
       ],
       "layout": {
        "annotations": [
         {
          "font": {
           "color": "red",
           "size": 12
          },
          "showarrow": false,
          "text": "WW1",
          "x": 1918,
          "xanchor": "right",
          "xref": "x",
          "y": 1,
          "yanchor": "top",
          "yref": "y domain"
         },
         {
          "font": {
           "color": "red",
           "size": 12
          },
          "showarrow": false,
          "text": "WW2",
          "x": 1945,
          "xanchor": "right",
          "xref": "x",
          "y": 1,
          "yanchor": "top",
          "yref": "y domain"
         },
         {
          "font": {
           "color": "black",
           "size": 10
          },
          "showarrow": false,
          "text": "f_populaire",
          "x": 1938,
          "xanchor": "right",
          "xref": "x",
          "y": 1,
          "yanchor": "top",
          "yref": "y domain"
         },
         {
          "showarrow": false,
          "text": "1968",
          "x": 1968,
          "xanchor": "right",
          "xref": "x",
          "y": 1,
          "yanchor": "top",
          "yref": "y domain"
         }
        ],
        "legend": {
         "title": {
          "text": "marie_comp"
         },
         "tracegroupgap": 0
        },
        "margin": {
         "t": 60
        },
        "shapes": [
         {
          "fillcolor": "black",
          "line": {
           "width": 0
          },
          "opacity": 0.25,
          "type": "rect",
          "x0": 1914,
          "x1": 1918,
          "xref": "x",
          "y0": 0,
          "y1": 1,
          "yref": "y domain"
         },
         {
          "fillcolor": "black",
          "line": {
           "width": 0
          },
          "opacity": 0.25,
          "type": "rect",
          "x0": 1939,
          "x1": 1945,
          "xref": "x",
          "y0": 0,
          "y1": 1,
          "yref": "y domain"
         },
         {
          "fillcolor": "green",
          "line": {
           "width": 0
          },
          "opacity": 0.25,
          "type": "rect",
          "x0": 1936,
          "x1": 1938,
          "xref": "x",
          "y0": 0,
          "y1": 1,
          "yref": "y domain"
         },
         {
          "line": {
           "color": "green",
           "dash": "dash",
           "width": 3
          },
          "type": "line",
          "x0": 1968,
          "x1": 1968,
          "xref": "x",
          "y0": 0,
          "y1": 1,
          "yref": "y domain"
         }
        ],
        "template": {
         "data": {
          "bar": [
           {
            "error_x": {
             "color": "#2a3f5f"
            },
            "error_y": {
             "color": "#2a3f5f"
            },
            "marker": {
             "line": {
              "color": "#E5ECF6",
              "width": 0.5
             }
            },
            "type": "bar"
           }
          ],
          "barpolar": [
           {
            "marker": {
             "line": {
              "color": "#E5ECF6",
              "width": 0.5
             }
            },
            "type": "barpolar"
           }
          ],
          "carpet": [
           {
            "aaxis": {
             "endlinecolor": "#2a3f5f",
             "gridcolor": "white",
             "linecolor": "white",
             "minorgridcolor": "white",
             "startlinecolor": "#2a3f5f"
            },
            "baxis": {
             "endlinecolor": "#2a3f5f",
             "gridcolor": "white",
             "linecolor": "white",
             "minorgridcolor": "white",
             "startlinecolor": "#2a3f5f"
            },
            "type": "carpet"
           }
          ],
          "choropleth": [
           {
            "colorbar": {
             "outlinewidth": 0,
             "ticks": ""
            },
            "type": "choropleth"
           }
          ],
          "contour": [
           {
            "colorbar": {
             "outlinewidth": 0,
             "ticks": ""
            },
            "colorscale": [
             [
              0,
              "#0d0887"
             ],
             [
              0.1111111111111111,
              "#46039f"
             ],
             [
              0.2222222222222222,
              "#7201a8"
             ],
             [
              0.3333333333333333,
              "#9c179e"
             ],
             [
              0.4444444444444444,
              "#bd3786"
             ],
             [
              0.5555555555555556,
              "#d8576b"
             ],
             [
              0.6666666666666666,
              "#ed7953"
             ],
             [
              0.7777777777777778,
              "#fb9f3a"
             ],
             [
              0.8888888888888888,
              "#fdca26"
             ],
             [
              1,
              "#f0f921"
             ]
            ],
            "type": "contour"
           }
          ],
          "contourcarpet": [
           {
            "colorbar": {
             "outlinewidth": 0,
             "ticks": ""
            },
            "type": "contourcarpet"
           }
          ],
          "heatmap": [
           {
            "colorbar": {
             "outlinewidth": 0,
             "ticks": ""
            },
            "colorscale": [
             [
              0,
              "#0d0887"
             ],
             [
              0.1111111111111111,
              "#46039f"
             ],
             [
              0.2222222222222222,
              "#7201a8"
             ],
             [
              0.3333333333333333,
              "#9c179e"
             ],
             [
              0.4444444444444444,
              "#bd3786"
             ],
             [
              0.5555555555555556,
              "#d8576b"
             ],
             [
              0.6666666666666666,
              "#ed7953"
             ],
             [
              0.7777777777777778,
              "#fb9f3a"
             ],
             [
              0.8888888888888888,
              "#fdca26"
             ],
             [
              1,
              "#f0f921"
             ]
            ],
            "type": "heatmap"
           }
          ],
          "heatmapgl": [
           {
            "colorbar": {
             "outlinewidth": 0,
             "ticks": ""
            },
            "colorscale": [
             [
              0,
              "#0d0887"
             ],
             [
              0.1111111111111111,
              "#46039f"
             ],
             [
              0.2222222222222222,
              "#7201a8"
             ],
             [
              0.3333333333333333,
              "#9c179e"
             ],
             [
              0.4444444444444444,
              "#bd3786"
             ],
             [
              0.5555555555555556,
              "#d8576b"
             ],
             [
              0.6666666666666666,
              "#ed7953"
             ],
             [
              0.7777777777777778,
              "#fb9f3a"
             ],
             [
              0.8888888888888888,
              "#fdca26"
             ],
             [
              1,
              "#f0f921"
             ]
            ],
            "type": "heatmapgl"
           }
          ],
          "histogram": [
           {
            "marker": {
             "colorbar": {
              "outlinewidth": 0,
              "ticks": ""
             }
            },
            "type": "histogram"
           }
          ],
          "histogram2d": [
           {
            "colorbar": {
             "outlinewidth": 0,
             "ticks": ""
            },
            "colorscale": [
             [
              0,
              "#0d0887"
             ],
             [
              0.1111111111111111,
              "#46039f"
             ],
             [
              0.2222222222222222,
              "#7201a8"
             ],
             [
              0.3333333333333333,
              "#9c179e"
             ],
             [
              0.4444444444444444,
              "#bd3786"
             ],
             [
              0.5555555555555556,
              "#d8576b"
             ],
             [
              0.6666666666666666,
              "#ed7953"
             ],
             [
              0.7777777777777778,
              "#fb9f3a"
             ],
             [
              0.8888888888888888,
              "#fdca26"
             ],
             [
              1,
              "#f0f921"
             ]
            ],
            "type": "histogram2d"
           }
          ],
          "histogram2dcontour": [
           {
            "colorbar": {
             "outlinewidth": 0,
             "ticks": ""
            },
            "colorscale": [
             [
              0,
              "#0d0887"
             ],
             [
              0.1111111111111111,
              "#46039f"
             ],
             [
              0.2222222222222222,
              "#7201a8"
             ],
             [
              0.3333333333333333,
              "#9c179e"
             ],
             [
              0.4444444444444444,
              "#bd3786"
             ],
             [
              0.5555555555555556,
              "#d8576b"
             ],
             [
              0.6666666666666666,
              "#ed7953"
             ],
             [
              0.7777777777777778,
              "#fb9f3a"
             ],
             [
              0.8888888888888888,
              "#fdca26"
             ],
             [
              1,
              "#f0f921"
             ]
            ],
            "type": "histogram2dcontour"
           }
          ],
          "mesh3d": [
           {
            "colorbar": {
             "outlinewidth": 0,
             "ticks": ""
            },
            "type": "mesh3d"
           }
          ],
          "parcoords": [
           {
            "line": {
             "colorbar": {
              "outlinewidth": 0,
              "ticks": ""
             }
            },
            "type": "parcoords"
           }
          ],
          "pie": [
           {
            "automargin": true,
            "type": "pie"
           }
          ],
          "scatter": [
           {
            "marker": {
             "colorbar": {
              "outlinewidth": 0,
              "ticks": ""
             }
            },
            "type": "scatter"
           }
          ],
          "scatter3d": [
           {
            "line": {
             "colorbar": {
              "outlinewidth": 0,
              "ticks": ""
             }
            },
            "marker": {
             "colorbar": {
              "outlinewidth": 0,
              "ticks": ""
             }
            },
            "type": "scatter3d"
           }
          ],
          "scattercarpet": [
           {
            "marker": {
             "colorbar": {
              "outlinewidth": 0,
              "ticks": ""
             }
            },
            "type": "scattercarpet"
           }
          ],
          "scattergeo": [
           {
            "marker": {
             "colorbar": {
              "outlinewidth": 0,
              "ticks": ""
             }
            },
            "type": "scattergeo"
           }
          ],
          "scattergl": [
           {
            "marker": {
             "colorbar": {
              "outlinewidth": 0,
              "ticks": ""
             }
            },
            "type": "scattergl"
           }
          ],
          "scattermapbox": [
           {
            "marker": {
             "colorbar": {
              "outlinewidth": 0,
              "ticks": ""
             }
            },
            "type": "scattermapbox"
           }
          ],
          "scatterpolar": [
           {
            "marker": {
             "colorbar": {
              "outlinewidth": 0,
              "ticks": ""
             }
            },
            "type": "scatterpolar"
           }
          ],
          "scatterpolargl": [
           {
            "marker": {
             "colorbar": {
              "outlinewidth": 0,
              "ticks": ""
             }
            },
            "type": "scatterpolargl"
           }
          ],
          "scatterternary": [
           {
            "marker": {
             "colorbar": {
              "outlinewidth": 0,
              "ticks": ""
             }
            },
            "type": "scatterternary"
           }
          ],
          "surface": [
           {
            "colorbar": {
             "outlinewidth": 0,
             "ticks": ""
            },
            "colorscale": [
             [
              0,
              "#0d0887"
             ],
             [
              0.1111111111111111,
              "#46039f"
             ],
             [
              0.2222222222222222,
              "#7201a8"
             ],
             [
              0.3333333333333333,
              "#9c179e"
             ],
             [
              0.4444444444444444,
              "#bd3786"
             ],
             [
              0.5555555555555556,
              "#d8576b"
             ],
             [
              0.6666666666666666,
              "#ed7953"
             ],
             [
              0.7777777777777778,
              "#fb9f3a"
             ],
             [
              0.8888888888888888,
              "#fdca26"
             ],
             [
              1,
              "#f0f921"
             ]
            ],
            "type": "surface"
           }
          ],
          "table": [
           {
            "cells": {
             "fill": {
              "color": "#EBF0F8"
             },
             "line": {
              "color": "white"
             }
            },
            "header": {
             "fill": {
              "color": "#C8D4E3"
             },
             "line": {
              "color": "white"
             }
            },
            "type": "table"
           }
          ]
         },
         "layout": {
          "annotationdefaults": {
           "arrowcolor": "#2a3f5f",
           "arrowhead": 0,
           "arrowwidth": 1
          },
          "autotypenumbers": "strict",
          "coloraxis": {
           "colorbar": {
            "outlinewidth": 0,
            "ticks": ""
           }
          },
          "colorscale": {
           "diverging": [
            [
             0,
             "#8e0152"
            ],
            [
             0.1,
             "#c51b7d"
            ],
            [
             0.2,
             "#de77ae"
            ],
            [
             0.3,
             "#f1b6da"
            ],
            [
             0.4,
             "#fde0ef"
            ],
            [
             0.5,
             "#f7f7f7"
            ],
            [
             0.6,
             "#e6f5d0"
            ],
            [
             0.7,
             "#b8e186"
            ],
            [
             0.8,
             "#7fbc41"
            ],
            [
             0.9,
             "#4d9221"
            ],
            [
             1,
             "#276419"
            ]
           ],
           "sequential": [
            [
             0,
             "#0d0887"
            ],
            [
             0.1111111111111111,
             "#46039f"
            ],
            [
             0.2222222222222222,
             "#7201a8"
            ],
            [
             0.3333333333333333,
             "#9c179e"
            ],
            [
             0.4444444444444444,
             "#bd3786"
            ],
            [
             0.5555555555555556,
             "#d8576b"
            ],
            [
             0.6666666666666666,
             "#ed7953"
            ],
            [
             0.7777777777777778,
             "#fb9f3a"
            ],
            [
             0.8888888888888888,
             "#fdca26"
            ],
            [
             1,
             "#f0f921"
            ]
           ],
           "sequentialminus": [
            [
             0,
             "#0d0887"
            ],
            [
             0.1111111111111111,
             "#46039f"
            ],
            [
             0.2222222222222222,
             "#7201a8"
            ],
            [
             0.3333333333333333,
             "#9c179e"
            ],
            [
             0.4444444444444444,
             "#bd3786"
            ],
            [
             0.5555555555555556,
             "#d8576b"
            ],
            [
             0.6666666666666666,
             "#ed7953"
            ],
            [
             0.7777777777777778,
             "#fb9f3a"
            ],
            [
             0.8888888888888888,
             "#fdca26"
            ],
            [
             1,
             "#f0f921"
            ]
           ]
          },
          "colorway": [
           "#636efa",
           "#EF553B",
           "#00cc96",
           "#ab63fa",
           "#FFA15A",
           "#19d3f3",
           "#FF6692",
           "#B6E880",
           "#FF97FF",
           "#FECB52"
          ],
          "font": {
           "color": "#2a3f5f"
          },
          "geo": {
           "bgcolor": "white",
           "lakecolor": "white",
           "landcolor": "#E5ECF6",
           "showlakes": true,
           "showland": true,
           "subunitcolor": "white"
          },
          "hoverlabel": {
           "align": "left"
          },
          "hovermode": "closest",
          "mapbox": {
           "style": "light"
          },
          "paper_bgcolor": "white",
          "plot_bgcolor": "#E5ECF6",
          "polar": {
           "angularaxis": {
            "gridcolor": "white",
            "linecolor": "white",
            "ticks": ""
           },
           "bgcolor": "#E5ECF6",
           "radialaxis": {
            "gridcolor": "white",
            "linecolor": "white",
            "ticks": ""
           }
          },
          "scene": {
           "xaxis": {
            "backgroundcolor": "#E5ECF6",
            "gridcolor": "white",
            "gridwidth": 2,
            "linecolor": "white",
            "showbackground": true,
            "ticks": "",
            "zerolinecolor": "white"
           },
           "yaxis": {
            "backgroundcolor": "#E5ECF6",
            "gridcolor": "white",
            "gridwidth": 2,
            "linecolor": "white",
            "showbackground": true,
            "ticks": "",
            "zerolinecolor": "white"
           },
           "zaxis": {
            "backgroundcolor": "#E5ECF6",
            "gridcolor": "white",
            "gridwidth": 2,
            "linecolor": "white",
            "showbackground": true,
            "ticks": "",
            "zerolinecolor": "white"
           }
          },
          "shapedefaults": {
           "line": {
            "color": "#2a3f5f"
           }
          },
          "ternary": {
           "aaxis": {
            "gridcolor": "white",
            "linecolor": "white",
            "ticks": ""
           },
           "baxis": {
            "gridcolor": "white",
            "linecolor": "white",
            "ticks": ""
           },
           "bgcolor": "#E5ECF6",
           "caxis": {
            "gridcolor": "white",
            "linecolor": "white",
            "ticks": ""
           }
          },
          "title": {
           "x": 0.05
          },
          "xaxis": {
           "automargin": true,
           "gridcolor": "white",
           "linecolor": "white",
           "ticks": "",
           "title": {
            "standoff": 15
           },
           "zerolinecolor": "white",
           "zerolinewidth": 2
          },
          "yaxis": {
           "automargin": true,
           "gridcolor": "white",
           "linecolor": "white",
           "ticks": "",
           "title": {
            "standoff": 15
           },
           "zerolinecolor": "white",
           "zerolinewidth": 2
          }
         }
        },
        "xaxis": {
         "anchor": "y",
         "domain": [
          0,
          1
         ],
         "title": {
          "text": "year"
         }
        },
        "yaxis": {
         "anchor": "x",
         "domain": [
          0,
          1
         ],
         "title": {
          "text": "value"
         }
        }
       }
      },
      "text/html": [
       "<div>                            <div id=\"20818b62-9d30-4554-bbdf-99af483cdde6\" class=\"plotly-graph-div\" style=\"height:525px; width:100%;\"></div>            <script type=\"text/javascript\">                require([\"plotly\"], function(Plotly) {                    window.PLOTLYENV=window.PLOTLYENV || {};                                    if (document.getElementById(\"20818b62-9d30-4554-bbdf-99af483cdde6\")) {                    Plotly.newPlot(                        \"20818b62-9d30-4554-bbdf-99af483cdde6\",                        [{\"hovertemplate\": \"marie_comp=0<br>year=%{x}<br>value=%{y}<extra></extra>\", \"legendgroup\": \"0\", \"line\": {\"color\": \"#636efa\"}, \"mode\": \"lines\", \"name\": \"0\", \"orientation\": \"v\", \"showlegend\": true, \"stackgroup\": \"1\", \"type\": \"scatter\", \"x\": [1900.0, 1901.0, 1902.0, 1903.0, 1904.0, 1905.0, 1906.0, 1907.0, 1908.0, 1909.0, 1910.0, 1911.0, 1912.0, 1913.0, 1914.0, 1915.0, 1916.0, 1917.0, 1918.0, 1919.0, 1920.0, 1921.0, 1922.0, 1923.0, 1924.0, 1925.0, 1926.0, 1927.0, 1928.0, 1929.0, 1930.0, 1931.0, 1932.0, 1933.0, 1934.0, 1935.0, 1936.0, 1937.0, 1938.0, 1939.0, 1940.0, 1941.0, 1942.0, 1943.0, 1944.0, 1945.0, 1946.0, 1947.0, 1948.0, 1949.0, 1950.0, 1951.0, 1952.0, 1953.0, 1954.0, 1955.0, 1956.0, 1957.0, 1958.0, 1959.0, 1960.0, 1961.0, 1962.0, 1963.0, 1964.0, 1965.0, 1966.0, 1967.0, 1968.0, 1969.0, 1970.0, 1971.0, 1972.0, 1973.0, 1974.0, 1975.0, 1976.0, 1977.0, 1978.0, 1979.0, 1980.0, 1981.0, 1982.0, 1983.0, 1984.0, 1985.0, 1986.0, 1987.0, 1988.0, 1989.0, 1990.0, 1991.0, 1992.0, 1993.0, 1994.0, 1995.0, 1996.0, 1997.0, 1998.0, 1999.0, 2000.0, 2001.0, 2002.0, 2003.0, 2004.0, 2005.0, 2006.0, 2007.0, 2008.0, 2009.0, 2010.0, 2011.0, 2012.0, 2013.0, 2014.0, 2015.0, 2016.0, 2017.0, 2018.0, 2019.0, 2020.0], \"xaxis\": \"x\", \"y\": [20.49753211615254, 20.253056405635903, 19.83537142791571, 19.286288009179575, 18.930073785410578, 18.301281212986247, 17.74348907306961, 17.023479003463994, 16.841731724627394, 16.55646390071403, 15.987180889925774, 15.573115543657968, 15.280643469137962, 14.904854829869754, 14.984186349614488, 14.669343293896961, 13.521244345904075, 12.844541749981017, 12.51897280797558, 12.08734289704202, 11.58890671833843, 11.283377192175337, 10.939272552475565, 10.657391437172626, 10.234342629230044, 9.770806342155593, 9.56419447421258, 9.155687349073483, 8.893173521386476, 8.515670264331826, 8.410487753186594, 8.38030067265398, 8.26144884427093, 8.168936723924856, 8.065156028461049, 8.023261359842472, 7.969774097889767, 7.960165893710331, 8.204424190101475, 8.332657715613115, 8.711454259314085, 8.486660628693606, 8.516480403672636, 8.53093686497092, 8.726078805726932, 8.625945348781702, 7.410156741001444, 7.57963879740295, 7.152468330806556, 6.957701172599927, 6.502587795235494, 6.056105053505722, 6.207118301510016, 5.569253832914988, 5.739279117734958, 4.885173667017113, 4.804919766674274, 4.409038140409639, 4.397296291521846, 3.962897083577065, 3.613289962601183, 3.351622334097404, 3.0427160084342204, 2.716610084816005, 2.5638657771331013, 2.227287350185151, 2.19874233402492, 1.907869815941971, 1.8953682956576, 1.6967835541067626, 1.3149567540960552, 1.2289185471612456, 1.15905564832045, 1.1303502897527489, 1.2930518716470893, 1.3408757034178818, 1.3422073396584229, 1.4173695930899521, 1.6525449191755304, 1.7512609503583754, 1.859933133908147, 1.8549974858092066, 1.8218827974260285, 1.9362290565673674, 1.9861842122602598, 2.0523147230366328, 2.0530787151101744, 1.9659725484056156, 1.9083721715198172, 1.8266113479761072, 1.7769554776994843, 1.7622733984896304, 1.9622517572504248, 1.9183695264218446, 2.0329928593342323, 2.094413251444849, 2.0340551596113143, 1.8728618643576413, 1.8606757661965032, 1.6980645022506413, 1.6459984987300902, 1.456318208371891, 1.2371820237792621, 1.2638404696513028, 1.0865113464132081, 0.9372313205666764, 0.8577289767263176, 0.702391287191224, 0.5823314930213455, 0.5159877841598576, 0.47636881132499437, 0.4134395692536581, 0.36404710479519486, 0.3323045267489712, 0.3169059297876165, 0.27405586828404555, 0.25904428847819577, 0.23936133668604093, 0.2217820677341963, 0.20929352927167533, 0.18734340160448704], \"yaxis\": \"y\"}, {\"hovertemplate\": \"marie_comp=1<br>year=%{x}<br>value=%{y}<extra></extra>\", \"legendgroup\": \"1\", \"line\": {\"color\": \"#EF553B\"}, \"mode\": \"lines\", \"name\": \"1\", \"orientation\": \"v\", \"showlegend\": true, \"stackgroup\": \"1\", \"type\": \"scatter\", \"x\": [1900.0, 1901.0, 1902.0, 1903.0, 1904.0, 1905.0, 1906.0, 1907.0, 1908.0, 1909.0, 1910.0, 1911.0, 1912.0, 1913.0, 1914.0, 1915.0, 1916.0, 1917.0, 1918.0, 1919.0, 1920.0, 1921.0, 1922.0, 1923.0, 1924.0, 1925.0, 1926.0, 1927.0, 1928.0, 1929.0, 1930.0, 1931.0, 1932.0, 1933.0, 1934.0, 1935.0, 1936.0, 1937.0, 1938.0, 1939.0, 1940.0, 1941.0, 1942.0, 1943.0, 1944.0, 1945.0, 1946.0, 1947.0, 1948.0, 1949.0, 1950.0, 1951.0, 1952.0, 1953.0, 1954.0, 1955.0, 1956.0, 1957.0, 1958.0, 1959.0, 1960.0, 1961.0, 1962.0, 1963.0, 1964.0, 1965.0, 1966.0, 1967.0, 1968.0, 1969.0, 1970.0, 1971.0, 1972.0, 1973.0, 1974.0, 1975.0, 1976.0, 1977.0, 1978.0, 1979.0, 1980.0, 1981.0, 1982.0, 1983.0, 1984.0, 1985.0, 1986.0, 1987.0, 1988.0, 1989.0, 1990.0, 1991.0, 1992.0, 1993.0, 1994.0, 1995.0, 1996.0, 1997.0, 1998.0, 1999.0, 2000.0, 2001.0, 2002.0, 2003.0, 2004.0, 2005.0, 2006.0, 2007.0, 2008.0, 2009.0, 2010.0, 2011.0, 2012.0, 2013.0, 2014.0, 2015.0, 2016.0, 2017.0, 2018.0, 2019.0, 2020.0], \"xaxis\": \"x\", \"y\": [0.9231947419136304, 0.8757553632734221, 0.8958181129679426, 0.8793268311340601, 0.8073347380504641, 0.8788022582826739, 0.8738614347295828, 0.8602683209055924, 0.8534421575585521, 0.7836112488893489, 0.8248419670557342, 0.8255485552900282, 0.9001573701696101, 0.8936768869324192, 0.8893186140654717, 0.8622250012341006, 0.8711242498272121, 0.8067782024348883, 0.8266823489876501, 0.7957344166560874, 0.8583366132792395, 0.8541739509149016, 0.8588367248838327, 0.8722576867509754, 0.8979602164719874, 0.8492195693750385, 0.8471601197295, 0.8861654342304468, 0.9437958659872167, 0.9235308830373623, 0.966423446062551, 0.9777374811620129, 1.0246638160748591, 1.0357476803567576, 1.083223851086801, 1.1569358234480502, 1.1958105301587412, 1.2634683554945285, 1.3445235433148874, 1.56332065521994, 1.6828458793648815, 2.0016294256067955, 2.265748633714672, 2.7047859295073926, 3.0195167254159343, 3.1441158218482124, 4.750136961610432, 4.89513064652365, 5.400467261726472, 5.8756008486342575, 5.951466108678141, 6.077082961598372, 5.847866975471306, 6.41843744298092, 7.217396416655643, 7.230223673021264, 6.959035482295662, 6.989944426536631, 6.6683043934046635, 6.618596822137596, 6.319218555214495, 5.967287110612725, 5.805870785851359, 5.306052933362097, 4.816905342156593, 4.488114061205911, 4.1339649875674525, 3.789388488785471, 3.283272352535194, 2.994337773925496, 2.8807163115580243, 2.5456976557718063, 2.1199685155443126, 1.8459358885634463, 1.755977903196857, 1.578224885004723, 1.4860351017484237, 1.3806599635602943, 1.1901054897269068, 1.1935226971064508, 1.1548226540308186, 1.10624394905574, 0.9788768675940237, 0.9398415642050876, 0.8697462712923112, 0.805223125319533, 0.7891892170799225, 0.7489170711340745, 0.7168728660634307, 0.6340626921994391, 0.5917936201760947, 0.5482920820095445, 0.5001870990494292, 0.48001393951487115, 0.44836738542426025, 0.4025817924357433, 0.38797363860132356, 0.3669517054004578, 0.35824991796320954, 0.3694601149789994, 0.3205622564292398, 0.2768400428055192, 0.2410945693448255, 0.25838166513211563, 0.21495446565293724, 0.18279883607746747, 0.18229251671642466, 0.14969411992331996, 0.1242273587449257, 0.10390542836340103, 0.08289017052405563, 0.09817292097332884, 0.07581134677076735, 0.06790123456790123, 0.062405300598371814, 0.058141071381379, 0.05180885769563915, 0.05743572832076068, 0.04826200970819617, 0.04342770687698752, 0.03993977426844126], \"yaxis\": \"y\"}],                        {\"annotations\": [{\"font\": {\"color\": \"red\", \"size\": 12}, \"showarrow\": false, \"text\": \"WW1\", \"x\": 1918, \"xanchor\": \"right\", \"xref\": \"x\", \"y\": 1, \"yanchor\": \"top\", \"yref\": \"y domain\"}, {\"font\": {\"color\": \"red\", \"size\": 12}, \"showarrow\": false, \"text\": \"WW2\", \"x\": 1945, \"xanchor\": \"right\", \"xref\": \"x\", \"y\": 1, \"yanchor\": \"top\", \"yref\": \"y domain\"}, {\"font\": {\"color\": \"black\", \"size\": 10}, \"showarrow\": false, \"text\": \"f_populaire\", \"x\": 1938, \"xanchor\": \"right\", \"xref\": \"x\", \"y\": 1, \"yanchor\": \"top\", \"yref\": \"y domain\"}, {\"showarrow\": false, \"text\": \"1968\", \"x\": 1968, \"xanchor\": \"right\", \"xref\": \"x\", \"y\": 1, \"yanchor\": \"top\", \"yref\": \"y domain\"}], \"legend\": {\"title\": {\"text\": \"marie_comp\"}, \"tracegroupgap\": 0}, \"margin\": {\"t\": 60}, \"shapes\": [{\"fillcolor\": \"black\", \"line\": {\"width\": 0}, \"opacity\": 0.25, \"type\": \"rect\", \"x0\": 1914, \"x1\": 1918, \"xref\": \"x\", \"y0\": 0, \"y1\": 1, \"yref\": \"y domain\"}, {\"fillcolor\": \"black\", \"line\": {\"width\": 0}, \"opacity\": 0.25, \"type\": \"rect\", \"x0\": 1939, \"x1\": 1945, \"xref\": \"x\", \"y0\": 0, \"y1\": 1, \"yref\": \"y domain\"}, {\"fillcolor\": \"green\", \"line\": {\"width\": 0}, \"opacity\": 0.25, \"type\": \"rect\", \"x0\": 1936, \"x1\": 1938, \"xref\": \"x\", \"y0\": 0, \"y1\": 1, \"yref\": \"y domain\"}, {\"line\": {\"color\": \"green\", \"dash\": \"dash\", \"width\": 3}, \"type\": \"line\", \"x0\": 1968, \"x1\": 1968, \"xref\": \"x\", \"y0\": 0, \"y1\": 1, \"yref\": \"y domain\"}], \"template\": {\"data\": {\"bar\": [{\"error_x\": {\"color\": \"#2a3f5f\"}, \"error_y\": {\"color\": \"#2a3f5f\"}, \"marker\": {\"line\": {\"color\": \"#E5ECF6\", \"width\": 0.5}}, \"type\": \"bar\"}], \"barpolar\": [{\"marker\": {\"line\": {\"color\": \"#E5ECF6\", \"width\": 0.5}}, \"type\": \"barpolar\"}], \"carpet\": [{\"aaxis\": {\"endlinecolor\": \"#2a3f5f\", \"gridcolor\": \"white\", \"linecolor\": \"white\", \"minorgridcolor\": \"white\", \"startlinecolor\": \"#2a3f5f\"}, \"baxis\": {\"endlinecolor\": \"#2a3f5f\", \"gridcolor\": \"white\", \"linecolor\": \"white\", \"minorgridcolor\": \"white\", \"startlinecolor\": \"#2a3f5f\"}, \"type\": \"carpet\"}], \"choropleth\": [{\"colorbar\": {\"outlinewidth\": 0, \"ticks\": \"\"}, \"type\": \"choropleth\"}], \"contour\": [{\"colorbar\": {\"outlinewidth\": 0, \"ticks\": \"\"}, \"colorscale\": [[0.0, \"#0d0887\"], [0.1111111111111111, \"#46039f\"], [0.2222222222222222, \"#7201a8\"], [0.3333333333333333, \"#9c179e\"], [0.4444444444444444, \"#bd3786\"], [0.5555555555555556, \"#d8576b\"], [0.6666666666666666, \"#ed7953\"], [0.7777777777777778, \"#fb9f3a\"], [0.8888888888888888, \"#fdca26\"], [1.0, \"#f0f921\"]], \"type\": \"contour\"}], \"contourcarpet\": [{\"colorbar\": {\"outlinewidth\": 0, \"ticks\": \"\"}, \"type\": \"contourcarpet\"}], \"heatmap\": [{\"colorbar\": {\"outlinewidth\": 0, \"ticks\": \"\"}, \"colorscale\": [[0.0, \"#0d0887\"], [0.1111111111111111, \"#46039f\"], [0.2222222222222222, \"#7201a8\"], [0.3333333333333333, \"#9c179e\"], [0.4444444444444444, \"#bd3786\"], [0.5555555555555556, \"#d8576b\"], [0.6666666666666666, \"#ed7953\"], [0.7777777777777778, \"#fb9f3a\"], [0.8888888888888888, \"#fdca26\"], [1.0, \"#f0f921\"]], \"type\": \"heatmap\"}], \"heatmapgl\": [{\"colorbar\": {\"outlinewidth\": 0, \"ticks\": \"\"}, \"colorscale\": [[0.0, \"#0d0887\"], [0.1111111111111111, \"#46039f\"], [0.2222222222222222, \"#7201a8\"], [0.3333333333333333, \"#9c179e\"], [0.4444444444444444, \"#bd3786\"], [0.5555555555555556, \"#d8576b\"], [0.6666666666666666, \"#ed7953\"], [0.7777777777777778, \"#fb9f3a\"], [0.8888888888888888, \"#fdca26\"], [1.0, \"#f0f921\"]], \"type\": \"heatmapgl\"}], \"histogram\": [{\"marker\": {\"colorbar\": {\"outlinewidth\": 0, \"ticks\": \"\"}}, \"type\": \"histogram\"}], \"histogram2d\": [{\"colorbar\": {\"outlinewidth\": 0, \"ticks\": \"\"}, \"colorscale\": [[0.0, \"#0d0887\"], [0.1111111111111111, \"#46039f\"], [0.2222222222222222, \"#7201a8\"], [0.3333333333333333, \"#9c179e\"], [0.4444444444444444, \"#bd3786\"], [0.5555555555555556, \"#d8576b\"], [0.6666666666666666, \"#ed7953\"], [0.7777777777777778, \"#fb9f3a\"], [0.8888888888888888, \"#fdca26\"], [1.0, \"#f0f921\"]], \"type\": \"histogram2d\"}], \"histogram2dcontour\": [{\"colorbar\": {\"outlinewidth\": 0, \"ticks\": \"\"}, \"colorscale\": [[0.0, \"#0d0887\"], [0.1111111111111111, \"#46039f\"], [0.2222222222222222, \"#7201a8\"], [0.3333333333333333, \"#9c179e\"], [0.4444444444444444, \"#bd3786\"], [0.5555555555555556, \"#d8576b\"], [0.6666666666666666, \"#ed7953\"], [0.7777777777777778, \"#fb9f3a\"], [0.8888888888888888, \"#fdca26\"], [1.0, \"#f0f921\"]], \"type\": \"histogram2dcontour\"}], \"mesh3d\": [{\"colorbar\": {\"outlinewidth\": 0, \"ticks\": \"\"}, \"type\": \"mesh3d\"}], \"parcoords\": [{\"line\": {\"colorbar\": {\"outlinewidth\": 0, \"ticks\": \"\"}}, \"type\": \"parcoords\"}], \"pie\": [{\"automargin\": true, \"type\": \"pie\"}], \"scatter\": [{\"marker\": {\"colorbar\": {\"outlinewidth\": 0, \"ticks\": \"\"}}, \"type\": \"scatter\"}], \"scatter3d\": [{\"line\": {\"colorbar\": {\"outlinewidth\": 0, \"ticks\": \"\"}}, \"marker\": {\"colorbar\": {\"outlinewidth\": 0, \"ticks\": \"\"}}, \"type\": \"scatter3d\"}], \"scattercarpet\": [{\"marker\": {\"colorbar\": {\"outlinewidth\": 0, \"ticks\": \"\"}}, \"type\": \"scattercarpet\"}], \"scattergeo\": [{\"marker\": {\"colorbar\": {\"outlinewidth\": 0, \"ticks\": \"\"}}, \"type\": \"scattergeo\"}], \"scattergl\": [{\"marker\": {\"colorbar\": {\"outlinewidth\": 0, \"ticks\": \"\"}}, \"type\": \"scattergl\"}], \"scattermapbox\": [{\"marker\": {\"colorbar\": {\"outlinewidth\": 0, \"ticks\": \"\"}}, \"type\": \"scattermapbox\"}], \"scatterpolar\": [{\"marker\": {\"colorbar\": {\"outlinewidth\": 0, \"ticks\": \"\"}}, \"type\": \"scatterpolar\"}], \"scatterpolargl\": [{\"marker\": {\"colorbar\": {\"outlinewidth\": 0, \"ticks\": \"\"}}, \"type\": \"scatterpolargl\"}], \"scatterternary\": [{\"marker\": {\"colorbar\": {\"outlinewidth\": 0, \"ticks\": \"\"}}, \"type\": \"scatterternary\"}], \"surface\": [{\"colorbar\": {\"outlinewidth\": 0, \"ticks\": \"\"}, \"colorscale\": [[0.0, \"#0d0887\"], [0.1111111111111111, \"#46039f\"], [0.2222222222222222, \"#7201a8\"], [0.3333333333333333, \"#9c179e\"], [0.4444444444444444, \"#bd3786\"], [0.5555555555555556, \"#d8576b\"], [0.6666666666666666, \"#ed7953\"], [0.7777777777777778, \"#fb9f3a\"], [0.8888888888888888, \"#fdca26\"], [1.0, \"#f0f921\"]], \"type\": \"surface\"}], \"table\": [{\"cells\": {\"fill\": {\"color\": \"#EBF0F8\"}, \"line\": {\"color\": \"white\"}}, \"header\": {\"fill\": {\"color\": \"#C8D4E3\"}, \"line\": {\"color\": \"white\"}}, \"type\": \"table\"}]}, \"layout\": {\"annotationdefaults\": {\"arrowcolor\": \"#2a3f5f\", \"arrowhead\": 0, \"arrowwidth\": 1}, \"autotypenumbers\": \"strict\", \"coloraxis\": {\"colorbar\": {\"outlinewidth\": 0, \"ticks\": \"\"}}, \"colorscale\": {\"diverging\": [[0, \"#8e0152\"], [0.1, \"#c51b7d\"], [0.2, \"#de77ae\"], [0.3, \"#f1b6da\"], [0.4, \"#fde0ef\"], [0.5, \"#f7f7f7\"], [0.6, \"#e6f5d0\"], [0.7, \"#b8e186\"], [0.8, \"#7fbc41\"], [0.9, \"#4d9221\"], [1, \"#276419\"]], \"sequential\": [[0.0, \"#0d0887\"], [0.1111111111111111, \"#46039f\"], [0.2222222222222222, \"#7201a8\"], [0.3333333333333333, \"#9c179e\"], [0.4444444444444444, \"#bd3786\"], [0.5555555555555556, \"#d8576b\"], [0.6666666666666666, \"#ed7953\"], [0.7777777777777778, \"#fb9f3a\"], [0.8888888888888888, \"#fdca26\"], [1.0, \"#f0f921\"]], \"sequentialminus\": [[0.0, \"#0d0887\"], [0.1111111111111111, \"#46039f\"], [0.2222222222222222, \"#7201a8\"], [0.3333333333333333, \"#9c179e\"], [0.4444444444444444, \"#bd3786\"], [0.5555555555555556, \"#d8576b\"], [0.6666666666666666, \"#ed7953\"], [0.7777777777777778, \"#fb9f3a\"], [0.8888888888888888, \"#fdca26\"], [1.0, \"#f0f921\"]]}, \"colorway\": [\"#636efa\", \"#EF553B\", \"#00cc96\", \"#ab63fa\", \"#FFA15A\", \"#19d3f3\", \"#FF6692\", \"#B6E880\", \"#FF97FF\", \"#FECB52\"], \"font\": {\"color\": \"#2a3f5f\"}, \"geo\": {\"bgcolor\": \"white\", \"lakecolor\": \"white\", \"landcolor\": \"#E5ECF6\", \"showlakes\": true, \"showland\": true, \"subunitcolor\": \"white\"}, \"hoverlabel\": {\"align\": \"left\"}, \"hovermode\": \"closest\", \"mapbox\": {\"style\": \"light\"}, \"paper_bgcolor\": \"white\", \"plot_bgcolor\": \"#E5ECF6\", \"polar\": {\"angularaxis\": {\"gridcolor\": \"white\", \"linecolor\": \"white\", \"ticks\": \"\"}, \"bgcolor\": \"#E5ECF6\", \"radialaxis\": {\"gridcolor\": \"white\", \"linecolor\": \"white\", \"ticks\": \"\"}}, \"scene\": {\"xaxis\": {\"backgroundcolor\": \"#E5ECF6\", \"gridcolor\": \"white\", \"gridwidth\": 2, \"linecolor\": \"white\", \"showbackground\": true, \"ticks\": \"\", \"zerolinecolor\": \"white\"}, \"yaxis\": {\"backgroundcolor\": \"#E5ECF6\", \"gridcolor\": \"white\", \"gridwidth\": 2, \"linecolor\": \"white\", \"showbackground\": true, \"ticks\": \"\", \"zerolinecolor\": \"white\"}, \"zaxis\": {\"backgroundcolor\": \"#E5ECF6\", \"gridcolor\": \"white\", \"gridwidth\": 2, \"linecolor\": \"white\", \"showbackground\": true, \"ticks\": \"\", \"zerolinecolor\": \"white\"}}, \"shapedefaults\": {\"line\": {\"color\": \"#2a3f5f\"}}, \"ternary\": {\"aaxis\": {\"gridcolor\": \"white\", \"linecolor\": \"white\", \"ticks\": \"\"}, \"baxis\": {\"gridcolor\": \"white\", \"linecolor\": \"white\", \"ticks\": \"\"}, \"bgcolor\": \"#E5ECF6\", \"caxis\": {\"gridcolor\": \"white\", \"linecolor\": \"white\", \"ticks\": \"\"}}, \"title\": {\"x\": 0.05}, \"xaxis\": {\"automargin\": true, \"gridcolor\": \"white\", \"linecolor\": \"white\", \"ticks\": \"\", \"title\": {\"standoff\": 15}, \"zerolinecolor\": \"white\", \"zerolinewidth\": 2}, \"yaxis\": {\"automargin\": true, \"gridcolor\": \"white\", \"linecolor\": \"white\", \"ticks\": \"\", \"title\": {\"standoff\": 15}, \"zerolinecolor\": \"white\", \"zerolinewidth\": 2}}}, \"xaxis\": {\"anchor\": \"y\", \"domain\": [0.0, 1.0], \"title\": {\"text\": \"year\"}}, \"yaxis\": {\"anchor\": \"x\", \"domain\": [0.0, 1.0], \"title\": {\"text\": \"value\"}}},                        {\"responsive\": true}                    ).then(function(){\n",
       "                            \n",
       "var gd = document.getElementById('20818b62-9d30-4554-bbdf-99af483cdde6');\n",
       "var x = new MutationObserver(function (mutations, observer) {{\n",
       "        var display = window.getComputedStyle(gd).display;\n",
       "        if (!display || display === 'none') {{\n",
       "            console.log([gd, 'removed!']);\n",
       "            Plotly.purge(gd);\n",
       "            observer.disconnect();\n",
       "        }}\n",
       "}});\n",
       "\n",
       "// Listen for the removal of the full notebook cells\n",
       "var notebookContainer = gd.closest('#notebook-container');\n",
       "if (notebookContainer) {{\n",
       "    x.observe(notebookContainer, {childList: true});\n",
       "}}\n",
       "\n",
       "// Listen for the clearing of the current output cell\n",
       "var outputEl = gd.closest('.output');\n",
       "if (outputEl) {{\n",
       "    x.observe(outputEl, {childList: true});\n",
       "}}\n",
       "\n",
       "                        })                };                });            </script>        </div>"
      ]
     },
     "metadata": {},
     "output_type": "display_data"
    }
   ],
   "source": [
    "# your code here\n",
    "\n",
    "_ = mg.unstack(1)['% of f_births'].plot.area()\n",
    "\n",
    "_.add_vrect(x0=1914, x1=1918, fillcolor=\"black\", opacity=0.25, line_width=0, annotation_text=\"WW1\", annotation_font_size=12, annotation_font_color='red')\n",
    "_.add_vrect(x0=1939, x1=1945, fillcolor=\"black\", opacity=0.25, line_width=0, annotation_text=\"WW2\", annotation_font_size=12, annotation_font_color='red')\n",
    "_.add_vrect(x0=1936, x1=1938, fillcolor=\"green\", opacity=0.25, line_width=0, annotation_text=\"f_populaire\", annotation_font_size=10, annotation_font_color='black')\n",
    "_.add_vline(x=1968, line_width=3, line_dash=\"dash\", line_color=\"green\", annotation_text=\"1968\", annotation_position = \"top left\")"
   ]
  },
  {
   "cell_type": "markdown",
   "metadata": {
    "nteract": {
     "transient": {
      "deleting": false
     }
    }
   },
   "source": [
    "# Top 10 firstnames of year 2000\n",
    "\n",
    "**QUESTION:** For each sex, select the ten most popular names in year 2000, and plot the proportion\n",
    "of newborns given that name over time. Take into account that some names might have\n",
    "zero occurrence during certain years.\n",
    "\n",
    "__Hint:__ Leave aside the rows with '_PRENOMS_RARES'."
   ]
  },
  {
   "cell_type": "code",
   "execution_count": 74,
   "metadata": {
    "ExecuteTime": {
     "end_time": "2022-01-30T23:10:02.924650Z",
     "start_time": "2022-01-30T23:10:02.718573Z"
    }
   },
   "outputs": [],
   "source": [
    "gender_gb = (\n",
    "    df.loc[(df.year==2000)&(df.firstname!='_PRENOMS_RARES')]\n",
    "    .groupby(['gender','firstname'])\n",
    "    .agg({'count':'sum'})\n",
    ")"
   ]
  },
  {
   "cell_type": "code",
   "execution_count": 75,
   "metadata": {
    "ExecuteTime": {
     "end_time": "2022-01-30T23:10:02.949997Z",
     "start_time": "2022-01-30T23:10:02.927815Z"
    }
   },
   "outputs": [],
   "source": [
    "f_10 = gender_gb.loc['Female',:].sort_values('count',ascending=False).head(10).index\n",
    "m_10 = gender_gb.loc['Male',:].sort_values('count',ascending=False).head(10).index"
   ]
  },
  {
   "cell_type": "code",
   "execution_count": 76,
   "metadata": {
    "ExecuteTime": {
     "end_time": "2022-01-30T23:10:03.120838Z",
     "start_time": "2022-01-30T23:10:02.954784Z"
    }
   },
   "outputs": [],
   "source": [
    "_m = df[(df.gender=='Male')&(df.firstname.isin(m_10))].groupby(['year','firstname']).agg({'count':'sum'})\n",
    "_f = df[(df.gender=='Female')&(df.firstname.isin(f_10))].groupby(['year','firstname']).agg({'count':'sum'})"
   ]
  },
  {
   "cell_type": "code",
   "execution_count": 77,
   "metadata": {
    "ExecuteTime": {
     "end_time": "2022-01-30T23:10:03.560580Z",
     "start_time": "2022-01-30T23:10:03.124218Z"
    }
   },
   "outputs": [],
   "source": [
    "rm = 100*_m['count']/df.loc[(df.firstname!='_PRENOMS_RARES')].groupby(['year','gender']).agg({'count':'sum'}).unstack(0).loc['Male','count']\n",
    "rf = 100*_f['count']/df.loc[(df.firstname!='_PRENOMS_RARES')].groupby(['year','gender']).agg({'count':'sum'}).unstack(0).loc['Female','count']"
   ]
  },
  {
   "cell_type": "code",
   "execution_count": 78,
   "metadata": {
    "ExecuteTime": {
     "end_time": "2022-01-30T23:10:03.808207Z",
     "start_time": "2022-01-30T23:10:03.565940Z"
    },
    "jupyter": {
     "outputs_hidden": false,
     "source_hidden": false
    },
    "nteract": {
     "transient": {
      "deleting": false
     }
    }
   },
   "outputs": [
    {
     "data": {
      "application/vnd.plotly.v1+json": {
       "config": {
        "plotlyServerURL": "https://plot.ly"
       },
       "data": [
        {
         "hovertemplate": "firstname=ALEXANDRE<br>year=%{x}<br>value=%{y}<extra></extra>",
         "legendgroup": "ALEXANDRE",
         "line": {
          "color": "#636efa",
          "dash": "solid"
         },
         "mode": "lines",
         "name": "ALEXANDRE",
         "showlegend": true,
         "type": "scattergl",
         "x": [
          1900,
          1901,
          1902,
          1903,
          1904,
          1905,
          1906,
          1907,
          1908,
          1909,
          1910,
          1911,
          1912,
          1913,
          1914,
          1915,
          1916,
          1917,
          1918,
          1919,
          1920,
          1921,
          1922,
          1923,
          1924,
          1925,
          1926,
          1927,
          1928,
          1929,
          1930,
          1931,
          1932,
          1933,
          1934,
          1935,
          1936,
          1937,
          1938,
          1939,
          1940,
          1941,
          1942,
          1943,
          1944,
          1945,
          1946,
          1947,
          1948,
          1949,
          1950,
          1951,
          1952,
          1953,
          1954,
          1955,
          1956,
          1957,
          1958,
          1959,
          1960,
          1961,
          1962,
          1963,
          1964,
          1965,
          1966,
          1967,
          1968,
          1969,
          1970,
          1971,
          1972,
          1973,
          1974,
          1975,
          1976,
          1977,
          1978,
          1979,
          1980,
          1981,
          1982,
          1983,
          1984,
          1985,
          1986,
          1987,
          1988,
          1989,
          1990,
          1991,
          1992,
          1993,
          1994,
          1995,
          1996,
          1997,
          1998,
          1999,
          2000,
          2001,
          2002,
          2003,
          2004,
          2005,
          2006,
          2007,
          2008,
          2009,
          2010,
          2011,
          2012,
          2013,
          2014,
          2015,
          2016,
          2017,
          2018,
          2019,
          2020
         ],
         "xaxis": "x",
         "y": [
          0.5546787178235247,
          0.5585185641910987,
          0.5275264378912734,
          0.5158391241896036,
          0.5058530393493489,
          0.5281410794024979,
          0.46380025786238244,
          0.45586931746232745,
          0.4352134775786605,
          0.4401448060049496,
          0.451276153050507,
          0.44064174666412664,
          0.4184553925003194,
          0.3746529743133608,
          0.3784848056980593,
          0.397929337757418,
          0.3901314476980028,
          0.3268218107694921,
          0.3186863960004265,
          0.33749560136064577,
          0.3159597593650473,
          0.28525081673687314,
          0.28696194635059263,
          0.27853668288132205,
          0.24373640605024158,
          0.2553999067179182,
          0.24219358187008044,
          0.21944219210522928,
          0.20617377685580224,
          0.20613318583501627,
          0.20481373979401413,
          0.19451129038291293,
          0.18355325090753388,
          0.1704945003914076,
          0.13383703527891505,
          0.17607948137847057,
          0.14963271968803846,
          0.13516136431810563,
          0.1195163854830276,
          0.119233630290325,
          0.11602650248460793,
          0.09300449796089696,
          0.08954580583794067,
          0.08435506250882285,
          0.07931867989100519,
          0.07044223568152021,
          0.06752270705081592,
          0.06635874457139478,
          0.06199424307876993,
          0.055654643218678926,
          0.05877812477819576,
          0.056113742324771565,
          0.053742642238473706,
          0.053676992196736814,
          0.06116150621339976,
          0.05412432049160955,
          0.05249405616628611,
          0.059201111302750756,
          0.06328832049205498,
          0.07363314179540997,
          0.06924742638118508,
          0.07308780069274524,
          0.07807220994576036,
          0.0957852306626716,
          0.10634219662693814,
          0.1379055917643132,
          0.1622118923106721,
          0.18945266965294172,
          0.23843032232500308,
          0.2926002926002926,
          0.4097091648305294,
          0.4641085753818594,
          0.6720623422810894,
          0.7162147346470277,
          0.8156688867927239,
          1.050793970524054,
          1.2025681236345116,
          1.2828706373825074,
          1.3724452588374365,
          1.5780467060836774,
          1.6986736550142933,
          1.6975070055077786,
          1.7581059260652578,
          1.6442696383699333,
          1.5574838200149748,
          1.7558125984810486,
          2.1892015087232455,
          2.0854316615207416,
          2.0806707352425895,
          2.116076693166338,
          2.129142188652374,
          2.2712916004920576,
          2.2929034650814755,
          2.455669893914841,
          2.4252460673169876,
          2.4185737015661433,
          2.3566938238460415,
          2.198674999127936,
          1.994968126157782,
          1.8247639034627492,
          1.6032779467585028,
          1.4127404054460466,
          1.2995295563577025,
          1.3269111734139225,
          1.0726379253386191,
          1.04761635832022,
          0.9619522251243408,
          0.8502624392125808,
          0.7320508217998509,
          0.7012732714195724,
          0.6542533991096138,
          0.5936429668876877,
          0.539126379525497,
          0.5110789993228851,
          0.47269263005554657,
          0.4628589764158511,
          0.42915287409420044,
          0.3937403659272167,
          0.3900938264889856,
          0.3310925768126171,
          0.3063631538597629
         ],
         "yaxis": "y"
        },
        {
         "hovertemplate": "firstname=ANTOINE<br>year=%{x}<br>value=%{y}<extra></extra>",
         "legendgroup": "ANTOINE",
         "line": {
          "color": "#EF553B",
          "dash": "solid"
         },
         "mode": "lines",
         "name": "ANTOINE",
         "showlegend": true,
         "type": "scattergl",
         "x": [
          1900,
          1901,
          1902,
          1903,
          1904,
          1905,
          1906,
          1907,
          1908,
          1909,
          1910,
          1911,
          1912,
          1913,
          1914,
          1915,
          1916,
          1917,
          1918,
          1919,
          1920,
          1921,
          1922,
          1923,
          1924,
          1925,
          1926,
          1927,
          1928,
          1929,
          1930,
          1931,
          1932,
          1933,
          1934,
          1935,
          1936,
          1937,
          1938,
          1939,
          1940,
          1941,
          1942,
          1943,
          1944,
          1945,
          1946,
          1947,
          1948,
          1949,
          1950,
          1951,
          1952,
          1953,
          1954,
          1955,
          1956,
          1957,
          1958,
          1959,
          1960,
          1961,
          1962,
          1963,
          1964,
          1965,
          1966,
          1967,
          1968,
          1969,
          1970,
          1971,
          1972,
          1973,
          1974,
          1975,
          1976,
          1977,
          1978,
          1979,
          1980,
          1981,
          1982,
          1983,
          1984,
          1985,
          1986,
          1987,
          1988,
          1989,
          1990,
          1991,
          1992,
          1993,
          1994,
          1995,
          1996,
          1997,
          1998,
          1999,
          2000,
          2001,
          2002,
          2003,
          2004,
          2005,
          2006,
          2007,
          2008,
          2009,
          2010,
          2011,
          2012,
          2013,
          2014,
          2015,
          2016,
          2017,
          2018,
          2019,
          2020
         ],
         "xaxis": "x",
         "y": [
          1.1825954649195518,
          1.1232029266989343,
          1.0609635361510765,
          1.0355603866609728,
          1.026750035259273,
          0.9443071831720199,
          0.9187997518184579,
          0.9086820398841987,
          0.8997439920720125,
          0.8582005604074203,
          0.8482394239639618,
          0.8353142885540822,
          0.8318784814830585,
          0.8124540347391483,
          0.8303132991324266,
          0.8149211587607003,
          0.8378959501695742,
          0.8513674197384067,
          0.738665308201732,
          0.6941852653579159,
          0.6897401546938982,
          0.6721687804151516,
          0.6673298376355145,
          0.6873459052442193,
          0.6757542047850703,
          0.689322418257555,
          0.6801282728970646,
          0.6448125410247499,
          0.6286870637867992,
          0.5933162681210686,
          0.6079636764066293,
          0.6187578708494906,
          0.5550675494853897,
          0.5473072483381761,
          0.5264476486217422,
          0.5171686142648595,
          0.4883119057418504,
          0.4605367635381928,
          0.4424951891097808,
          0.42888514776072123,
          0.43324374160077506,
          0.40288231638813327,
          0.3678437667201712,
          0.33156704161631184,
          0.32684766368879725,
          0.29963228478885867,
          0.245249698519017,
          0.22667095917951682,
          0.2525772518368259,
          0.2592104052271542,
          0.2641688551352119,
          0.27133188161154975,
          0.26709166595241457,
          0.2530148971388035,
          0.2486297244920197,
          0.2545497518317183,
          0.26058708599138436,
          0.2906448259627173,
          0.2887822623933768,
          0.3089839314592437,
          0.3260882151996943,
          0.3447837554418634,
          0.34013916029000857,
          0.32790550359578197,
          0.3305054827957385,
          0.3421288407146496,
          0.288547884422376,
          0.2252155391931625,
          0.2049544317979969,
          0.23507670566494096,
          0.25174900489586743,
          0.2715252039149944,
          0.24515892836129236,
          0.2859489006182135,
          0.32009078416256875,
          0.34114004302341494,
          0.36886619218035843,
          0.45230412711278767,
          0.49284817274960313,
          0.5161954728504237,
          0.5668722205895568,
          0.6073050536283698,
          0.664938770425126,
          0.6976635295219366,
          0.7148937916038443,
          0.7673288646370071,
          0.798190734275367,
          0.9782754850150825,
          1.0516789807889608,
          1.0377061179675904,
          1.1495129828844637,
          1.244210520931636,
          1.3429900464117719,
          1.4576084363612434,
          1.6919874329905966,
          1.698689827447887,
          1.7939687138661102,
          1.7089774309794756,
          1.6244778369311939,
          1.5894543546694648,
          1.5027274326939997,
          1.445108803694585,
          1.3142470577907224,
          1.200253834830508,
          1.034181945820945,
          1.0034629612040529,
          0.9351826833588519,
          0.8380795744119229,
          0.8035989988276141,
          0.7824813234129645,
          0.7099025388039947,
          0.7207427938481642,
          0.6272725176228217,
          0.5922808910934756,
          0.5770702427495301,
          0.5636665062302797,
          0.5704726421876409,
          0.5705046578647543,
          0.5345730214849062,
          0.5124188407169273,
          0.42902636079495193
         ],
         "yaxis": "y"
        },
        {
         "hovertemplate": "firstname=CLÉMENT<br>year=%{x}<br>value=%{y}<extra></extra>",
         "legendgroup": "CLÉMENT",
         "line": {
          "color": "#00cc96",
          "dash": "solid"
         },
         "mode": "lines",
         "name": "CLÉMENT",
         "showlegend": true,
         "type": "scattergl",
         "x": [
          1900,
          1901,
          1902,
          1903,
          1904,
          1905,
          1906,
          1907,
          1908,
          1909,
          1910,
          1911,
          1912,
          1913,
          1914,
          1915,
          1916,
          1917,
          1918,
          1919,
          1920,
          1921,
          1922,
          1923,
          1924,
          1925,
          1926,
          1927,
          1928,
          1929,
          1930,
          1931,
          1932,
          1933,
          1934,
          1935,
          1936,
          1937,
          1938,
          1939,
          1940,
          1941,
          1942,
          1943,
          1944,
          1945,
          1946,
          1947,
          1948,
          1949,
          1950,
          1951,
          1952,
          1953,
          1954,
          1955,
          1956,
          1957,
          1958,
          1959,
          1960,
          1961,
          1962,
          1963,
          1964,
          1965,
          1966,
          1967,
          1968,
          1969,
          1970,
          1971,
          1972,
          1973,
          1974,
          1975,
          1976,
          1977,
          1978,
          1979,
          1980,
          1981,
          1982,
          1983,
          1984,
          1985,
          1986,
          1987,
          1988,
          1989,
          1990,
          1991,
          1992,
          1993,
          1994,
          1995,
          1996,
          1997,
          1998,
          1999,
          2000,
          2001,
          2002,
          2003,
          2004,
          2005,
          2006,
          2007,
          2008,
          2009,
          2010,
          2011,
          2012,
          2013,
          2014,
          2015,
          2016,
          2017,
          2018,
          2019,
          2020
         ],
         "xaxis": "x",
         "y": [
          0.2833005938525474,
          0.2928754200450103,
          0.2778010373208947,
          0.3071741915447028,
          0.29476752385877486,
          0.31461794772990004,
          0.28734494154092577,
          0.269853676428849,
          0.2795441407217772,
          0.2712044668971018,
          0.2623791438532594,
          0.24599736608880754,
          0.23690536559685055,
          0.23757542153272726,
          0.25533016425848354,
          0.23530252756613787,
          0.22240448060056597,
          0.23985051809070834,
          0.22331741875866318,
          0.21646637306859745,
          0.19305141297204387,
          0.19750624087343088,
          0.19557923488054493,
          0.17092023722262945,
          0.16404057845888192,
          0.1547195908454895,
          0.16146238791338696,
          0.1409320823197807,
          0.1448616983763418,
          0.13827967224501872,
          0.1366453113384763,
          0.1287390431540754,
          0.1278261061208555,
          0.114105268744444,
          0.10977274075832195,
          0.10274185848606239,
          0.10428947129772377,
          0.09669507525629488,
          0.08857017852760081,
          0.08826847854328537,
          0.09297746663749727,
          0.08107029247033938,
          0.07282563462338744,
          0.05853208418979545,
          0.04752282976228328,
          0.054601158757924755,
          0.04855311711011847,
          0.04204910547098283,
          0.044031246850999135,
          0.0457945686326925,
          0.03726311306693165,
          0.035792716297693795,
          0.04401337079875002,
          0.039016315913927645,
          0.03491595565439297,
          0.03427085795320255,
          0.04001789035098044,
          0.03472821096106245,
          0.032112962620042707,
          0.02844395508607737,
          0.037287075743715044,
          0.028599574184117703,
          0.031502821557061196,
          0.02674095684404104,
          0.028805523729903814,
          0.025692602287300387,
          0.023770535101156832,
          0.0244455057616699,
          0.02072317032624191,
          0.020155902508843686,
          0.025803151125690513,
          0.027542892090418762,
          0.024842771407277624,
          0.028415892314955487,
          0.03662968584657668,
          0.0655939219742221,
          0.07934912273647245,
          0.10911414898757657,
          0.14769648766694837,
          0.18188525346094334,
          0.24287584429715373,
          0.32225335781234904,
          0.3923187602140898,
          0.48071670490549545,
          0.5446321425274624,
          0.5856930785872434,
          0.7273127996032839,
          0.8280838130418127,
          0.9826089806125047,
          1.041772563690706,
          1.2466620889600977,
          1.3063571101580262,
          1.3147825541884208,
          1.342447498951213,
          1.3904451182001933,
          1.4306451050311377,
          1.394452492656929,
          1.4621161911457312,
          1.5928959283223372,
          1.4669464847848899,
          1.4285714285714286,
          1.4244643922132338,
          1.3054681972868156,
          1.1984332981362906,
          1.1219338453914767,
          1.1315591540003749,
          1.0565212605201797,
          0.9888425263200642,
          0.9964025074497971,
          0.9097325699945102,
          0.5998576184173585,
          0.5454062855713622,
          0.6695519152567129,
          0.7585761390965057,
          0.651514126117309,
          0.5861276004064389,
          0.537397802846623,
          0.48505462100395413,
          0.45383464781071525,
          0.4372487756173557,
          0.3588488529810698
         ],
         "yaxis": "y"
        },
        {
         "hovertemplate": "firstname=HUGO<br>year=%{x}<br>value=%{y}<extra></extra>",
         "legendgroup": "HUGO",
         "line": {
          "color": "#ab63fa",
          "dash": "solid"
         },
         "mode": "lines",
         "name": "HUGO",
         "showlegend": true,
         "type": "scattergl",
         "x": [
          1900,
          1901,
          1902,
          1903,
          1904,
          1905,
          1906,
          1907,
          1908,
          1909,
          1910,
          1911,
          1912,
          1913,
          1914,
          1915,
          1916,
          1917,
          1918,
          1919,
          1920,
          1921,
          1922,
          1923,
          1924,
          1925,
          1926,
          1927,
          1928,
          1929,
          1930,
          1931,
          1932,
          1933,
          1934,
          1935,
          1936,
          1937,
          1938,
          1939,
          1940,
          1941,
          1942,
          1943,
          1944,
          1945,
          1946,
          1947,
          1948,
          1949,
          1950,
          1951,
          1952,
          1953,
          1954,
          1955,
          1956,
          1957,
          1958,
          1959,
          1960,
          1961,
          1962,
          1963,
          1964,
          1965,
          1966,
          1967,
          1968,
          1969,
          1970,
          1971,
          1972,
          1973,
          1974,
          1975,
          1976,
          1977,
          1978,
          1979,
          1980,
          1981,
          1982,
          1983,
          1984,
          1985,
          1986,
          1987,
          1988,
          1989,
          1990,
          1991,
          1992,
          1993,
          1994,
          1995,
          1996,
          1997,
          1998,
          1999,
          2000,
          2001,
          2002,
          2003,
          2004,
          2005,
          2006,
          2007,
          2008,
          2009,
          2010,
          2011,
          2012,
          2013,
          2014,
          2015,
          2016,
          2017,
          2018,
          2019,
          2020
         ],
         "xaxis": "x",
         "y": [
          0.003406419966162895,
          0.0061657983167370594,
          0.003940440245686449,
          0.006308474707869095,
          0.00846222556532368,
          0.004986739805517147,
          0.004400381953153534,
          0.00785981581831599,
          0.005367908167478735,
          0.006953960689669278,
          0.0043929537022615725,
          0.005383780739317337,
          0.005806504058746337,
          0.0034654437500721965,
          0.003529910104955994,
          0.0041699182100328235,
          0.0022166559528295614,
          0.004076779344317989,
          null,
          0.0021326736262916005,
          0.0012638390374601891,
          0.002266465059203305,
          0.0010116167321407496,
          null,
          0.003984791379567983,
          0.004503272914421732,
          0.0012814475231221188,
          0.003539390195245634,
          0.0015883958155300637,
          0.0041805482306633565,
          0.0043183619836087315,
          0.002182017680577549,
          0.0028335836332209346,
          0.001990208175775186,
          0.002637182961160888,
          0.0027674574676380443,
          0.002092765310322216,
          null,
          0.0028456282257863716,
          0.0017796064222436567,
          0.0019533081226364973,
          0.005761340581648484,
          0.0037155936032340527,
          0.0010329191327610962,
          0.0010256725847974809,
          0.0016852209493186652,
          0.0009033138066998785,
          0.0006570172729841068,
          0.0015334265072487262,
          0.0013146766114648565,
          0.0006654127333380652,
          0.0009236830012308076,
          0.0020848438799407902,
          0.001655237644833294,
          0.0016403469099379245,
          0.002127156700543607,
          0.0011769967750288365,
          0.002796902896192949,
          0.00234401187007611,
          0.0034408010184771016,
          0.001852773949998263,
          0.003177730464901967,
          0.001826250525047026,
          0.003068634391939136,
          0.0038984919333704413,
          0.0030743284788222686,
          0.003961755850192806,
          0.00746946009384358,
          0.006376360100382126,
          0.006341182811771047,
          0.00628250636103769,
          0.018434219115634604,
          0.03007282854565186,
          0.0302058697836141,
          0.03351735959817474,
          0.030989254476010444,
          0.032436634632139076,
          0.03507240503172104,
          0.046072879396998154,
          0.044062343091946836,
          0.04687503794935067,
          0.05242052372209875,
          0.05325372959319525,
          0.06243074089681759,
          0.07948962532180477,
          0.10842415122635822,
          0.14400993793797806,
          0.19255993079005387,
          0.2551052561261813,
          0.3642010450765508,
          0.4002950077566695,
          0.4710864911728826,
          0.5456060301350042,
          0.5105468225178019,
          0.5108093857105194,
          0.6815151100485914,
          0.9486848925452878,
          1.116778782813091,
          1.5063774223854691,
          1.8378803777544597,
          1.934843266886202,
          1.7973381452652935,
          1.8714464980092642,
          1.9211863657406203,
          1.5875351007598282,
          1.4308781135204376,
          1.276681977843826,
          1.1680321627630736,
          1.1093733132831074,
          1.1316000516088556,
          1.1681305899811494,
          1.1438984426442889,
          1.20457847440559,
          1.4009272062657767,
          1.2754371625948118,
          1.1634311995293867,
          1.1100572112716867,
          1.0365703817885308,
          1.0453494696763665,
          1.002171898445816,
          0.9226278233178039
         ],
         "yaxis": "y"
        },
        {
         "hovertemplate": "firstname=LUCAS<br>year=%{x}<br>value=%{y}<extra></extra>",
         "legendgroup": "LUCAS",
         "line": {
          "color": "#FFA15A",
          "dash": "solid"
         },
         "mode": "lines",
         "name": "LUCAS",
         "showlegend": true,
         "type": "scattergl",
         "x": [
          1900,
          1901,
          1902,
          1903,
          1904,
          1905,
          1906,
          1907,
          1908,
          1909,
          1910,
          1911,
          1912,
          1913,
          1914,
          1915,
          1916,
          1917,
          1918,
          1919,
          1920,
          1921,
          1922,
          1923,
          1924,
          1925,
          1926,
          1927,
          1928,
          1929,
          1930,
          1931,
          1932,
          1933,
          1934,
          1935,
          1936,
          1937,
          1938,
          1939,
          1940,
          1941,
          1942,
          1943,
          1944,
          1945,
          1946,
          1947,
          1948,
          1949,
          1950,
          1951,
          1952,
          1953,
          1954,
          1955,
          1956,
          1957,
          1958,
          1959,
          1960,
          1961,
          1962,
          1963,
          1964,
          1965,
          1966,
          1967,
          1968,
          1969,
          1970,
          1971,
          1972,
          1973,
          1974,
          1975,
          1976,
          1977,
          1978,
          1979,
          1980,
          1981,
          1982,
          1983,
          1984,
          1985,
          1986,
          1987,
          1988,
          1989,
          1990,
          1991,
          1992,
          1993,
          1994,
          1995,
          1996,
          1997,
          1998,
          1999,
          2000,
          2001,
          2002,
          2003,
          2004,
          2005,
          2006,
          2007,
          2008,
          2009,
          2010,
          2011,
          2012,
          2013,
          2014,
          2015,
          2016,
          2017,
          2018,
          2019,
          2020
         ],
         "xaxis": "x",
         "y": [
          null,
          null,
          0.002462775153554031,
          0.0019410691408827982,
          0.0018804945700719288,
          0.001360019946959222,
          0.0017601527812614135,
          null,
          null,
          null,
          0.0023961565648699485,
          0.0012424109398424623,
          0.0019355013529154456,
          0.0011551479166907323,
          0.001176636701651998,
          null,
          null,
          0.0027178528962119924,
          0.0023694155836462938,
          null,
          0.0022117183155553307,
          0.0016189036137166466,
          0.0020232334642814992,
          0.0013327114013460385,
          0.0009961978448919957,
          0.0012866494041204946,
          0.0019221712846831782,
          0.0016088137251116517,
          0.0015883958155300637,
          null,
          0.001850726564403742,
          0.003117168115110784,
          0.00220389838139406,
          0.0016585068131459884,
          0.001648239350725555,
          0.0017296609172737776,
          0.001046382655161108,
          0.0010587052035360754,
          0.0014228141128931858,
          0.0017796064222436567,
          0.0011719848735818983,
          null,
          null,
          0.0017215318879351602,
          0.0010256725847974809,
          null,
          0.0006774853550249089,
          0.0010950287883068446,
          0.0015334265072487262,
          0.0032866915286621414,
          0.0022180424444602173,
          0.0025401282533847208,
          0.0020848438799407902,
          0.0009458500827618822,
          0.003280693819875849,
          0.0018908059560387616,
          0.001647795485040371,
          0.0018646019307952994,
          0.001640808309053277,
          0.0016057071419559807,
          0.001852773949998263,
          0.000680942242478993,
          0.0031959384188322954,
          0.0010959408542639772,
          0.001732663081497974,
          0.002854733587477821,
          0.003081365661261071,
          0.002716167306852211,
          0.00569317866105547,
          0.0061147119970649385,
          0.008750633860016782,
          0.01214489729971221,
          0.011767628561342032,
          0.013648578198521926,
          0.013885763262100963,
          0.015752871025305308,
          0.01930113796292573,
          0.01818569149792943,
          0.01948224614501636,
          0.02331205361259978,
          0.020401570920960913,
          0.03164556962025317,
          0.03273394387838607,
          0.04240087819242195,
          0.06436095469604193,
          0.07346496227954179,
          0.10894664870090513,
          0.13801396884030212,
          0.1933455844355544,
          0.27092694630258424,
          0.3390046031382722,
          0.37364677720064143,
          0.41135926159053693,
          0.6799979161354183,
          0.7555035591879778,
          0.9396322501536092,
          1.242939354873008,
          1.5597873773408215,
          1.8383855540634504,
          2.108604407135362,
          2.087177295693924,
          2.3042731383073622,
          2.4059241816294596,
          2.156555752635877,
          1.7604579616782292,
          1.7494500078295268,
          1.7985629509541965,
          1.8896130925187058,
          1.7748968827588978,
          1.8923247006559891,
          1.7351502025428147,
          1.5576109316060007,
          1.4682481723769478,
          1.4676009640454626,
          1.4240646360318807,
          1.3417829830472219,
          1.2538370913822277,
          1.135982842972991,
          1.1277875985858037,
          1.0721776079278598,
          0.9568319867901162
         ],
         "yaxis": "y"
        },
        {
         "hovertemplate": "firstname=MAXIME<br>year=%{x}<br>value=%{y}<extra></extra>",
         "legendgroup": "MAXIME",
         "line": {
          "color": "#19d3f3",
          "dash": "solid"
         },
         "mode": "lines",
         "name": "MAXIME",
         "showlegend": true,
         "type": "scattergl",
         "x": [
          1900,
          1901,
          1902,
          1903,
          1904,
          1905,
          1906,
          1907,
          1908,
          1909,
          1910,
          1911,
          1912,
          1913,
          1914,
          1915,
          1916,
          1917,
          1918,
          1919,
          1920,
          1921,
          1922,
          1923,
          1924,
          1925,
          1926,
          1927,
          1928,
          1929,
          1930,
          1931,
          1932,
          1933,
          1934,
          1935,
          1936,
          1937,
          1938,
          1939,
          1940,
          1941,
          1942,
          1943,
          1944,
          1945,
          1946,
          1947,
          1948,
          1949,
          1950,
          1951,
          1952,
          1953,
          1954,
          1955,
          1956,
          1957,
          1958,
          1959,
          1960,
          1961,
          1962,
          1963,
          1964,
          1965,
          1966,
          1967,
          1968,
          1969,
          1970,
          1971,
          1972,
          1973,
          1974,
          1975,
          1976,
          1977,
          1978,
          1979,
          1980,
          1981,
          1982,
          1983,
          1984,
          1985,
          1986,
          1987,
          1988,
          1989,
          1990,
          1991,
          1992,
          1993,
          1994,
          1995,
          1996,
          1997,
          1998,
          1999,
          2000,
          2001,
          2002,
          2003,
          2004,
          2005,
          2006,
          2007,
          2008,
          2009,
          2010,
          2011,
          2012,
          2013,
          2014,
          2015,
          2016,
          2017,
          2018,
          2019,
          2020
         ],
         "xaxis": "x",
         "y": [
          0.17372741827430765,
          0.17778051813258522,
          0.1916039069465036,
          0.17178461896812763,
          0.16736401673640167,
          0.17226919328150145,
          0.17997562188397953,
          0.183832358861724,
          0.1882897018746387,
          0.1873478821099135,
          0.19808227602924908,
          0.2107957227932711,
          0.15832401066848345,
          0.18674891319833506,
          0.1662979871668157,
          0.15607408157551425,
          0.15442703138045943,
          0.15491761508408358,
          0.14157258112286605,
          0.14715448021412042,
          0.13649461604570043,
          0.13987327222511825,
          0.15106809866635193,
          0.14359965349503565,
          0.1324943133706354,
          0.14732135677179664,
          0.13455198992782247,
          0.1316009627141331,
          0.125165590263769,
          0.1331343821149715,
          0.11042668500942328,
          0.10380169823318912,
          0.0966566861554252,
          0.09917870742613011,
          0.10647626205687086,
          0.09651507918387679,
          0.09870876380353119,
          0.07904998853069363,
          0.07896618326557181,
          0.0704724143208488,
          0.069147107541332,
          0.07736657352499393,
          0.05759170085012782,
          0.05095734388288074,
          0.05128362923987405,
          0.049208451720105024,
          0.04381071962494411,
          0.039421036379046405,
          0.04227875941414345,
          0.05149150061570688,
          0.05057136773369295,
          0.05380453482169454,
          0.044939968078723705,
          0.04209032868290376,
          0.04382069602262741,
          0.038997872843299454,
          0.04472587745109578,
          0.0393897157880507,
          0.036332183986179704,
          0.042207159159985776,
          0.04145581713121114,
          0.04244539978119056,
          0.03789469839472579,
          0.04011143526606156,
          0.04504924011894732,
          0.042821003812167316,
          0.04159843642702446,
          0.054323346137044225,
          0.04691179216709707,
          0.04642651701475231,
          0.04981130043394169,
          0.05877262800396444,
          0.07234912374751028,
          0.09106510371800695,
          0.1096496478283145,
          0.17534753157675909,
          0.2310775128339164,
          0.25433988537818447,
          0.3264592597273012,
          0.3765793275881503,
          0.39710200542584634,
          0.5104357908976713,
          0.7240552959368382,
          0.7405846638884988,
          0.80617865165082,
          1.0432024643694933,
          1.210935739008911,
          1.4549818222410527,
          1.64356350784852,
          1.9831547485919931,
          2.0279240100709544,
          2.0623460721053886,
          2.332864079064556,
          2.256880180528479,
          2.0970647684330785,
          2.0668153120883073,
          2.0648316742201724,
          2.0135290692526278,
          1.910307379550847,
          1.8402413431269675,
          1.7174027802217138,
          1.6816274932587076,
          1.559280546561527,
          1.367743210698514,
          1.2290427816319789,
          1.077394230793914,
          0.9922243237563422,
          1.0055939654209687,
          1.0779925338849656,
          0.9228877684482685,
          0.8946476557173224,
          0.8945479789085748,
          0.7269494005293893,
          0.6986475863840252,
          0.6715567101009418,
          0.5938820257767795,
          0.5480582882540586,
          0.4708129481938208,
          0.4195562505665851,
          0.35605362896400156,
          0.31019637907648756
         ],
         "yaxis": "y"
        },
        {
         "hovertemplate": "firstname=NICOLAS<br>year=%{x}<br>value=%{y}<extra></extra>",
         "legendgroup": "NICOLAS",
         "line": {
          "color": "#FF6692",
          "dash": "solid"
         },
         "mode": "lines",
         "name": "NICOLAS",
         "showlegend": true,
         "type": "scattergl",
         "x": [
          1900,
          1901,
          1902,
          1903,
          1904,
          1905,
          1906,
          1907,
          1908,
          1909,
          1910,
          1911,
          1912,
          1913,
          1914,
          1915,
          1916,
          1917,
          1918,
          1919,
          1920,
          1921,
          1922,
          1923,
          1924,
          1925,
          1926,
          1927,
          1928,
          1929,
          1930,
          1931,
          1932,
          1933,
          1934,
          1935,
          1936,
          1937,
          1938,
          1939,
          1940,
          1941,
          1942,
          1943,
          1944,
          1945,
          1946,
          1947,
          1948,
          1949,
          1950,
          1951,
          1952,
          1953,
          1954,
          1955,
          1956,
          1957,
          1958,
          1959,
          1960,
          1961,
          1962,
          1963,
          1964,
          1965,
          1966,
          1967,
          1968,
          1969,
          1970,
          1971,
          1972,
          1973,
          1974,
          1975,
          1976,
          1977,
          1978,
          1979,
          1980,
          1981,
          1982,
          1983,
          1984,
          1985,
          1986,
          1987,
          1988,
          1989,
          1990,
          1991,
          1992,
          1993,
          1994,
          1995,
          1996,
          1997,
          1998,
          1999,
          2000,
          2001,
          2002,
          2003,
          2004,
          2005,
          2006,
          2007,
          2008,
          2009,
          2010,
          2011,
          2012,
          2013,
          2014,
          2015,
          2016,
          2017,
          2018,
          2019,
          2020
         ],
         "xaxis": "x",
         "y": [
          0.21176577456312665,
          0.16287983886713733,
          0.18520069154726312,
          0.18197523195776233,
          0.17817686051431528,
          0.15232223405943288,
          0.16853462880578035,
          0.15282975202281093,
          0.1536047567924684,
          0.1521690221504101,
          0.13937644018993534,
          0.15654377842015024,
          0.1393560974099121,
          0.13399715833612494,
          0.11962473133461979,
          0.141777219141116,
          0.126349389311285,
          0.11482928486495668,
          0.1137319480150221,
          0.11463120741317352,
          0.0862570143066579,
          0.07997383851760234,
          0.07823169395221798,
          0.0799626840807623,
          0.0896578060402796,
          0.08491886067195265,
          0.08970132661854831,
          0.08719770390105153,
          0.08100818659203324,
          0.08746993221080254,
          0.08575033081737339,
          0.07699405244323637,
          0.08280361061523397,
          0.07994002839363665,
          0.06823710912003797,
          0.0691864366909511,
          0.05964381134418316,
          0.05787588445997212,
          0.06153671038263028,
          0.06299806734742544,
          0.05586461230740382,
          0.05514425985292121,
          0.054619225967540576,
          0.05887639056738248,
          0.05675388302546061,
          0.056286379707243414,
          0.04855311711011847,
          0.043801151532273784,
          0.04972683102078012,
          0.05149150061570688,
          0.05278941017815317,
          0.05218808956954063,
          0.06231366707823029,
          0.06289903050366517,
          0.07053491712733076,
          0.06759631292838572,
          0.07532779360184554,
          0.07947865730014964,
          0.11321577332467611,
          0.13854958767734463,
          0.2042683279873085,
          0.26534049381931424,
          0.3275836879303103,
          0.3800722882587472,
          0.4777818447230663,
          0.5248317903132301,
          0.5480428926100047,
          0.6389783589369826,
          0.838946807493134,
          0.9840156898980429,
          1.1396017788468011,
          1.329866254318487,
          1.7403015127940273,
          1.8154846475869986,
          1.8290901952146787,
          2.212891013374446,
          2.7445145897838006,
          3.956427083170961,
          3.563934676555223,
          3.374099539907162,
          5.295907784899438,
          5.030920861919026,
          4.348240306233373,
          3.7825225140859358,
          3.483696934264644,
          3.50655864783937,
          3.1319030850685485,
          2.7681441434127505,
          2.7096110653165244,
          2.426143179553911,
          2.3275094733094277,
          2.1948231635427136,
          2.1785064132867737,
          2.3813636700145597,
          2.539491607346867,
          2.4521128309976685,
          2.3513775733974827,
          2.0784643084262866,
          1.9079188318409332,
          1.7166841552990557,
          1.6759256931701063,
          1.4440893265843948,
          1.1872117822636035,
          1.01794008873816,
          0.8302878262305914,
          0.718006114732089,
          0.5729182303081249,
          0.5099036538442014,
          0.3574898389036309,
          0.2944740576956646,
          0.26521076484979744,
          0.21030172171773628,
          0.1888479760980472,
          0.1841959845275373,
          0.17153328370407775,
          0.1615059628857158,
          0.14377988011054102,
          0.12063534615642384,
          0.12351554709455172,
          0.10845146796808429,
          0.10172789998230819
         ],
         "yaxis": "y"
        },
        {
         "hovertemplate": "firstname=QUENTIN<br>year=%{x}<br>value=%{y}<extra></extra>",
         "legendgroup": "QUENTIN",
         "line": {
          "color": "#B6E880",
          "dash": "solid"
         },
         "mode": "lines",
         "name": "QUENTIN",
         "showlegend": true,
         "type": "scattergl",
         "x": [
          1900,
          1901,
          1902,
          1903,
          1904,
          1905,
          1906,
          1907,
          1908,
          1909,
          1910,
          1911,
          1912,
          1913,
          1914,
          1915,
          1916,
          1917,
          1918,
          1919,
          1920,
          1921,
          1922,
          1923,
          1924,
          1925,
          1926,
          1927,
          1928,
          1929,
          1930,
          1931,
          1932,
          1933,
          1934,
          1935,
          1936,
          1937,
          1938,
          1939,
          1940,
          1941,
          1942,
          1943,
          1944,
          1945,
          1946,
          1947,
          1948,
          1949,
          1950,
          1951,
          1952,
          1953,
          1954,
          1955,
          1956,
          1957,
          1958,
          1959,
          1960,
          1961,
          1962,
          1963,
          1964,
          1965,
          1966,
          1967,
          1968,
          1969,
          1970,
          1971,
          1972,
          1973,
          1974,
          1975,
          1976,
          1977,
          1978,
          1979,
          1980,
          1981,
          1982,
          1983,
          1984,
          1985,
          1986,
          1987,
          1988,
          1989,
          1990,
          1991,
          1992,
          1993,
          1994,
          1995,
          1996,
          1997,
          1998,
          1999,
          2000,
          2001,
          2002,
          2003,
          2004,
          2005,
          2006,
          2007,
          2008,
          2009,
          2010,
          2011,
          2012,
          2013,
          2014,
          2015,
          2016,
          2017,
          2018,
          2019,
          2020
         ],
         "xaxis": "x",
         "y": [
          0.0022709466441085966,
          0.0030828991583685297,
          null,
          0.0019410691408827982,
          0.00423111278266184,
          null,
          0.0013201145859460602,
          0.0021832821717544418,
          null,
          null,
          null,
          0.0016565479197899497,
          0.0019355013529154456,
          null,
          null,
          null,
          null,
          0.0027178528962119924,
          0.0023694155836462938,
          null,
          null,
          null,
          null,
          null,
          null,
          null,
          null,
          null,
          0.0009530374893180381,
          0.0009647418993838515,
          0.0012338177096024947,
          null,
          null,
          0.000995104087887593,
          null,
          null,
          null,
          null,
          null,
          null,
          null,
          0.0012345729817818181,
          0.001486237441293621,
          null,
          0.0013675634463966412,
          0.0016852209493186652,
          null,
          0.0017520460612909514,
          null,
          0.0008764510743099044,
          null,
          null,
          null,
          0.002601087727595176,
          null,
          0.002599858189553297,
          0.0021185941950519057,
          0.002330752413494124,
          0.002578413057083721,
          0.002293867345651401,
          0.001852773949998263,
          0.002042826727436979,
          0.0006848439468926347,
          0.002630258050233545,
          0.0019492459666852206,
          0.0039527080442000595,
          0.001980877925096403,
          0.003395209133565264,
          0.003415907196633282,
          0.0033970622205916324,
          0.004038754089238515,
          0.00802430714445271,
          0.008280923802425875,
          0.0073836570582167796,
          0.011970485570776693,
          0.014203408301504787,
          0.024930636535445735,
          0.03948893010978962,
          0.05555072887295206,
          0.06891145518449825,
          0.09302144836580988,
          0.10290849357425838,
          0.13215719132990197,
          0.13552673336350818,
          0.16923597649158437,
          0.2469942697329422,
          0.36165278327380923,
          0.5061357864639756,
          0.7501909508216558,
          0.9545981335014131,
          1.1281503522290888,
          1.2275869476817787,
          1.5059666681466894,
          1.6062208841618066,
          1.8562153967835486,
          1.8709467962082003,
          1.7995507768370969,
          1.9306158919606418,
          1.9920487900678878,
          1.7751836306400839,
          1.6349513586888214,
          1.4272679542662567,
          1.2388521381689364,
          1.0813987963651686,
          1.0478609184010572,
          0.8987269959517495,
          0.7870745644320354,
          0.7165047360886913,
          0.7087035219276334,
          0.5942607916899624,
          0.5136265190711106,
          0.4683296836796676,
          0.3753898032342458,
          0.3320716340778137,
          0.28476086854667837,
          0.23316754906679502,
          0.19653561558836313,
          0.14800169783079775,
          0.12351554709455172,
          0.09668821350593758,
          0.07165182520493012
         ],
         "yaxis": "y"
        },
        {
         "hovertemplate": "firstname=THOMAS<br>year=%{x}<br>value=%{y}<extra></extra>",
         "legendgroup": "THOMAS",
         "line": {
          "color": "#FF97FF",
          "dash": "solid"
         },
         "mode": "lines",
         "name": "THOMAS",
         "showlegend": true,
         "type": "scattergl",
         "x": [
          1900,
          1901,
          1902,
          1903,
          1904,
          1905,
          1906,
          1907,
          1908,
          1909,
          1910,
          1911,
          1912,
          1913,
          1914,
          1915,
          1916,
          1917,
          1918,
          1919,
          1920,
          1921,
          1922,
          1923,
          1924,
          1925,
          1926,
          1927,
          1928,
          1929,
          1930,
          1931,
          1932,
          1933,
          1934,
          1935,
          1936,
          1937,
          1938,
          1939,
          1940,
          1941,
          1942,
          1943,
          1944,
          1945,
          1946,
          1947,
          1948,
          1949,
          1950,
          1951,
          1952,
          1953,
          1954,
          1955,
          1956,
          1957,
          1958,
          1959,
          1960,
          1961,
          1962,
          1963,
          1964,
          1965,
          1966,
          1967,
          1968,
          1969,
          1970,
          1971,
          1972,
          1973,
          1974,
          1975,
          1976,
          1977,
          1978,
          1979,
          1980,
          1981,
          1982,
          1983,
          1984,
          1985,
          1986,
          1987,
          1988,
          1989,
          1990,
          1991,
          1992,
          1993,
          1994,
          1995,
          1996,
          1997,
          1998,
          1999,
          2000,
          2001,
          2002,
          2003,
          2004,
          2005,
          2006,
          2007,
          2008,
          2009,
          2010,
          2011,
          2012,
          2013,
          2014,
          2015,
          2016,
          2017,
          2018,
          2019,
          2020
         ],
         "xaxis": "x",
         "y": [
          0.05336724613655202,
          0.03493952379484334,
          0.045315062825394166,
          0.038821382817655965,
          0.0423111278266184,
          0.042613958338055626,
          0.040923552164327866,
          0.03274923257631663,
          0.04005285324964902,
          0.03640602949297445,
          0.03993594274783248,
          0.02691890369658668,
          0.036387425434810376,
          0.030803944445086193,
          0.03294582764625594,
          0.043486289904628016,
          0.04137757778615181,
          0.03261423475454391,
          0.03613358765060598,
          0.03039059917465531,
          0.03001617713967949,
          0.03173051082884627,
          0.028999679654701488,
          0.02832011727860332,
          0.03187833103654386,
          0.04535439149524744,
          0.03011401679336979,
          0.034106850972367014,
          0.02922648300575317,
          0.02476170875085219,
          0.03423844144146923,
          0.032730265208663234,
          0.033058475720910904,
          0.024877602197189826,
          0.02571253387131866,
          0.023869320658378133,
          0.025113183723866592,
          0.017645086725601257,
          0.02312072933451427,
          0.01637237908464164,
          0.024611682345219866,
          0.022633837999333332,
          0.01746328993520005,
          0.01342794872589425,
          0.02017156083435046,
          0.02022265139182398,
          0.01219473639044836,
          0.014016368490327611,
          0.01248647298759677,
          0.015337893800423327,
          0.013751863155653347,
          0.017780897773693047,
          0.014362257839592113,
          0.02057223930007094,
          0.017809480736468895,
          0.02599858189553297,
          0.029189520020715145,
          0.034495135719713035,
          0.030940956685004652,
          0.03578433059216186,
          0.03844505946246396,
          0.0388137078213026,
          0.03835126102598754,
          0.05786567710513799,
          0.059127127656118356,
          0.060169000228378684,
          0.06646945926434596,
          0.08035328282771124,
          0.09222949430909862,
          0.11935011935011935,
          0.179500181743934,
          0.22771682436960392,
          0.2839485188042346,
          0.3758952684183088,
          0.5537546625041299,
          0.6017080244092028,
          0.6884072540110178,
          0.8222530512992378,
          0.9675304673369612,
          1.038539179620654,
          1.1781907206854927,
          1.3643830321770218,
          1.4366292831999141,
          1.5438601967608852,
          1.7495410115183032,
          1.8077447269890006,
          2.0389302691357902,
          1.937015904587696,
          2.0718479250010713,
          2.059146453042718,
          2.496121665267923,
          2.5053003623938968,
          2.554345129114572,
          2.462524711617819,
          2.237125406450479,
          2.378058433212861,
          2.4962453981207053,
          2.5732600978321827,
          2.4986862987595475,
          2.4682581322140607,
          2.6273849325054672,
          2.575963788173046,
          2.1069265209375825,
          1.7830856536506963,
          1.6667699041955732,
          1.45218469468696,
          1.3279694176749026,
          1.1708240692798912,
          1.0631808060090426,
          0.95704068751091,
          0.8212008181927566,
          0.7112996340137513,
          0.6769828396893361,
          0.616667401721065,
          0.5671790974069582,
          0.5283705010963153,
          0.4343464439080793,
          0.3867591537653866,
          0.34165080228447103,
          0.30412316414330515,
          0.26508226691042047
         ],
         "yaxis": "y"
        },
        {
         "hovertemplate": "firstname=THÉO<br>year=%{x}<br>value=%{y}<extra></extra>",
         "legendgroup": "THÉO",
         "line": {
          "color": "#FECB52",
          "dash": "solid"
         },
         "mode": "lines",
         "name": "THÉO",
         "showlegend": true,
         "type": "scattergl",
         "x": [
          1900,
          1901,
          1902,
          1903,
          1904,
          1905,
          1906,
          1907,
          1908,
          1909,
          1910,
          1911,
          1912,
          1913,
          1914,
          1915,
          1916,
          1917,
          1918,
          1919,
          1920,
          1921,
          1922,
          1923,
          1924,
          1925,
          1926,
          1927,
          1928,
          1929,
          1930,
          1931,
          1932,
          1933,
          1934,
          1935,
          1936,
          1937,
          1938,
          1939,
          1940,
          1941,
          1942,
          1943,
          1944,
          1945,
          1946,
          1947,
          1948,
          1949,
          1950,
          1951,
          1952,
          1953,
          1954,
          1955,
          1956,
          1957,
          1958,
          1959,
          1960,
          1961,
          1962,
          1963,
          1964,
          1965,
          1966,
          1967,
          1968,
          1969,
          1970,
          1971,
          1972,
          1973,
          1974,
          1975,
          1976,
          1977,
          1978,
          1979,
          1980,
          1981,
          1982,
          1983,
          1984,
          1985,
          1986,
          1987,
          1988,
          1989,
          1990,
          1991,
          1992,
          1993,
          1994,
          1995,
          1996,
          1997,
          1998,
          1999,
          2000,
          2001,
          2002,
          2003,
          2004,
          2005,
          2006,
          2007,
          2008,
          2009,
          2010,
          2011,
          2012,
          2013,
          2014,
          2015,
          2016,
          2017,
          2018,
          2019,
          2020
         ],
         "xaxis": "x",
         "y": [
          null,
          0.00205526610557902,
          0.0019702201228432247,
          0.002426336426103498,
          0.0018804945700719288,
          null,
          0.0013201145859460602,
          0.0043665643435088835,
          null,
          0.001227169533471049,
          0.001597437709913299,
          0.0016565479197899497,
          0.005419403788163248,
          0.0030803944445086193,
          0.001176636701651998,
          null,
          0.004433311905659123,
          0.0033973161202649907,
          0.002961769479557867,
          0.0021326736262916005,
          0.0025276780749203783,
          0.0019426843364599758,
          0.0033720557738024987,
          0.002665422802692077,
          0.0029885935346759865,
          0.0032166235103012366,
          0.002242533165463708,
          0.001930576470133982,
          0.0025414333048481017,
          0.004823709496919257,
          0.003701453128807484,
          0.0034288849266218627,
          0.003778111510961246,
          0.002985312263662779,
          0.0042854223118864426,
          0.005880847118730844,
          0.003139147965483324,
          0.005646427752192402,
          0.004624145866902854,
          0.004626976697833507,
          0.005469262743382192,
          0.006584389236169696,
          0.0063165091254978895,
          0.004820289286218448,
          0.0030770177543924426,
          0.0037074860885010635,
          0.002935769871774605,
          0.003285086364920534,
          0.0050384013809601,
          0.002629353222929713,
          0.003770672155582369,
          0.002771049003692423,
          0.003474739799901317,
          0.0030740127689761173,
          0.0025776880013310246,
          0.002127156700543607,
          0.002353993550057673,
          0.0034961286202411864,
          0.004453622553144609,
          0.002752640814781681,
          0.0027791609249973944,
          0.003404711212394965,
          0.002054531840677904,
          0.002630258050233545,
          0.0028155775074342076,
          0.0032939233701667165,
          0.0013205852833976018,
          0.0013580836534261055,
          0.0022772714644221878,
          0.0011323540735305442,
          0.0013462513630795052,
          0.0017349853285303157,
          0.0023971095217548586,
          0.0015662302850762866,
          0.0019152776913242708,
          0.002065950298400696,
          0.0032168563271542886,
          0.004156729485241013,
          0.0021061887724342014,
          0.003586469786553812,
          0.002914510131565845,
          0.004589815441105421,
          0.008549910714503825,
          0.007283586437962053,
          0.011282398432772291,
          0.013933010087499304,
          0.02003616527832738,
          0.026385023454763637,
          0.041089087696213,
          0.11487709167801882,
          0.17776760509651332,
          0.2327300254980039,
          0.3162895655785017,
          0.3912729944859846,
          0.5253647069162493,
          0.7080781005583594,
          0.9135976395848009,
          1.07840795966502,
          1.4195935222586107,
          1.5952256033578174,
          2.001206606168774,
          2.258906406903899,
          2.2445480694252944,
          2.0439425542649974,
          1.6768355632639578,
          1.4311348193176245,
          1.242156774445345,
          1.1208235616605244,
          1.0287874717886794,
          1.0400196316038464,
          0.6522480247062127,
          0.600023480289318,
          0.8122769121177879,
          0.8252498968761918,
          0.7418359006929007,
          0.7527140488796192,
          0.659583366362615,
          0.6252373612135023,
          0.6252266340313661,
          0.6228786692029391,
          0.5699711033791355
         ],
         "yaxis": "y"
        }
       ],
       "layout": {
        "legend": {
         "title": {
          "text": "firstname"
         },
         "tracegroupgap": 0
        },
        "margin": {
         "t": 60
        },
        "template": {
         "data": {
          "bar": [
           {
            "error_x": {
             "color": "#2a3f5f"
            },
            "error_y": {
             "color": "#2a3f5f"
            },
            "marker": {
             "line": {
              "color": "#E5ECF6",
              "width": 0.5
             }
            },
            "type": "bar"
           }
          ],
          "barpolar": [
           {
            "marker": {
             "line": {
              "color": "#E5ECF6",
              "width": 0.5
             }
            },
            "type": "barpolar"
           }
          ],
          "carpet": [
           {
            "aaxis": {
             "endlinecolor": "#2a3f5f",
             "gridcolor": "white",
             "linecolor": "white",
             "minorgridcolor": "white",
             "startlinecolor": "#2a3f5f"
            },
            "baxis": {
             "endlinecolor": "#2a3f5f",
             "gridcolor": "white",
             "linecolor": "white",
             "minorgridcolor": "white",
             "startlinecolor": "#2a3f5f"
            },
            "type": "carpet"
           }
          ],
          "choropleth": [
           {
            "colorbar": {
             "outlinewidth": 0,
             "ticks": ""
            },
            "type": "choropleth"
           }
          ],
          "contour": [
           {
            "colorbar": {
             "outlinewidth": 0,
             "ticks": ""
            },
            "colorscale": [
             [
              0,
              "#0d0887"
             ],
             [
              0.1111111111111111,
              "#46039f"
             ],
             [
              0.2222222222222222,
              "#7201a8"
             ],
             [
              0.3333333333333333,
              "#9c179e"
             ],
             [
              0.4444444444444444,
              "#bd3786"
             ],
             [
              0.5555555555555556,
              "#d8576b"
             ],
             [
              0.6666666666666666,
              "#ed7953"
             ],
             [
              0.7777777777777778,
              "#fb9f3a"
             ],
             [
              0.8888888888888888,
              "#fdca26"
             ],
             [
              1,
              "#f0f921"
             ]
            ],
            "type": "contour"
           }
          ],
          "contourcarpet": [
           {
            "colorbar": {
             "outlinewidth": 0,
             "ticks": ""
            },
            "type": "contourcarpet"
           }
          ],
          "heatmap": [
           {
            "colorbar": {
             "outlinewidth": 0,
             "ticks": ""
            },
            "colorscale": [
             [
              0,
              "#0d0887"
             ],
             [
              0.1111111111111111,
              "#46039f"
             ],
             [
              0.2222222222222222,
              "#7201a8"
             ],
             [
              0.3333333333333333,
              "#9c179e"
             ],
             [
              0.4444444444444444,
              "#bd3786"
             ],
             [
              0.5555555555555556,
              "#d8576b"
             ],
             [
              0.6666666666666666,
              "#ed7953"
             ],
             [
              0.7777777777777778,
              "#fb9f3a"
             ],
             [
              0.8888888888888888,
              "#fdca26"
             ],
             [
              1,
              "#f0f921"
             ]
            ],
            "type": "heatmap"
           }
          ],
          "heatmapgl": [
           {
            "colorbar": {
             "outlinewidth": 0,
             "ticks": ""
            },
            "colorscale": [
             [
              0,
              "#0d0887"
             ],
             [
              0.1111111111111111,
              "#46039f"
             ],
             [
              0.2222222222222222,
              "#7201a8"
             ],
             [
              0.3333333333333333,
              "#9c179e"
             ],
             [
              0.4444444444444444,
              "#bd3786"
             ],
             [
              0.5555555555555556,
              "#d8576b"
             ],
             [
              0.6666666666666666,
              "#ed7953"
             ],
             [
              0.7777777777777778,
              "#fb9f3a"
             ],
             [
              0.8888888888888888,
              "#fdca26"
             ],
             [
              1,
              "#f0f921"
             ]
            ],
            "type": "heatmapgl"
           }
          ],
          "histogram": [
           {
            "marker": {
             "colorbar": {
              "outlinewidth": 0,
              "ticks": ""
             }
            },
            "type": "histogram"
           }
          ],
          "histogram2d": [
           {
            "colorbar": {
             "outlinewidth": 0,
             "ticks": ""
            },
            "colorscale": [
             [
              0,
              "#0d0887"
             ],
             [
              0.1111111111111111,
              "#46039f"
             ],
             [
              0.2222222222222222,
              "#7201a8"
             ],
             [
              0.3333333333333333,
              "#9c179e"
             ],
             [
              0.4444444444444444,
              "#bd3786"
             ],
             [
              0.5555555555555556,
              "#d8576b"
             ],
             [
              0.6666666666666666,
              "#ed7953"
             ],
             [
              0.7777777777777778,
              "#fb9f3a"
             ],
             [
              0.8888888888888888,
              "#fdca26"
             ],
             [
              1,
              "#f0f921"
             ]
            ],
            "type": "histogram2d"
           }
          ],
          "histogram2dcontour": [
           {
            "colorbar": {
             "outlinewidth": 0,
             "ticks": ""
            },
            "colorscale": [
             [
              0,
              "#0d0887"
             ],
             [
              0.1111111111111111,
              "#46039f"
             ],
             [
              0.2222222222222222,
              "#7201a8"
             ],
             [
              0.3333333333333333,
              "#9c179e"
             ],
             [
              0.4444444444444444,
              "#bd3786"
             ],
             [
              0.5555555555555556,
              "#d8576b"
             ],
             [
              0.6666666666666666,
              "#ed7953"
             ],
             [
              0.7777777777777778,
              "#fb9f3a"
             ],
             [
              0.8888888888888888,
              "#fdca26"
             ],
             [
              1,
              "#f0f921"
             ]
            ],
            "type": "histogram2dcontour"
           }
          ],
          "mesh3d": [
           {
            "colorbar": {
             "outlinewidth": 0,
             "ticks": ""
            },
            "type": "mesh3d"
           }
          ],
          "parcoords": [
           {
            "line": {
             "colorbar": {
              "outlinewidth": 0,
              "ticks": ""
             }
            },
            "type": "parcoords"
           }
          ],
          "pie": [
           {
            "automargin": true,
            "type": "pie"
           }
          ],
          "scatter": [
           {
            "marker": {
             "colorbar": {
              "outlinewidth": 0,
              "ticks": ""
             }
            },
            "type": "scatter"
           }
          ],
          "scatter3d": [
           {
            "line": {
             "colorbar": {
              "outlinewidth": 0,
              "ticks": ""
             }
            },
            "marker": {
             "colorbar": {
              "outlinewidth": 0,
              "ticks": ""
             }
            },
            "type": "scatter3d"
           }
          ],
          "scattercarpet": [
           {
            "marker": {
             "colorbar": {
              "outlinewidth": 0,
              "ticks": ""
             }
            },
            "type": "scattercarpet"
           }
          ],
          "scattergeo": [
           {
            "marker": {
             "colorbar": {
              "outlinewidth": 0,
              "ticks": ""
             }
            },
            "type": "scattergeo"
           }
          ],
          "scattergl": [
           {
            "marker": {
             "colorbar": {
              "outlinewidth": 0,
              "ticks": ""
             }
            },
            "type": "scattergl"
           }
          ],
          "scattermapbox": [
           {
            "marker": {
             "colorbar": {
              "outlinewidth": 0,
              "ticks": ""
             }
            },
            "type": "scattermapbox"
           }
          ],
          "scatterpolar": [
           {
            "marker": {
             "colorbar": {
              "outlinewidth": 0,
              "ticks": ""
             }
            },
            "type": "scatterpolar"
           }
          ],
          "scatterpolargl": [
           {
            "marker": {
             "colorbar": {
              "outlinewidth": 0,
              "ticks": ""
             }
            },
            "type": "scatterpolargl"
           }
          ],
          "scatterternary": [
           {
            "marker": {
             "colorbar": {
              "outlinewidth": 0,
              "ticks": ""
             }
            },
            "type": "scatterternary"
           }
          ],
          "surface": [
           {
            "colorbar": {
             "outlinewidth": 0,
             "ticks": ""
            },
            "colorscale": [
             [
              0,
              "#0d0887"
             ],
             [
              0.1111111111111111,
              "#46039f"
             ],
             [
              0.2222222222222222,
              "#7201a8"
             ],
             [
              0.3333333333333333,
              "#9c179e"
             ],
             [
              0.4444444444444444,
              "#bd3786"
             ],
             [
              0.5555555555555556,
              "#d8576b"
             ],
             [
              0.6666666666666666,
              "#ed7953"
             ],
             [
              0.7777777777777778,
              "#fb9f3a"
             ],
             [
              0.8888888888888888,
              "#fdca26"
             ],
             [
              1,
              "#f0f921"
             ]
            ],
            "type": "surface"
           }
          ],
          "table": [
           {
            "cells": {
             "fill": {
              "color": "#EBF0F8"
             },
             "line": {
              "color": "white"
             }
            },
            "header": {
             "fill": {
              "color": "#C8D4E3"
             },
             "line": {
              "color": "white"
             }
            },
            "type": "table"
           }
          ]
         },
         "layout": {
          "annotationdefaults": {
           "arrowcolor": "#2a3f5f",
           "arrowhead": 0,
           "arrowwidth": 1
          },
          "autotypenumbers": "strict",
          "coloraxis": {
           "colorbar": {
            "outlinewidth": 0,
            "ticks": ""
           }
          },
          "colorscale": {
           "diverging": [
            [
             0,
             "#8e0152"
            ],
            [
             0.1,
             "#c51b7d"
            ],
            [
             0.2,
             "#de77ae"
            ],
            [
             0.3,
             "#f1b6da"
            ],
            [
             0.4,
             "#fde0ef"
            ],
            [
             0.5,
             "#f7f7f7"
            ],
            [
             0.6,
             "#e6f5d0"
            ],
            [
             0.7,
             "#b8e186"
            ],
            [
             0.8,
             "#7fbc41"
            ],
            [
             0.9,
             "#4d9221"
            ],
            [
             1,
             "#276419"
            ]
           ],
           "sequential": [
            [
             0,
             "#0d0887"
            ],
            [
             0.1111111111111111,
             "#46039f"
            ],
            [
             0.2222222222222222,
             "#7201a8"
            ],
            [
             0.3333333333333333,
             "#9c179e"
            ],
            [
             0.4444444444444444,
             "#bd3786"
            ],
            [
             0.5555555555555556,
             "#d8576b"
            ],
            [
             0.6666666666666666,
             "#ed7953"
            ],
            [
             0.7777777777777778,
             "#fb9f3a"
            ],
            [
             0.8888888888888888,
             "#fdca26"
            ],
            [
             1,
             "#f0f921"
            ]
           ],
           "sequentialminus": [
            [
             0,
             "#0d0887"
            ],
            [
             0.1111111111111111,
             "#46039f"
            ],
            [
             0.2222222222222222,
             "#7201a8"
            ],
            [
             0.3333333333333333,
             "#9c179e"
            ],
            [
             0.4444444444444444,
             "#bd3786"
            ],
            [
             0.5555555555555556,
             "#d8576b"
            ],
            [
             0.6666666666666666,
             "#ed7953"
            ],
            [
             0.7777777777777778,
             "#fb9f3a"
            ],
            [
             0.8888888888888888,
             "#fdca26"
            ],
            [
             1,
             "#f0f921"
            ]
           ]
          },
          "colorway": [
           "#636efa",
           "#EF553B",
           "#00cc96",
           "#ab63fa",
           "#FFA15A",
           "#19d3f3",
           "#FF6692",
           "#B6E880",
           "#FF97FF",
           "#FECB52"
          ],
          "font": {
           "color": "#2a3f5f"
          },
          "geo": {
           "bgcolor": "white",
           "lakecolor": "white",
           "landcolor": "#E5ECF6",
           "showlakes": true,
           "showland": true,
           "subunitcolor": "white"
          },
          "hoverlabel": {
           "align": "left"
          },
          "hovermode": "closest",
          "mapbox": {
           "style": "light"
          },
          "paper_bgcolor": "white",
          "plot_bgcolor": "#E5ECF6",
          "polar": {
           "angularaxis": {
            "gridcolor": "white",
            "linecolor": "white",
            "ticks": ""
           },
           "bgcolor": "#E5ECF6",
           "radialaxis": {
            "gridcolor": "white",
            "linecolor": "white",
            "ticks": ""
           }
          },
          "scene": {
           "xaxis": {
            "backgroundcolor": "#E5ECF6",
            "gridcolor": "white",
            "gridwidth": 2,
            "linecolor": "white",
            "showbackground": true,
            "ticks": "",
            "zerolinecolor": "white"
           },
           "yaxis": {
            "backgroundcolor": "#E5ECF6",
            "gridcolor": "white",
            "gridwidth": 2,
            "linecolor": "white",
            "showbackground": true,
            "ticks": "",
            "zerolinecolor": "white"
           },
           "zaxis": {
            "backgroundcolor": "#E5ECF6",
            "gridcolor": "white",
            "gridwidth": 2,
            "linecolor": "white",
            "showbackground": true,
            "ticks": "",
            "zerolinecolor": "white"
           }
          },
          "shapedefaults": {
           "line": {
            "color": "#2a3f5f"
           }
          },
          "ternary": {
           "aaxis": {
            "gridcolor": "white",
            "linecolor": "white",
            "ticks": ""
           },
           "baxis": {
            "gridcolor": "white",
            "linecolor": "white",
            "ticks": ""
           },
           "bgcolor": "#E5ECF6",
           "caxis": {
            "gridcolor": "white",
            "linecolor": "white",
            "ticks": ""
           }
          },
          "title": {
           "x": 0.05
          },
          "xaxis": {
           "automargin": true,
           "gridcolor": "white",
           "linecolor": "white",
           "ticks": "",
           "title": {
            "standoff": 15
           },
           "zerolinecolor": "white",
           "zerolinewidth": 2
          },
          "yaxis": {
           "automargin": true,
           "gridcolor": "white",
           "linecolor": "white",
           "ticks": "",
           "title": {
            "standoff": 15
           },
           "zerolinecolor": "white",
           "zerolinewidth": 2
          }
         }
        },
        "xaxis": {
         "anchor": "y",
         "domain": [
          0,
          1
         ],
         "title": {
          "text": "year"
         }
        },
        "yaxis": {
         "anchor": "x",
         "domain": [
          0,
          1
         ],
         "title": {
          "text": "value"
         }
        }
       }
      },
      "text/html": [
       "<div>                            <div id=\"20d4e41f-4cd8-48dc-8125-bd99eb98a2c5\" class=\"plotly-graph-div\" style=\"height:525px; width:100%;\"></div>            <script type=\"text/javascript\">                require([\"plotly\"], function(Plotly) {                    window.PLOTLYENV=window.PLOTLYENV || {};                                    if (document.getElementById(\"20d4e41f-4cd8-48dc-8125-bd99eb98a2c5\")) {                    Plotly.newPlot(                        \"20d4e41f-4cd8-48dc-8125-bd99eb98a2c5\",                        [{\"hovertemplate\": \"firstname=ALEXANDRE<br>year=%{x}<br>value=%{y}<extra></extra>\", \"legendgroup\": \"ALEXANDRE\", \"line\": {\"color\": \"#636efa\", \"dash\": \"solid\"}, \"mode\": \"lines\", \"name\": \"ALEXANDRE\", \"showlegend\": true, \"type\": \"scattergl\", \"x\": [1900.0, 1901.0, 1902.0, 1903.0, 1904.0, 1905.0, 1906.0, 1907.0, 1908.0, 1909.0, 1910.0, 1911.0, 1912.0, 1913.0, 1914.0, 1915.0, 1916.0, 1917.0, 1918.0, 1919.0, 1920.0, 1921.0, 1922.0, 1923.0, 1924.0, 1925.0, 1926.0, 1927.0, 1928.0, 1929.0, 1930.0, 1931.0, 1932.0, 1933.0, 1934.0, 1935.0, 1936.0, 1937.0, 1938.0, 1939.0, 1940.0, 1941.0, 1942.0, 1943.0, 1944.0, 1945.0, 1946.0, 1947.0, 1948.0, 1949.0, 1950.0, 1951.0, 1952.0, 1953.0, 1954.0, 1955.0, 1956.0, 1957.0, 1958.0, 1959.0, 1960.0, 1961.0, 1962.0, 1963.0, 1964.0, 1965.0, 1966.0, 1967.0, 1968.0, 1969.0, 1970.0, 1971.0, 1972.0, 1973.0, 1974.0, 1975.0, 1976.0, 1977.0, 1978.0, 1979.0, 1980.0, 1981.0, 1982.0, 1983.0, 1984.0, 1985.0, 1986.0, 1987.0, 1988.0, 1989.0, 1990.0, 1991.0, 1992.0, 1993.0, 1994.0, 1995.0, 1996.0, 1997.0, 1998.0, 1999.0, 2000.0, 2001.0, 2002.0, 2003.0, 2004.0, 2005.0, 2006.0, 2007.0, 2008.0, 2009.0, 2010.0, 2011.0, 2012.0, 2013.0, 2014.0, 2015.0, 2016.0, 2017.0, 2018.0, 2019.0, 2020.0], \"xaxis\": \"x\", \"y\": [0.5546787178235247, 0.5585185641910987, 0.5275264378912734, 0.5158391241896036, 0.5058530393493489, 0.5281410794024979, 0.46380025786238244, 0.45586931746232745, 0.4352134775786605, 0.4401448060049496, 0.451276153050507, 0.44064174666412664, 0.4184553925003194, 0.3746529743133608, 0.3784848056980593, 0.397929337757418, 0.3901314476980028, 0.3268218107694921, 0.3186863960004265, 0.33749560136064577, 0.3159597593650473, 0.28525081673687314, 0.28696194635059263, 0.27853668288132205, 0.24373640605024158, 0.2553999067179182, 0.24219358187008044, 0.21944219210522928, 0.20617377685580224, 0.20613318583501627, 0.20481373979401413, 0.19451129038291293, 0.18355325090753388, 0.1704945003914076, 0.13383703527891505, 0.17607948137847057, 0.14963271968803846, 0.13516136431810563, 0.1195163854830276, 0.119233630290325, 0.11602650248460793, 0.09300449796089696, 0.08954580583794067, 0.08435506250882285, 0.07931867989100519, 0.07044223568152021, 0.06752270705081592, 0.06635874457139478, 0.06199424307876993, 0.055654643218678926, 0.05877812477819576, 0.056113742324771565, 0.053742642238473706, 0.053676992196736814, 0.06116150621339976, 0.05412432049160955, 0.05249405616628611, 0.059201111302750756, 0.06328832049205498, 0.07363314179540997, 0.06924742638118508, 0.07308780069274524, 0.07807220994576036, 0.0957852306626716, 0.10634219662693814, 0.1379055917643132, 0.1622118923106721, 0.18945266965294172, 0.23843032232500308, 0.2926002926002926, 0.4097091648305294, 0.4641085753818594, 0.6720623422810894, 0.7162147346470277, 0.8156688867927239, 1.050793970524054, 1.2025681236345116, 1.2828706373825074, 1.3724452588374365, 1.5780467060836774, 1.6986736550142933, 1.6975070055077786, 1.7581059260652578, 1.6442696383699333, 1.5574838200149748, 1.7558125984810486, 2.1892015087232455, 2.0854316615207416, 2.0806707352425895, 2.116076693166338, 2.129142188652374, 2.2712916004920576, 2.2929034650814755, 2.455669893914841, 2.4252460673169876, 2.4185737015661433, 2.3566938238460415, 2.198674999127936, 1.994968126157782, 1.8247639034627492, 1.6032779467585028, 1.4127404054460466, 1.2995295563577025, 1.3269111734139225, 1.0726379253386191, 1.04761635832022, 0.9619522251243408, 0.8502624392125808, 0.7320508217998509, 0.7012732714195724, 0.6542533991096138, 0.5936429668876877, 0.539126379525497, 0.5110789993228851, 0.47269263005554657, 0.4628589764158511, 0.42915287409420044, 0.3937403659272167, 0.3900938264889856, 0.3310925768126171, 0.3063631538597629], \"yaxis\": \"y\"}, {\"hovertemplate\": \"firstname=ANTOINE<br>year=%{x}<br>value=%{y}<extra></extra>\", \"legendgroup\": \"ANTOINE\", \"line\": {\"color\": \"#EF553B\", \"dash\": \"solid\"}, \"mode\": \"lines\", \"name\": \"ANTOINE\", \"showlegend\": true, \"type\": \"scattergl\", \"x\": [1900.0, 1901.0, 1902.0, 1903.0, 1904.0, 1905.0, 1906.0, 1907.0, 1908.0, 1909.0, 1910.0, 1911.0, 1912.0, 1913.0, 1914.0, 1915.0, 1916.0, 1917.0, 1918.0, 1919.0, 1920.0, 1921.0, 1922.0, 1923.0, 1924.0, 1925.0, 1926.0, 1927.0, 1928.0, 1929.0, 1930.0, 1931.0, 1932.0, 1933.0, 1934.0, 1935.0, 1936.0, 1937.0, 1938.0, 1939.0, 1940.0, 1941.0, 1942.0, 1943.0, 1944.0, 1945.0, 1946.0, 1947.0, 1948.0, 1949.0, 1950.0, 1951.0, 1952.0, 1953.0, 1954.0, 1955.0, 1956.0, 1957.0, 1958.0, 1959.0, 1960.0, 1961.0, 1962.0, 1963.0, 1964.0, 1965.0, 1966.0, 1967.0, 1968.0, 1969.0, 1970.0, 1971.0, 1972.0, 1973.0, 1974.0, 1975.0, 1976.0, 1977.0, 1978.0, 1979.0, 1980.0, 1981.0, 1982.0, 1983.0, 1984.0, 1985.0, 1986.0, 1987.0, 1988.0, 1989.0, 1990.0, 1991.0, 1992.0, 1993.0, 1994.0, 1995.0, 1996.0, 1997.0, 1998.0, 1999.0, 2000.0, 2001.0, 2002.0, 2003.0, 2004.0, 2005.0, 2006.0, 2007.0, 2008.0, 2009.0, 2010.0, 2011.0, 2012.0, 2013.0, 2014.0, 2015.0, 2016.0, 2017.0, 2018.0, 2019.0, 2020.0], \"xaxis\": \"x\", \"y\": [1.1825954649195518, 1.1232029266989343, 1.0609635361510765, 1.0355603866609728, 1.026750035259273, 0.9443071831720199, 0.9187997518184579, 0.9086820398841987, 0.8997439920720125, 0.8582005604074203, 0.8482394239639618, 0.8353142885540822, 0.8318784814830585, 0.8124540347391483, 0.8303132991324266, 0.8149211587607003, 0.8378959501695742, 0.8513674197384067, 0.738665308201732, 0.6941852653579159, 0.6897401546938982, 0.6721687804151516, 0.6673298376355145, 0.6873459052442193, 0.6757542047850703, 0.689322418257555, 0.6801282728970646, 0.6448125410247499, 0.6286870637867992, 0.5933162681210686, 0.6079636764066293, 0.6187578708494906, 0.5550675494853897, 0.5473072483381761, 0.5264476486217422, 0.5171686142648595, 0.4883119057418504, 0.4605367635381928, 0.4424951891097808, 0.42888514776072123, 0.43324374160077506, 0.40288231638813327, 0.3678437667201712, 0.33156704161631184, 0.32684766368879725, 0.29963228478885867, 0.245249698519017, 0.22667095917951682, 0.2525772518368259, 0.2592104052271542, 0.2641688551352119, 0.27133188161154975, 0.26709166595241457, 0.2530148971388035, 0.2486297244920197, 0.2545497518317183, 0.26058708599138436, 0.2906448259627173, 0.2887822623933768, 0.3089839314592437, 0.3260882151996943, 0.3447837554418634, 0.34013916029000857, 0.32790550359578197, 0.3305054827957385, 0.3421288407146496, 0.288547884422376, 0.2252155391931625, 0.2049544317979969, 0.23507670566494096, 0.25174900489586743, 0.2715252039149944, 0.24515892836129236, 0.2859489006182135, 0.32009078416256875, 0.34114004302341494, 0.36886619218035843, 0.45230412711278767, 0.49284817274960313, 0.5161954728504237, 0.5668722205895568, 0.6073050536283698, 0.664938770425126, 0.6976635295219366, 0.7148937916038443, 0.7673288646370071, 0.798190734275367, 0.9782754850150825, 1.0516789807889608, 1.0377061179675904, 1.1495129828844637, 1.244210520931636, 1.3429900464117719, 1.4576084363612434, 1.6919874329905966, 1.698689827447887, 1.7939687138661102, 1.7089774309794756, 1.6244778369311939, 1.5894543546694648, 1.5027274326939997, 1.445108803694585, 1.3142470577907224, 1.200253834830508, 1.034181945820945, 1.0034629612040529, 0.9351826833588519, 0.8380795744119229, 0.8035989988276141, 0.7824813234129645, 0.7099025388039947, 0.7207427938481642, 0.6272725176228217, 0.5922808910934756, 0.5770702427495301, 0.5636665062302797, 0.5704726421876409, 0.5705046578647543, 0.5345730214849062, 0.5124188407169273, 0.42902636079495193], \"yaxis\": \"y\"}, {\"hovertemplate\": \"firstname=CL\\u00c9MENT<br>year=%{x}<br>value=%{y}<extra></extra>\", \"legendgroup\": \"CL\\u00c9MENT\", \"line\": {\"color\": \"#00cc96\", \"dash\": \"solid\"}, \"mode\": \"lines\", \"name\": \"CL\\u00c9MENT\", \"showlegend\": true, \"type\": \"scattergl\", \"x\": [1900.0, 1901.0, 1902.0, 1903.0, 1904.0, 1905.0, 1906.0, 1907.0, 1908.0, 1909.0, 1910.0, 1911.0, 1912.0, 1913.0, 1914.0, 1915.0, 1916.0, 1917.0, 1918.0, 1919.0, 1920.0, 1921.0, 1922.0, 1923.0, 1924.0, 1925.0, 1926.0, 1927.0, 1928.0, 1929.0, 1930.0, 1931.0, 1932.0, 1933.0, 1934.0, 1935.0, 1936.0, 1937.0, 1938.0, 1939.0, 1940.0, 1941.0, 1942.0, 1943.0, 1944.0, 1945.0, 1946.0, 1947.0, 1948.0, 1949.0, 1950.0, 1951.0, 1952.0, 1953.0, 1954.0, 1955.0, 1956.0, 1957.0, 1958.0, 1959.0, 1960.0, 1961.0, 1962.0, 1963.0, 1964.0, 1965.0, 1966.0, 1967.0, 1968.0, 1969.0, 1970.0, 1971.0, 1972.0, 1973.0, 1974.0, 1975.0, 1976.0, 1977.0, 1978.0, 1979.0, 1980.0, 1981.0, 1982.0, 1983.0, 1984.0, 1985.0, 1986.0, 1987.0, 1988.0, 1989.0, 1990.0, 1991.0, 1992.0, 1993.0, 1994.0, 1995.0, 1996.0, 1997.0, 1998.0, 1999.0, 2000.0, 2001.0, 2002.0, 2003.0, 2004.0, 2005.0, 2006.0, 2007.0, 2008.0, 2009.0, 2010.0, 2011.0, 2012.0, 2013.0, 2014.0, 2015.0, 2016.0, 2017.0, 2018.0, 2019.0, 2020.0], \"xaxis\": \"x\", \"y\": [0.2833005938525474, 0.2928754200450103, 0.2778010373208947, 0.3071741915447028, 0.29476752385877486, 0.31461794772990004, 0.28734494154092577, 0.269853676428849, 0.2795441407217772, 0.2712044668971018, 0.2623791438532594, 0.24599736608880754, 0.23690536559685055, 0.23757542153272726, 0.25533016425848354, 0.23530252756613787, 0.22240448060056597, 0.23985051809070834, 0.22331741875866318, 0.21646637306859745, 0.19305141297204387, 0.19750624087343088, 0.19557923488054493, 0.17092023722262945, 0.16404057845888192, 0.1547195908454895, 0.16146238791338696, 0.1409320823197807, 0.1448616983763418, 0.13827967224501872, 0.1366453113384763, 0.1287390431540754, 0.1278261061208555, 0.114105268744444, 0.10977274075832195, 0.10274185848606239, 0.10428947129772377, 0.09669507525629488, 0.08857017852760081, 0.08826847854328537, 0.09297746663749727, 0.08107029247033938, 0.07282563462338744, 0.05853208418979545, 0.04752282976228328, 0.054601158757924755, 0.04855311711011847, 0.04204910547098283, 0.044031246850999135, 0.0457945686326925, 0.03726311306693165, 0.035792716297693795, 0.04401337079875002, 0.039016315913927645, 0.03491595565439297, 0.03427085795320255, 0.04001789035098044, 0.03472821096106245, 0.032112962620042707, 0.02844395508607737, 0.037287075743715044, 0.028599574184117703, 0.031502821557061196, 0.02674095684404104, 0.028805523729903814, 0.025692602287300387, 0.023770535101156832, 0.0244455057616699, 0.02072317032624191, 0.020155902508843686, 0.025803151125690513, 0.027542892090418762, 0.024842771407277624, 0.028415892314955487, 0.03662968584657668, 0.0655939219742221, 0.07934912273647245, 0.10911414898757657, 0.14769648766694837, 0.18188525346094334, 0.24287584429715373, 0.32225335781234904, 0.3923187602140898, 0.48071670490549545, 0.5446321425274624, 0.5856930785872434, 0.7273127996032839, 0.8280838130418127, 0.9826089806125047, 1.041772563690706, 1.2466620889600977, 1.3063571101580262, 1.3147825541884208, 1.342447498951213, 1.3904451182001933, 1.4306451050311377, 1.394452492656929, 1.4621161911457312, 1.5928959283223372, 1.4669464847848899, 1.4285714285714286, 1.4244643922132338, 1.3054681972868156, 1.1984332981362906, 1.1219338453914767, 1.1315591540003749, 1.0565212605201797, 0.9888425263200642, 0.9964025074497971, 0.9097325699945102, 0.5998576184173585, 0.5454062855713622, 0.6695519152567129, 0.7585761390965057, 0.651514126117309, 0.5861276004064389, 0.537397802846623, 0.48505462100395413, 0.45383464781071525, 0.4372487756173557, 0.3588488529810698], \"yaxis\": \"y\"}, {\"hovertemplate\": \"firstname=HUGO<br>year=%{x}<br>value=%{y}<extra></extra>\", \"legendgroup\": \"HUGO\", \"line\": {\"color\": \"#ab63fa\", \"dash\": \"solid\"}, \"mode\": \"lines\", \"name\": \"HUGO\", \"showlegend\": true, \"type\": \"scattergl\", \"x\": [1900.0, 1901.0, 1902.0, 1903.0, 1904.0, 1905.0, 1906.0, 1907.0, 1908.0, 1909.0, 1910.0, 1911.0, 1912.0, 1913.0, 1914.0, 1915.0, 1916.0, 1917.0, 1918.0, 1919.0, 1920.0, 1921.0, 1922.0, 1923.0, 1924.0, 1925.0, 1926.0, 1927.0, 1928.0, 1929.0, 1930.0, 1931.0, 1932.0, 1933.0, 1934.0, 1935.0, 1936.0, 1937.0, 1938.0, 1939.0, 1940.0, 1941.0, 1942.0, 1943.0, 1944.0, 1945.0, 1946.0, 1947.0, 1948.0, 1949.0, 1950.0, 1951.0, 1952.0, 1953.0, 1954.0, 1955.0, 1956.0, 1957.0, 1958.0, 1959.0, 1960.0, 1961.0, 1962.0, 1963.0, 1964.0, 1965.0, 1966.0, 1967.0, 1968.0, 1969.0, 1970.0, 1971.0, 1972.0, 1973.0, 1974.0, 1975.0, 1976.0, 1977.0, 1978.0, 1979.0, 1980.0, 1981.0, 1982.0, 1983.0, 1984.0, 1985.0, 1986.0, 1987.0, 1988.0, 1989.0, 1990.0, 1991.0, 1992.0, 1993.0, 1994.0, 1995.0, 1996.0, 1997.0, 1998.0, 1999.0, 2000.0, 2001.0, 2002.0, 2003.0, 2004.0, 2005.0, 2006.0, 2007.0, 2008.0, 2009.0, 2010.0, 2011.0, 2012.0, 2013.0, 2014.0, 2015.0, 2016.0, 2017.0, 2018.0, 2019.0, 2020.0], \"xaxis\": \"x\", \"y\": [0.003406419966162895, 0.0061657983167370594, 0.003940440245686449, 0.006308474707869095, 0.00846222556532368, 0.004986739805517147, 0.004400381953153534, 0.00785981581831599, 0.005367908167478735, 0.006953960689669278, 0.0043929537022615725, 0.005383780739317337, 0.005806504058746337, 0.0034654437500721965, 0.003529910104955994, 0.0041699182100328235, 0.0022166559528295614, 0.004076779344317989, null, 0.0021326736262916005, 0.0012638390374601891, 0.002266465059203305, 0.0010116167321407496, null, 0.003984791379567983, 0.004503272914421732, 0.0012814475231221188, 0.003539390195245634, 0.0015883958155300637, 0.0041805482306633565, 0.0043183619836087315, 0.002182017680577549, 0.0028335836332209346, 0.001990208175775186, 0.002637182961160888, 0.0027674574676380443, 0.002092765310322216, null, 0.0028456282257863716, 0.0017796064222436567, 0.0019533081226364973, 0.005761340581648484, 0.0037155936032340527, 0.0010329191327610962, 0.0010256725847974809, 0.0016852209493186652, 0.0009033138066998785, 0.0006570172729841068, 0.0015334265072487262, 0.0013146766114648565, 0.0006654127333380652, 0.0009236830012308076, 0.0020848438799407902, 0.001655237644833294, 0.0016403469099379245, 0.002127156700543607, 0.0011769967750288365, 0.002796902896192949, 0.00234401187007611, 0.0034408010184771016, 0.001852773949998263, 0.003177730464901967, 0.001826250525047026, 0.003068634391939136, 0.0038984919333704413, 0.0030743284788222686, 0.003961755850192806, 0.00746946009384358, 0.006376360100382126, 0.006341182811771047, 0.00628250636103769, 0.018434219115634604, 0.03007282854565186, 0.0302058697836141, 0.03351735959817474, 0.030989254476010444, 0.032436634632139076, 0.03507240503172104, 0.046072879396998154, 0.044062343091946836, 0.04687503794935067, 0.05242052372209875, 0.05325372959319525, 0.06243074089681759, 0.07948962532180477, 0.10842415122635822, 0.14400993793797806, 0.19255993079005387, 0.2551052561261813, 0.3642010450765508, 0.4002950077566695, 0.4710864911728826, 0.5456060301350042, 0.5105468225178019, 0.5108093857105194, 0.6815151100485914, 0.9486848925452878, 1.116778782813091, 1.5063774223854691, 1.8378803777544597, 1.934843266886202, 1.7973381452652935, 1.8714464980092642, 1.9211863657406203, 1.5875351007598282, 1.4308781135204376, 1.276681977843826, 1.1680321627630736, 1.1093733132831074, 1.1316000516088556, 1.1681305899811494, 1.1438984426442889, 1.20457847440559, 1.4009272062657767, 1.2754371625948118, 1.1634311995293867, 1.1100572112716867, 1.0365703817885308, 1.0453494696763665, 1.002171898445816, 0.9226278233178039], \"yaxis\": \"y\"}, {\"hovertemplate\": \"firstname=LUCAS<br>year=%{x}<br>value=%{y}<extra></extra>\", \"legendgroup\": \"LUCAS\", \"line\": {\"color\": \"#FFA15A\", \"dash\": \"solid\"}, \"mode\": \"lines\", \"name\": \"LUCAS\", \"showlegend\": true, \"type\": \"scattergl\", \"x\": [1900.0, 1901.0, 1902.0, 1903.0, 1904.0, 1905.0, 1906.0, 1907.0, 1908.0, 1909.0, 1910.0, 1911.0, 1912.0, 1913.0, 1914.0, 1915.0, 1916.0, 1917.0, 1918.0, 1919.0, 1920.0, 1921.0, 1922.0, 1923.0, 1924.0, 1925.0, 1926.0, 1927.0, 1928.0, 1929.0, 1930.0, 1931.0, 1932.0, 1933.0, 1934.0, 1935.0, 1936.0, 1937.0, 1938.0, 1939.0, 1940.0, 1941.0, 1942.0, 1943.0, 1944.0, 1945.0, 1946.0, 1947.0, 1948.0, 1949.0, 1950.0, 1951.0, 1952.0, 1953.0, 1954.0, 1955.0, 1956.0, 1957.0, 1958.0, 1959.0, 1960.0, 1961.0, 1962.0, 1963.0, 1964.0, 1965.0, 1966.0, 1967.0, 1968.0, 1969.0, 1970.0, 1971.0, 1972.0, 1973.0, 1974.0, 1975.0, 1976.0, 1977.0, 1978.0, 1979.0, 1980.0, 1981.0, 1982.0, 1983.0, 1984.0, 1985.0, 1986.0, 1987.0, 1988.0, 1989.0, 1990.0, 1991.0, 1992.0, 1993.0, 1994.0, 1995.0, 1996.0, 1997.0, 1998.0, 1999.0, 2000.0, 2001.0, 2002.0, 2003.0, 2004.0, 2005.0, 2006.0, 2007.0, 2008.0, 2009.0, 2010.0, 2011.0, 2012.0, 2013.0, 2014.0, 2015.0, 2016.0, 2017.0, 2018.0, 2019.0, 2020.0], \"xaxis\": \"x\", \"y\": [null, null, 0.002462775153554031, 0.0019410691408827982, 0.0018804945700719288, 0.001360019946959222, 0.0017601527812614135, null, null, null, 0.0023961565648699485, 0.0012424109398424623, 0.0019355013529154456, 0.0011551479166907323, 0.001176636701651998, null, null, 0.0027178528962119924, 0.0023694155836462938, null, 0.0022117183155553307, 0.0016189036137166466, 0.0020232334642814992, 0.0013327114013460385, 0.0009961978448919957, 0.0012866494041204946, 0.0019221712846831782, 0.0016088137251116517, 0.0015883958155300637, null, 0.001850726564403742, 0.003117168115110784, 0.00220389838139406, 0.0016585068131459884, 0.001648239350725555, 0.0017296609172737776, 0.001046382655161108, 0.0010587052035360754, 0.0014228141128931858, 0.0017796064222436567, 0.0011719848735818983, null, null, 0.0017215318879351602, 0.0010256725847974809, null, 0.0006774853550249089, 0.0010950287883068446, 0.0015334265072487262, 0.0032866915286621414, 0.0022180424444602173, 0.0025401282533847208, 0.0020848438799407902, 0.0009458500827618822, 0.003280693819875849, 0.0018908059560387616, 0.001647795485040371, 0.0018646019307952994, 0.001640808309053277, 0.0016057071419559807, 0.001852773949998263, 0.000680942242478993, 0.0031959384188322954, 0.0010959408542639772, 0.001732663081497974, 0.002854733587477821, 0.003081365661261071, 0.002716167306852211, 0.00569317866105547, 0.0061147119970649385, 0.008750633860016782, 0.01214489729971221, 0.011767628561342032, 0.013648578198521926, 0.013885763262100963, 0.015752871025305308, 0.01930113796292573, 0.01818569149792943, 0.01948224614501636, 0.02331205361259978, 0.020401570920960913, 0.03164556962025317, 0.03273394387838607, 0.04240087819242195, 0.06436095469604193, 0.07346496227954179, 0.10894664870090513, 0.13801396884030212, 0.1933455844355544, 0.27092694630258424, 0.3390046031382722, 0.37364677720064143, 0.41135926159053693, 0.6799979161354183, 0.7555035591879778, 0.9396322501536092, 1.242939354873008, 1.5597873773408215, 1.8383855540634504, 2.108604407135362, 2.087177295693924, 2.3042731383073622, 2.4059241816294596, 2.156555752635877, 1.7604579616782292, 1.7494500078295268, 1.7985629509541965, 1.8896130925187058, 1.7748968827588978, 1.8923247006559891, 1.7351502025428147, 1.5576109316060007, 1.4682481723769478, 1.4676009640454626, 1.4240646360318807, 1.3417829830472219, 1.2538370913822277, 1.135982842972991, 1.1277875985858037, 1.0721776079278598, 0.9568319867901162], \"yaxis\": \"y\"}, {\"hovertemplate\": \"firstname=MAXIME<br>year=%{x}<br>value=%{y}<extra></extra>\", \"legendgroup\": \"MAXIME\", \"line\": {\"color\": \"#19d3f3\", \"dash\": \"solid\"}, \"mode\": \"lines\", \"name\": \"MAXIME\", \"showlegend\": true, \"type\": \"scattergl\", \"x\": [1900.0, 1901.0, 1902.0, 1903.0, 1904.0, 1905.0, 1906.0, 1907.0, 1908.0, 1909.0, 1910.0, 1911.0, 1912.0, 1913.0, 1914.0, 1915.0, 1916.0, 1917.0, 1918.0, 1919.0, 1920.0, 1921.0, 1922.0, 1923.0, 1924.0, 1925.0, 1926.0, 1927.0, 1928.0, 1929.0, 1930.0, 1931.0, 1932.0, 1933.0, 1934.0, 1935.0, 1936.0, 1937.0, 1938.0, 1939.0, 1940.0, 1941.0, 1942.0, 1943.0, 1944.0, 1945.0, 1946.0, 1947.0, 1948.0, 1949.0, 1950.0, 1951.0, 1952.0, 1953.0, 1954.0, 1955.0, 1956.0, 1957.0, 1958.0, 1959.0, 1960.0, 1961.0, 1962.0, 1963.0, 1964.0, 1965.0, 1966.0, 1967.0, 1968.0, 1969.0, 1970.0, 1971.0, 1972.0, 1973.0, 1974.0, 1975.0, 1976.0, 1977.0, 1978.0, 1979.0, 1980.0, 1981.0, 1982.0, 1983.0, 1984.0, 1985.0, 1986.0, 1987.0, 1988.0, 1989.0, 1990.0, 1991.0, 1992.0, 1993.0, 1994.0, 1995.0, 1996.0, 1997.0, 1998.0, 1999.0, 2000.0, 2001.0, 2002.0, 2003.0, 2004.0, 2005.0, 2006.0, 2007.0, 2008.0, 2009.0, 2010.0, 2011.0, 2012.0, 2013.0, 2014.0, 2015.0, 2016.0, 2017.0, 2018.0, 2019.0, 2020.0], \"xaxis\": \"x\", \"y\": [0.17372741827430765, 0.17778051813258522, 0.1916039069465036, 0.17178461896812763, 0.16736401673640167, 0.17226919328150145, 0.17997562188397953, 0.183832358861724, 0.1882897018746387, 0.1873478821099135, 0.19808227602924908, 0.2107957227932711, 0.15832401066848345, 0.18674891319833506, 0.1662979871668157, 0.15607408157551425, 0.15442703138045943, 0.15491761508408358, 0.14157258112286605, 0.14715448021412042, 0.13649461604570043, 0.13987327222511825, 0.15106809866635193, 0.14359965349503565, 0.1324943133706354, 0.14732135677179664, 0.13455198992782247, 0.1316009627141331, 0.125165590263769, 0.1331343821149715, 0.11042668500942328, 0.10380169823318912, 0.0966566861554252, 0.09917870742613011, 0.10647626205687086, 0.09651507918387679, 0.09870876380353119, 0.07904998853069363, 0.07896618326557181, 0.0704724143208488, 0.069147107541332, 0.07736657352499393, 0.05759170085012782, 0.05095734388288074, 0.05128362923987405, 0.049208451720105024, 0.04381071962494411, 0.039421036379046405, 0.04227875941414345, 0.05149150061570688, 0.05057136773369295, 0.05380453482169454, 0.044939968078723705, 0.04209032868290376, 0.04382069602262741, 0.038997872843299454, 0.04472587745109578, 0.0393897157880507, 0.036332183986179704, 0.042207159159985776, 0.04145581713121114, 0.04244539978119056, 0.03789469839472579, 0.04011143526606156, 0.04504924011894732, 0.042821003812167316, 0.04159843642702446, 0.054323346137044225, 0.04691179216709707, 0.04642651701475231, 0.04981130043394169, 0.05877262800396444, 0.07234912374751028, 0.09106510371800695, 0.1096496478283145, 0.17534753157675909, 0.2310775128339164, 0.25433988537818447, 0.3264592597273012, 0.3765793275881503, 0.39710200542584634, 0.5104357908976713, 0.7240552959368382, 0.7405846638884988, 0.80617865165082, 1.0432024643694933, 1.210935739008911, 1.4549818222410527, 1.64356350784852, 1.9831547485919931, 2.0279240100709544, 2.0623460721053886, 2.332864079064556, 2.256880180528479, 2.0970647684330785, 2.0668153120883073, 2.0648316742201724, 2.0135290692526278, 1.910307379550847, 1.8402413431269675, 1.7174027802217138, 1.6816274932587076, 1.559280546561527, 1.367743210698514, 1.2290427816319789, 1.077394230793914, 0.9922243237563422, 1.0055939654209687, 1.0779925338849656, 0.9228877684482685, 0.8946476557173224, 0.8945479789085748, 0.7269494005293893, 0.6986475863840252, 0.6715567101009418, 0.5938820257767795, 0.5480582882540586, 0.4708129481938208, 0.4195562505665851, 0.35605362896400156, 0.31019637907648756], \"yaxis\": \"y\"}, {\"hovertemplate\": \"firstname=NICOLAS<br>year=%{x}<br>value=%{y}<extra></extra>\", \"legendgroup\": \"NICOLAS\", \"line\": {\"color\": \"#FF6692\", \"dash\": \"solid\"}, \"mode\": \"lines\", \"name\": \"NICOLAS\", \"showlegend\": true, \"type\": \"scattergl\", \"x\": [1900.0, 1901.0, 1902.0, 1903.0, 1904.0, 1905.0, 1906.0, 1907.0, 1908.0, 1909.0, 1910.0, 1911.0, 1912.0, 1913.0, 1914.0, 1915.0, 1916.0, 1917.0, 1918.0, 1919.0, 1920.0, 1921.0, 1922.0, 1923.0, 1924.0, 1925.0, 1926.0, 1927.0, 1928.0, 1929.0, 1930.0, 1931.0, 1932.0, 1933.0, 1934.0, 1935.0, 1936.0, 1937.0, 1938.0, 1939.0, 1940.0, 1941.0, 1942.0, 1943.0, 1944.0, 1945.0, 1946.0, 1947.0, 1948.0, 1949.0, 1950.0, 1951.0, 1952.0, 1953.0, 1954.0, 1955.0, 1956.0, 1957.0, 1958.0, 1959.0, 1960.0, 1961.0, 1962.0, 1963.0, 1964.0, 1965.0, 1966.0, 1967.0, 1968.0, 1969.0, 1970.0, 1971.0, 1972.0, 1973.0, 1974.0, 1975.0, 1976.0, 1977.0, 1978.0, 1979.0, 1980.0, 1981.0, 1982.0, 1983.0, 1984.0, 1985.0, 1986.0, 1987.0, 1988.0, 1989.0, 1990.0, 1991.0, 1992.0, 1993.0, 1994.0, 1995.0, 1996.0, 1997.0, 1998.0, 1999.0, 2000.0, 2001.0, 2002.0, 2003.0, 2004.0, 2005.0, 2006.0, 2007.0, 2008.0, 2009.0, 2010.0, 2011.0, 2012.0, 2013.0, 2014.0, 2015.0, 2016.0, 2017.0, 2018.0, 2019.0, 2020.0], \"xaxis\": \"x\", \"y\": [0.21176577456312665, 0.16287983886713733, 0.18520069154726312, 0.18197523195776233, 0.17817686051431528, 0.15232223405943288, 0.16853462880578035, 0.15282975202281093, 0.1536047567924684, 0.1521690221504101, 0.13937644018993534, 0.15654377842015024, 0.1393560974099121, 0.13399715833612494, 0.11962473133461979, 0.141777219141116, 0.126349389311285, 0.11482928486495668, 0.1137319480150221, 0.11463120741317352, 0.0862570143066579, 0.07997383851760234, 0.07823169395221798, 0.0799626840807623, 0.0896578060402796, 0.08491886067195265, 0.08970132661854831, 0.08719770390105153, 0.08100818659203324, 0.08746993221080254, 0.08575033081737339, 0.07699405244323637, 0.08280361061523397, 0.07994002839363665, 0.06823710912003797, 0.0691864366909511, 0.05964381134418316, 0.05787588445997212, 0.06153671038263028, 0.06299806734742544, 0.05586461230740382, 0.05514425985292121, 0.054619225967540576, 0.05887639056738248, 0.05675388302546061, 0.056286379707243414, 0.04855311711011847, 0.043801151532273784, 0.04972683102078012, 0.05149150061570688, 0.05278941017815317, 0.05218808956954063, 0.06231366707823029, 0.06289903050366517, 0.07053491712733076, 0.06759631292838572, 0.07532779360184554, 0.07947865730014964, 0.11321577332467611, 0.13854958767734463, 0.2042683279873085, 0.26534049381931424, 0.3275836879303103, 0.3800722882587472, 0.4777818447230663, 0.5248317903132301, 0.5480428926100047, 0.6389783589369826, 0.838946807493134, 0.9840156898980429, 1.1396017788468011, 1.329866254318487, 1.7403015127940273, 1.8154846475869986, 1.8290901952146787, 2.212891013374446, 2.7445145897838006, 3.956427083170961, 3.563934676555223, 3.374099539907162, 5.295907784899438, 5.030920861919026, 4.348240306233373, 3.7825225140859358, 3.483696934264644, 3.50655864783937, 3.1319030850685485, 2.7681441434127505, 2.7096110653165244, 2.426143179553911, 2.3275094733094277, 2.1948231635427136, 2.1785064132867737, 2.3813636700145597, 2.539491607346867, 2.4521128309976685, 2.3513775733974827, 2.0784643084262866, 1.9079188318409332, 1.7166841552990557, 1.6759256931701063, 1.4440893265843948, 1.1872117822636035, 1.01794008873816, 0.8302878262305914, 0.718006114732089, 0.5729182303081249, 0.5099036538442014, 0.3574898389036309, 0.2944740576956646, 0.26521076484979744, 0.21030172171773628, 0.1888479760980472, 0.1841959845275373, 0.17153328370407775, 0.1615059628857158, 0.14377988011054102, 0.12063534615642384, 0.12351554709455172, 0.10845146796808429, 0.10172789998230819], \"yaxis\": \"y\"}, {\"hovertemplate\": \"firstname=QUENTIN<br>year=%{x}<br>value=%{y}<extra></extra>\", \"legendgroup\": \"QUENTIN\", \"line\": {\"color\": \"#B6E880\", \"dash\": \"solid\"}, \"mode\": \"lines\", \"name\": \"QUENTIN\", \"showlegend\": true, \"type\": \"scattergl\", \"x\": [1900.0, 1901.0, 1902.0, 1903.0, 1904.0, 1905.0, 1906.0, 1907.0, 1908.0, 1909.0, 1910.0, 1911.0, 1912.0, 1913.0, 1914.0, 1915.0, 1916.0, 1917.0, 1918.0, 1919.0, 1920.0, 1921.0, 1922.0, 1923.0, 1924.0, 1925.0, 1926.0, 1927.0, 1928.0, 1929.0, 1930.0, 1931.0, 1932.0, 1933.0, 1934.0, 1935.0, 1936.0, 1937.0, 1938.0, 1939.0, 1940.0, 1941.0, 1942.0, 1943.0, 1944.0, 1945.0, 1946.0, 1947.0, 1948.0, 1949.0, 1950.0, 1951.0, 1952.0, 1953.0, 1954.0, 1955.0, 1956.0, 1957.0, 1958.0, 1959.0, 1960.0, 1961.0, 1962.0, 1963.0, 1964.0, 1965.0, 1966.0, 1967.0, 1968.0, 1969.0, 1970.0, 1971.0, 1972.0, 1973.0, 1974.0, 1975.0, 1976.0, 1977.0, 1978.0, 1979.0, 1980.0, 1981.0, 1982.0, 1983.0, 1984.0, 1985.0, 1986.0, 1987.0, 1988.0, 1989.0, 1990.0, 1991.0, 1992.0, 1993.0, 1994.0, 1995.0, 1996.0, 1997.0, 1998.0, 1999.0, 2000.0, 2001.0, 2002.0, 2003.0, 2004.0, 2005.0, 2006.0, 2007.0, 2008.0, 2009.0, 2010.0, 2011.0, 2012.0, 2013.0, 2014.0, 2015.0, 2016.0, 2017.0, 2018.0, 2019.0, 2020.0], \"xaxis\": \"x\", \"y\": [0.0022709466441085966, 0.0030828991583685297, null, 0.0019410691408827982, 0.00423111278266184, null, 0.0013201145859460602, 0.0021832821717544418, null, null, null, 0.0016565479197899497, 0.0019355013529154456, null, null, null, null, 0.0027178528962119924, 0.0023694155836462938, null, null, null, null, null, null, null, null, null, 0.0009530374893180381, 0.0009647418993838515, 0.0012338177096024947, null, null, 0.000995104087887593, null, null, null, null, null, null, null, 0.0012345729817818181, 0.001486237441293621, null, 0.0013675634463966412, 0.0016852209493186652, null, 0.0017520460612909514, null, 0.0008764510743099044, null, null, null, 0.002601087727595176, null, 0.002599858189553297, 0.0021185941950519057, 0.002330752413494124, 0.002578413057083721, 0.002293867345651401, 0.001852773949998263, 0.002042826727436979, 0.0006848439468926347, 0.002630258050233545, 0.0019492459666852206, 0.0039527080442000595, 0.001980877925096403, 0.003395209133565264, 0.003415907196633282, 0.0033970622205916324, 0.004038754089238515, 0.00802430714445271, 0.008280923802425875, 0.0073836570582167796, 0.011970485570776693, 0.014203408301504787, 0.024930636535445735, 0.03948893010978962, 0.05555072887295206, 0.06891145518449825, 0.09302144836580988, 0.10290849357425838, 0.13215719132990197, 0.13552673336350818, 0.16923597649158437, 0.2469942697329422, 0.36165278327380923, 0.5061357864639756, 0.7501909508216558, 0.9545981335014131, 1.1281503522290888, 1.2275869476817787, 1.5059666681466894, 1.6062208841618066, 1.8562153967835486, 1.8709467962082003, 1.7995507768370969, 1.9306158919606418, 1.9920487900678878, 1.7751836306400839, 1.6349513586888214, 1.4272679542662567, 1.2388521381689364, 1.0813987963651686, 1.0478609184010572, 0.8987269959517495, 0.7870745644320354, 0.7165047360886913, 0.7087035219276334, 0.5942607916899624, 0.5136265190711106, 0.4683296836796676, 0.3753898032342458, 0.3320716340778137, 0.28476086854667837, 0.23316754906679502, 0.19653561558836313, 0.14800169783079775, 0.12351554709455172, 0.09668821350593758, 0.07165182520493012], \"yaxis\": \"y\"}, {\"hovertemplate\": \"firstname=THOMAS<br>year=%{x}<br>value=%{y}<extra></extra>\", \"legendgroup\": \"THOMAS\", \"line\": {\"color\": \"#FF97FF\", \"dash\": \"solid\"}, \"mode\": \"lines\", \"name\": \"THOMAS\", \"showlegend\": true, \"type\": \"scattergl\", \"x\": [1900.0, 1901.0, 1902.0, 1903.0, 1904.0, 1905.0, 1906.0, 1907.0, 1908.0, 1909.0, 1910.0, 1911.0, 1912.0, 1913.0, 1914.0, 1915.0, 1916.0, 1917.0, 1918.0, 1919.0, 1920.0, 1921.0, 1922.0, 1923.0, 1924.0, 1925.0, 1926.0, 1927.0, 1928.0, 1929.0, 1930.0, 1931.0, 1932.0, 1933.0, 1934.0, 1935.0, 1936.0, 1937.0, 1938.0, 1939.0, 1940.0, 1941.0, 1942.0, 1943.0, 1944.0, 1945.0, 1946.0, 1947.0, 1948.0, 1949.0, 1950.0, 1951.0, 1952.0, 1953.0, 1954.0, 1955.0, 1956.0, 1957.0, 1958.0, 1959.0, 1960.0, 1961.0, 1962.0, 1963.0, 1964.0, 1965.0, 1966.0, 1967.0, 1968.0, 1969.0, 1970.0, 1971.0, 1972.0, 1973.0, 1974.0, 1975.0, 1976.0, 1977.0, 1978.0, 1979.0, 1980.0, 1981.0, 1982.0, 1983.0, 1984.0, 1985.0, 1986.0, 1987.0, 1988.0, 1989.0, 1990.0, 1991.0, 1992.0, 1993.0, 1994.0, 1995.0, 1996.0, 1997.0, 1998.0, 1999.0, 2000.0, 2001.0, 2002.0, 2003.0, 2004.0, 2005.0, 2006.0, 2007.0, 2008.0, 2009.0, 2010.0, 2011.0, 2012.0, 2013.0, 2014.0, 2015.0, 2016.0, 2017.0, 2018.0, 2019.0, 2020.0], \"xaxis\": \"x\", \"y\": [0.05336724613655202, 0.03493952379484334, 0.045315062825394166, 0.038821382817655965, 0.0423111278266184, 0.042613958338055626, 0.040923552164327866, 0.03274923257631663, 0.04005285324964902, 0.03640602949297445, 0.03993594274783248, 0.02691890369658668, 0.036387425434810376, 0.030803944445086193, 0.03294582764625594, 0.043486289904628016, 0.04137757778615181, 0.03261423475454391, 0.03613358765060598, 0.03039059917465531, 0.03001617713967949, 0.03173051082884627, 0.028999679654701488, 0.02832011727860332, 0.03187833103654386, 0.04535439149524744, 0.03011401679336979, 0.034106850972367014, 0.02922648300575317, 0.02476170875085219, 0.03423844144146923, 0.032730265208663234, 0.033058475720910904, 0.024877602197189826, 0.02571253387131866, 0.023869320658378133, 0.025113183723866592, 0.017645086725601257, 0.02312072933451427, 0.01637237908464164, 0.024611682345219866, 0.022633837999333332, 0.01746328993520005, 0.01342794872589425, 0.02017156083435046, 0.02022265139182398, 0.01219473639044836, 0.014016368490327611, 0.01248647298759677, 0.015337893800423327, 0.013751863155653347, 0.017780897773693047, 0.014362257839592113, 0.02057223930007094, 0.017809480736468895, 0.02599858189553297, 0.029189520020715145, 0.034495135719713035, 0.030940956685004652, 0.03578433059216186, 0.03844505946246396, 0.0388137078213026, 0.03835126102598754, 0.05786567710513799, 0.059127127656118356, 0.060169000228378684, 0.06646945926434596, 0.08035328282771124, 0.09222949430909862, 0.11935011935011935, 0.179500181743934, 0.22771682436960392, 0.2839485188042346, 0.3758952684183088, 0.5537546625041299, 0.6017080244092028, 0.6884072540110178, 0.8222530512992378, 0.9675304673369612, 1.038539179620654, 1.1781907206854927, 1.3643830321770218, 1.4366292831999141, 1.5438601967608852, 1.7495410115183032, 1.8077447269890006, 2.0389302691357902, 1.937015904587696, 2.0718479250010713, 2.059146453042718, 2.496121665267923, 2.5053003623938968, 2.554345129114572, 2.462524711617819, 2.237125406450479, 2.378058433212861, 2.4962453981207053, 2.5732600978321827, 2.4986862987595475, 2.4682581322140607, 2.6273849325054672, 2.575963788173046, 2.1069265209375825, 1.7830856536506963, 1.6667699041955732, 1.45218469468696, 1.3279694176749026, 1.1708240692798912, 1.0631808060090426, 0.95704068751091, 0.8212008181927566, 0.7112996340137513, 0.6769828396893361, 0.616667401721065, 0.5671790974069582, 0.5283705010963153, 0.4343464439080793, 0.3867591537653866, 0.34165080228447103, 0.30412316414330515, 0.26508226691042047], \"yaxis\": \"y\"}, {\"hovertemplate\": \"firstname=TH\\u00c9O<br>year=%{x}<br>value=%{y}<extra></extra>\", \"legendgroup\": \"TH\\u00c9O\", \"line\": {\"color\": \"#FECB52\", \"dash\": \"solid\"}, \"mode\": \"lines\", \"name\": \"TH\\u00c9O\", \"showlegend\": true, \"type\": \"scattergl\", \"x\": [1900.0, 1901.0, 1902.0, 1903.0, 1904.0, 1905.0, 1906.0, 1907.0, 1908.0, 1909.0, 1910.0, 1911.0, 1912.0, 1913.0, 1914.0, 1915.0, 1916.0, 1917.0, 1918.0, 1919.0, 1920.0, 1921.0, 1922.0, 1923.0, 1924.0, 1925.0, 1926.0, 1927.0, 1928.0, 1929.0, 1930.0, 1931.0, 1932.0, 1933.0, 1934.0, 1935.0, 1936.0, 1937.0, 1938.0, 1939.0, 1940.0, 1941.0, 1942.0, 1943.0, 1944.0, 1945.0, 1946.0, 1947.0, 1948.0, 1949.0, 1950.0, 1951.0, 1952.0, 1953.0, 1954.0, 1955.0, 1956.0, 1957.0, 1958.0, 1959.0, 1960.0, 1961.0, 1962.0, 1963.0, 1964.0, 1965.0, 1966.0, 1967.0, 1968.0, 1969.0, 1970.0, 1971.0, 1972.0, 1973.0, 1974.0, 1975.0, 1976.0, 1977.0, 1978.0, 1979.0, 1980.0, 1981.0, 1982.0, 1983.0, 1984.0, 1985.0, 1986.0, 1987.0, 1988.0, 1989.0, 1990.0, 1991.0, 1992.0, 1993.0, 1994.0, 1995.0, 1996.0, 1997.0, 1998.0, 1999.0, 2000.0, 2001.0, 2002.0, 2003.0, 2004.0, 2005.0, 2006.0, 2007.0, 2008.0, 2009.0, 2010.0, 2011.0, 2012.0, 2013.0, 2014.0, 2015.0, 2016.0, 2017.0, 2018.0, 2019.0, 2020.0], \"xaxis\": \"x\", \"y\": [null, 0.00205526610557902, 0.0019702201228432247, 0.002426336426103498, 0.0018804945700719288, null, 0.0013201145859460602, 0.0043665643435088835, null, 0.001227169533471049, 0.001597437709913299, 0.0016565479197899497, 0.005419403788163248, 0.0030803944445086193, 0.001176636701651998, null, 0.004433311905659123, 0.0033973161202649907, 0.002961769479557867, 0.0021326736262916005, 0.0025276780749203783, 0.0019426843364599758, 0.0033720557738024987, 0.002665422802692077, 0.0029885935346759865, 0.0032166235103012366, 0.002242533165463708, 0.001930576470133982, 0.0025414333048481017, 0.004823709496919257, 0.003701453128807484, 0.0034288849266218627, 0.003778111510961246, 0.002985312263662779, 0.0042854223118864426, 0.005880847118730844, 0.003139147965483324, 0.005646427752192402, 0.004624145866902854, 0.004626976697833507, 0.005469262743382192, 0.006584389236169696, 0.0063165091254978895, 0.004820289286218448, 0.0030770177543924426, 0.0037074860885010635, 0.002935769871774605, 0.003285086364920534, 0.0050384013809601, 0.002629353222929713, 0.003770672155582369, 0.002771049003692423, 0.003474739799901317, 0.0030740127689761173, 0.0025776880013310246, 0.002127156700543607, 0.002353993550057673, 0.0034961286202411864, 0.004453622553144609, 0.002752640814781681, 0.0027791609249973944, 0.003404711212394965, 0.002054531840677904, 0.002630258050233545, 0.0028155775074342076, 0.0032939233701667165, 0.0013205852833976018, 0.0013580836534261055, 0.0022772714644221878, 0.0011323540735305442, 0.0013462513630795052, 0.0017349853285303157, 0.0023971095217548586, 0.0015662302850762866, 0.0019152776913242708, 0.002065950298400696, 0.0032168563271542886, 0.004156729485241013, 0.0021061887724342014, 0.003586469786553812, 0.002914510131565845, 0.004589815441105421, 0.008549910714503825, 0.007283586437962053, 0.011282398432772291, 0.013933010087499304, 0.02003616527832738, 0.026385023454763637, 0.041089087696213, 0.11487709167801882, 0.17776760509651332, 0.2327300254980039, 0.3162895655785017, 0.3912729944859846, 0.5253647069162493, 0.7080781005583594, 0.9135976395848009, 1.07840795966502, 1.4195935222586107, 1.5952256033578174, 2.001206606168774, 2.258906406903899, 2.2445480694252944, 2.0439425542649974, 1.6768355632639578, 1.4311348193176245, 1.242156774445345, 1.1208235616605244, 1.0287874717886794, 1.0400196316038464, 0.6522480247062127, 0.600023480289318, 0.8122769121177879, 0.8252498968761918, 0.7418359006929007, 0.7527140488796192, 0.659583366362615, 0.6252373612135023, 0.6252266340313661, 0.6228786692029391, 0.5699711033791355], \"yaxis\": \"y\"}],                        {\"legend\": {\"title\": {\"text\": \"firstname\"}, \"tracegroupgap\": 0}, \"margin\": {\"t\": 60}, \"template\": {\"data\": {\"bar\": [{\"error_x\": {\"color\": \"#2a3f5f\"}, \"error_y\": {\"color\": \"#2a3f5f\"}, \"marker\": {\"line\": {\"color\": \"#E5ECF6\", \"width\": 0.5}}, \"type\": \"bar\"}], \"barpolar\": [{\"marker\": {\"line\": {\"color\": \"#E5ECF6\", \"width\": 0.5}}, \"type\": \"barpolar\"}], \"carpet\": [{\"aaxis\": {\"endlinecolor\": \"#2a3f5f\", \"gridcolor\": \"white\", \"linecolor\": \"white\", \"minorgridcolor\": \"white\", \"startlinecolor\": \"#2a3f5f\"}, \"baxis\": {\"endlinecolor\": \"#2a3f5f\", \"gridcolor\": \"white\", \"linecolor\": \"white\", \"minorgridcolor\": \"white\", \"startlinecolor\": \"#2a3f5f\"}, \"type\": \"carpet\"}], \"choropleth\": [{\"colorbar\": {\"outlinewidth\": 0, \"ticks\": \"\"}, \"type\": \"choropleth\"}], \"contour\": [{\"colorbar\": {\"outlinewidth\": 0, \"ticks\": \"\"}, \"colorscale\": [[0.0, \"#0d0887\"], [0.1111111111111111, \"#46039f\"], [0.2222222222222222, \"#7201a8\"], [0.3333333333333333, \"#9c179e\"], [0.4444444444444444, \"#bd3786\"], [0.5555555555555556, \"#d8576b\"], [0.6666666666666666, \"#ed7953\"], [0.7777777777777778, \"#fb9f3a\"], [0.8888888888888888, \"#fdca26\"], [1.0, \"#f0f921\"]], \"type\": \"contour\"}], \"contourcarpet\": [{\"colorbar\": {\"outlinewidth\": 0, \"ticks\": \"\"}, \"type\": \"contourcarpet\"}], \"heatmap\": [{\"colorbar\": {\"outlinewidth\": 0, \"ticks\": \"\"}, \"colorscale\": [[0.0, \"#0d0887\"], [0.1111111111111111, \"#46039f\"], [0.2222222222222222, \"#7201a8\"], [0.3333333333333333, \"#9c179e\"], [0.4444444444444444, \"#bd3786\"], [0.5555555555555556, \"#d8576b\"], [0.6666666666666666, \"#ed7953\"], [0.7777777777777778, \"#fb9f3a\"], [0.8888888888888888, \"#fdca26\"], [1.0, \"#f0f921\"]], \"type\": \"heatmap\"}], \"heatmapgl\": [{\"colorbar\": {\"outlinewidth\": 0, \"ticks\": \"\"}, \"colorscale\": [[0.0, \"#0d0887\"], [0.1111111111111111, \"#46039f\"], [0.2222222222222222, \"#7201a8\"], [0.3333333333333333, \"#9c179e\"], [0.4444444444444444, \"#bd3786\"], [0.5555555555555556, \"#d8576b\"], [0.6666666666666666, \"#ed7953\"], [0.7777777777777778, \"#fb9f3a\"], [0.8888888888888888, \"#fdca26\"], [1.0, \"#f0f921\"]], \"type\": \"heatmapgl\"}], \"histogram\": [{\"marker\": {\"colorbar\": {\"outlinewidth\": 0, \"ticks\": \"\"}}, \"type\": \"histogram\"}], \"histogram2d\": [{\"colorbar\": {\"outlinewidth\": 0, \"ticks\": \"\"}, \"colorscale\": [[0.0, \"#0d0887\"], [0.1111111111111111, \"#46039f\"], [0.2222222222222222, \"#7201a8\"], [0.3333333333333333, \"#9c179e\"], [0.4444444444444444, \"#bd3786\"], [0.5555555555555556, \"#d8576b\"], [0.6666666666666666, \"#ed7953\"], [0.7777777777777778, \"#fb9f3a\"], [0.8888888888888888, \"#fdca26\"], [1.0, \"#f0f921\"]], \"type\": \"histogram2d\"}], \"histogram2dcontour\": [{\"colorbar\": {\"outlinewidth\": 0, \"ticks\": \"\"}, \"colorscale\": [[0.0, \"#0d0887\"], [0.1111111111111111, \"#46039f\"], [0.2222222222222222, \"#7201a8\"], [0.3333333333333333, \"#9c179e\"], [0.4444444444444444, \"#bd3786\"], [0.5555555555555556, \"#d8576b\"], [0.6666666666666666, \"#ed7953\"], [0.7777777777777778, \"#fb9f3a\"], [0.8888888888888888, \"#fdca26\"], [1.0, \"#f0f921\"]], \"type\": \"histogram2dcontour\"}], \"mesh3d\": [{\"colorbar\": {\"outlinewidth\": 0, \"ticks\": \"\"}, \"type\": \"mesh3d\"}], \"parcoords\": [{\"line\": {\"colorbar\": {\"outlinewidth\": 0, \"ticks\": \"\"}}, \"type\": \"parcoords\"}], \"pie\": [{\"automargin\": true, \"type\": \"pie\"}], \"scatter\": [{\"marker\": {\"colorbar\": {\"outlinewidth\": 0, \"ticks\": \"\"}}, \"type\": \"scatter\"}], \"scatter3d\": [{\"line\": {\"colorbar\": {\"outlinewidth\": 0, \"ticks\": \"\"}}, \"marker\": {\"colorbar\": {\"outlinewidth\": 0, \"ticks\": \"\"}}, \"type\": \"scatter3d\"}], \"scattercarpet\": [{\"marker\": {\"colorbar\": {\"outlinewidth\": 0, \"ticks\": \"\"}}, \"type\": \"scattercarpet\"}], \"scattergeo\": [{\"marker\": {\"colorbar\": {\"outlinewidth\": 0, \"ticks\": \"\"}}, \"type\": \"scattergeo\"}], \"scattergl\": [{\"marker\": {\"colorbar\": {\"outlinewidth\": 0, \"ticks\": \"\"}}, \"type\": \"scattergl\"}], \"scattermapbox\": [{\"marker\": {\"colorbar\": {\"outlinewidth\": 0, \"ticks\": \"\"}}, \"type\": \"scattermapbox\"}], \"scatterpolar\": [{\"marker\": {\"colorbar\": {\"outlinewidth\": 0, \"ticks\": \"\"}}, \"type\": \"scatterpolar\"}], \"scatterpolargl\": [{\"marker\": {\"colorbar\": {\"outlinewidth\": 0, \"ticks\": \"\"}}, \"type\": \"scatterpolargl\"}], \"scatterternary\": [{\"marker\": {\"colorbar\": {\"outlinewidth\": 0, \"ticks\": \"\"}}, \"type\": \"scatterternary\"}], \"surface\": [{\"colorbar\": {\"outlinewidth\": 0, \"ticks\": \"\"}, \"colorscale\": [[0.0, \"#0d0887\"], [0.1111111111111111, \"#46039f\"], [0.2222222222222222, \"#7201a8\"], [0.3333333333333333, \"#9c179e\"], [0.4444444444444444, \"#bd3786\"], [0.5555555555555556, \"#d8576b\"], [0.6666666666666666, \"#ed7953\"], [0.7777777777777778, \"#fb9f3a\"], [0.8888888888888888, \"#fdca26\"], [1.0, \"#f0f921\"]], \"type\": \"surface\"}], \"table\": [{\"cells\": {\"fill\": {\"color\": \"#EBF0F8\"}, \"line\": {\"color\": \"white\"}}, \"header\": {\"fill\": {\"color\": \"#C8D4E3\"}, \"line\": {\"color\": \"white\"}}, \"type\": \"table\"}]}, \"layout\": {\"annotationdefaults\": {\"arrowcolor\": \"#2a3f5f\", \"arrowhead\": 0, \"arrowwidth\": 1}, \"autotypenumbers\": \"strict\", \"coloraxis\": {\"colorbar\": {\"outlinewidth\": 0, \"ticks\": \"\"}}, \"colorscale\": {\"diverging\": [[0, \"#8e0152\"], [0.1, \"#c51b7d\"], [0.2, \"#de77ae\"], [0.3, \"#f1b6da\"], [0.4, \"#fde0ef\"], [0.5, \"#f7f7f7\"], [0.6, \"#e6f5d0\"], [0.7, \"#b8e186\"], [0.8, \"#7fbc41\"], [0.9, \"#4d9221\"], [1, \"#276419\"]], \"sequential\": [[0.0, \"#0d0887\"], [0.1111111111111111, \"#46039f\"], [0.2222222222222222, \"#7201a8\"], [0.3333333333333333, \"#9c179e\"], [0.4444444444444444, \"#bd3786\"], [0.5555555555555556, \"#d8576b\"], [0.6666666666666666, \"#ed7953\"], [0.7777777777777778, \"#fb9f3a\"], [0.8888888888888888, \"#fdca26\"], [1.0, \"#f0f921\"]], \"sequentialminus\": [[0.0, \"#0d0887\"], [0.1111111111111111, \"#46039f\"], [0.2222222222222222, \"#7201a8\"], [0.3333333333333333, \"#9c179e\"], [0.4444444444444444, \"#bd3786\"], [0.5555555555555556, \"#d8576b\"], [0.6666666666666666, \"#ed7953\"], [0.7777777777777778, \"#fb9f3a\"], [0.8888888888888888, \"#fdca26\"], [1.0, \"#f0f921\"]]}, \"colorway\": [\"#636efa\", \"#EF553B\", \"#00cc96\", \"#ab63fa\", \"#FFA15A\", \"#19d3f3\", \"#FF6692\", \"#B6E880\", \"#FF97FF\", \"#FECB52\"], \"font\": {\"color\": \"#2a3f5f\"}, \"geo\": {\"bgcolor\": \"white\", \"lakecolor\": \"white\", \"landcolor\": \"#E5ECF6\", \"showlakes\": true, \"showland\": true, \"subunitcolor\": \"white\"}, \"hoverlabel\": {\"align\": \"left\"}, \"hovermode\": \"closest\", \"mapbox\": {\"style\": \"light\"}, \"paper_bgcolor\": \"white\", \"plot_bgcolor\": \"#E5ECF6\", \"polar\": {\"angularaxis\": {\"gridcolor\": \"white\", \"linecolor\": \"white\", \"ticks\": \"\"}, \"bgcolor\": \"#E5ECF6\", \"radialaxis\": {\"gridcolor\": \"white\", \"linecolor\": \"white\", \"ticks\": \"\"}}, \"scene\": {\"xaxis\": {\"backgroundcolor\": \"#E5ECF6\", \"gridcolor\": \"white\", \"gridwidth\": 2, \"linecolor\": \"white\", \"showbackground\": true, \"ticks\": \"\", \"zerolinecolor\": \"white\"}, \"yaxis\": {\"backgroundcolor\": \"#E5ECF6\", \"gridcolor\": \"white\", \"gridwidth\": 2, \"linecolor\": \"white\", \"showbackground\": true, \"ticks\": \"\", \"zerolinecolor\": \"white\"}, \"zaxis\": {\"backgroundcolor\": \"#E5ECF6\", \"gridcolor\": \"white\", \"gridwidth\": 2, \"linecolor\": \"white\", \"showbackground\": true, \"ticks\": \"\", \"zerolinecolor\": \"white\"}}, \"shapedefaults\": {\"line\": {\"color\": \"#2a3f5f\"}}, \"ternary\": {\"aaxis\": {\"gridcolor\": \"white\", \"linecolor\": \"white\", \"ticks\": \"\"}, \"baxis\": {\"gridcolor\": \"white\", \"linecolor\": \"white\", \"ticks\": \"\"}, \"bgcolor\": \"#E5ECF6\", \"caxis\": {\"gridcolor\": \"white\", \"linecolor\": \"white\", \"ticks\": \"\"}}, \"title\": {\"x\": 0.05}, \"xaxis\": {\"automargin\": true, \"gridcolor\": \"white\", \"linecolor\": \"white\", \"ticks\": \"\", \"title\": {\"standoff\": 15}, \"zerolinecolor\": \"white\", \"zerolinewidth\": 2}, \"yaxis\": {\"automargin\": true, \"gridcolor\": \"white\", \"linecolor\": \"white\", \"ticks\": \"\", \"title\": {\"standoff\": 15}, \"zerolinecolor\": \"white\", \"zerolinewidth\": 2}}}, \"xaxis\": {\"anchor\": \"y\", \"domain\": [0.0, 1.0], \"title\": {\"text\": \"year\"}}, \"yaxis\": {\"anchor\": \"x\", \"domain\": [0.0, 1.0], \"title\": {\"text\": \"value\"}}},                        {\"responsive\": true}                    ).then(function(){\n",
       "                            \n",
       "var gd = document.getElementById('20d4e41f-4cd8-48dc-8125-bd99eb98a2c5');\n",
       "var x = new MutationObserver(function (mutations, observer) {{\n",
       "        var display = window.getComputedStyle(gd).display;\n",
       "        if (!display || display === 'none') {{\n",
       "            console.log([gd, 'removed!']);\n",
       "            Plotly.purge(gd);\n",
       "            observer.disconnect();\n",
       "        }}\n",
       "}});\n",
       "\n",
       "// Listen for the removal of the full notebook cells\n",
       "var notebookContainer = gd.closest('#notebook-container');\n",
       "if (notebookContainer) {{\n",
       "    x.observe(notebookContainer, {childList: true});\n",
       "}}\n",
       "\n",
       "// Listen for the clearing of the current output cell\n",
       "var outputEl = gd.closest('.output');\n",
       "if (outputEl) {{\n",
       "    x.observe(outputEl, {childList: true});\n",
       "}}\n",
       "\n",
       "                        })                };                });            </script>        </div>"
      ]
     },
     "metadata": {},
     "output_type": "display_data"
    }
   ],
   "source": [
    "# your code here\n",
    "\n",
    "rm.unstack(1).plot()"
   ]
  },
  {
   "cell_type": "code",
   "execution_count": 79,
   "metadata": {
    "ExecuteTime": {
     "end_time": "2022-01-30T23:10:04.162856Z",
     "start_time": "2022-01-30T23:10:03.812296Z"
    }
   },
   "outputs": [
    {
     "data": {
      "application/vnd.plotly.v1+json": {
       "config": {
        "plotlyServerURL": "https://plot.ly"
       },
       "data": [
        {
         "hovertemplate": "firstname=CAMILLE<br>year=%{x}<br>value=%{y}<extra></extra>",
         "legendgroup": "CAMILLE",
         "line": {
          "color": "#636efa",
          "dash": "solid"
         },
         "mode": "lines",
         "name": "CAMILLE",
         "showlegend": true,
         "type": "scattergl",
         "x": [
          1900,
          1901,
          1902,
          1903,
          1904,
          1905,
          1906,
          1907,
          1908,
          1909,
          1910,
          1911,
          1912,
          1913,
          1914,
          1915,
          1916,
          1917,
          1918,
          1919,
          1920,
          1921,
          1922,
          1923,
          1924,
          1925,
          1926,
          1927,
          1928,
          1929,
          1930,
          1931,
          1932,
          1933,
          1934,
          1935,
          1936,
          1937,
          1938,
          1939,
          1940,
          1941,
          1942,
          1943,
          1944,
          1945,
          1946,
          1947,
          1948,
          1949,
          1950,
          1951,
          1952,
          1953,
          1954,
          1955,
          1956,
          1957,
          1958,
          1959,
          1960,
          1961,
          1962,
          1963,
          1964,
          1965,
          1966,
          1967,
          1968,
          1969,
          1970,
          1971,
          1972,
          1973,
          1974,
          1975,
          1976,
          1977,
          1978,
          1979,
          1980,
          1981,
          1982,
          1983,
          1984,
          1985,
          1986,
          1987,
          1988,
          1989,
          1990,
          1991,
          1992,
          1993,
          1994,
          1995,
          1996,
          1997,
          1998,
          1999,
          2000,
          2001,
          2002,
          2003,
          2004,
          2005,
          2006,
          2007,
          2008,
          2009,
          2010,
          2011,
          2012,
          2013,
          2014,
          2015,
          2016,
          2017,
          2018,
          2019,
          2020
         ],
         "xaxis": "x",
         "y": [
          0.312386087162924,
          0.2639626463526228,
          0.2807204001709737,
          0.2845733517657796,
          0.2813581232652751,
          0.29720253412186054,
          0.2739180605274121,
          0.28282858354979645,
          0.27837634051251264,
          0.27411827682712586,
          0.2587175003909193,
          0.2592306893533696,
          0.2437091690292134,
          0.22220503336591402,
          0.2621059050499071,
          0.2703509586678166,
          0.24020210107814852,
          0.2949739503524364,
          0.26196928635953026,
          0.23112165589462488,
          0.20710617846461227,
          0.2104840825270435,
          0.20184563000986658,
          0.17987399201628806,
          0.16816644329567937,
          0.16107123274014257,
          0.15183146707155057,
          0.15068852334724386,
          0.13861429707464112,
          0.12902030792421015,
          0.1255306801869216,
          0.11376001582748047,
          0.10906693084406555,
          0.10117754847129623,
          0.08649328694147942,
          0.09366508385255126,
          0.07455130516796582,
          0.09416162649221492,
          0.0726757131304351,
          0.08558876904882821,
          0.08082076230456872,
          0.061218115564809994,
          0.05818817981288507,
          0.052565848426905246,
          0.049757822068811935,
          0.052925872847308854,
          0.038136734494437996,
          0.03399268347955583,
          0.03774380063863437,
          0.03500610303770065,
          0.032348752129432244,
          0.027635291722018056,
          0.028924705830880405,
          0.03050269936489908,
          0.027596334615413047,
          0.02613850448300011,
          0.0212299025646216,
          0.023414405713114993,
          0.02129440617978353,
          0.019225315895971817,
          0.017001474270697474,
          0.017321934076990064,
          0.02434152592730475,
          0.021500900064273968,
          0.02336612909446041,
          0.024596174490318992,
          0.024205539610636605,
          0.024430044685635133,
          0.021690681349589427,
          0.02874512105021844,
          0.02697452327262488,
          0.032851586115642144,
          0.03494124354046748,
          0.03840888258428158,
          0.056281579518552734,
          0.06427170932916064,
          0.07918214146833559,
          0.10853656531105593,
          0.13393822757851886,
          0.20903179171263117,
          0.2500683281693415,
          0.3004004490732137,
          0.3508979540385422,
          0.3780702833476852,
          0.5042627006965549,
          0.718689111061424,
          0.7293273863750059,
          0.82268906667803,
          1.0315294167575124,
          1.2905167660635377,
          1.4769133290018417,
          1.53509185496103,
          1.7166469763384822,
          1.8803433620238827,
          2.0329923295874077,
          2.0716285192121373,
          2.0425101843199585,
          2.001858746657392,
          2.0932509348376764,
          2.0032566489916914,
          1.9621479178157382,
          1.769764022503743,
          1.5911474836651296,
          1.4716087852164348,
          1.4482364239805843,
          1.357372742913277,
          1.3265227926740004,
          1.238267875125881,
          1.2273493188184703,
          1.1505990921388205,
          1.1008703201761816,
          1.0523050362817297,
          1.008812489800359,
          0.950754654621571,
          0.8780447549754494,
          0.8563828882221831,
          0.7823536749156584,
          0.7008619387848766,
          0.6205809963638773,
          0.5594914817118497,
          0.4759168581992605
         ],
         "yaxis": "y"
        },
        {
         "hovertemplate": "firstname=CHLOÉ<br>year=%{x}<br>value=%{y}<extra></extra>",
         "legendgroup": "CHLOÉ",
         "line": {
          "color": "#EF553B",
          "dash": "solid"
         },
         "mode": "lines",
         "name": "CHLOÉ",
         "showlegend": true,
         "type": "scattergl",
         "x": [
          1900,
          1901,
          1902,
          1903,
          1904,
          1905,
          1906,
          1907,
          1908,
          1909,
          1910,
          1911,
          1912,
          1913,
          1914,
          1915,
          1916,
          1917,
          1918,
          1919,
          1920,
          1921,
          1922,
          1923,
          1924,
          1925,
          1926,
          1927,
          1928,
          1929,
          1930,
          1931,
          1932,
          1933,
          1934,
          1935,
          1936,
          1937,
          1938,
          1939,
          1940,
          1941,
          1942,
          1943,
          1944,
          1945,
          1946,
          1947,
          1948,
          1949,
          1950,
          1951,
          1952,
          1953,
          1954,
          1955,
          1956,
          1957,
          1958,
          1959,
          1960,
          1961,
          1962,
          1963,
          1964,
          1965,
          1966,
          1967,
          1968,
          1969,
          1970,
          1971,
          1972,
          1973,
          1974,
          1975,
          1976,
          1977,
          1978,
          1979,
          1980,
          1981,
          1982,
          1983,
          1984,
          1985,
          1986,
          1987,
          1988,
          1989,
          1990,
          1991,
          1992,
          1993,
          1994,
          1995,
          1996,
          1997,
          1998,
          1999,
          2000,
          2001,
          2002,
          2003,
          2004,
          2005,
          2006,
          2007,
          2008,
          2009,
          2010,
          2011,
          2012,
          2013,
          2014,
          2015,
          2016,
          2017,
          2018,
          2019,
          2020
         ],
         "xaxis": "x",
         "y": [
          null,
          null,
          null,
          null,
          null,
          null,
          null,
          null,
          null,
          null,
          null,
          null,
          null,
          null,
          null,
          null,
          null,
          null,
          null,
          null,
          null,
          null,
          null,
          null,
          null,
          null,
          null,
          null,
          null,
          null,
          null,
          null,
          null,
          null,
          null,
          null,
          null,
          null,
          null,
          null,
          null,
          null,
          null,
          null,
          null,
          null,
          null,
          null,
          null,
          0.0006909099283756708,
          null,
          null,
          null,
          null,
          null,
          null,
          null,
          null,
          null,
          null,
          null,
          null,
          null,
          null,
          null,
          0.0011493539481457473,
          0.002766347384072755,
          0.0026090338984658882,
          0.002383591357097739,
          0.0061766375810386725,
          0.006152084255160061,
          0.012775616822749723,
          0.016551115361274068,
          0.024977555545606423,
          0.031547970582148394,
          0.030915505753267146,
          0.05410310022035742,
          0.060024009603841535,
          0.07487230113084906,
          0.08765849329884534,
          0.10881420612884521,
          0.14638157476025243,
          0.18213764769742513,
          0.22717021363841391,
          0.2710916278944679,
          0.29546107899191876,
          0.3830943491608786,
          0.46101481852368725,
          0.5477264709704971,
          0.6091665312667308,
          0.6765718213206038,
          0.7233628695279687,
          0.8046351400589605,
          0.9046335381832786,
          1.0088228566133781,
          1.1917372133291528,
          1.5947671086694464,
          1.8581764897056223,
          1.7187548214621338,
          1.7096015476041362,
          1.917117635617088,
          1.8912605805492613,
          1.6673586678612793,
          1.5901055224416911,
          1.4914673620098555,
          1.4300988314979945,
          1.375144345234163,
          1.3819402484055052,
          1.3477454299975018,
          1.3425438291638374,
          0.8748200067762155,
          0.8454047638315665,
          1.131208181472012,
          1.1884433182769638,
          1.0637215123715735,
          1.0211373445324774,
          0.9642356749794766,
          0.9341864879029512,
          0.9426203580692099,
          0.8683647617458319,
          0.8038123313680424
         ],
         "yaxis": "y"
        },
        {
         "hovertemplate": "firstname=EMMA<br>year=%{x}<br>value=%{y}<extra></extra>",
         "legendgroup": "EMMA",
         "line": {
          "color": "#00cc96",
          "dash": "solid"
         },
         "mode": "lines",
         "name": "EMMA",
         "showlegend": true,
         "type": "scattergl",
         "x": [
          1900,
          1901,
          1902,
          1903,
          1904,
          1905,
          1906,
          1907,
          1908,
          1909,
          1910,
          1911,
          1912,
          1913,
          1914,
          1915,
          1916,
          1917,
          1918,
          1919,
          1920,
          1921,
          1922,
          1923,
          1924,
          1925,
          1926,
          1927,
          1928,
          1929,
          1930,
          1931,
          1932,
          1933,
          1934,
          1935,
          1936,
          1937,
          1938,
          1939,
          1940,
          1941,
          1942,
          1943,
          1944,
          1945,
          1946,
          1947,
          1948,
          1949,
          1950,
          1951,
          1952,
          1953,
          1954,
          1955,
          1956,
          1957,
          1958,
          1959,
          1960,
          1961,
          1962,
          1963,
          1964,
          1965,
          1966,
          1967,
          1968,
          1969,
          1970,
          1971,
          1972,
          1973,
          1974,
          1975,
          1976,
          1977,
          1978,
          1979,
          1980,
          1981,
          1982,
          1983,
          1984,
          1985,
          1986,
          1987,
          1988,
          1989,
          1990,
          1991,
          1992,
          1993,
          1994,
          1995,
          1996,
          1997,
          1998,
          1999,
          2000,
          2001,
          2002,
          2003,
          2004,
          2005,
          2006,
          2007,
          2008,
          2009,
          2010,
          2011,
          2012,
          2013,
          2014,
          2015,
          2016,
          2017,
          2018,
          2019,
          2020
         ],
         "xaxis": "x",
         "y": [
          0.312386087162924,
          0.3378721873313572,
          0.3234638355879533,
          0.29843619434164975,
          0.3307859016767423,
          0.29155944803093914,
          0.3413837470368554,
          0.3114835847778679,
          0.2933850777416853,
          0.2963926322180587,
          0.29567714330390776,
          0.29075373455370784,
          0.2778707143989153,
          0.28021742340606565,
          0.2307245177786257,
          0.23552046706030652,
          0.22639738262538137,
          0.21133415057717847,
          0.17728093947606144,
          0.17692055960075267,
          0.16964432559527798,
          0.16141228029566532,
          0.15767174612591814,
          0.14011574779165398,
          0.13338438955900184,
          0.11807736403967897,
          0.11978507135767823,
          0.12446808846711546,
          0.10466793860738208,
          0.09421037336049999,
          0.0858251122445863,
          0.07233653180334355,
          0.0703153565613603,
          0.06360673242658037,
          0.06749097390130591,
          0.06175719814453929,
          0.05443979028544481,
          0.041967166863571444,
          0.049162982411764915,
          0.036224292294524806,
          0.028248033426839556,
          0.04497657470067673,
          0.031946451661976114,
          0.026812110607012073,
          0.01739783988419998,
          0.016152701453399455,
          0.011679374938921636,
          0.011099651748426392,
          0.012040967074901762,
          0.014048501876971972,
          0.011868966608640608,
          0.012120741983341253,
          0.012396302498948745,
          0.007191693346195718,
          0.007884667032975155,
          0.012082893581764202,
          0.009874373285870512,
          0.008536502082906508,
          0.01248292776056276,
          0.011294873088883441,
          0.00971512815468427,
          0.009966044263473736,
          0.009545696442080294,
          0.009835518114508304,
          0.009527936135605217,
          0.009194831585165979,
          0.01083486058761829,
          0.005455252696792311,
          0.010487801971230053,
          0.008314704436013598,
          0.008754889132343163,
          0.012091208778673845,
          0.00873531088511687,
          0.011074953873995302,
          0.012114420703544982,
          0.012474677760090251,
          0.016061857877918608,
          0.03563069063241735,
          0.036326931289411946,
          0.03668170796505528,
          0.040102888174245774,
          0.03691361450475931,
          0.03472963621349208,
          0.036904908352810926,
          0.04141677648387704,
          0.04977587546980974,
          0.06082116471213948,
          0.06738113754274574,
          0.08832586674730049,
          0.1163995514488681,
          0.11625222167929422,
          0.13793735165672996,
          0.16120306064989123,
          0.1987824574481302,
          0.28463629967019255,
          0.36890466949700723,
          0.43701530965131935,
          0.6459999885966463,
          1.2814219070408075,
          1.5470474440872337,
          1.8283893280895702,
          1.718154865103877,
          1.7839972902690064,
          1.7088765576697835,
          1.8151521701657276,
          1.9261558834862933,
          1.8772147249314939,
          1.8102719033232628,
          1.7984999654492395,
          1.761186528580518,
          1.6945832627477553,
          1.5980146205929162,
          1.4099983680574444,
          1.3200947449597884,
          1.2381201259851184,
          1.248277309256308,
          1.369771617705502,
          1.424523357623169,
          1.3155714617092487,
          1.1975666368311664,
          1.0861147196962126
         ],
         "yaxis": "y"
        },
        {
         "hovertemplate": "firstname=LAURA<br>year=%{x}<br>value=%{y}<extra></extra>",
         "legendgroup": "LAURA",
         "line": {
          "color": "#ab63fa",
          "dash": "solid"
         },
         "mode": "lines",
         "name": "LAURA",
         "showlegend": true,
         "type": "scattergl",
         "x": [
          1900,
          1901,
          1902,
          1903,
          1904,
          1905,
          1906,
          1907,
          1908,
          1909,
          1910,
          1911,
          1912,
          1913,
          1914,
          1915,
          1916,
          1917,
          1918,
          1919,
          1920,
          1921,
          1922,
          1923,
          1924,
          1925,
          1926,
          1927,
          1928,
          1929,
          1930,
          1931,
          1932,
          1933,
          1934,
          1935,
          1936,
          1937,
          1938,
          1939,
          1940,
          1941,
          1942,
          1943,
          1944,
          1945,
          1946,
          1947,
          1948,
          1949,
          1950,
          1951,
          1952,
          1953,
          1954,
          1955,
          1956,
          1957,
          1958,
          1959,
          1960,
          1961,
          1962,
          1963,
          1964,
          1965,
          1966,
          1967,
          1968,
          1969,
          1970,
          1971,
          1972,
          1973,
          1974,
          1975,
          1976,
          1977,
          1978,
          1979,
          1980,
          1981,
          1982,
          1983,
          1984,
          1985,
          1986,
          1987,
          1988,
          1989,
          1990,
          1991,
          1992,
          1993,
          1994,
          1995,
          1996,
          1997,
          1998,
          1999,
          2000,
          2001,
          2002,
          2003,
          2004,
          2005,
          2006,
          2007,
          2008,
          2009,
          2010,
          2011,
          2012,
          2013,
          2014,
          2015,
          2016,
          2017,
          2018,
          2019,
          2020
         ],
         "xaxis": "x",
         "y": [
          0.005934064070937497,
          0.008212171219859376,
          0.0030806079579805074,
          0.005776184406612576,
          0.0019010684004410478,
          0.007900320527289964,
          0.0047926443968457026,
          0.0029771429847346995,
          0.00285880709127099,
          0.0057482207460472,
          0.006041480091546193,
          0.005933749684769548,
          0.008452341122400465,
          0.005625443882681368,
          0.007132133470745772,
          0.0038700546230566795,
          0.008973066994298652,
          0.006384717540096026,
          0.009598012646793134,
          0.0030679865826720117,
          0.0027411111855610445,
          0.004629415304846998,
          0.0061263050641972286,
          0.005450727030796608,
          0.0035101155147105752,
          0.008100294102985893,
          0.006533731164964266,
          0.006002268225571558,
          0.006914998947034251,
          0.005429072363147457,
          0.005497694022784888,
          0.004018696211296864,
          0.00468769043742402,
          0.003295685617957532,
          0.004259139129694063,
          0.003430955452474405,
          0.0038142528225470888,
          0.0028213221420888366,
          0.0024937744701619886,
          0.0028411209642764555,
          0.0035310041783549444,
          0.0029151483602290473,
          0.0022818894044268653,
          0.0031751183613566926,
          0.0041754815722079945,
          0.0020620469940509944,
          0.0021451913153121374,
          0.007399767832284262,
          0.005788926478318155,
          0.007139402593215265,
          0.007912644405760404,
          0.008242104548672052,
          0.009479525440372569,
          0.012151481860813456,
          0.009855833791218944,
          0.01356243157136798,
          0.016292715921686345,
          0.013902303392162028,
          0.017622956838441544,
          0.022349429729067234,
          0.025987967813780422,
          0.02752526510864175,
          0.025773380393616794,
          0.022415831981902647,
          0.02699581905088145,
          0.03562997239251817,
          0.04172573970976405,
          0.04482794607364117,
          0.04052105307066157,
          0.04822528572887887,
          0.04022516628373886,
          0.05201501134976673,
          0.035171120142707395,
          0.046420551344193074,
          0.04744814775555118,
          0.06400052068220216,
          0.06734708829513242,
          0.09236571340865113,
          0.12312333963739622,
          0.09871694937654582,
          0.12873793401159153,
          0.1382351219040297,
          0.1479225246130218,
          0.23099738931944616,
          0.6123766237258963,
          0.6721074094185538,
          0.6848305169535706,
          1.1571977969297638,
          2.451904841477615,
          2.1508612767725626,
          2.127442504819232,
          1.963182581098811,
          2.0685885899148717,
          2.1842956080056166,
          2.2959117193132825,
          2.142245798978027,
          2.0958667046843638,
          1.6857007645948674,
          1.5571744759158324,
          1.5002853047193576,
          1.3935406857925463,
          1.233512621395759,
          1.0292607241974607,
          0.9071034953794501,
          0.891159273173014,
          0.7467992380042658,
          0.6656396244513559,
          0.613091641490433,
          0.5344736856093425,
          0.48921848016125496,
          0.4348953921734711,
          0.37657468101750696,
          0.30734918130881794,
          0.29112041423377766,
          0.2781025210777504,
          0.24358705330558122,
          0.19725639560350305,
          0.17588170326920857,
          0.195513139145707,
          0.13623192803070527,
          0.12116518437094034
         ],
         "yaxis": "y"
        },
        {
         "hovertemplate": "firstname=LÉA<br>year=%{x}<br>value=%{y}<extra></extra>",
         "legendgroup": "LÉA",
         "line": {
          "color": "#FFA15A",
          "dash": "solid"
         },
         "mode": "lines",
         "name": "LÉA",
         "showlegend": true,
         "type": "scattergl",
         "x": [
          1900,
          1901,
          1902,
          1903,
          1904,
          1905,
          1906,
          1907,
          1908,
          1909,
          1910,
          1911,
          1912,
          1913,
          1914,
          1915,
          1916,
          1917,
          1918,
          1919,
          1920,
          1921,
          1922,
          1923,
          1924,
          1925,
          1926,
          1927,
          1928,
          1929,
          1930,
          1931,
          1932,
          1933,
          1934,
          1935,
          1936,
          1937,
          1938,
          1939,
          1940,
          1941,
          1942,
          1943,
          1944,
          1945,
          1946,
          1947,
          1948,
          1949,
          1950,
          1951,
          1952,
          1953,
          1954,
          1955,
          1956,
          1957,
          1958,
          1959,
          1960,
          1961,
          1962,
          1963,
          1964,
          1965,
          1966,
          1967,
          1968,
          1969,
          1970,
          1971,
          1972,
          1973,
          1974,
          1975,
          1976,
          1977,
          1978,
          1979,
          1980,
          1981,
          1982,
          1983,
          1984,
          1985,
          1986,
          1987,
          1988,
          1989,
          1990,
          1991,
          1992,
          1993,
          1994,
          1995,
          1996,
          1997,
          1998,
          1999,
          2000,
          2001,
          2002,
          2003,
          2004,
          2005,
          2006,
          2007,
          2008,
          2009,
          2010,
          2011,
          2012,
          2013,
          2014,
          2015,
          2016,
          2017,
          2018,
          2019,
          2020
         ],
         "xaxis": "x",
         "y": [
          0.3963107075947543,
          0.4309434611564301,
          0.427819430164543,
          0.33540377454397025,
          0.41405269761606023,
          0.42285525107971045,
          0.38230555688684564,
          0.4108457318933885,
          0.34484360538456316,
          0.3743528760863239,
          0.3958946365872034,
          0.38272685466763584,
          0.37718572258712074,
          0.34561320854223654,
          0.2678116118265037,
          0.2609522545832504,
          0.28161625643645,
          0.2707120237000715,
          0.256323396567299,
          0.263335515012681,
          0.27776593347018586,
          0.2654198108112279,
          0.25698237558764164,
          0.22444170126809562,
          0.21571255344948626,
          0.17633717162653906,
          0.19756758522630044,
          0.18069986447510164,
          0.1892195166415736,
          0.16510767127924914,
          0.13683149567820163,
          0.11561479869423286,
          0.12406754024382241,
          0.11831511368467539,
          0.11532438258863924,
          0.11081986111492328,
          0.06900330106244279,
          0.08816631694027614,
          0.07873202255797135,
          0.07919624687920619,
          0.042764383937854325,
          0.04872462259239979,
          0.039172434775994525,
          0.036690256620121785,
          0.03166406858924396,
          0.034023775401841407,
          0.029794323823779684,
          0.021968060752093902,
          0.022229477676741716,
          0.02164851108910435,
          0.022341584204499967,
          0.019393187173346003,
          0.020903568919795924,
          0.012151481860813456,
          0.015522938221169838,
          0.019727173194717063,
          0.013330403935925193,
          0.019024204641905934,
          0.019825826443246736,
          0.011535189537583089,
          0.012143910193355338,
          0.018982941454235687,
          0.015034471896276462,
          0.01532510962028038,
          0.008620513646499958,
          0.011033797902199174,
          0.01106538953629102,
          0.011147690293445159,
          0.009296006292681182,
          0.015441593952596682,
          0.01041121950873241,
          0.012091208778673845,
          0.013332842929915222,
          0.013902601671611123,
          0.01590017717340279,
          0.012203489113131767,
          0.023951893326720732,
          0.02905271697720184,
          0.03244466382336792,
          0.03668170796505528,
          0.04367894189678998,
          0.051933636958419994,
          0.06225608861974136,
          0.07380981670562185,
          0.12478820966570744,
          0.16583085784861745,
          0.23196297017919865,
          0.27272049345364285,
          0.35383395267537193,
          0.4453548055434953,
          0.5895840157222404,
          0.6333803002831487,
          0.783932692201526,
          1.020204734374052,
          1.2983816558709493,
          1.553015216611444,
          1.7384627111323157,
          2.139554242902838,
          2.284566552307429,
          2.687987975449877,
          2.843835514237829,
          2.882586478938357,
          2.6622014379056402,
          2.464018959477956,
          2.023919294952651,
          1.8024129864914005,
          1.7191946791109656,
          1.5658945955018462,
          1.5279409341462507,
          1.4141889399196934,
          0.9015542944265628,
          0.8418979795527501,
          1.0147962791709733,
          1.0920458301200837,
          0.9740465154661861,
          0.8799192391236538,
          0.9053488392331368,
          0.8379549162489229,
          0.8447131620409282,
          0.8164813325849174,
          0.7585315279304486
         ],
         "yaxis": "y"
        },
        {
         "hovertemplate": "firstname=MANON<br>year=%{x}<br>value=%{y}<extra></extra>",
         "legendgroup": "MANON",
         "line": {
          "color": "#19d3f3",
          "dash": "solid"
         },
         "mode": "lines",
         "name": "MANON",
         "showlegend": true,
         "type": "scattergl",
         "x": [
          1900,
          1901,
          1902,
          1903,
          1904,
          1905,
          1906,
          1907,
          1908,
          1909,
          1910,
          1911,
          1912,
          1913,
          1914,
          1915,
          1916,
          1917,
          1918,
          1919,
          1920,
          1921,
          1922,
          1923,
          1924,
          1925,
          1926,
          1927,
          1928,
          1929,
          1930,
          1931,
          1932,
          1933,
          1934,
          1935,
          1936,
          1937,
          1938,
          1939,
          1940,
          1941,
          1942,
          1943,
          1944,
          1945,
          1946,
          1947,
          1948,
          1949,
          1950,
          1951,
          1952,
          1953,
          1954,
          1955,
          1956,
          1957,
          1958,
          1959,
          1960,
          1961,
          1962,
          1963,
          1964,
          1965,
          1966,
          1967,
          1968,
          1969,
          1970,
          1971,
          1972,
          1973,
          1974,
          1975,
          1976,
          1977,
          1978,
          1979,
          1980,
          1981,
          1982,
          1983,
          1984,
          1985,
          1986,
          1987,
          1988,
          1989,
          1990,
          1991,
          1992,
          1993,
          1994,
          1995,
          1996,
          1997,
          1998,
          1999,
          2000,
          2001,
          2002,
          2003,
          2004,
          2005,
          2006,
          2007,
          2008,
          2009,
          2010,
          2011,
          2012,
          2013,
          2014,
          2015,
          2016,
          2017,
          2018,
          2019,
          2020
         ],
         "xaxis": "x",
         "y": [
          null,
          null,
          null,
          null,
          null,
          null,
          null,
          0.0011164286192755122,
          null,
          null,
          null,
          0.0018542967764904837,
          0.0021130852806001163,
          0.0010547707280027564,
          0.00249624671476102,
          null,
          0.0027609436905534314,
          0.003830830524057616,
          null,
          0.00255665548556001,
          0.0024365432760542617,
          0.001851766121938799,
          0.0012897484345678375,
          0.0016031550090578259,
          0.002871912693854107,
          0.0015577488659588256,
          0.004044690721168355,
          0.002211361977842153,
          0.002514545071648819,
          0.002554857582657627,
          0.0021379921199719005,
          0.003400435255712731,
          0.002812614262454412,
          null,
          0.0013105043475981732,
          0.0017154777262372025,
          0.0031207523093567087,
          0.0014106610710444183,
          0.0014250139829497077,
          0.0010654203616036707,
          0.0015693351903799753,
          0.001665799062988027,
          null,
          0.002116745574237795,
          0.0010438703930519986,
          0.0020620469940509944,
          0.0019068367247218998,
          0.001387456468553299,
          0.0018524564730618095,
          0.0009212132378342277,
          0.0020945235191718718,
          0.0029089780760019005,
          0.0014583885292880877,
          0.001487936554385321,
          0.0017247709134633154,
          0.0012329483246698164,
          0.0017280153250273397,
          0.0026829006546277598,
          0.002447632894227992,
          0.0016822151408975338,
          0.0019430256309368541,
          0.0014237206090676766,
          0.0011932120552600367,
          null,
          0.002041700600486832,
          0.0011493539481457473,
          0.0006915868460181888,
          0.0009487395994421411,
          0.002383591357097739,
          0.0019005038710888224,
          0.002129567626786175,
          0.0025094961616115526,
          0.005057285249278187,
          0.004477109012891717,
          0.004290523999172181,
          0.005966150233086642,
          0.010426118271631377,
          0.016444934138038776,
          0.020797861425235847,
          0.0234655043599986,
          0.028352997371600516,
          0.02978546825556441,
          0.04013202406892418,
          0.052760350459944504,
          0.05271226097947987,
          0.10168120015757924,
          0.13875650997098488,
          0.2008117695937956,
          0.40661727844928425,
          0.5955821442555357,
          0.744765965215617,
          0.924072492544109,
          1.4687696673254647,
          1.7199883273091847,
          2.1673476124429207,
          2.3283929484409116,
          2.150352463575,
          2.1061994332533196,
          2.142622707087935,
          2.0848120468178086,
          2.0951071534200367,
          2.0382929195999213,
          2.068628307947816,
          1.89814217962679,
          1.721302728747753,
          1.608114928929244,
          1.4729159454910117,
          1.3580396106075865,
          1.4224282274396824,
          1.3203552314297478,
          1.335126207013383,
          1.304253999082841,
          1.1809824294184845,
          1.1011347361463037,
          1.052993521944242,
          1.001287410037261,
          0.8798215409785658,
          0.8284798076552955,
          0.6552250811123462,
          0.5895292564892213,
          0.4784151094234036
         ],
         "yaxis": "y"
        },
        {
         "hovertemplate": "firstname=MARIE<br>year=%{x}<br>value=%{y}<extra></extra>",
         "legendgroup": "MARIE",
         "line": {
          "color": "#FF6692",
          "dash": "solid"
         },
         "mode": "lines",
         "name": "MARIE",
         "showlegend": true,
         "type": "scattergl",
         "x": [
          1900,
          1901,
          1902,
          1903,
          1904,
          1905,
          1906,
          1907,
          1908,
          1909,
          1910,
          1911,
          1912,
          1913,
          1914,
          1915,
          1916,
          1917,
          1918,
          1919,
          1920,
          1921,
          1922,
          1923,
          1924,
          1925,
          1926,
          1927,
          1928,
          1929,
          1930,
          1931,
          1932,
          1933,
          1934,
          1935,
          1936,
          1937,
          1938,
          1939,
          1940,
          1941,
          1942,
          1943,
          1944,
          1945,
          1946,
          1947,
          1948,
          1949,
          1950,
          1951,
          1952,
          1953,
          1954,
          1955,
          1956,
          1957,
          1958,
          1959,
          1960,
          1961,
          1962,
          1963,
          1964,
          1965,
          1966,
          1967,
          1968,
          1969,
          1970,
          1971,
          1972,
          1973,
          1974,
          1975,
          1976,
          1977,
          1978,
          1979,
          1980,
          1981,
          1982,
          1983,
          1984,
          1985,
          1986,
          1987,
          1988,
          1989,
          1990,
          1991,
          1992,
          1993,
          1994,
          1995,
          1996,
          1997,
          1998,
          1999,
          2000,
          2001,
          2002,
          2003,
          2004,
          2005,
          2006,
          2007,
          2008,
          2009,
          2010,
          2011,
          2012,
          2013,
          2014,
          2015,
          2016,
          2017,
          2018,
          2019,
          2020
         ],
         "xaxis": "x",
         "y": [
          20.64757593482702,
          20.393558529317453,
          19.968885859624397,
          19.417221501268834,
          19.060491996502034,
          18.42693332129475,
          17.86071100722952,
          17.13643502013293,
          16.95987306896515,
          16.669121635943625,
          16.0973460133339,
          15.684754713622405,
          15.388543555970346,
          15.01149700093523,
          15.087315144015605,
          14.78637298480727,
          13.63837159541131,
          12.960338134640924,
          12.619692863595303,
          12.171214104556983,
          11.657945872191123,
          11.354103976667746,
          11.006713140601926,
          10.737932250669317,
          10.32516433722637,
          9.86833906584916,
          9.663077262926675,
          9.246652155919975,
          8.974097042580677,
          8.589750550092774,
          8.484469014385633,
          8.457500741913147,
          8.33252600886911,
          8.234600085028688,
          8.125454581195573,
          8.080243186122471,
          8.023800937612695,
          8.014318209871101,
          8.260806059159455,
          8.39515730931639,
          8.773760715616847,
          8.545965642894325,
          8.575720696736898,
          8.590106331186012,
          8.794608061463089,
          8.69427747591701,
          7.447389182991969,
          7.6155173131443,
          7.1882257866572195,
          6.993850901637456,
          6.5379388026772665,
          6.088491113071978,
          6.240687581578609,
          5.601337158983541,
          5.772808247361716,
          4.915518380793624,
          4.833505723433616,
          4.437029882635291,
          4.425075509474787,
          3.9887724155167525,
          3.639529884948595,
          3.375878850867639,
          3.0648844851409303,
          2.736332632647973,
          2.58229754837129,
          2.243998648359757,
          2.2158442546422767,
          1.9233323529690807,
          1.911401909256677,
          1.7114037359154846,
          1.3274304873633824,
          1.2412880559389508,
          1.1712212884123803,
          1.1430766221861959,
          1.3091145872768297,
          1.358926309908962,
          1.3621582628396238,
          1.439205819314027,
          1.677694154969025,
          1.7793325547461005,
          1.8899443923646144,
          1.887685872777864,
          1.855848856623199,
          1.9750960211041402,
          2.0267326466395934,
          2.0943133058634382,
          2.095302289087472,
          2.006519724296626,
          1.9495348966746504,
          1.8669209521856214,
          1.8178840484769079,
          1.803692518245717,
          2.01200189910455,
          1.9722224629955476,
          2.091483207037437,
          2.1558043166930774,
          2.0972782528421523,
          1.9337237081425647,
          1.924657553460372,
          1.757755417310342,
          1.7060881474435323,
          1.514406212452322,
          1.2895806472760647,
          1.3215677776650108,
          1.1396003600754079,
          0.985058587919871,
          0.9026696931821485,
          0.7409197717354817,
          0.614206209568966,
          0.5456256382563505,
          0.5050398102659664,
          0.4407758085835289,
          0.38921829951585707,
          0.35584444199625426,
          0.33944462018787736,
          0.29406260102198806,
          0.2784796173225925,
          0.25790061203279574,
          0.23949606413071967,
          0.226648664229258,
          0.20360747476766264
         ],
         "yaxis": "y"
        },
        {
         "hovertemplate": "firstname=MATHILDE<br>year=%{x}<br>value=%{y}<extra></extra>",
         "legendgroup": "MATHILDE",
         "line": {
          "color": "#B6E880",
          "dash": "solid"
         },
         "mode": "lines",
         "name": "MATHILDE",
         "showlegend": true,
         "type": "scattergl",
         "x": [
          1900,
          1901,
          1902,
          1903,
          1904,
          1905,
          1906,
          1907,
          1908,
          1909,
          1910,
          1911,
          1912,
          1913,
          1914,
          1915,
          1916,
          1917,
          1918,
          1919,
          1920,
          1921,
          1922,
          1923,
          1924,
          1925,
          1926,
          1927,
          1928,
          1929,
          1930,
          1931,
          1932,
          1933,
          1934,
          1935,
          1936,
          1937,
          1938,
          1939,
          1940,
          1941,
          1942,
          1943,
          1944,
          1945,
          1946,
          1947,
          1948,
          1949,
          1950,
          1951,
          1952,
          1953,
          1954,
          1955,
          1956,
          1957,
          1958,
          1959,
          1960,
          1961,
          1962,
          1963,
          1964,
          1965,
          1966,
          1967,
          1968,
          1969,
          1970,
          1971,
          1972,
          1973,
          1974,
          1975,
          1976,
          1977,
          1978,
          1979,
          1980,
          1981,
          1982,
          1983,
          1984,
          1985,
          1986,
          1987,
          1988,
          1989,
          1990,
          1991,
          1992,
          1993,
          1994,
          1995,
          1996,
          1997,
          1998,
          1999,
          2000,
          2001,
          2002,
          2003,
          2004,
          2005,
          2006,
          2007,
          2008,
          2009,
          2010,
          2011,
          2012,
          2013,
          2014,
          2015,
          2016,
          2017,
          2018,
          2019,
          2020
         ],
         "xaxis": "x",
         "y": [
          0.47387740223629443,
          0.44111091123816076,
          0.41973283427484415,
          0.4586290418850385,
          0.42697996273905936,
          0.433012806043369,
          0.41990938215440426,
          0.4019143029391844,
          0.37736253604777065,
          0.3621379070009736,
          0.3674641420387508,
          0.3515746688225957,
          0.34091109193681873,
          0.3111573647608132,
          0.3091779859568292,
          0.2681394988832128,
          0.3037038059608774,
          0.26496577791398507,
          0.24446702800361336,
          0.261290190624233,
          0.21319753665474792,
          0.2117185932750027,
          0.2237713533975198,
          0.20392131715215545,
          0.17167655881038993,
          0.18506056527590847,
          0.14623112607300978,
          0.16300896865236442,
          0.1367283882709045,
          0.12774287913288135,
          0.11789499404416481,
          0.12117914729449006,
          0.10344170231915671,
          0.10645064546002828,
          0.09271818259257075,
          0.08954793730958198,
          0.09050181697134456,
          0.06735906614237097,
          0.07160695264322281,
          0.061084100731943786,
          0.05963473723443906,
          0.06205101509630401,
          0.05514566060698258,
          0.04409886612995407,
          0.037579334149871954,
          0.03024335591274792,
          0.027649132508467546,
          0.026361672902512685,
          0.02848151827332532,
          0.02395154418368992,
          0.032348752129432244,
          0.03902878918635883,
          0.026250993527185577,
          0.03174264649355352,
          0.021436438495901204,
          0.026878273477801997,
          0.02567337054326333,
          0.028780207022370514,
          0.02790301499419911,
          0.027636391600459484,
          0.030359775483388345,
          0.02847441218135353,
          0.03317129513622902,
          0.03362374797285397,
          0.03833860016469718,
          0.030572815020676877,
          0.0428783844531277,
          0.04862290447140973,
          0.04743346800624501,
          0.051313604519398204,
          0.0596278935500129,
          0.05863095577583355,
          0.06068742299133825,
          0.07846722638383904,
          0.10827263503793327,
          0.12718747542352887,
          0.1516013954091265,
          0.1844573445816683,
          0.21269279617541192,
          0.24868040252780124,
          0.25134549021310726,
          0.2963272226451023,
          0.3179691137768608,
          0.3709626713686254,
          0.45208831993115134,
          0.5310313987287189,
          0.46813866172374025,
          0.5800637058027677,
          0.5700068697896359,
          0.7857635624122675,
          0.9466635880858923,
          1.0706309286793845,
          1.1251090328920492,
          1.1655355135839496,
          1.2665301879526165,
          1.3705401656963851,
          1.4482484098910002,
          1.3726787048070839,
          1.380165451541325,
          1.30321628881188,
          1.3397175082533312,
          1.1867418225021302,
          1.0341775747907607,
          0.8813194831128435,
          0.7579094831713997,
          0.8235958166217103,
          0.7118829488971627,
          0.6748573346760658,
          0.6025121060548879,
          0.5619329209283923,
          0.5188039979671354,
          0.506325699333711,
          0.45939182940760487,
          0.4145091990745841,
          0.3768550483447261,
          0.3686416406254431,
          0.3626036683887924,
          0.34288049223189143,
          0.32896817865502626,
          0.27246385606141055,
          0.2370215848905766
         ],
         "yaxis": "y"
        },
        {
         "hovertemplate": "firstname=OCÉANE<br>year=%{x}<br>value=%{y}<extra></extra>",
         "legendgroup": "OCÉANE",
         "line": {
          "color": "#FF97FF",
          "dash": "solid"
         },
         "mode": "lines",
         "name": "OCÉANE",
         "showlegend": true,
         "type": "scattergl",
         "x": [
          1900,
          1901,
          1902,
          1903,
          1904,
          1905,
          1906,
          1907,
          1908,
          1909,
          1910,
          1911,
          1912,
          1913,
          1914,
          1915,
          1916,
          1917,
          1918,
          1919,
          1920,
          1921,
          1922,
          1923,
          1924,
          1925,
          1926,
          1927,
          1928,
          1929,
          1930,
          1931,
          1932,
          1933,
          1934,
          1935,
          1936,
          1937,
          1938,
          1939,
          1940,
          1941,
          1942,
          1943,
          1944,
          1945,
          1946,
          1947,
          1948,
          1949,
          1950,
          1951,
          1952,
          1953,
          1954,
          1955,
          1956,
          1957,
          1958,
          1959,
          1960,
          1961,
          1962,
          1963,
          1964,
          1965,
          1966,
          1967,
          1968,
          1969,
          1970,
          1971,
          1972,
          1973,
          1974,
          1975,
          1976,
          1977,
          1978,
          1979,
          1980,
          1981,
          1982,
          1983,
          1984,
          1985,
          1986,
          1987,
          1988,
          1989,
          1990,
          1991,
          1992,
          1993,
          1994,
          1995,
          1996,
          1997,
          1998,
          1999,
          2000,
          2001,
          2002,
          2003,
          2004,
          2005,
          2006,
          2007,
          2008,
          2009,
          2010,
          2011,
          2012,
          2013,
          2014,
          2015,
          2016,
          2017,
          2018,
          2019,
          2020
         ],
         "xaxis": "x",
         "y": [
          null,
          null,
          null,
          null,
          null,
          null,
          null,
          null,
          null,
          null,
          null,
          null,
          null,
          null,
          null,
          null,
          null,
          null,
          null,
          null,
          null,
          null,
          null,
          null,
          null,
          null,
          null,
          null,
          null,
          null,
          null,
          null,
          null,
          null,
          null,
          null,
          null,
          null,
          null,
          null,
          null,
          null,
          null,
          null,
          null,
          null,
          null,
          null,
          null,
          null,
          null,
          null,
          null,
          null,
          null,
          null,
          null,
          null,
          null,
          null,
          null,
          null,
          null,
          null,
          null,
          null,
          0.0006915868460181888,
          null,
          null,
          null,
          null,
          null,
          0.0018390128179193409,
          0.0037701970634877622,
          0.0015143025879431227,
          0.0037966410574187723,
          0.002536082822829254,
          0.0024667401207058167,
          0.003882267466044025,
          0.006473242582068579,
          0.006641242627582102,
          0.005346109686896176,
          0.01697893325992946,
          0.019682617788165827,
          0.020977328348976684,
          0.02608575292000724,
          0.04502345959210326,
          0.0785669390320553,
          0.09787460909836,
          0.13611023064158262,
          0.2373370992251642,
          0.2955415522801421,
          0.3624308538241562,
          0.4302137778201539,
          0.5652187761507791,
          0.9759308063645942,
          1.2681348649571877,
          1.3789505493565657,
          1.692385806737564,
          1.6439118756349769,
          1.6717159202031426,
          1.5367164211199724,
          1.4152334957715085,
          1.335282677806823,
          1.223326100815642,
          1.0906199627685844,
          0.9100686250934775,
          0.815038603558241,
          0.6827761801742421,
          0.5926761587527335,
          0.3425165170252414,
          0.280003237031642,
          0.33046836751346353,
          0.2955271565495208,
          0.2588471536440783,
          0.21324501057717937,
          0.21756220103327542,
          0.22059237194538783,
          0.18346302271145695,
          0.17901300119847688,
          0.147084540821425
         ],
         "yaxis": "y"
        },
        {
         "hovertemplate": "firstname=SARAH<br>year=%{x}<br>value=%{y}<extra></extra>",
         "legendgroup": "SARAH",
         "line": {
          "color": "#FECB52",
          "dash": "solid"
         },
         "mode": "lines",
         "name": "SARAH",
         "showlegend": true,
         "type": "scattergl",
         "x": [
          1900,
          1901,
          1902,
          1903,
          1904,
          1905,
          1906,
          1907,
          1908,
          1909,
          1910,
          1911,
          1912,
          1913,
          1914,
          1915,
          1916,
          1917,
          1918,
          1919,
          1920,
          1921,
          1922,
          1923,
          1924,
          1925,
          1926,
          1927,
          1928,
          1929,
          1930,
          1931,
          1932,
          1933,
          1934,
          1935,
          1936,
          1937,
          1938,
          1939,
          1940,
          1941,
          1942,
          1943,
          1944,
          1945,
          1946,
          1947,
          1948,
          1949,
          1950,
          1951,
          1952,
          1953,
          1954,
          1955,
          1956,
          1957,
          1958,
          1959,
          1960,
          1961,
          1962,
          1963,
          1964,
          1965,
          1966,
          1967,
          1968,
          1969,
          1970,
          1971,
          1972,
          1973,
          1974,
          1975,
          1976,
          1977,
          1978,
          1979,
          1980,
          1981,
          1982,
          1983,
          1984,
          1985,
          1986,
          1987,
          1988,
          1989,
          1990,
          1991,
          1992,
          1993,
          1994,
          1995,
          1996,
          1997,
          1998,
          1999,
          2000,
          2001,
          2002,
          2003,
          2004,
          2005,
          2006,
          2007,
          2008,
          2009,
          2010,
          2011,
          2012,
          2013,
          2014,
          2015,
          2016,
          2017,
          2018,
          2019,
          2020
         ],
         "xaxis": "x",
         "y": [
          0.02288853284504463,
          0.021117011708209826,
          0.0157881157846501,
          0.020409184903364436,
          0.020911752404851526,
          0.024077167321264654,
          0.025437881798642575,
          0.022700715258602084,
          0.02608661470784778,
          0.01832245362802545,
          0.020967489729483844,
          0.01705953034371245,
          0.02289175720650126,
          0.026017677957401328,
          0.02246622043284918,
          0.02487892257679294,
          0.017946133988597304,
          0.02170803963632649,
          0.012420957542908763,
          0.014317270719136055,
          0.013705555927805223,
          0.015431384349489992,
          0.016444292540739928,
          0.020199753114128607,
          0.016912374752696406,
          0.018069886845122375,
          0.01711215305109689,
          0.01453180728296272,
          0.014772952295936809,
          0.014051716704616947,
          0.01649308206835466,
          0.018856959145316054,
          0.01437558400810033,
          0.012853173910034373,
          0.0098287826069863,
          0.0126945351741553,
          0.009709007184665316,
          0.00846396642626651,
          0.006768816419011112,
          0.006037382049087468,
          0.007062008356709889,
          0.005830296720458095,
          0.0057047235110671635,
          0.0031751183613566926,
          0.0034795679768399954,
          0.00378041948909349,
          0.004290382630624275,
          0.005318583129454314,
          0.00486269824178725,
          0.00667879597429815,
          0.006050845722052074,
          0.005090711633003326,
          0.0060766188720336985,
          0.006943703920464831,
          0.008377458722536103,
          0.007151100283084935,
          0.008146357960843172,
          0.010487702558999425,
          0.01542008723363635,
          0.017302784306374636,
          0.019916012717102756,
          0.017796507613345957,
          0.018375465651004567,
          0.02058596814664529,
          0.02654210780632882,
          0.035170230813259866,
          0.03734568968498219,
          0.04174454237545421,
          0.07842015564851562,
          0.10714090573263237,
          0.15995419063416158,
          0.26326896095452107,
          0.31286205564852787,
          0.31928856381411985,
          0.2907460968850796,
          0.33085014928935014,
          0.3291271930071743,
          0.33849156100796485,
          0.37519342011125467,
          0.35980440018664517,
          0.31673618685391564,
          0.3612442688431273,
          0.4754101312780249,
          0.6730361804786703,
          0.6750396686657881,
          0.6891430031622321,
          0.8709801422846641,
          1.102067775303881,
          1.0906785707654643,
          1.2223284704779307,
          1.2809222855240479,
          1.3023225740402982,
          1.358356612085813,
          1.388876850222619,
          1.4127573815776902,
          1.4383327542716393,
          1.543386755725945,
          1.4924139189335583,
          1.451137374151072,
          1.459646778840132,
          1.4612193347774998,
          1.4402180486900145,
          1.2658158694084483,
          1.2398269728198108,
          1.2364595503435218,
          1.2691787922041975,
          1.2110466053436144,
          1.2331654917757637,
          1.1880146069983895,
          1.0963305940662877,
          1.093723530408267,
          0.9770440506055946,
          0.8992003481477452,
          0.8202049135176821,
          0.7586614768866822,
          0.7197019106979804,
          0.6869163893957282,
          0.5998928128340346,
          0.5268913410875833,
          0.47726686590712564,
          0.4069026681323074
         ],
         "yaxis": "y"
        }
       ],
       "layout": {
        "legend": {
         "title": {
          "text": "firstname"
         },
         "tracegroupgap": 0
        },
        "margin": {
         "t": 60
        },
        "template": {
         "data": {
          "bar": [
           {
            "error_x": {
             "color": "#2a3f5f"
            },
            "error_y": {
             "color": "#2a3f5f"
            },
            "marker": {
             "line": {
              "color": "#E5ECF6",
              "width": 0.5
             }
            },
            "type": "bar"
           }
          ],
          "barpolar": [
           {
            "marker": {
             "line": {
              "color": "#E5ECF6",
              "width": 0.5
             }
            },
            "type": "barpolar"
           }
          ],
          "carpet": [
           {
            "aaxis": {
             "endlinecolor": "#2a3f5f",
             "gridcolor": "white",
             "linecolor": "white",
             "minorgridcolor": "white",
             "startlinecolor": "#2a3f5f"
            },
            "baxis": {
             "endlinecolor": "#2a3f5f",
             "gridcolor": "white",
             "linecolor": "white",
             "minorgridcolor": "white",
             "startlinecolor": "#2a3f5f"
            },
            "type": "carpet"
           }
          ],
          "choropleth": [
           {
            "colorbar": {
             "outlinewidth": 0,
             "ticks": ""
            },
            "type": "choropleth"
           }
          ],
          "contour": [
           {
            "colorbar": {
             "outlinewidth": 0,
             "ticks": ""
            },
            "colorscale": [
             [
              0,
              "#0d0887"
             ],
             [
              0.1111111111111111,
              "#46039f"
             ],
             [
              0.2222222222222222,
              "#7201a8"
             ],
             [
              0.3333333333333333,
              "#9c179e"
             ],
             [
              0.4444444444444444,
              "#bd3786"
             ],
             [
              0.5555555555555556,
              "#d8576b"
             ],
             [
              0.6666666666666666,
              "#ed7953"
             ],
             [
              0.7777777777777778,
              "#fb9f3a"
             ],
             [
              0.8888888888888888,
              "#fdca26"
             ],
             [
              1,
              "#f0f921"
             ]
            ],
            "type": "contour"
           }
          ],
          "contourcarpet": [
           {
            "colorbar": {
             "outlinewidth": 0,
             "ticks": ""
            },
            "type": "contourcarpet"
           }
          ],
          "heatmap": [
           {
            "colorbar": {
             "outlinewidth": 0,
             "ticks": ""
            },
            "colorscale": [
             [
              0,
              "#0d0887"
             ],
             [
              0.1111111111111111,
              "#46039f"
             ],
             [
              0.2222222222222222,
              "#7201a8"
             ],
             [
              0.3333333333333333,
              "#9c179e"
             ],
             [
              0.4444444444444444,
              "#bd3786"
             ],
             [
              0.5555555555555556,
              "#d8576b"
             ],
             [
              0.6666666666666666,
              "#ed7953"
             ],
             [
              0.7777777777777778,
              "#fb9f3a"
             ],
             [
              0.8888888888888888,
              "#fdca26"
             ],
             [
              1,
              "#f0f921"
             ]
            ],
            "type": "heatmap"
           }
          ],
          "heatmapgl": [
           {
            "colorbar": {
             "outlinewidth": 0,
             "ticks": ""
            },
            "colorscale": [
             [
              0,
              "#0d0887"
             ],
             [
              0.1111111111111111,
              "#46039f"
             ],
             [
              0.2222222222222222,
              "#7201a8"
             ],
             [
              0.3333333333333333,
              "#9c179e"
             ],
             [
              0.4444444444444444,
              "#bd3786"
             ],
             [
              0.5555555555555556,
              "#d8576b"
             ],
             [
              0.6666666666666666,
              "#ed7953"
             ],
             [
              0.7777777777777778,
              "#fb9f3a"
             ],
             [
              0.8888888888888888,
              "#fdca26"
             ],
             [
              1,
              "#f0f921"
             ]
            ],
            "type": "heatmapgl"
           }
          ],
          "histogram": [
           {
            "marker": {
             "colorbar": {
              "outlinewidth": 0,
              "ticks": ""
             }
            },
            "type": "histogram"
           }
          ],
          "histogram2d": [
           {
            "colorbar": {
             "outlinewidth": 0,
             "ticks": ""
            },
            "colorscale": [
             [
              0,
              "#0d0887"
             ],
             [
              0.1111111111111111,
              "#46039f"
             ],
             [
              0.2222222222222222,
              "#7201a8"
             ],
             [
              0.3333333333333333,
              "#9c179e"
             ],
             [
              0.4444444444444444,
              "#bd3786"
             ],
             [
              0.5555555555555556,
              "#d8576b"
             ],
             [
              0.6666666666666666,
              "#ed7953"
             ],
             [
              0.7777777777777778,
              "#fb9f3a"
             ],
             [
              0.8888888888888888,
              "#fdca26"
             ],
             [
              1,
              "#f0f921"
             ]
            ],
            "type": "histogram2d"
           }
          ],
          "histogram2dcontour": [
           {
            "colorbar": {
             "outlinewidth": 0,
             "ticks": ""
            },
            "colorscale": [
             [
              0,
              "#0d0887"
             ],
             [
              0.1111111111111111,
              "#46039f"
             ],
             [
              0.2222222222222222,
              "#7201a8"
             ],
             [
              0.3333333333333333,
              "#9c179e"
             ],
             [
              0.4444444444444444,
              "#bd3786"
             ],
             [
              0.5555555555555556,
              "#d8576b"
             ],
             [
              0.6666666666666666,
              "#ed7953"
             ],
             [
              0.7777777777777778,
              "#fb9f3a"
             ],
             [
              0.8888888888888888,
              "#fdca26"
             ],
             [
              1,
              "#f0f921"
             ]
            ],
            "type": "histogram2dcontour"
           }
          ],
          "mesh3d": [
           {
            "colorbar": {
             "outlinewidth": 0,
             "ticks": ""
            },
            "type": "mesh3d"
           }
          ],
          "parcoords": [
           {
            "line": {
             "colorbar": {
              "outlinewidth": 0,
              "ticks": ""
             }
            },
            "type": "parcoords"
           }
          ],
          "pie": [
           {
            "automargin": true,
            "type": "pie"
           }
          ],
          "scatter": [
           {
            "marker": {
             "colorbar": {
              "outlinewidth": 0,
              "ticks": ""
             }
            },
            "type": "scatter"
           }
          ],
          "scatter3d": [
           {
            "line": {
             "colorbar": {
              "outlinewidth": 0,
              "ticks": ""
             }
            },
            "marker": {
             "colorbar": {
              "outlinewidth": 0,
              "ticks": ""
             }
            },
            "type": "scatter3d"
           }
          ],
          "scattercarpet": [
           {
            "marker": {
             "colorbar": {
              "outlinewidth": 0,
              "ticks": ""
             }
            },
            "type": "scattercarpet"
           }
          ],
          "scattergeo": [
           {
            "marker": {
             "colorbar": {
              "outlinewidth": 0,
              "ticks": ""
             }
            },
            "type": "scattergeo"
           }
          ],
          "scattergl": [
           {
            "marker": {
             "colorbar": {
              "outlinewidth": 0,
              "ticks": ""
             }
            },
            "type": "scattergl"
           }
          ],
          "scattermapbox": [
           {
            "marker": {
             "colorbar": {
              "outlinewidth": 0,
              "ticks": ""
             }
            },
            "type": "scattermapbox"
           }
          ],
          "scatterpolar": [
           {
            "marker": {
             "colorbar": {
              "outlinewidth": 0,
              "ticks": ""
             }
            },
            "type": "scatterpolar"
           }
          ],
          "scatterpolargl": [
           {
            "marker": {
             "colorbar": {
              "outlinewidth": 0,
              "ticks": ""
             }
            },
            "type": "scatterpolargl"
           }
          ],
          "scatterternary": [
           {
            "marker": {
             "colorbar": {
              "outlinewidth": 0,
              "ticks": ""
             }
            },
            "type": "scatterternary"
           }
          ],
          "surface": [
           {
            "colorbar": {
             "outlinewidth": 0,
             "ticks": ""
            },
            "colorscale": [
             [
              0,
              "#0d0887"
             ],
             [
              0.1111111111111111,
              "#46039f"
             ],
             [
              0.2222222222222222,
              "#7201a8"
             ],
             [
              0.3333333333333333,
              "#9c179e"
             ],
             [
              0.4444444444444444,
              "#bd3786"
             ],
             [
              0.5555555555555556,
              "#d8576b"
             ],
             [
              0.6666666666666666,
              "#ed7953"
             ],
             [
              0.7777777777777778,
              "#fb9f3a"
             ],
             [
              0.8888888888888888,
              "#fdca26"
             ],
             [
              1,
              "#f0f921"
             ]
            ],
            "type": "surface"
           }
          ],
          "table": [
           {
            "cells": {
             "fill": {
              "color": "#EBF0F8"
             },
             "line": {
              "color": "white"
             }
            },
            "header": {
             "fill": {
              "color": "#C8D4E3"
             },
             "line": {
              "color": "white"
             }
            },
            "type": "table"
           }
          ]
         },
         "layout": {
          "annotationdefaults": {
           "arrowcolor": "#2a3f5f",
           "arrowhead": 0,
           "arrowwidth": 1
          },
          "autotypenumbers": "strict",
          "coloraxis": {
           "colorbar": {
            "outlinewidth": 0,
            "ticks": ""
           }
          },
          "colorscale": {
           "diverging": [
            [
             0,
             "#8e0152"
            ],
            [
             0.1,
             "#c51b7d"
            ],
            [
             0.2,
             "#de77ae"
            ],
            [
             0.3,
             "#f1b6da"
            ],
            [
             0.4,
             "#fde0ef"
            ],
            [
             0.5,
             "#f7f7f7"
            ],
            [
             0.6,
             "#e6f5d0"
            ],
            [
             0.7,
             "#b8e186"
            ],
            [
             0.8,
             "#7fbc41"
            ],
            [
             0.9,
             "#4d9221"
            ],
            [
             1,
             "#276419"
            ]
           ],
           "sequential": [
            [
             0,
             "#0d0887"
            ],
            [
             0.1111111111111111,
             "#46039f"
            ],
            [
             0.2222222222222222,
             "#7201a8"
            ],
            [
             0.3333333333333333,
             "#9c179e"
            ],
            [
             0.4444444444444444,
             "#bd3786"
            ],
            [
             0.5555555555555556,
             "#d8576b"
            ],
            [
             0.6666666666666666,
             "#ed7953"
            ],
            [
             0.7777777777777778,
             "#fb9f3a"
            ],
            [
             0.8888888888888888,
             "#fdca26"
            ],
            [
             1,
             "#f0f921"
            ]
           ],
           "sequentialminus": [
            [
             0,
             "#0d0887"
            ],
            [
             0.1111111111111111,
             "#46039f"
            ],
            [
             0.2222222222222222,
             "#7201a8"
            ],
            [
             0.3333333333333333,
             "#9c179e"
            ],
            [
             0.4444444444444444,
             "#bd3786"
            ],
            [
             0.5555555555555556,
             "#d8576b"
            ],
            [
             0.6666666666666666,
             "#ed7953"
            ],
            [
             0.7777777777777778,
             "#fb9f3a"
            ],
            [
             0.8888888888888888,
             "#fdca26"
            ],
            [
             1,
             "#f0f921"
            ]
           ]
          },
          "colorway": [
           "#636efa",
           "#EF553B",
           "#00cc96",
           "#ab63fa",
           "#FFA15A",
           "#19d3f3",
           "#FF6692",
           "#B6E880",
           "#FF97FF",
           "#FECB52"
          ],
          "font": {
           "color": "#2a3f5f"
          },
          "geo": {
           "bgcolor": "white",
           "lakecolor": "white",
           "landcolor": "#E5ECF6",
           "showlakes": true,
           "showland": true,
           "subunitcolor": "white"
          },
          "hoverlabel": {
           "align": "left"
          },
          "hovermode": "closest",
          "mapbox": {
           "style": "light"
          },
          "paper_bgcolor": "white",
          "plot_bgcolor": "#E5ECF6",
          "polar": {
           "angularaxis": {
            "gridcolor": "white",
            "linecolor": "white",
            "ticks": ""
           },
           "bgcolor": "#E5ECF6",
           "radialaxis": {
            "gridcolor": "white",
            "linecolor": "white",
            "ticks": ""
           }
          },
          "scene": {
           "xaxis": {
            "backgroundcolor": "#E5ECF6",
            "gridcolor": "white",
            "gridwidth": 2,
            "linecolor": "white",
            "showbackground": true,
            "ticks": "",
            "zerolinecolor": "white"
           },
           "yaxis": {
            "backgroundcolor": "#E5ECF6",
            "gridcolor": "white",
            "gridwidth": 2,
            "linecolor": "white",
            "showbackground": true,
            "ticks": "",
            "zerolinecolor": "white"
           },
           "zaxis": {
            "backgroundcolor": "#E5ECF6",
            "gridcolor": "white",
            "gridwidth": 2,
            "linecolor": "white",
            "showbackground": true,
            "ticks": "",
            "zerolinecolor": "white"
           }
          },
          "shapedefaults": {
           "line": {
            "color": "#2a3f5f"
           }
          },
          "ternary": {
           "aaxis": {
            "gridcolor": "white",
            "linecolor": "white",
            "ticks": ""
           },
           "baxis": {
            "gridcolor": "white",
            "linecolor": "white",
            "ticks": ""
           },
           "bgcolor": "#E5ECF6",
           "caxis": {
            "gridcolor": "white",
            "linecolor": "white",
            "ticks": ""
           }
          },
          "title": {
           "x": 0.05
          },
          "xaxis": {
           "automargin": true,
           "gridcolor": "white",
           "linecolor": "white",
           "ticks": "",
           "title": {
            "standoff": 15
           },
           "zerolinecolor": "white",
           "zerolinewidth": 2
          },
          "yaxis": {
           "automargin": true,
           "gridcolor": "white",
           "linecolor": "white",
           "ticks": "",
           "title": {
            "standoff": 15
           },
           "zerolinecolor": "white",
           "zerolinewidth": 2
          }
         }
        },
        "xaxis": {
         "anchor": "y",
         "domain": [
          0,
          1
         ],
         "title": {
          "text": "year"
         }
        },
        "yaxis": {
         "anchor": "x",
         "domain": [
          0,
          1
         ],
         "title": {
          "text": "value"
         }
        }
       }
      },
      "text/html": [
       "<div>                            <div id=\"06306cd8-0229-4c94-9a24-8c6243038959\" class=\"plotly-graph-div\" style=\"height:525px; width:100%;\"></div>            <script type=\"text/javascript\">                require([\"plotly\"], function(Plotly) {                    window.PLOTLYENV=window.PLOTLYENV || {};                                    if (document.getElementById(\"06306cd8-0229-4c94-9a24-8c6243038959\")) {                    Plotly.newPlot(                        \"06306cd8-0229-4c94-9a24-8c6243038959\",                        [{\"hovertemplate\": \"firstname=CAMILLE<br>year=%{x}<br>value=%{y}<extra></extra>\", \"legendgroup\": \"CAMILLE\", \"line\": {\"color\": \"#636efa\", \"dash\": \"solid\"}, \"mode\": \"lines\", \"name\": \"CAMILLE\", \"showlegend\": true, \"type\": \"scattergl\", \"x\": [1900.0, 1901.0, 1902.0, 1903.0, 1904.0, 1905.0, 1906.0, 1907.0, 1908.0, 1909.0, 1910.0, 1911.0, 1912.0, 1913.0, 1914.0, 1915.0, 1916.0, 1917.0, 1918.0, 1919.0, 1920.0, 1921.0, 1922.0, 1923.0, 1924.0, 1925.0, 1926.0, 1927.0, 1928.0, 1929.0, 1930.0, 1931.0, 1932.0, 1933.0, 1934.0, 1935.0, 1936.0, 1937.0, 1938.0, 1939.0, 1940.0, 1941.0, 1942.0, 1943.0, 1944.0, 1945.0, 1946.0, 1947.0, 1948.0, 1949.0, 1950.0, 1951.0, 1952.0, 1953.0, 1954.0, 1955.0, 1956.0, 1957.0, 1958.0, 1959.0, 1960.0, 1961.0, 1962.0, 1963.0, 1964.0, 1965.0, 1966.0, 1967.0, 1968.0, 1969.0, 1970.0, 1971.0, 1972.0, 1973.0, 1974.0, 1975.0, 1976.0, 1977.0, 1978.0, 1979.0, 1980.0, 1981.0, 1982.0, 1983.0, 1984.0, 1985.0, 1986.0, 1987.0, 1988.0, 1989.0, 1990.0, 1991.0, 1992.0, 1993.0, 1994.0, 1995.0, 1996.0, 1997.0, 1998.0, 1999.0, 2000.0, 2001.0, 2002.0, 2003.0, 2004.0, 2005.0, 2006.0, 2007.0, 2008.0, 2009.0, 2010.0, 2011.0, 2012.0, 2013.0, 2014.0, 2015.0, 2016.0, 2017.0, 2018.0, 2019.0, 2020.0], \"xaxis\": \"x\", \"y\": [0.312386087162924, 0.2639626463526228, 0.2807204001709737, 0.2845733517657796, 0.2813581232652751, 0.29720253412186054, 0.2739180605274121, 0.28282858354979645, 0.27837634051251264, 0.27411827682712586, 0.2587175003909193, 0.2592306893533696, 0.2437091690292134, 0.22220503336591402, 0.2621059050499071, 0.2703509586678166, 0.24020210107814852, 0.2949739503524364, 0.26196928635953026, 0.23112165589462488, 0.20710617846461227, 0.2104840825270435, 0.20184563000986658, 0.17987399201628806, 0.16816644329567937, 0.16107123274014257, 0.15183146707155057, 0.15068852334724386, 0.13861429707464112, 0.12902030792421015, 0.1255306801869216, 0.11376001582748047, 0.10906693084406555, 0.10117754847129623, 0.08649328694147942, 0.09366508385255126, 0.07455130516796582, 0.09416162649221492, 0.0726757131304351, 0.08558876904882821, 0.08082076230456872, 0.061218115564809994, 0.05818817981288507, 0.052565848426905246, 0.049757822068811935, 0.052925872847308854, 0.038136734494437996, 0.03399268347955583, 0.03774380063863437, 0.03500610303770065, 0.032348752129432244, 0.027635291722018056, 0.028924705830880405, 0.03050269936489908, 0.027596334615413047, 0.02613850448300011, 0.0212299025646216, 0.023414405713114993, 0.02129440617978353, 0.019225315895971817, 0.017001474270697474, 0.017321934076990064, 0.02434152592730475, 0.021500900064273968, 0.02336612909446041, 0.024596174490318992, 0.024205539610636605, 0.024430044685635133, 0.021690681349589427, 0.02874512105021844, 0.02697452327262488, 0.032851586115642144, 0.03494124354046748, 0.03840888258428158, 0.056281579518552734, 0.06427170932916064, 0.07918214146833559, 0.10853656531105593, 0.13393822757851886, 0.20903179171263117, 0.2500683281693415, 0.3004004490732137, 0.3508979540385422, 0.3780702833476852, 0.5042627006965549, 0.718689111061424, 0.7293273863750059, 0.82268906667803, 1.0315294167575124, 1.2905167660635377, 1.4769133290018417, 1.53509185496103, 1.7166469763384822, 1.8803433620238827, 2.0329923295874077, 2.0716285192121373, 2.0425101843199585, 2.001858746657392, 2.0932509348376764, 2.0032566489916914, 1.9621479178157382, 1.769764022503743, 1.5911474836651296, 1.4716087852164348, 1.4482364239805843, 1.357372742913277, 1.3265227926740004, 1.238267875125881, 1.2273493188184703, 1.1505990921388205, 1.1008703201761816, 1.0523050362817297, 1.008812489800359, 0.950754654621571, 0.8780447549754494, 0.8563828882221831, 0.7823536749156584, 0.7008619387848766, 0.6205809963638773, 0.5594914817118497, 0.4759168581992605], \"yaxis\": \"y\"}, {\"hovertemplate\": \"firstname=CHLO\\u00c9<br>year=%{x}<br>value=%{y}<extra></extra>\", \"legendgroup\": \"CHLO\\u00c9\", \"line\": {\"color\": \"#EF553B\", \"dash\": \"solid\"}, \"mode\": \"lines\", \"name\": \"CHLO\\u00c9\", \"showlegend\": true, \"type\": \"scattergl\", \"x\": [1900.0, 1901.0, 1902.0, 1903.0, 1904.0, 1905.0, 1906.0, 1907.0, 1908.0, 1909.0, 1910.0, 1911.0, 1912.0, 1913.0, 1914.0, 1915.0, 1916.0, 1917.0, 1918.0, 1919.0, 1920.0, 1921.0, 1922.0, 1923.0, 1924.0, 1925.0, 1926.0, 1927.0, 1928.0, 1929.0, 1930.0, 1931.0, 1932.0, 1933.0, 1934.0, 1935.0, 1936.0, 1937.0, 1938.0, 1939.0, 1940.0, 1941.0, 1942.0, 1943.0, 1944.0, 1945.0, 1946.0, 1947.0, 1948.0, 1949.0, 1950.0, 1951.0, 1952.0, 1953.0, 1954.0, 1955.0, 1956.0, 1957.0, 1958.0, 1959.0, 1960.0, 1961.0, 1962.0, 1963.0, 1964.0, 1965.0, 1966.0, 1967.0, 1968.0, 1969.0, 1970.0, 1971.0, 1972.0, 1973.0, 1974.0, 1975.0, 1976.0, 1977.0, 1978.0, 1979.0, 1980.0, 1981.0, 1982.0, 1983.0, 1984.0, 1985.0, 1986.0, 1987.0, 1988.0, 1989.0, 1990.0, 1991.0, 1992.0, 1993.0, 1994.0, 1995.0, 1996.0, 1997.0, 1998.0, 1999.0, 2000.0, 2001.0, 2002.0, 2003.0, 2004.0, 2005.0, 2006.0, 2007.0, 2008.0, 2009.0, 2010.0, 2011.0, 2012.0, 2013.0, 2014.0, 2015.0, 2016.0, 2017.0, 2018.0, 2019.0, 2020.0], \"xaxis\": \"x\", \"y\": [null, null, null, null, null, null, null, null, null, null, null, null, null, null, null, null, null, null, null, null, null, null, null, null, null, null, null, null, null, null, null, null, null, null, null, null, null, null, null, null, null, null, null, null, null, null, null, null, null, 0.0006909099283756708, null, null, null, null, null, null, null, null, null, null, null, null, null, null, null, 0.0011493539481457473, 0.002766347384072755, 0.0026090338984658882, 0.002383591357097739, 0.0061766375810386725, 0.006152084255160061, 0.012775616822749723, 0.016551115361274068, 0.024977555545606423, 0.031547970582148394, 0.030915505753267146, 0.05410310022035742, 0.060024009603841535, 0.07487230113084906, 0.08765849329884534, 0.10881420612884521, 0.14638157476025243, 0.18213764769742513, 0.22717021363841391, 0.2710916278944679, 0.29546107899191876, 0.3830943491608786, 0.46101481852368725, 0.5477264709704971, 0.6091665312667308, 0.6765718213206038, 0.7233628695279687, 0.8046351400589605, 0.9046335381832786, 1.0088228566133781, 1.1917372133291528, 1.5947671086694464, 1.8581764897056223, 1.7187548214621338, 1.7096015476041362, 1.917117635617088, 1.8912605805492613, 1.6673586678612793, 1.5901055224416911, 1.4914673620098555, 1.4300988314979945, 1.375144345234163, 1.3819402484055052, 1.3477454299975018, 1.3425438291638374, 0.8748200067762155, 0.8454047638315665, 1.131208181472012, 1.1884433182769638, 1.0637215123715735, 1.0211373445324774, 0.9642356749794766, 0.9341864879029512, 0.9426203580692099, 0.8683647617458319, 0.8038123313680424], \"yaxis\": \"y\"}, {\"hovertemplate\": \"firstname=EMMA<br>year=%{x}<br>value=%{y}<extra></extra>\", \"legendgroup\": \"EMMA\", \"line\": {\"color\": \"#00cc96\", \"dash\": \"solid\"}, \"mode\": \"lines\", \"name\": \"EMMA\", \"showlegend\": true, \"type\": \"scattergl\", \"x\": [1900.0, 1901.0, 1902.0, 1903.0, 1904.0, 1905.0, 1906.0, 1907.0, 1908.0, 1909.0, 1910.0, 1911.0, 1912.0, 1913.0, 1914.0, 1915.0, 1916.0, 1917.0, 1918.0, 1919.0, 1920.0, 1921.0, 1922.0, 1923.0, 1924.0, 1925.0, 1926.0, 1927.0, 1928.0, 1929.0, 1930.0, 1931.0, 1932.0, 1933.0, 1934.0, 1935.0, 1936.0, 1937.0, 1938.0, 1939.0, 1940.0, 1941.0, 1942.0, 1943.0, 1944.0, 1945.0, 1946.0, 1947.0, 1948.0, 1949.0, 1950.0, 1951.0, 1952.0, 1953.0, 1954.0, 1955.0, 1956.0, 1957.0, 1958.0, 1959.0, 1960.0, 1961.0, 1962.0, 1963.0, 1964.0, 1965.0, 1966.0, 1967.0, 1968.0, 1969.0, 1970.0, 1971.0, 1972.0, 1973.0, 1974.0, 1975.0, 1976.0, 1977.0, 1978.0, 1979.0, 1980.0, 1981.0, 1982.0, 1983.0, 1984.0, 1985.0, 1986.0, 1987.0, 1988.0, 1989.0, 1990.0, 1991.0, 1992.0, 1993.0, 1994.0, 1995.0, 1996.0, 1997.0, 1998.0, 1999.0, 2000.0, 2001.0, 2002.0, 2003.0, 2004.0, 2005.0, 2006.0, 2007.0, 2008.0, 2009.0, 2010.0, 2011.0, 2012.0, 2013.0, 2014.0, 2015.0, 2016.0, 2017.0, 2018.0, 2019.0, 2020.0], \"xaxis\": \"x\", \"y\": [0.312386087162924, 0.3378721873313572, 0.3234638355879533, 0.29843619434164975, 0.3307859016767423, 0.29155944803093914, 0.3413837470368554, 0.3114835847778679, 0.2933850777416853, 0.2963926322180587, 0.29567714330390776, 0.29075373455370784, 0.2778707143989153, 0.28021742340606565, 0.2307245177786257, 0.23552046706030652, 0.22639738262538137, 0.21133415057717847, 0.17728093947606144, 0.17692055960075267, 0.16964432559527798, 0.16141228029566532, 0.15767174612591814, 0.14011574779165398, 0.13338438955900184, 0.11807736403967897, 0.11978507135767823, 0.12446808846711546, 0.10466793860738208, 0.09421037336049999, 0.0858251122445863, 0.07233653180334355, 0.0703153565613603, 0.06360673242658037, 0.06749097390130591, 0.06175719814453929, 0.05443979028544481, 0.041967166863571444, 0.049162982411764915, 0.036224292294524806, 0.028248033426839556, 0.04497657470067673, 0.031946451661976114, 0.026812110607012073, 0.01739783988419998, 0.016152701453399455, 0.011679374938921636, 0.011099651748426392, 0.012040967074901762, 0.014048501876971972, 0.011868966608640608, 0.012120741983341253, 0.012396302498948745, 0.007191693346195718, 0.007884667032975155, 0.012082893581764202, 0.009874373285870512, 0.008536502082906508, 0.01248292776056276, 0.011294873088883441, 0.00971512815468427, 0.009966044263473736, 0.009545696442080294, 0.009835518114508304, 0.009527936135605217, 0.009194831585165979, 0.01083486058761829, 0.005455252696792311, 0.010487801971230053, 0.008314704436013598, 0.008754889132343163, 0.012091208778673845, 0.00873531088511687, 0.011074953873995302, 0.012114420703544982, 0.012474677760090251, 0.016061857877918608, 0.03563069063241735, 0.036326931289411946, 0.03668170796505528, 0.040102888174245774, 0.03691361450475931, 0.03472963621349208, 0.036904908352810926, 0.04141677648387704, 0.04977587546980974, 0.06082116471213948, 0.06738113754274574, 0.08832586674730049, 0.1163995514488681, 0.11625222167929422, 0.13793735165672996, 0.16120306064989123, 0.1987824574481302, 0.28463629967019255, 0.36890466949700723, 0.43701530965131935, 0.6459999885966463, 1.2814219070408075, 1.5470474440872337, 1.8283893280895702, 1.718154865103877, 1.7839972902690064, 1.7088765576697835, 1.8151521701657276, 1.9261558834862933, 1.8772147249314939, 1.8102719033232628, 1.7984999654492395, 1.761186528580518, 1.6945832627477553, 1.5980146205929162, 1.4099983680574444, 1.3200947449597884, 1.2381201259851184, 1.248277309256308, 1.369771617705502, 1.424523357623169, 1.3155714617092487, 1.1975666368311664, 1.0861147196962126], \"yaxis\": \"y\"}, {\"hovertemplate\": \"firstname=LAURA<br>year=%{x}<br>value=%{y}<extra></extra>\", \"legendgroup\": \"LAURA\", \"line\": {\"color\": \"#ab63fa\", \"dash\": \"solid\"}, \"mode\": \"lines\", \"name\": \"LAURA\", \"showlegend\": true, \"type\": \"scattergl\", \"x\": [1900.0, 1901.0, 1902.0, 1903.0, 1904.0, 1905.0, 1906.0, 1907.0, 1908.0, 1909.0, 1910.0, 1911.0, 1912.0, 1913.0, 1914.0, 1915.0, 1916.0, 1917.0, 1918.0, 1919.0, 1920.0, 1921.0, 1922.0, 1923.0, 1924.0, 1925.0, 1926.0, 1927.0, 1928.0, 1929.0, 1930.0, 1931.0, 1932.0, 1933.0, 1934.0, 1935.0, 1936.0, 1937.0, 1938.0, 1939.0, 1940.0, 1941.0, 1942.0, 1943.0, 1944.0, 1945.0, 1946.0, 1947.0, 1948.0, 1949.0, 1950.0, 1951.0, 1952.0, 1953.0, 1954.0, 1955.0, 1956.0, 1957.0, 1958.0, 1959.0, 1960.0, 1961.0, 1962.0, 1963.0, 1964.0, 1965.0, 1966.0, 1967.0, 1968.0, 1969.0, 1970.0, 1971.0, 1972.0, 1973.0, 1974.0, 1975.0, 1976.0, 1977.0, 1978.0, 1979.0, 1980.0, 1981.0, 1982.0, 1983.0, 1984.0, 1985.0, 1986.0, 1987.0, 1988.0, 1989.0, 1990.0, 1991.0, 1992.0, 1993.0, 1994.0, 1995.0, 1996.0, 1997.0, 1998.0, 1999.0, 2000.0, 2001.0, 2002.0, 2003.0, 2004.0, 2005.0, 2006.0, 2007.0, 2008.0, 2009.0, 2010.0, 2011.0, 2012.0, 2013.0, 2014.0, 2015.0, 2016.0, 2017.0, 2018.0, 2019.0, 2020.0], \"xaxis\": \"x\", \"y\": [0.005934064070937497, 0.008212171219859376, 0.0030806079579805074, 0.005776184406612576, 0.0019010684004410478, 0.007900320527289964, 0.0047926443968457026, 0.0029771429847346995, 0.00285880709127099, 0.0057482207460472, 0.006041480091546193, 0.005933749684769548, 0.008452341122400465, 0.005625443882681368, 0.007132133470745772, 0.0038700546230566795, 0.008973066994298652, 0.006384717540096026, 0.009598012646793134, 0.0030679865826720117, 0.0027411111855610445, 0.004629415304846998, 0.0061263050641972286, 0.005450727030796608, 0.0035101155147105752, 0.008100294102985893, 0.006533731164964266, 0.006002268225571558, 0.006914998947034251, 0.005429072363147457, 0.005497694022784888, 0.004018696211296864, 0.00468769043742402, 0.003295685617957532, 0.004259139129694063, 0.003430955452474405, 0.0038142528225470888, 0.0028213221420888366, 0.0024937744701619886, 0.0028411209642764555, 0.0035310041783549444, 0.0029151483602290473, 0.0022818894044268653, 0.0031751183613566926, 0.0041754815722079945, 0.0020620469940509944, 0.0021451913153121374, 0.007399767832284262, 0.005788926478318155, 0.007139402593215265, 0.007912644405760404, 0.008242104548672052, 0.009479525440372569, 0.012151481860813456, 0.009855833791218944, 0.01356243157136798, 0.016292715921686345, 0.013902303392162028, 0.017622956838441544, 0.022349429729067234, 0.025987967813780422, 0.02752526510864175, 0.025773380393616794, 0.022415831981902647, 0.02699581905088145, 0.03562997239251817, 0.04172573970976405, 0.04482794607364117, 0.04052105307066157, 0.04822528572887887, 0.04022516628373886, 0.05201501134976673, 0.035171120142707395, 0.046420551344193074, 0.04744814775555118, 0.06400052068220216, 0.06734708829513242, 0.09236571340865113, 0.12312333963739622, 0.09871694937654582, 0.12873793401159153, 0.1382351219040297, 0.1479225246130218, 0.23099738931944616, 0.6123766237258963, 0.6721074094185538, 0.6848305169535706, 1.1571977969297638, 2.451904841477615, 2.1508612767725626, 2.127442504819232, 1.963182581098811, 2.0685885899148717, 2.1842956080056166, 2.2959117193132825, 2.142245798978027, 2.0958667046843638, 1.6857007645948674, 1.5571744759158324, 1.5002853047193576, 1.3935406857925463, 1.233512621395759, 1.0292607241974607, 0.9071034953794501, 0.891159273173014, 0.7467992380042658, 0.6656396244513559, 0.613091641490433, 0.5344736856093425, 0.48921848016125496, 0.4348953921734711, 0.37657468101750696, 0.30734918130881794, 0.29112041423377766, 0.2781025210777504, 0.24358705330558122, 0.19725639560350305, 0.17588170326920857, 0.195513139145707, 0.13623192803070527, 0.12116518437094034], \"yaxis\": \"y\"}, {\"hovertemplate\": \"firstname=L\\u00c9A<br>year=%{x}<br>value=%{y}<extra></extra>\", \"legendgroup\": \"L\\u00c9A\", \"line\": {\"color\": \"#FFA15A\", \"dash\": \"solid\"}, \"mode\": \"lines\", \"name\": \"L\\u00c9A\", \"showlegend\": true, \"type\": \"scattergl\", \"x\": [1900.0, 1901.0, 1902.0, 1903.0, 1904.0, 1905.0, 1906.0, 1907.0, 1908.0, 1909.0, 1910.0, 1911.0, 1912.0, 1913.0, 1914.0, 1915.0, 1916.0, 1917.0, 1918.0, 1919.0, 1920.0, 1921.0, 1922.0, 1923.0, 1924.0, 1925.0, 1926.0, 1927.0, 1928.0, 1929.0, 1930.0, 1931.0, 1932.0, 1933.0, 1934.0, 1935.0, 1936.0, 1937.0, 1938.0, 1939.0, 1940.0, 1941.0, 1942.0, 1943.0, 1944.0, 1945.0, 1946.0, 1947.0, 1948.0, 1949.0, 1950.0, 1951.0, 1952.0, 1953.0, 1954.0, 1955.0, 1956.0, 1957.0, 1958.0, 1959.0, 1960.0, 1961.0, 1962.0, 1963.0, 1964.0, 1965.0, 1966.0, 1967.0, 1968.0, 1969.0, 1970.0, 1971.0, 1972.0, 1973.0, 1974.0, 1975.0, 1976.0, 1977.0, 1978.0, 1979.0, 1980.0, 1981.0, 1982.0, 1983.0, 1984.0, 1985.0, 1986.0, 1987.0, 1988.0, 1989.0, 1990.0, 1991.0, 1992.0, 1993.0, 1994.0, 1995.0, 1996.0, 1997.0, 1998.0, 1999.0, 2000.0, 2001.0, 2002.0, 2003.0, 2004.0, 2005.0, 2006.0, 2007.0, 2008.0, 2009.0, 2010.0, 2011.0, 2012.0, 2013.0, 2014.0, 2015.0, 2016.0, 2017.0, 2018.0, 2019.0, 2020.0], \"xaxis\": \"x\", \"y\": [0.3963107075947543, 0.4309434611564301, 0.427819430164543, 0.33540377454397025, 0.41405269761606023, 0.42285525107971045, 0.38230555688684564, 0.4108457318933885, 0.34484360538456316, 0.3743528760863239, 0.3958946365872034, 0.38272685466763584, 0.37718572258712074, 0.34561320854223654, 0.2678116118265037, 0.2609522545832504, 0.28161625643645, 0.2707120237000715, 0.256323396567299, 0.263335515012681, 0.27776593347018586, 0.2654198108112279, 0.25698237558764164, 0.22444170126809562, 0.21571255344948626, 0.17633717162653906, 0.19756758522630044, 0.18069986447510164, 0.1892195166415736, 0.16510767127924914, 0.13683149567820163, 0.11561479869423286, 0.12406754024382241, 0.11831511368467539, 0.11532438258863924, 0.11081986111492328, 0.06900330106244279, 0.08816631694027614, 0.07873202255797135, 0.07919624687920619, 0.042764383937854325, 0.04872462259239979, 0.039172434775994525, 0.036690256620121785, 0.03166406858924396, 0.034023775401841407, 0.029794323823779684, 0.021968060752093902, 0.022229477676741716, 0.02164851108910435, 0.022341584204499967, 0.019393187173346003, 0.020903568919795924, 0.012151481860813456, 0.015522938221169838, 0.019727173194717063, 0.013330403935925193, 0.019024204641905934, 0.019825826443246736, 0.011535189537583089, 0.012143910193355338, 0.018982941454235687, 0.015034471896276462, 0.01532510962028038, 0.008620513646499958, 0.011033797902199174, 0.01106538953629102, 0.011147690293445159, 0.009296006292681182, 0.015441593952596682, 0.01041121950873241, 0.012091208778673845, 0.013332842929915222, 0.013902601671611123, 0.01590017717340279, 0.012203489113131767, 0.023951893326720732, 0.02905271697720184, 0.03244466382336792, 0.03668170796505528, 0.04367894189678998, 0.051933636958419994, 0.06225608861974136, 0.07380981670562185, 0.12478820966570744, 0.16583085784861745, 0.23196297017919865, 0.27272049345364285, 0.35383395267537193, 0.4453548055434953, 0.5895840157222404, 0.6333803002831487, 0.783932692201526, 1.020204734374052, 1.2983816558709493, 1.553015216611444, 1.7384627111323157, 2.139554242902838, 2.284566552307429, 2.687987975449877, 2.843835514237829, 2.882586478938357, 2.6622014379056402, 2.464018959477956, 2.023919294952651, 1.8024129864914005, 1.7191946791109656, 1.5658945955018462, 1.5279409341462507, 1.4141889399196934, 0.9015542944265628, 0.8418979795527501, 1.0147962791709733, 1.0920458301200837, 0.9740465154661861, 0.8799192391236538, 0.9053488392331368, 0.8379549162489229, 0.8447131620409282, 0.8164813325849174, 0.7585315279304486], \"yaxis\": \"y\"}, {\"hovertemplate\": \"firstname=MANON<br>year=%{x}<br>value=%{y}<extra></extra>\", \"legendgroup\": \"MANON\", \"line\": {\"color\": \"#19d3f3\", \"dash\": \"solid\"}, \"mode\": \"lines\", \"name\": \"MANON\", \"showlegend\": true, \"type\": \"scattergl\", \"x\": [1900.0, 1901.0, 1902.0, 1903.0, 1904.0, 1905.0, 1906.0, 1907.0, 1908.0, 1909.0, 1910.0, 1911.0, 1912.0, 1913.0, 1914.0, 1915.0, 1916.0, 1917.0, 1918.0, 1919.0, 1920.0, 1921.0, 1922.0, 1923.0, 1924.0, 1925.0, 1926.0, 1927.0, 1928.0, 1929.0, 1930.0, 1931.0, 1932.0, 1933.0, 1934.0, 1935.0, 1936.0, 1937.0, 1938.0, 1939.0, 1940.0, 1941.0, 1942.0, 1943.0, 1944.0, 1945.0, 1946.0, 1947.0, 1948.0, 1949.0, 1950.0, 1951.0, 1952.0, 1953.0, 1954.0, 1955.0, 1956.0, 1957.0, 1958.0, 1959.0, 1960.0, 1961.0, 1962.0, 1963.0, 1964.0, 1965.0, 1966.0, 1967.0, 1968.0, 1969.0, 1970.0, 1971.0, 1972.0, 1973.0, 1974.0, 1975.0, 1976.0, 1977.0, 1978.0, 1979.0, 1980.0, 1981.0, 1982.0, 1983.0, 1984.0, 1985.0, 1986.0, 1987.0, 1988.0, 1989.0, 1990.0, 1991.0, 1992.0, 1993.0, 1994.0, 1995.0, 1996.0, 1997.0, 1998.0, 1999.0, 2000.0, 2001.0, 2002.0, 2003.0, 2004.0, 2005.0, 2006.0, 2007.0, 2008.0, 2009.0, 2010.0, 2011.0, 2012.0, 2013.0, 2014.0, 2015.0, 2016.0, 2017.0, 2018.0, 2019.0, 2020.0], \"xaxis\": \"x\", \"y\": [null, null, null, null, null, null, null, 0.0011164286192755122, null, null, null, 0.0018542967764904837, 0.0021130852806001163, 0.0010547707280027564, 0.00249624671476102, null, 0.0027609436905534314, 0.003830830524057616, null, 0.00255665548556001, 0.0024365432760542617, 0.001851766121938799, 0.0012897484345678375, 0.0016031550090578259, 0.002871912693854107, 0.0015577488659588256, 0.004044690721168355, 0.002211361977842153, 0.002514545071648819, 0.002554857582657627, 0.0021379921199719005, 0.003400435255712731, 0.002812614262454412, null, 0.0013105043475981732, 0.0017154777262372025, 0.0031207523093567087, 0.0014106610710444183, 0.0014250139829497077, 0.0010654203616036707, 0.0015693351903799753, 0.001665799062988027, null, 0.002116745574237795, 0.0010438703930519986, 0.0020620469940509944, 0.0019068367247218998, 0.001387456468553299, 0.0018524564730618095, 0.0009212132378342277, 0.0020945235191718718, 0.0029089780760019005, 0.0014583885292880877, 0.001487936554385321, 0.0017247709134633154, 0.0012329483246698164, 0.0017280153250273397, 0.0026829006546277598, 0.002447632894227992, 0.0016822151408975338, 0.0019430256309368541, 0.0014237206090676766, 0.0011932120552600367, null, 0.002041700600486832, 0.0011493539481457473, 0.0006915868460181888, 0.0009487395994421411, 0.002383591357097739, 0.0019005038710888224, 0.002129567626786175, 0.0025094961616115526, 0.005057285249278187, 0.004477109012891717, 0.004290523999172181, 0.005966150233086642, 0.010426118271631377, 0.016444934138038776, 0.020797861425235847, 0.0234655043599986, 0.028352997371600516, 0.02978546825556441, 0.04013202406892418, 0.052760350459944504, 0.05271226097947987, 0.10168120015757924, 0.13875650997098488, 0.2008117695937956, 0.40661727844928425, 0.5955821442555357, 0.744765965215617, 0.924072492544109, 1.4687696673254647, 1.7199883273091847, 2.1673476124429207, 2.3283929484409116, 2.150352463575, 2.1061994332533196, 2.142622707087935, 2.0848120468178086, 2.0951071534200367, 2.0382929195999213, 2.068628307947816, 1.89814217962679, 1.721302728747753, 1.608114928929244, 1.4729159454910117, 1.3580396106075865, 1.4224282274396824, 1.3203552314297478, 1.335126207013383, 1.304253999082841, 1.1809824294184845, 1.1011347361463037, 1.052993521944242, 1.001287410037261, 0.8798215409785658, 0.8284798076552955, 0.6552250811123462, 0.5895292564892213, 0.4784151094234036], \"yaxis\": \"y\"}, {\"hovertemplate\": \"firstname=MARIE<br>year=%{x}<br>value=%{y}<extra></extra>\", \"legendgroup\": \"MARIE\", \"line\": {\"color\": \"#FF6692\", \"dash\": \"solid\"}, \"mode\": \"lines\", \"name\": \"MARIE\", \"showlegend\": true, \"type\": \"scattergl\", \"x\": [1900.0, 1901.0, 1902.0, 1903.0, 1904.0, 1905.0, 1906.0, 1907.0, 1908.0, 1909.0, 1910.0, 1911.0, 1912.0, 1913.0, 1914.0, 1915.0, 1916.0, 1917.0, 1918.0, 1919.0, 1920.0, 1921.0, 1922.0, 1923.0, 1924.0, 1925.0, 1926.0, 1927.0, 1928.0, 1929.0, 1930.0, 1931.0, 1932.0, 1933.0, 1934.0, 1935.0, 1936.0, 1937.0, 1938.0, 1939.0, 1940.0, 1941.0, 1942.0, 1943.0, 1944.0, 1945.0, 1946.0, 1947.0, 1948.0, 1949.0, 1950.0, 1951.0, 1952.0, 1953.0, 1954.0, 1955.0, 1956.0, 1957.0, 1958.0, 1959.0, 1960.0, 1961.0, 1962.0, 1963.0, 1964.0, 1965.0, 1966.0, 1967.0, 1968.0, 1969.0, 1970.0, 1971.0, 1972.0, 1973.0, 1974.0, 1975.0, 1976.0, 1977.0, 1978.0, 1979.0, 1980.0, 1981.0, 1982.0, 1983.0, 1984.0, 1985.0, 1986.0, 1987.0, 1988.0, 1989.0, 1990.0, 1991.0, 1992.0, 1993.0, 1994.0, 1995.0, 1996.0, 1997.0, 1998.0, 1999.0, 2000.0, 2001.0, 2002.0, 2003.0, 2004.0, 2005.0, 2006.0, 2007.0, 2008.0, 2009.0, 2010.0, 2011.0, 2012.0, 2013.0, 2014.0, 2015.0, 2016.0, 2017.0, 2018.0, 2019.0, 2020.0], \"xaxis\": \"x\", \"y\": [20.64757593482702, 20.393558529317453, 19.968885859624397, 19.417221501268834, 19.060491996502034, 18.42693332129475, 17.86071100722952, 17.13643502013293, 16.95987306896515, 16.669121635943625, 16.0973460133339, 15.684754713622405, 15.388543555970346, 15.01149700093523, 15.087315144015605, 14.78637298480727, 13.63837159541131, 12.960338134640924, 12.619692863595303, 12.171214104556983, 11.657945872191123, 11.354103976667746, 11.006713140601926, 10.737932250669317, 10.32516433722637, 9.86833906584916, 9.663077262926675, 9.246652155919975, 8.974097042580677, 8.589750550092774, 8.484469014385633, 8.457500741913147, 8.33252600886911, 8.234600085028688, 8.125454581195573, 8.080243186122471, 8.023800937612695, 8.014318209871101, 8.260806059159455, 8.39515730931639, 8.773760715616847, 8.545965642894325, 8.575720696736898, 8.590106331186012, 8.794608061463089, 8.69427747591701, 7.447389182991969, 7.6155173131443, 7.1882257866572195, 6.993850901637456, 6.5379388026772665, 6.088491113071978, 6.240687581578609, 5.601337158983541, 5.772808247361716, 4.915518380793624, 4.833505723433616, 4.437029882635291, 4.425075509474787, 3.9887724155167525, 3.639529884948595, 3.375878850867639, 3.0648844851409303, 2.736332632647973, 2.58229754837129, 2.243998648359757, 2.2158442546422767, 1.9233323529690807, 1.911401909256677, 1.7114037359154846, 1.3274304873633824, 1.2412880559389508, 1.1712212884123803, 1.1430766221861959, 1.3091145872768297, 1.358926309908962, 1.3621582628396238, 1.439205819314027, 1.677694154969025, 1.7793325547461005, 1.8899443923646144, 1.887685872777864, 1.855848856623199, 1.9750960211041402, 2.0267326466395934, 2.0943133058634382, 2.095302289087472, 2.006519724296626, 1.9495348966746504, 1.8669209521856214, 1.8178840484769079, 1.803692518245717, 2.01200189910455, 1.9722224629955476, 2.091483207037437, 2.1558043166930774, 2.0972782528421523, 1.9337237081425647, 1.924657553460372, 1.757755417310342, 1.7060881474435323, 1.514406212452322, 1.2895806472760647, 1.3215677776650108, 1.1396003600754079, 0.985058587919871, 0.9026696931821485, 0.7409197717354817, 0.614206209568966, 0.5456256382563505, 0.5050398102659664, 0.4407758085835289, 0.38921829951585707, 0.35584444199625426, 0.33944462018787736, 0.29406260102198806, 0.2784796173225925, 0.25790061203279574, 0.23949606413071967, 0.226648664229258, 0.20360747476766264], \"yaxis\": \"y\"}, {\"hovertemplate\": \"firstname=MATHILDE<br>year=%{x}<br>value=%{y}<extra></extra>\", \"legendgroup\": \"MATHILDE\", \"line\": {\"color\": \"#B6E880\", \"dash\": \"solid\"}, \"mode\": \"lines\", \"name\": \"MATHILDE\", \"showlegend\": true, \"type\": \"scattergl\", \"x\": [1900.0, 1901.0, 1902.0, 1903.0, 1904.0, 1905.0, 1906.0, 1907.0, 1908.0, 1909.0, 1910.0, 1911.0, 1912.0, 1913.0, 1914.0, 1915.0, 1916.0, 1917.0, 1918.0, 1919.0, 1920.0, 1921.0, 1922.0, 1923.0, 1924.0, 1925.0, 1926.0, 1927.0, 1928.0, 1929.0, 1930.0, 1931.0, 1932.0, 1933.0, 1934.0, 1935.0, 1936.0, 1937.0, 1938.0, 1939.0, 1940.0, 1941.0, 1942.0, 1943.0, 1944.0, 1945.0, 1946.0, 1947.0, 1948.0, 1949.0, 1950.0, 1951.0, 1952.0, 1953.0, 1954.0, 1955.0, 1956.0, 1957.0, 1958.0, 1959.0, 1960.0, 1961.0, 1962.0, 1963.0, 1964.0, 1965.0, 1966.0, 1967.0, 1968.0, 1969.0, 1970.0, 1971.0, 1972.0, 1973.0, 1974.0, 1975.0, 1976.0, 1977.0, 1978.0, 1979.0, 1980.0, 1981.0, 1982.0, 1983.0, 1984.0, 1985.0, 1986.0, 1987.0, 1988.0, 1989.0, 1990.0, 1991.0, 1992.0, 1993.0, 1994.0, 1995.0, 1996.0, 1997.0, 1998.0, 1999.0, 2000.0, 2001.0, 2002.0, 2003.0, 2004.0, 2005.0, 2006.0, 2007.0, 2008.0, 2009.0, 2010.0, 2011.0, 2012.0, 2013.0, 2014.0, 2015.0, 2016.0, 2017.0, 2018.0, 2019.0, 2020.0], \"xaxis\": \"x\", \"y\": [0.47387740223629443, 0.44111091123816076, 0.41973283427484415, 0.4586290418850385, 0.42697996273905936, 0.433012806043369, 0.41990938215440426, 0.4019143029391844, 0.37736253604777065, 0.3621379070009736, 0.3674641420387508, 0.3515746688225957, 0.34091109193681873, 0.3111573647608132, 0.3091779859568292, 0.2681394988832128, 0.3037038059608774, 0.26496577791398507, 0.24446702800361336, 0.261290190624233, 0.21319753665474792, 0.2117185932750027, 0.2237713533975198, 0.20392131715215545, 0.17167655881038993, 0.18506056527590847, 0.14623112607300978, 0.16300896865236442, 0.1367283882709045, 0.12774287913288135, 0.11789499404416481, 0.12117914729449006, 0.10344170231915671, 0.10645064546002828, 0.09271818259257075, 0.08954793730958198, 0.09050181697134456, 0.06735906614237097, 0.07160695264322281, 0.061084100731943786, 0.05963473723443906, 0.06205101509630401, 0.05514566060698258, 0.04409886612995407, 0.037579334149871954, 0.03024335591274792, 0.027649132508467546, 0.026361672902512685, 0.02848151827332532, 0.02395154418368992, 0.032348752129432244, 0.03902878918635883, 0.026250993527185577, 0.03174264649355352, 0.021436438495901204, 0.026878273477801997, 0.02567337054326333, 0.028780207022370514, 0.02790301499419911, 0.027636391600459484, 0.030359775483388345, 0.02847441218135353, 0.03317129513622902, 0.03362374797285397, 0.03833860016469718, 0.030572815020676877, 0.0428783844531277, 0.04862290447140973, 0.04743346800624501, 0.051313604519398204, 0.0596278935500129, 0.05863095577583355, 0.06068742299133825, 0.07846722638383904, 0.10827263503793327, 0.12718747542352887, 0.1516013954091265, 0.1844573445816683, 0.21269279617541192, 0.24868040252780124, 0.25134549021310726, 0.2963272226451023, 0.3179691137768608, 0.3709626713686254, 0.45208831993115134, 0.5310313987287189, 0.46813866172374025, 0.5800637058027677, 0.5700068697896359, 0.7857635624122675, 0.9466635880858923, 1.0706309286793845, 1.1251090328920492, 1.1655355135839496, 1.2665301879526165, 1.3705401656963851, 1.4482484098910002, 1.3726787048070839, 1.380165451541325, 1.30321628881188, 1.3397175082533312, 1.1867418225021302, 1.0341775747907607, 0.8813194831128435, 0.7579094831713997, 0.8235958166217103, 0.7118829488971627, 0.6748573346760658, 0.6025121060548879, 0.5619329209283923, 0.5188039979671354, 0.506325699333711, 0.45939182940760487, 0.4145091990745841, 0.3768550483447261, 0.3686416406254431, 0.3626036683887924, 0.34288049223189143, 0.32896817865502626, 0.27246385606141055, 0.2370215848905766], \"yaxis\": \"y\"}, {\"hovertemplate\": \"firstname=OC\\u00c9ANE<br>year=%{x}<br>value=%{y}<extra></extra>\", \"legendgroup\": \"OC\\u00c9ANE\", \"line\": {\"color\": \"#FF97FF\", \"dash\": \"solid\"}, \"mode\": \"lines\", \"name\": \"OC\\u00c9ANE\", \"showlegend\": true, \"type\": \"scattergl\", \"x\": [1900.0, 1901.0, 1902.0, 1903.0, 1904.0, 1905.0, 1906.0, 1907.0, 1908.0, 1909.0, 1910.0, 1911.0, 1912.0, 1913.0, 1914.0, 1915.0, 1916.0, 1917.0, 1918.0, 1919.0, 1920.0, 1921.0, 1922.0, 1923.0, 1924.0, 1925.0, 1926.0, 1927.0, 1928.0, 1929.0, 1930.0, 1931.0, 1932.0, 1933.0, 1934.0, 1935.0, 1936.0, 1937.0, 1938.0, 1939.0, 1940.0, 1941.0, 1942.0, 1943.0, 1944.0, 1945.0, 1946.0, 1947.0, 1948.0, 1949.0, 1950.0, 1951.0, 1952.0, 1953.0, 1954.0, 1955.0, 1956.0, 1957.0, 1958.0, 1959.0, 1960.0, 1961.0, 1962.0, 1963.0, 1964.0, 1965.0, 1966.0, 1967.0, 1968.0, 1969.0, 1970.0, 1971.0, 1972.0, 1973.0, 1974.0, 1975.0, 1976.0, 1977.0, 1978.0, 1979.0, 1980.0, 1981.0, 1982.0, 1983.0, 1984.0, 1985.0, 1986.0, 1987.0, 1988.0, 1989.0, 1990.0, 1991.0, 1992.0, 1993.0, 1994.0, 1995.0, 1996.0, 1997.0, 1998.0, 1999.0, 2000.0, 2001.0, 2002.0, 2003.0, 2004.0, 2005.0, 2006.0, 2007.0, 2008.0, 2009.0, 2010.0, 2011.0, 2012.0, 2013.0, 2014.0, 2015.0, 2016.0, 2017.0, 2018.0, 2019.0, 2020.0], \"xaxis\": \"x\", \"y\": [null, null, null, null, null, null, null, null, null, null, null, null, null, null, null, null, null, null, null, null, null, null, null, null, null, null, null, null, null, null, null, null, null, null, null, null, null, null, null, null, null, null, null, null, null, null, null, null, null, null, null, null, null, null, null, null, null, null, null, null, null, null, null, null, null, null, 0.0006915868460181888, null, null, null, null, null, 0.0018390128179193409, 0.0037701970634877622, 0.0015143025879431227, 0.0037966410574187723, 0.002536082822829254, 0.0024667401207058167, 0.003882267466044025, 0.006473242582068579, 0.006641242627582102, 0.005346109686896176, 0.01697893325992946, 0.019682617788165827, 0.020977328348976684, 0.02608575292000724, 0.04502345959210326, 0.0785669390320553, 0.09787460909836, 0.13611023064158262, 0.2373370992251642, 0.2955415522801421, 0.3624308538241562, 0.4302137778201539, 0.5652187761507791, 0.9759308063645942, 1.2681348649571877, 1.3789505493565657, 1.692385806737564, 1.6439118756349769, 1.6717159202031426, 1.5367164211199724, 1.4152334957715085, 1.335282677806823, 1.223326100815642, 1.0906199627685844, 0.9100686250934775, 0.815038603558241, 0.6827761801742421, 0.5926761587527335, 0.3425165170252414, 0.280003237031642, 0.33046836751346353, 0.2955271565495208, 0.2588471536440783, 0.21324501057717937, 0.21756220103327542, 0.22059237194538783, 0.18346302271145695, 0.17901300119847688, 0.147084540821425], \"yaxis\": \"y\"}, {\"hovertemplate\": \"firstname=SARAH<br>year=%{x}<br>value=%{y}<extra></extra>\", \"legendgroup\": \"SARAH\", \"line\": {\"color\": \"#FECB52\", \"dash\": \"solid\"}, \"mode\": \"lines\", \"name\": \"SARAH\", \"showlegend\": true, \"type\": \"scattergl\", \"x\": [1900.0, 1901.0, 1902.0, 1903.0, 1904.0, 1905.0, 1906.0, 1907.0, 1908.0, 1909.0, 1910.0, 1911.0, 1912.0, 1913.0, 1914.0, 1915.0, 1916.0, 1917.0, 1918.0, 1919.0, 1920.0, 1921.0, 1922.0, 1923.0, 1924.0, 1925.0, 1926.0, 1927.0, 1928.0, 1929.0, 1930.0, 1931.0, 1932.0, 1933.0, 1934.0, 1935.0, 1936.0, 1937.0, 1938.0, 1939.0, 1940.0, 1941.0, 1942.0, 1943.0, 1944.0, 1945.0, 1946.0, 1947.0, 1948.0, 1949.0, 1950.0, 1951.0, 1952.0, 1953.0, 1954.0, 1955.0, 1956.0, 1957.0, 1958.0, 1959.0, 1960.0, 1961.0, 1962.0, 1963.0, 1964.0, 1965.0, 1966.0, 1967.0, 1968.0, 1969.0, 1970.0, 1971.0, 1972.0, 1973.0, 1974.0, 1975.0, 1976.0, 1977.0, 1978.0, 1979.0, 1980.0, 1981.0, 1982.0, 1983.0, 1984.0, 1985.0, 1986.0, 1987.0, 1988.0, 1989.0, 1990.0, 1991.0, 1992.0, 1993.0, 1994.0, 1995.0, 1996.0, 1997.0, 1998.0, 1999.0, 2000.0, 2001.0, 2002.0, 2003.0, 2004.0, 2005.0, 2006.0, 2007.0, 2008.0, 2009.0, 2010.0, 2011.0, 2012.0, 2013.0, 2014.0, 2015.0, 2016.0, 2017.0, 2018.0, 2019.0, 2020.0], \"xaxis\": \"x\", \"y\": [0.02288853284504463, 0.021117011708209826, 0.0157881157846501, 0.020409184903364436, 0.020911752404851526, 0.024077167321264654, 0.025437881798642575, 0.022700715258602084, 0.02608661470784778, 0.01832245362802545, 0.020967489729483844, 0.01705953034371245, 0.02289175720650126, 0.026017677957401328, 0.02246622043284918, 0.02487892257679294, 0.017946133988597304, 0.02170803963632649, 0.012420957542908763, 0.014317270719136055, 0.013705555927805223, 0.015431384349489992, 0.016444292540739928, 0.020199753114128607, 0.016912374752696406, 0.018069886845122375, 0.01711215305109689, 0.01453180728296272, 0.014772952295936809, 0.014051716704616947, 0.01649308206835466, 0.018856959145316054, 0.01437558400810033, 0.012853173910034373, 0.0098287826069863, 0.0126945351741553, 0.009709007184665316, 0.00846396642626651, 0.006768816419011112, 0.006037382049087468, 0.007062008356709889, 0.005830296720458095, 0.0057047235110671635, 0.0031751183613566926, 0.0034795679768399954, 0.00378041948909349, 0.004290382630624275, 0.005318583129454314, 0.00486269824178725, 0.00667879597429815, 0.006050845722052074, 0.005090711633003326, 0.0060766188720336985, 0.006943703920464831, 0.008377458722536103, 0.007151100283084935, 0.008146357960843172, 0.010487702558999425, 0.01542008723363635, 0.017302784306374636, 0.019916012717102756, 0.017796507613345957, 0.018375465651004567, 0.02058596814664529, 0.02654210780632882, 0.035170230813259866, 0.03734568968498219, 0.04174454237545421, 0.07842015564851562, 0.10714090573263237, 0.15995419063416158, 0.26326896095452107, 0.31286205564852787, 0.31928856381411985, 0.2907460968850796, 0.33085014928935014, 0.3291271930071743, 0.33849156100796485, 0.37519342011125467, 0.35980440018664517, 0.31673618685391564, 0.3612442688431273, 0.4754101312780249, 0.6730361804786703, 0.6750396686657881, 0.6891430031622321, 0.8709801422846641, 1.102067775303881, 1.0906785707654643, 1.2223284704779307, 1.2809222855240479, 1.3023225740402982, 1.358356612085813, 1.388876850222619, 1.4127573815776902, 1.4383327542716393, 1.543386755725945, 1.4924139189335583, 1.451137374151072, 1.459646778840132, 1.4612193347774998, 1.4402180486900145, 1.2658158694084483, 1.2398269728198108, 1.2364595503435218, 1.2691787922041975, 1.2110466053436144, 1.2331654917757637, 1.1880146069983895, 1.0963305940662877, 1.093723530408267, 0.9770440506055946, 0.8992003481477452, 0.8202049135176821, 0.7586614768866822, 0.7197019106979804, 0.6869163893957282, 0.5998928128340346, 0.5268913410875833, 0.47726686590712564, 0.4069026681323074], \"yaxis\": \"y\"}],                        {\"legend\": {\"title\": {\"text\": \"firstname\"}, \"tracegroupgap\": 0}, \"margin\": {\"t\": 60}, \"template\": {\"data\": {\"bar\": [{\"error_x\": {\"color\": \"#2a3f5f\"}, \"error_y\": {\"color\": \"#2a3f5f\"}, \"marker\": {\"line\": {\"color\": \"#E5ECF6\", \"width\": 0.5}}, \"type\": \"bar\"}], \"barpolar\": [{\"marker\": {\"line\": {\"color\": \"#E5ECF6\", \"width\": 0.5}}, \"type\": \"barpolar\"}], \"carpet\": [{\"aaxis\": {\"endlinecolor\": \"#2a3f5f\", \"gridcolor\": \"white\", \"linecolor\": \"white\", \"minorgridcolor\": \"white\", \"startlinecolor\": \"#2a3f5f\"}, \"baxis\": {\"endlinecolor\": \"#2a3f5f\", \"gridcolor\": \"white\", \"linecolor\": \"white\", \"minorgridcolor\": \"white\", \"startlinecolor\": \"#2a3f5f\"}, \"type\": \"carpet\"}], \"choropleth\": [{\"colorbar\": {\"outlinewidth\": 0, \"ticks\": \"\"}, \"type\": \"choropleth\"}], \"contour\": [{\"colorbar\": {\"outlinewidth\": 0, \"ticks\": \"\"}, \"colorscale\": [[0.0, \"#0d0887\"], [0.1111111111111111, \"#46039f\"], [0.2222222222222222, \"#7201a8\"], [0.3333333333333333, \"#9c179e\"], [0.4444444444444444, \"#bd3786\"], [0.5555555555555556, \"#d8576b\"], [0.6666666666666666, \"#ed7953\"], [0.7777777777777778, \"#fb9f3a\"], [0.8888888888888888, \"#fdca26\"], [1.0, \"#f0f921\"]], \"type\": \"contour\"}], \"contourcarpet\": [{\"colorbar\": {\"outlinewidth\": 0, \"ticks\": \"\"}, \"type\": \"contourcarpet\"}], \"heatmap\": [{\"colorbar\": {\"outlinewidth\": 0, \"ticks\": \"\"}, \"colorscale\": [[0.0, \"#0d0887\"], [0.1111111111111111, \"#46039f\"], [0.2222222222222222, \"#7201a8\"], [0.3333333333333333, \"#9c179e\"], [0.4444444444444444, \"#bd3786\"], [0.5555555555555556, \"#d8576b\"], [0.6666666666666666, \"#ed7953\"], [0.7777777777777778, \"#fb9f3a\"], [0.8888888888888888, \"#fdca26\"], [1.0, \"#f0f921\"]], \"type\": \"heatmap\"}], \"heatmapgl\": [{\"colorbar\": {\"outlinewidth\": 0, \"ticks\": \"\"}, \"colorscale\": [[0.0, \"#0d0887\"], [0.1111111111111111, \"#46039f\"], [0.2222222222222222, \"#7201a8\"], [0.3333333333333333, \"#9c179e\"], [0.4444444444444444, \"#bd3786\"], [0.5555555555555556, \"#d8576b\"], [0.6666666666666666, \"#ed7953\"], [0.7777777777777778, \"#fb9f3a\"], [0.8888888888888888, \"#fdca26\"], [1.0, \"#f0f921\"]], \"type\": \"heatmapgl\"}], \"histogram\": [{\"marker\": {\"colorbar\": {\"outlinewidth\": 0, \"ticks\": \"\"}}, \"type\": \"histogram\"}], \"histogram2d\": [{\"colorbar\": {\"outlinewidth\": 0, \"ticks\": \"\"}, \"colorscale\": [[0.0, \"#0d0887\"], [0.1111111111111111, \"#46039f\"], [0.2222222222222222, \"#7201a8\"], [0.3333333333333333, \"#9c179e\"], [0.4444444444444444, \"#bd3786\"], [0.5555555555555556, \"#d8576b\"], [0.6666666666666666, \"#ed7953\"], [0.7777777777777778, \"#fb9f3a\"], [0.8888888888888888, \"#fdca26\"], [1.0, \"#f0f921\"]], \"type\": \"histogram2d\"}], \"histogram2dcontour\": [{\"colorbar\": {\"outlinewidth\": 0, \"ticks\": \"\"}, \"colorscale\": [[0.0, \"#0d0887\"], [0.1111111111111111, \"#46039f\"], [0.2222222222222222, \"#7201a8\"], [0.3333333333333333, \"#9c179e\"], [0.4444444444444444, \"#bd3786\"], [0.5555555555555556, \"#d8576b\"], [0.6666666666666666, \"#ed7953\"], [0.7777777777777778, \"#fb9f3a\"], [0.8888888888888888, \"#fdca26\"], [1.0, \"#f0f921\"]], \"type\": \"histogram2dcontour\"}], \"mesh3d\": [{\"colorbar\": {\"outlinewidth\": 0, \"ticks\": \"\"}, \"type\": \"mesh3d\"}], \"parcoords\": [{\"line\": {\"colorbar\": {\"outlinewidth\": 0, \"ticks\": \"\"}}, \"type\": \"parcoords\"}], \"pie\": [{\"automargin\": true, \"type\": \"pie\"}], \"scatter\": [{\"marker\": {\"colorbar\": {\"outlinewidth\": 0, \"ticks\": \"\"}}, \"type\": \"scatter\"}], \"scatter3d\": [{\"line\": {\"colorbar\": {\"outlinewidth\": 0, \"ticks\": \"\"}}, \"marker\": {\"colorbar\": {\"outlinewidth\": 0, \"ticks\": \"\"}}, \"type\": \"scatter3d\"}], \"scattercarpet\": [{\"marker\": {\"colorbar\": {\"outlinewidth\": 0, \"ticks\": \"\"}}, \"type\": \"scattercarpet\"}], \"scattergeo\": [{\"marker\": {\"colorbar\": {\"outlinewidth\": 0, \"ticks\": \"\"}}, \"type\": \"scattergeo\"}], \"scattergl\": [{\"marker\": {\"colorbar\": {\"outlinewidth\": 0, \"ticks\": \"\"}}, \"type\": \"scattergl\"}], \"scattermapbox\": [{\"marker\": {\"colorbar\": {\"outlinewidth\": 0, \"ticks\": \"\"}}, \"type\": \"scattermapbox\"}], \"scatterpolar\": [{\"marker\": {\"colorbar\": {\"outlinewidth\": 0, \"ticks\": \"\"}}, \"type\": \"scatterpolar\"}], \"scatterpolargl\": [{\"marker\": {\"colorbar\": {\"outlinewidth\": 0, \"ticks\": \"\"}}, \"type\": \"scatterpolargl\"}], \"scatterternary\": [{\"marker\": {\"colorbar\": {\"outlinewidth\": 0, \"ticks\": \"\"}}, \"type\": \"scatterternary\"}], \"surface\": [{\"colorbar\": {\"outlinewidth\": 0, \"ticks\": \"\"}, \"colorscale\": [[0.0, \"#0d0887\"], [0.1111111111111111, \"#46039f\"], [0.2222222222222222, \"#7201a8\"], [0.3333333333333333, \"#9c179e\"], [0.4444444444444444, \"#bd3786\"], [0.5555555555555556, \"#d8576b\"], [0.6666666666666666, \"#ed7953\"], [0.7777777777777778, \"#fb9f3a\"], [0.8888888888888888, \"#fdca26\"], [1.0, \"#f0f921\"]], \"type\": \"surface\"}], \"table\": [{\"cells\": {\"fill\": {\"color\": \"#EBF0F8\"}, \"line\": {\"color\": \"white\"}}, \"header\": {\"fill\": {\"color\": \"#C8D4E3\"}, \"line\": {\"color\": \"white\"}}, \"type\": \"table\"}]}, \"layout\": {\"annotationdefaults\": {\"arrowcolor\": \"#2a3f5f\", \"arrowhead\": 0, \"arrowwidth\": 1}, \"autotypenumbers\": \"strict\", \"coloraxis\": {\"colorbar\": {\"outlinewidth\": 0, \"ticks\": \"\"}}, \"colorscale\": {\"diverging\": [[0, \"#8e0152\"], [0.1, \"#c51b7d\"], [0.2, \"#de77ae\"], [0.3, \"#f1b6da\"], [0.4, \"#fde0ef\"], [0.5, \"#f7f7f7\"], [0.6, \"#e6f5d0\"], [0.7, \"#b8e186\"], [0.8, \"#7fbc41\"], [0.9, \"#4d9221\"], [1, \"#276419\"]], \"sequential\": [[0.0, \"#0d0887\"], [0.1111111111111111, \"#46039f\"], [0.2222222222222222, \"#7201a8\"], [0.3333333333333333, \"#9c179e\"], [0.4444444444444444, \"#bd3786\"], [0.5555555555555556, \"#d8576b\"], [0.6666666666666666, \"#ed7953\"], [0.7777777777777778, \"#fb9f3a\"], [0.8888888888888888, \"#fdca26\"], [1.0, \"#f0f921\"]], \"sequentialminus\": [[0.0, \"#0d0887\"], [0.1111111111111111, \"#46039f\"], [0.2222222222222222, \"#7201a8\"], [0.3333333333333333, \"#9c179e\"], [0.4444444444444444, \"#bd3786\"], [0.5555555555555556, \"#d8576b\"], [0.6666666666666666, \"#ed7953\"], [0.7777777777777778, \"#fb9f3a\"], [0.8888888888888888, \"#fdca26\"], [1.0, \"#f0f921\"]]}, \"colorway\": [\"#636efa\", \"#EF553B\", \"#00cc96\", \"#ab63fa\", \"#FFA15A\", \"#19d3f3\", \"#FF6692\", \"#B6E880\", \"#FF97FF\", \"#FECB52\"], \"font\": {\"color\": \"#2a3f5f\"}, \"geo\": {\"bgcolor\": \"white\", \"lakecolor\": \"white\", \"landcolor\": \"#E5ECF6\", \"showlakes\": true, \"showland\": true, \"subunitcolor\": \"white\"}, \"hoverlabel\": {\"align\": \"left\"}, \"hovermode\": \"closest\", \"mapbox\": {\"style\": \"light\"}, \"paper_bgcolor\": \"white\", \"plot_bgcolor\": \"#E5ECF6\", \"polar\": {\"angularaxis\": {\"gridcolor\": \"white\", \"linecolor\": \"white\", \"ticks\": \"\"}, \"bgcolor\": \"#E5ECF6\", \"radialaxis\": {\"gridcolor\": \"white\", \"linecolor\": \"white\", \"ticks\": \"\"}}, \"scene\": {\"xaxis\": {\"backgroundcolor\": \"#E5ECF6\", \"gridcolor\": \"white\", \"gridwidth\": 2, \"linecolor\": \"white\", \"showbackground\": true, \"ticks\": \"\", \"zerolinecolor\": \"white\"}, \"yaxis\": {\"backgroundcolor\": \"#E5ECF6\", \"gridcolor\": \"white\", \"gridwidth\": 2, \"linecolor\": \"white\", \"showbackground\": true, \"ticks\": \"\", \"zerolinecolor\": \"white\"}, \"zaxis\": {\"backgroundcolor\": \"#E5ECF6\", \"gridcolor\": \"white\", \"gridwidth\": 2, \"linecolor\": \"white\", \"showbackground\": true, \"ticks\": \"\", \"zerolinecolor\": \"white\"}}, \"shapedefaults\": {\"line\": {\"color\": \"#2a3f5f\"}}, \"ternary\": {\"aaxis\": {\"gridcolor\": \"white\", \"linecolor\": \"white\", \"ticks\": \"\"}, \"baxis\": {\"gridcolor\": \"white\", \"linecolor\": \"white\", \"ticks\": \"\"}, \"bgcolor\": \"#E5ECF6\", \"caxis\": {\"gridcolor\": \"white\", \"linecolor\": \"white\", \"ticks\": \"\"}}, \"title\": {\"x\": 0.05}, \"xaxis\": {\"automargin\": true, \"gridcolor\": \"white\", \"linecolor\": \"white\", \"ticks\": \"\", \"title\": {\"standoff\": 15}, \"zerolinecolor\": \"white\", \"zerolinewidth\": 2}, \"yaxis\": {\"automargin\": true, \"gridcolor\": \"white\", \"linecolor\": \"white\", \"ticks\": \"\", \"title\": {\"standoff\": 15}, \"zerolinecolor\": \"white\", \"zerolinewidth\": 2}}}, \"xaxis\": {\"anchor\": \"y\", \"domain\": [0.0, 1.0], \"title\": {\"text\": \"year\"}}, \"yaxis\": {\"anchor\": \"x\", \"domain\": [0.0, 1.0], \"title\": {\"text\": \"value\"}}},                        {\"responsive\": true}                    ).then(function(){\n",
       "                            \n",
       "var gd = document.getElementById('06306cd8-0229-4c94-9a24-8c6243038959');\n",
       "var x = new MutationObserver(function (mutations, observer) {{\n",
       "        var display = window.getComputedStyle(gd).display;\n",
       "        if (!display || display === 'none') {{\n",
       "            console.log([gd, 'removed!']);\n",
       "            Plotly.purge(gd);\n",
       "            observer.disconnect();\n",
       "        }}\n",
       "}});\n",
       "\n",
       "// Listen for the removal of the full notebook cells\n",
       "var notebookContainer = gd.closest('#notebook-container');\n",
       "if (notebookContainer) {{\n",
       "    x.observe(notebookContainer, {childList: true});\n",
       "}}\n",
       "\n",
       "// Listen for the clearing of the current output cell\n",
       "var outputEl = gd.closest('.output');\n",
       "if (outputEl) {{\n",
       "    x.observe(outputEl, {childList: true});\n",
       "}}\n",
       "\n",
       "                        })                };                });            </script>        </div>"
      ]
     },
     "metadata": {},
     "output_type": "display_data"
    }
   ],
   "source": [
    "rf.unstack(1).plot()"
   ]
  },
  {
   "cell_type": "markdown",
   "metadata": {
    "nteract": {
     "transient": {
      "deleting": false
     }
    }
   },
   "source": [
    "# Getting help\n",
    "\n",
    "- [pandas](https://pandas.pydata.org/pandas-docs/stable/reference/)\n",
    "\n",
    "- [plotly](https://plotly.com/python/) for animated plots\n",
    "\n",
    "- [stackoverflow](https://stackoverflow.com)\n",
    "\n",
    "- [stackoverflow: pandas](https://stackoverflow.com/questions/tagged/pandas)\n",
    "\n",
    "- [stackoverflow: plotly+python](https://stackoverflow.com/questions/tagged/plotly+python)\n",
    "\n",
    "- The US `babynames` analogue of the INSEE file has been a playground for data scientists,\n",
    " see [https://github.com/hadley/babynames](https://github.com/hadley/babynames)\n",
    "\n",
    "- Don't Repeat Yourself (DRY) principle  at [Wikipedia](https://en.wikipedia.org/wiki/Don%27t_repeat_yourself)"
   ]
  }
 ],
 "metadata": {
  "kernelspec": {
   "display_name": "Python 3",
   "language": "python",
   "name": "python3"
  },
  "language_info": {
   "codemirror_mode": {
    "name": "ipython",
    "version": 3
   },
   "file_extension": ".py",
   "mimetype": "text/x-python",
   "name": "python",
   "nbconvert_exporter": "python",
   "pygments_lexer": "ipython3",
   "version": "3.8.5"
  },
  "toc": {
   "base_numbering": 1,
   "nav_menu": {},
   "number_sections": true,
   "sideBar": true,
   "skip_h1_title": false,
   "title_cell": "Table of Contents",
   "title_sidebar": "Contents",
   "toc_cell": false,
   "toc_position": {
    "height": "calc(100% - 180px)",
    "left": "10px",
    "top": "150px",
    "width": "165px"
   },
   "toc_section_display": true,
   "toc_window_display": true
  }
 },
 "nbformat": 4,
 "nbformat_minor": 1
}
